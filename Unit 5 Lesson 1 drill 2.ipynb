{
 "cells": [
  {
   "cell_type": "code",
   "execution_count": 20,
   "metadata": {
    "collapsed": true
   },
   "outputs": [],
   "source": [
    "from heapq import heappush, heappop, heapify"
   ]
  },
  {
   "cell_type": "code",
   "execution_count": 21,
   "metadata": {
    "collapsed": true
   },
   "outputs": [],
   "source": [
    "class Node:\n",
    "\n",
    "      def __init__(self,info): #constructor of class\n",
    "\n",
    "          self.info = info  #information for node\n",
    "          self.left = None  #left leef\n",
    "          self.right = None #right leef\n",
    "          self.level = None #level none defined\n",
    "\n",
    "      def __str__(self):\n",
    "\n",
    "          return str(self.info) #return as string"
   ]
  },
  {
   "cell_type": "code",
   "execution_count": 23,
   "metadata": {
    "collapsed": true
   },
   "outputs": [],
   "source": [
    "class searchtree:\n",
    "\n",
    "      def __init__(self): #constructor of class\n",
    "\n",
    "          self.root = None\n",
    "\n",
    "\n",
    "      def create(self,val):  #create binary search tree nodes\n",
    "\n",
    "          if self.root == None:\n",
    "\n",
    "             self.root = Node(val)\n",
    "\n",
    "          else:\n",
    "\n",
    "             current = self.root\n",
    "\n",
    "             while 1:\n",
    "\n",
    "                 if val < current.info:\n",
    "\n",
    "                   if current.left:\n",
    "                      current = current.left\n",
    "                   else:\n",
    "                      current.left = Node(val)\n",
    "                      break;      \n",
    "\n",
    "                 elif val > current.info:\n",
    "                 \n",
    "                    if current.right:\n",
    "                       current = current.right\n",
    "                    else:\n",
    "                       current.right = Node(val)\n",
    "                       break;      \n",
    "\n",
    "                 else:\n",
    "                    break \n",
    "\n",
    "      def bft(self): #Breadth-First Traversal\n",
    "\n",
    "          self.root.level = 0 \n",
    "          queue = [self.root]\n",
    "          out = []\n",
    "          current_level = self.root.level\n",
    "\n",
    "          while len(queue) > 0:\n",
    "                 \n",
    "             current_node = queue.pop(0)\n",
    " \n",
    "             if current_node.level > current_level:\n",
    "                current_level += 1\n",
    "                out.append(\"\\n\")\n",
    "\n",
    "             out.append(str(current_node.info) + \" \")\n",
    "\n",
    "             if current_node.left:\n",
    "\n",
    "                current_node.left.level = current_level + 1\n",
    "                queue.append(current_node.left)\n",
    "                  \n",
    "\n",
    "             if current_node.right:\n",
    "\n",
    "                current_node.right.level = current_level + 1\n",
    "                queue.append(current_node.right)\n",
    "                      \n",
    "                 \n",
    "          print(\"\".join(out))   \n",
    "\n",
    "\n",
    "      def inorder(self,node):\n",
    "            \n",
    "           if node is not None:\n",
    "              \n",
    "              self.inorder(node.left)\n",
    "              print(node.info)\n",
    "              self.inorder(node.right)\n",
    "\n",
    "\n",
    "      def preorder(self,node):\n",
    "            \n",
    "           if node is not None:\n",
    "              \n",
    "              print(node.info)\n",
    "              self.preorder(node.left)\n",
    "              self.preorder(node.right)\n",
    "\n",
    "\n",
    "      def postorder(self,node):\n",
    "            \n",
    "           if node is not None:\n",
    "              \n",
    "              self.postorder(node.left)\n",
    "              self.postorder(node.right)\n",
    "              print(node.info)\n",
    "\n",
    "                        "
   ]
  },
  {
   "cell_type": "code",
   "execution_count": 24,
   "metadata": {},
   "outputs": [
    {
     "name": "stdout",
     "output_type": "stream",
     "text": [
      "Breadth-First Traversal\n",
      "A \n",
      "B \n",
      "C \n",
      "D \n",
      "E \n",
      "F \n",
      "G \n",
      "H \n",
      "I \n",
      "J \n",
      "K \n",
      "L \n",
      "M \n",
      "N \n",
      "O \n"
     ]
    }
   ],
   "source": [
    "tree = searchtree()     \n",
    "arr = ['A','B','C','D','E','F','G','H','I','J','K','L','M','N','O']\n",
    "for i in arr:\n",
    "    tree.create(i)\n",
    "print('Breadth-First Traversal')\n",
    "tree.bft()"
   ]
  }
 ],
 "metadata": {
  "kernelspec": {
   "display_name": "Python 3",
   "language": "python",
   "name": "python3"
  },
  "language_info": {
   "codemirror_mode": {
    "name": "ipython",
    "version": 3
   },
   "file_extension": ".py",
   "mimetype": "text/x-python",
   "name": "python",
   "nbconvert_exporter": "python",
   "pygments_lexer": "ipython3",
   "version": "3.6.1"
  }
 },
 "nbformat": 4,
 "nbformat_minor": 2
}
