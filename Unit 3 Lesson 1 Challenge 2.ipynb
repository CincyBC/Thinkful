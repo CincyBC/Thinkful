{
 "cells": [
  {
   "cell_type": "code",
   "execution_count": 3450,
   "metadata": {},
   "outputs": [],
   "source": [
    "import math\n",
    "import warnings\n",
    "\n",
    "from IPython.display import display\n",
    "from matplotlib import pyplot as plt\n",
    "import numpy as np\n",
    "import pandas as pd\n",
    "import seaborn as sns\n",
    "from sklearn import linear_model\n",
    "from scipy import stats\n",
    "import statsmodels.formula.api as smf\n",
    "from sklearn import neighbors\n",
    "from sklearn.cross_validation import cross_val_score, cross_val_predict\n",
    "from sklearn import metrics\n",
    "from sklearn.decomposition import PCA\n",
    "\n",
    "# Display preferences.\n",
    "%matplotlib inline\n",
    "pd.options.display.float_format = '{:.3f}'.format\n",
    "\n",
    "# Suppress annoying harmless error.\n",
    "warnings.filterwarnings(\n",
    "    action=\"ignore\",\n",
    "    module=\"scipy\",\n",
    "    message=\"^internal gelsd\"\n",
    ")"
   ]
  },
  {
   "cell_type": "code",
   "execution_count": 3451,
   "metadata": {},
   "outputs": [
    {
     "data": {
      "text/html": [
       "<div>\n",
       "<style>\n",
       "    .dataframe thead tr:only-child th {\n",
       "        text-align: right;\n",
       "    }\n",
       "\n",
       "    .dataframe thead th {\n",
       "        text-align: left;\n",
       "    }\n",
       "\n",
       "    .dataframe tbody tr th {\n",
       "        vertical-align: top;\n",
       "    }\n",
       "</style>\n",
       "<table border=\"1\" class=\"dataframe\">\n",
       "  <thead>\n",
       "    <tr style=\"text-align: right;\">\n",
       "      <th></th>\n",
       "      <th>id</th>\n",
       "      <th>date</th>\n",
       "      <th>price</th>\n",
       "      <th>bedrooms</th>\n",
       "      <th>bathrooms</th>\n",
       "      <th>sqft_living</th>\n",
       "      <th>sqft_lot</th>\n",
       "      <th>floors</th>\n",
       "      <th>waterfront</th>\n",
       "      <th>view</th>\n",
       "      <th>...</th>\n",
       "      <th>grade</th>\n",
       "      <th>sqft_above</th>\n",
       "      <th>sqft_basement</th>\n",
       "      <th>yr_built</th>\n",
       "      <th>yr_renovated</th>\n",
       "      <th>zipcode</th>\n",
       "      <th>lat</th>\n",
       "      <th>long</th>\n",
       "      <th>sqft_living15</th>\n",
       "      <th>sqft_lot15</th>\n",
       "    </tr>\n",
       "  </thead>\n",
       "  <tbody>\n",
       "    <tr>\n",
       "      <th>0</th>\n",
       "      <td>7129300520</td>\n",
       "      <td>20141013T000000</td>\n",
       "      <td>221900.000</td>\n",
       "      <td>3</td>\n",
       "      <td>1.000</td>\n",
       "      <td>1180</td>\n",
       "      <td>5650</td>\n",
       "      <td>1.000</td>\n",
       "      <td>0</td>\n",
       "      <td>0</td>\n",
       "      <td>...</td>\n",
       "      <td>7</td>\n",
       "      <td>1180</td>\n",
       "      <td>0</td>\n",
       "      <td>1955</td>\n",
       "      <td>0</td>\n",
       "      <td>98178</td>\n",
       "      <td>47.511</td>\n",
       "      <td>-122.257</td>\n",
       "      <td>1340</td>\n",
       "      <td>5650</td>\n",
       "    </tr>\n",
       "    <tr>\n",
       "      <th>1</th>\n",
       "      <td>6414100192</td>\n",
       "      <td>20141209T000000</td>\n",
       "      <td>538000.000</td>\n",
       "      <td>3</td>\n",
       "      <td>2.250</td>\n",
       "      <td>2570</td>\n",
       "      <td>7242</td>\n",
       "      <td>2.000</td>\n",
       "      <td>0</td>\n",
       "      <td>0</td>\n",
       "      <td>...</td>\n",
       "      <td>7</td>\n",
       "      <td>2170</td>\n",
       "      <td>400</td>\n",
       "      <td>1951</td>\n",
       "      <td>1991</td>\n",
       "      <td>98125</td>\n",
       "      <td>47.721</td>\n",
       "      <td>-122.319</td>\n",
       "      <td>1690</td>\n",
       "      <td>7639</td>\n",
       "    </tr>\n",
       "    <tr>\n",
       "      <th>2</th>\n",
       "      <td>5631500400</td>\n",
       "      <td>20150225T000000</td>\n",
       "      <td>180000.000</td>\n",
       "      <td>2</td>\n",
       "      <td>1.000</td>\n",
       "      <td>770</td>\n",
       "      <td>10000</td>\n",
       "      <td>1.000</td>\n",
       "      <td>0</td>\n",
       "      <td>0</td>\n",
       "      <td>...</td>\n",
       "      <td>6</td>\n",
       "      <td>770</td>\n",
       "      <td>0</td>\n",
       "      <td>1933</td>\n",
       "      <td>0</td>\n",
       "      <td>98028</td>\n",
       "      <td>47.738</td>\n",
       "      <td>-122.233</td>\n",
       "      <td>2720</td>\n",
       "      <td>8062</td>\n",
       "    </tr>\n",
       "    <tr>\n",
       "      <th>3</th>\n",
       "      <td>2487200875</td>\n",
       "      <td>20141209T000000</td>\n",
       "      <td>604000.000</td>\n",
       "      <td>4</td>\n",
       "      <td>3.000</td>\n",
       "      <td>1960</td>\n",
       "      <td>5000</td>\n",
       "      <td>1.000</td>\n",
       "      <td>0</td>\n",
       "      <td>0</td>\n",
       "      <td>...</td>\n",
       "      <td>7</td>\n",
       "      <td>1050</td>\n",
       "      <td>910</td>\n",
       "      <td>1965</td>\n",
       "      <td>0</td>\n",
       "      <td>98136</td>\n",
       "      <td>47.521</td>\n",
       "      <td>-122.393</td>\n",
       "      <td>1360</td>\n",
       "      <td>5000</td>\n",
       "    </tr>\n",
       "    <tr>\n",
       "      <th>4</th>\n",
       "      <td>1954400510</td>\n",
       "      <td>20150218T000000</td>\n",
       "      <td>510000.000</td>\n",
       "      <td>3</td>\n",
       "      <td>2.000</td>\n",
       "      <td>1680</td>\n",
       "      <td>8080</td>\n",
       "      <td>1.000</td>\n",
       "      <td>0</td>\n",
       "      <td>0</td>\n",
       "      <td>...</td>\n",
       "      <td>8</td>\n",
       "      <td>1680</td>\n",
       "      <td>0</td>\n",
       "      <td>1987</td>\n",
       "      <td>0</td>\n",
       "      <td>98074</td>\n",
       "      <td>47.617</td>\n",
       "      <td>-122.045</td>\n",
       "      <td>1800</td>\n",
       "      <td>7503</td>\n",
       "    </tr>\n",
       "    <tr>\n",
       "      <th>5</th>\n",
       "      <td>7237550310</td>\n",
       "      <td>20140512T000000</td>\n",
       "      <td>1225000.000</td>\n",
       "      <td>4</td>\n",
       "      <td>4.500</td>\n",
       "      <td>5420</td>\n",
       "      <td>101930</td>\n",
       "      <td>1.000</td>\n",
       "      <td>0</td>\n",
       "      <td>0</td>\n",
       "      <td>...</td>\n",
       "      <td>11</td>\n",
       "      <td>3890</td>\n",
       "      <td>1530</td>\n",
       "      <td>2001</td>\n",
       "      <td>0</td>\n",
       "      <td>98053</td>\n",
       "      <td>47.656</td>\n",
       "      <td>-122.005</td>\n",
       "      <td>4760</td>\n",
       "      <td>101930</td>\n",
       "    </tr>\n",
       "    <tr>\n",
       "      <th>6</th>\n",
       "      <td>1321400060</td>\n",
       "      <td>20140627T000000</td>\n",
       "      <td>257500.000</td>\n",
       "      <td>3</td>\n",
       "      <td>2.250</td>\n",
       "      <td>1715</td>\n",
       "      <td>6819</td>\n",
       "      <td>2.000</td>\n",
       "      <td>0</td>\n",
       "      <td>0</td>\n",
       "      <td>...</td>\n",
       "      <td>7</td>\n",
       "      <td>1715</td>\n",
       "      <td>0</td>\n",
       "      <td>1995</td>\n",
       "      <td>0</td>\n",
       "      <td>98003</td>\n",
       "      <td>47.310</td>\n",
       "      <td>-122.327</td>\n",
       "      <td>2238</td>\n",
       "      <td>6819</td>\n",
       "    </tr>\n",
       "    <tr>\n",
       "      <th>7</th>\n",
       "      <td>2008000270</td>\n",
       "      <td>20150115T000000</td>\n",
       "      <td>291850.000</td>\n",
       "      <td>3</td>\n",
       "      <td>1.500</td>\n",
       "      <td>1060</td>\n",
       "      <td>9711</td>\n",
       "      <td>1.000</td>\n",
       "      <td>0</td>\n",
       "      <td>0</td>\n",
       "      <td>...</td>\n",
       "      <td>7</td>\n",
       "      <td>1060</td>\n",
       "      <td>0</td>\n",
       "      <td>1963</td>\n",
       "      <td>0</td>\n",
       "      <td>98198</td>\n",
       "      <td>47.410</td>\n",
       "      <td>-122.315</td>\n",
       "      <td>1650</td>\n",
       "      <td>9711</td>\n",
       "    </tr>\n",
       "    <tr>\n",
       "      <th>8</th>\n",
       "      <td>2414600126</td>\n",
       "      <td>20150415T000000</td>\n",
       "      <td>229500.000</td>\n",
       "      <td>3</td>\n",
       "      <td>1.000</td>\n",
       "      <td>1780</td>\n",
       "      <td>7470</td>\n",
       "      <td>1.000</td>\n",
       "      <td>0</td>\n",
       "      <td>0</td>\n",
       "      <td>...</td>\n",
       "      <td>7</td>\n",
       "      <td>1050</td>\n",
       "      <td>730</td>\n",
       "      <td>1960</td>\n",
       "      <td>0</td>\n",
       "      <td>98146</td>\n",
       "      <td>47.512</td>\n",
       "      <td>-122.337</td>\n",
       "      <td>1780</td>\n",
       "      <td>8113</td>\n",
       "    </tr>\n",
       "    <tr>\n",
       "      <th>9</th>\n",
       "      <td>3793500160</td>\n",
       "      <td>20150312T000000</td>\n",
       "      <td>323000.000</td>\n",
       "      <td>3</td>\n",
       "      <td>2.500</td>\n",
       "      <td>1890</td>\n",
       "      <td>6560</td>\n",
       "      <td>2.000</td>\n",
       "      <td>0</td>\n",
       "      <td>0</td>\n",
       "      <td>...</td>\n",
       "      <td>7</td>\n",
       "      <td>1890</td>\n",
       "      <td>0</td>\n",
       "      <td>2003</td>\n",
       "      <td>0</td>\n",
       "      <td>98038</td>\n",
       "      <td>47.368</td>\n",
       "      <td>-122.031</td>\n",
       "      <td>2390</td>\n",
       "      <td>7570</td>\n",
       "    </tr>\n",
       "  </tbody>\n",
       "</table>\n",
       "<p>10 rows × 21 columns</p>\n",
       "</div>"
      ],
      "text/plain": [
       "           id             date       price  bedrooms  bathrooms  sqft_living  \\\n",
       "0  7129300520  20141013T000000  221900.000         3      1.000         1180   \n",
       "1  6414100192  20141209T000000  538000.000         3      2.250         2570   \n",
       "2  5631500400  20150225T000000  180000.000         2      1.000          770   \n",
       "3  2487200875  20141209T000000  604000.000         4      3.000         1960   \n",
       "4  1954400510  20150218T000000  510000.000         3      2.000         1680   \n",
       "5  7237550310  20140512T000000 1225000.000         4      4.500         5420   \n",
       "6  1321400060  20140627T000000  257500.000         3      2.250         1715   \n",
       "7  2008000270  20150115T000000  291850.000         3      1.500         1060   \n",
       "8  2414600126  20150415T000000  229500.000         3      1.000         1780   \n",
       "9  3793500160  20150312T000000  323000.000         3      2.500         1890   \n",
       "\n",
       "   sqft_lot  floors  waterfront  view     ...      grade  sqft_above  \\\n",
       "0      5650   1.000           0     0     ...          7        1180   \n",
       "1      7242   2.000           0     0     ...          7        2170   \n",
       "2     10000   1.000           0     0     ...          6         770   \n",
       "3      5000   1.000           0     0     ...          7        1050   \n",
       "4      8080   1.000           0     0     ...          8        1680   \n",
       "5    101930   1.000           0     0     ...         11        3890   \n",
       "6      6819   2.000           0     0     ...          7        1715   \n",
       "7      9711   1.000           0     0     ...          7        1060   \n",
       "8      7470   1.000           0     0     ...          7        1050   \n",
       "9      6560   2.000           0     0     ...          7        1890   \n",
       "\n",
       "   sqft_basement  yr_built  yr_renovated  zipcode    lat     long  \\\n",
       "0              0      1955             0    98178 47.511 -122.257   \n",
       "1            400      1951          1991    98125 47.721 -122.319   \n",
       "2              0      1933             0    98028 47.738 -122.233   \n",
       "3            910      1965             0    98136 47.521 -122.393   \n",
       "4              0      1987             0    98074 47.617 -122.045   \n",
       "5           1530      2001             0    98053 47.656 -122.005   \n",
       "6              0      1995             0    98003 47.310 -122.327   \n",
       "7              0      1963             0    98198 47.410 -122.315   \n",
       "8            730      1960             0    98146 47.512 -122.337   \n",
       "9              0      2003             0    98038 47.368 -122.031   \n",
       "\n",
       "   sqft_living15  sqft_lot15  \n",
       "0           1340        5650  \n",
       "1           1690        7639  \n",
       "2           2720        8062  \n",
       "3           1360        5000  \n",
       "4           1800        7503  \n",
       "5           4760      101930  \n",
       "6           2238        6819  \n",
       "7           1650        9711  \n",
       "8           1780        8113  \n",
       "9           2390        7570  \n",
       "\n",
       "[10 rows x 21 columns]"
      ]
     },
     "execution_count": 3451,
     "metadata": {},
     "output_type": "execute_result"
    }
   ],
   "source": [
    "#Import our pricing data\n",
    "prices_df = pd.read_csv('kc_house_data.csv')\n",
    "prices_df.head(10)"
   ]
  },
  {
   "cell_type": "code",
   "execution_count": 3452,
   "metadata": {},
   "outputs": [
    {
     "name": "stdout",
     "output_type": "stream",
     "text": [
      "Missing values per column:\n",
      "id               0\n",
      "date             0\n",
      "price            0\n",
      "bedrooms         0\n",
      "bathrooms        0\n",
      "sqft_living      0\n",
      "sqft_lot         0\n",
      "floors           0\n",
      "waterfront       0\n",
      "view             0\n",
      "condition        0\n",
      "grade            0\n",
      "sqft_above       0\n",
      "sqft_basement    0\n",
      "yr_built         0\n",
      "yr_renovated     0\n",
      "zipcode          0\n",
      "lat              0\n",
      "long             0\n",
      "sqft_living15    0\n",
      "sqft_lot15       0\n",
      "dtype: int64\n"
     ]
    }
   ],
   "source": [
    "#Checking to see if there is any missing data\n",
    "def num_missing(x):\n",
    "  return sum(x.isnull())\n",
    "\n",
    "#Applying per column:\n",
    "print(\"Missing values per column:\")\n",
    "print(prices_df.apply(num_missing, axis=0))"
   ]
  },
  {
   "cell_type": "code",
   "execution_count": 3453,
   "metadata": {},
   "outputs": [
    {
     "data": {
      "text/html": [
       "<div>\n",
       "<style>\n",
       "    .dataframe thead tr:only-child th {\n",
       "        text-align: right;\n",
       "    }\n",
       "\n",
       "    .dataframe thead th {\n",
       "        text-align: left;\n",
       "    }\n",
       "\n",
       "    .dataframe tbody tr th {\n",
       "        vertical-align: top;\n",
       "    }\n",
       "</style>\n",
       "<table border=\"1\" class=\"dataframe\">\n",
       "  <thead>\n",
       "    <tr style=\"text-align: right;\">\n",
       "      <th></th>\n",
       "      <th>id</th>\n",
       "      <th>date</th>\n",
       "      <th>price</th>\n",
       "      <th>bedrooms</th>\n",
       "      <th>bathrooms</th>\n",
       "      <th>sqft_living</th>\n",
       "      <th>sqft_lot</th>\n",
       "      <th>floors</th>\n",
       "      <th>waterfront</th>\n",
       "      <th>view</th>\n",
       "      <th>...</th>\n",
       "      <th>sqft_above</th>\n",
       "      <th>sqft_basement</th>\n",
       "      <th>yr_built</th>\n",
       "      <th>yr_renovated</th>\n",
       "      <th>zipcode</th>\n",
       "      <th>lat</th>\n",
       "      <th>long</th>\n",
       "      <th>sqft_living15</th>\n",
       "      <th>sqft_lot15</th>\n",
       "      <th>age</th>\n",
       "    </tr>\n",
       "  </thead>\n",
       "  <tbody>\n",
       "    <tr>\n",
       "      <th>0</th>\n",
       "      <td>7129300520</td>\n",
       "      <td>20141013T000000</td>\n",
       "      <td>221900.000</td>\n",
       "      <td>3</td>\n",
       "      <td>1.000</td>\n",
       "      <td>1180</td>\n",
       "      <td>5650</td>\n",
       "      <td>1.000</td>\n",
       "      <td>0</td>\n",
       "      <td>0</td>\n",
       "      <td>...</td>\n",
       "      <td>1180</td>\n",
       "      <td>0</td>\n",
       "      <td>1955</td>\n",
       "      <td>0</td>\n",
       "      <td>98178</td>\n",
       "      <td>47.511</td>\n",
       "      <td>-122.257</td>\n",
       "      <td>1340</td>\n",
       "      <td>5650</td>\n",
       "      <td>62</td>\n",
       "    </tr>\n",
       "    <tr>\n",
       "      <th>1</th>\n",
       "      <td>6414100192</td>\n",
       "      <td>20141209T000000</td>\n",
       "      <td>538000.000</td>\n",
       "      <td>3</td>\n",
       "      <td>2.250</td>\n",
       "      <td>2570</td>\n",
       "      <td>7242</td>\n",
       "      <td>2.000</td>\n",
       "      <td>0</td>\n",
       "      <td>0</td>\n",
       "      <td>...</td>\n",
       "      <td>2170</td>\n",
       "      <td>400</td>\n",
       "      <td>1951</td>\n",
       "      <td>1991</td>\n",
       "      <td>98125</td>\n",
       "      <td>47.721</td>\n",
       "      <td>-122.319</td>\n",
       "      <td>1690</td>\n",
       "      <td>7639</td>\n",
       "      <td>26</td>\n",
       "    </tr>\n",
       "    <tr>\n",
       "      <th>2</th>\n",
       "      <td>5631500400</td>\n",
       "      <td>20150225T000000</td>\n",
       "      <td>180000.000</td>\n",
       "      <td>2</td>\n",
       "      <td>1.000</td>\n",
       "      <td>770</td>\n",
       "      <td>10000</td>\n",
       "      <td>1.000</td>\n",
       "      <td>0</td>\n",
       "      <td>0</td>\n",
       "      <td>...</td>\n",
       "      <td>770</td>\n",
       "      <td>0</td>\n",
       "      <td>1933</td>\n",
       "      <td>0</td>\n",
       "      <td>98028</td>\n",
       "      <td>47.738</td>\n",
       "      <td>-122.233</td>\n",
       "      <td>2720</td>\n",
       "      <td>8062</td>\n",
       "      <td>84</td>\n",
       "    </tr>\n",
       "    <tr>\n",
       "      <th>3</th>\n",
       "      <td>2487200875</td>\n",
       "      <td>20141209T000000</td>\n",
       "      <td>604000.000</td>\n",
       "      <td>4</td>\n",
       "      <td>3.000</td>\n",
       "      <td>1960</td>\n",
       "      <td>5000</td>\n",
       "      <td>1.000</td>\n",
       "      <td>0</td>\n",
       "      <td>0</td>\n",
       "      <td>...</td>\n",
       "      <td>1050</td>\n",
       "      <td>910</td>\n",
       "      <td>1965</td>\n",
       "      <td>0</td>\n",
       "      <td>98136</td>\n",
       "      <td>47.521</td>\n",
       "      <td>-122.393</td>\n",
       "      <td>1360</td>\n",
       "      <td>5000</td>\n",
       "      <td>52</td>\n",
       "    </tr>\n",
       "    <tr>\n",
       "      <th>4</th>\n",
       "      <td>1954400510</td>\n",
       "      <td>20150218T000000</td>\n",
       "      <td>510000.000</td>\n",
       "      <td>3</td>\n",
       "      <td>2.000</td>\n",
       "      <td>1680</td>\n",
       "      <td>8080</td>\n",
       "      <td>1.000</td>\n",
       "      <td>0</td>\n",
       "      <td>0</td>\n",
       "      <td>...</td>\n",
       "      <td>1680</td>\n",
       "      <td>0</td>\n",
       "      <td>1987</td>\n",
       "      <td>0</td>\n",
       "      <td>98074</td>\n",
       "      <td>47.617</td>\n",
       "      <td>-122.045</td>\n",
       "      <td>1800</td>\n",
       "      <td>7503</td>\n",
       "      <td>30</td>\n",
       "    </tr>\n",
       "    <tr>\n",
       "      <th>5</th>\n",
       "      <td>7237550310</td>\n",
       "      <td>20140512T000000</td>\n",
       "      <td>1225000.000</td>\n",
       "      <td>4</td>\n",
       "      <td>4.500</td>\n",
       "      <td>5420</td>\n",
       "      <td>101930</td>\n",
       "      <td>1.000</td>\n",
       "      <td>0</td>\n",
       "      <td>0</td>\n",
       "      <td>...</td>\n",
       "      <td>3890</td>\n",
       "      <td>1530</td>\n",
       "      <td>2001</td>\n",
       "      <td>0</td>\n",
       "      <td>98053</td>\n",
       "      <td>47.656</td>\n",
       "      <td>-122.005</td>\n",
       "      <td>4760</td>\n",
       "      <td>101930</td>\n",
       "      <td>16</td>\n",
       "    </tr>\n",
       "    <tr>\n",
       "      <th>6</th>\n",
       "      <td>1321400060</td>\n",
       "      <td>20140627T000000</td>\n",
       "      <td>257500.000</td>\n",
       "      <td>3</td>\n",
       "      <td>2.250</td>\n",
       "      <td>1715</td>\n",
       "      <td>6819</td>\n",
       "      <td>2.000</td>\n",
       "      <td>0</td>\n",
       "      <td>0</td>\n",
       "      <td>...</td>\n",
       "      <td>1715</td>\n",
       "      <td>0</td>\n",
       "      <td>1995</td>\n",
       "      <td>0</td>\n",
       "      <td>98003</td>\n",
       "      <td>47.310</td>\n",
       "      <td>-122.327</td>\n",
       "      <td>2238</td>\n",
       "      <td>6819</td>\n",
       "      <td>22</td>\n",
       "    </tr>\n",
       "    <tr>\n",
       "      <th>7</th>\n",
       "      <td>2008000270</td>\n",
       "      <td>20150115T000000</td>\n",
       "      <td>291850.000</td>\n",
       "      <td>3</td>\n",
       "      <td>1.500</td>\n",
       "      <td>1060</td>\n",
       "      <td>9711</td>\n",
       "      <td>1.000</td>\n",
       "      <td>0</td>\n",
       "      <td>0</td>\n",
       "      <td>...</td>\n",
       "      <td>1060</td>\n",
       "      <td>0</td>\n",
       "      <td>1963</td>\n",
       "      <td>0</td>\n",
       "      <td>98198</td>\n",
       "      <td>47.410</td>\n",
       "      <td>-122.315</td>\n",
       "      <td>1650</td>\n",
       "      <td>9711</td>\n",
       "      <td>54</td>\n",
       "    </tr>\n",
       "    <tr>\n",
       "      <th>8</th>\n",
       "      <td>2414600126</td>\n",
       "      <td>20150415T000000</td>\n",
       "      <td>229500.000</td>\n",
       "      <td>3</td>\n",
       "      <td>1.000</td>\n",
       "      <td>1780</td>\n",
       "      <td>7470</td>\n",
       "      <td>1.000</td>\n",
       "      <td>0</td>\n",
       "      <td>0</td>\n",
       "      <td>...</td>\n",
       "      <td>1050</td>\n",
       "      <td>730</td>\n",
       "      <td>1960</td>\n",
       "      <td>0</td>\n",
       "      <td>98146</td>\n",
       "      <td>47.512</td>\n",
       "      <td>-122.337</td>\n",
       "      <td>1780</td>\n",
       "      <td>8113</td>\n",
       "      <td>57</td>\n",
       "    </tr>\n",
       "    <tr>\n",
       "      <th>9</th>\n",
       "      <td>3793500160</td>\n",
       "      <td>20150312T000000</td>\n",
       "      <td>323000.000</td>\n",
       "      <td>3</td>\n",
       "      <td>2.500</td>\n",
       "      <td>1890</td>\n",
       "      <td>6560</td>\n",
       "      <td>2.000</td>\n",
       "      <td>0</td>\n",
       "      <td>0</td>\n",
       "      <td>...</td>\n",
       "      <td>1890</td>\n",
       "      <td>0</td>\n",
       "      <td>2003</td>\n",
       "      <td>0</td>\n",
       "      <td>98038</td>\n",
       "      <td>47.368</td>\n",
       "      <td>-122.031</td>\n",
       "      <td>2390</td>\n",
       "      <td>7570</td>\n",
       "      <td>14</td>\n",
       "    </tr>\n",
       "  </tbody>\n",
       "</table>\n",
       "<p>10 rows × 22 columns</p>\n",
       "</div>"
      ],
      "text/plain": [
       "           id             date       price  bedrooms  bathrooms  sqft_living  \\\n",
       "0  7129300520  20141013T000000  221900.000         3      1.000         1180   \n",
       "1  6414100192  20141209T000000  538000.000         3      2.250         2570   \n",
       "2  5631500400  20150225T000000  180000.000         2      1.000          770   \n",
       "3  2487200875  20141209T000000  604000.000         4      3.000         1960   \n",
       "4  1954400510  20150218T000000  510000.000         3      2.000         1680   \n",
       "5  7237550310  20140512T000000 1225000.000         4      4.500         5420   \n",
       "6  1321400060  20140627T000000  257500.000         3      2.250         1715   \n",
       "7  2008000270  20150115T000000  291850.000         3      1.500         1060   \n",
       "8  2414600126  20150415T000000  229500.000         3      1.000         1780   \n",
       "9  3793500160  20150312T000000  323000.000         3      2.500         1890   \n",
       "\n",
       "   sqft_lot  floors  waterfront  view ...   sqft_above  sqft_basement  \\\n",
       "0      5650   1.000           0     0 ...         1180              0   \n",
       "1      7242   2.000           0     0 ...         2170            400   \n",
       "2     10000   1.000           0     0 ...          770              0   \n",
       "3      5000   1.000           0     0 ...         1050            910   \n",
       "4      8080   1.000           0     0 ...         1680              0   \n",
       "5    101930   1.000           0     0 ...         3890           1530   \n",
       "6      6819   2.000           0     0 ...         1715              0   \n",
       "7      9711   1.000           0     0 ...         1060              0   \n",
       "8      7470   1.000           0     0 ...         1050            730   \n",
       "9      6560   2.000           0     0 ...         1890              0   \n",
       "\n",
       "   yr_built  yr_renovated  zipcode    lat     long  sqft_living15  sqft_lot15  \\\n",
       "0      1955             0    98178 47.511 -122.257           1340        5650   \n",
       "1      1951          1991    98125 47.721 -122.319           1690        7639   \n",
       "2      1933             0    98028 47.738 -122.233           2720        8062   \n",
       "3      1965             0    98136 47.521 -122.393           1360        5000   \n",
       "4      1987             0    98074 47.617 -122.045           1800        7503   \n",
       "5      2001             0    98053 47.656 -122.005           4760      101930   \n",
       "6      1995             0    98003 47.310 -122.327           2238        6819   \n",
       "7      1963             0    98198 47.410 -122.315           1650        9711   \n",
       "8      1960             0    98146 47.512 -122.337           1780        8113   \n",
       "9      2003             0    98038 47.368 -122.031           2390        7570   \n",
       "\n",
       "   age  \n",
       "0   62  \n",
       "1   26  \n",
       "2   84  \n",
       "3   52  \n",
       "4   30  \n",
       "5   16  \n",
       "6   22  \n",
       "7   54  \n",
       "8   57  \n",
       "9   14  \n",
       "\n",
       "[10 rows x 22 columns]"
      ]
     },
     "execution_count": 3453,
     "metadata": {},
     "output_type": "execute_result"
    }
   ],
   "source": [
    "#Create an age feature that takes the age of the house since it was built or renovated\n",
    "prices_df['age'] = np.where(prices_df['yr_renovated'] > 0, 2017 - prices_df['yr_renovated'], 2017 - prices_df['yr_built']) \n",
    "prices_df.head(10)"
   ]
  },
  {
   "cell_type": "code",
   "execution_count": 3454,
   "metadata": {},
   "outputs": [
    {
     "name": "stdout",
     "output_type": "stream",
     "text": [
      "                  id       price  bedrooms  bathrooms  sqft_living  \\\n",
      "count      21613.000   21613.000 21613.000  21613.000    21613.000   \n",
      "mean  4580301520.865  540088.142     3.371      2.115     2079.900   \n",
      "std   2876565571.312  367127.196     0.930      0.770      918.441   \n",
      "min      1000102.000   75000.000     0.000      0.000      290.000   \n",
      "25%   2123049194.000  321950.000     3.000      1.750     1427.000   \n",
      "50%   3904930410.000  450000.000     3.000      2.250     1910.000   \n",
      "75%   7308900445.000  645000.000     4.000      2.500     2550.000   \n",
      "max   9900000190.000 7700000.000    33.000      8.000    13540.000   \n",
      "\n",
      "         sqft_lot    floors  waterfront      view  condition    ...     \\\n",
      "count   21613.000 21613.000   21613.000 21613.000  21613.000    ...      \n",
      "mean    15106.968     1.494       0.008     0.234      3.409    ...      \n",
      "std     41420.512     0.540       0.087     0.766      0.651    ...      \n",
      "min       520.000     1.000       0.000     0.000      1.000    ...      \n",
      "25%      5040.000     1.000       0.000     0.000      3.000    ...      \n",
      "50%      7618.000     1.500       0.000     0.000      3.000    ...      \n",
      "75%     10688.000     2.000       0.000     0.000      4.000    ...      \n",
      "max   1651359.000     3.500       1.000     4.000      5.000    ...      \n",
      "\n",
      "       sqft_above  sqft_basement  yr_built  yr_renovated   zipcode       lat  \\\n",
      "count   21613.000      21613.000 21613.000     21613.000 21613.000 21613.000   \n",
      "mean     1788.391        291.509  1971.005        84.402 98077.940    47.560   \n",
      "std       828.091        442.575    29.373       401.679    53.505     0.139   \n",
      "min       290.000          0.000  1900.000         0.000 98001.000    47.156   \n",
      "25%      1190.000          0.000  1951.000         0.000 98033.000    47.471   \n",
      "50%      1560.000          0.000  1975.000         0.000 98065.000    47.572   \n",
      "75%      2210.000        560.000  1997.000         0.000 98118.000    47.678   \n",
      "max      9410.000       4820.000  2015.000      2015.000 98199.000    47.778   \n",
      "\n",
      "           long  sqft_living15  sqft_lot15       age  \n",
      "count 21613.000      21613.000   21613.000 21613.000  \n",
      "mean   -122.214       1986.552   12768.456    43.614  \n",
      "std       0.141        685.391   27304.180    28.807  \n",
      "min    -122.519        399.000     651.000     2.000  \n",
      "25%    -122.328       1490.000    5100.000    18.000  \n",
      "50%    -122.230       1840.000    7620.000    40.000  \n",
      "75%    -122.125       2360.000   10083.000    63.000  \n",
      "max    -121.315       6210.000  871200.000   117.000  \n",
      "\n",
      "[8 rows x 21 columns]\n"
     ]
    }
   ],
   "source": [
    "print(prices_df.describe())"
   ]
  },
  {
   "cell_type": "code",
   "execution_count": 3455,
   "metadata": {},
   "outputs": [
    {
     "name": "stdout",
     "output_type": "stream",
     "text": [
      "11\n"
     ]
    }
   ],
   "source": [
    "#Let's Remove 33 bedrooms since it far outnumbers other data\n",
    "prices_df = prices_df[prices_df.bedrooms != 33]\n",
    "print(max(prices_df['bedrooms']))"
   ]
  },
  {
   "cell_type": "code",
   "execution_count": 3456,
   "metadata": {},
   "outputs": [
    {
     "data": {
      "text/html": [
       "<div>\n",
       "<style>\n",
       "    .dataframe thead tr:only-child th {\n",
       "        text-align: right;\n",
       "    }\n",
       "\n",
       "    .dataframe thead th {\n",
       "        text-align: left;\n",
       "    }\n",
       "\n",
       "    .dataframe tbody tr th {\n",
       "        vertical-align: top;\n",
       "    }\n",
       "</style>\n",
       "<table border=\"1\" class=\"dataframe\">\n",
       "  <thead>\n",
       "    <tr style=\"text-align: right;\">\n",
       "      <th></th>\n",
       "      <th>id</th>\n",
       "      <th>date</th>\n",
       "      <th>price</th>\n",
       "      <th>bedrooms</th>\n",
       "      <th>bathrooms</th>\n",
       "      <th>sqft_living</th>\n",
       "      <th>sqft_lot</th>\n",
       "      <th>floors</th>\n",
       "      <th>waterfront</th>\n",
       "      <th>view</th>\n",
       "      <th>...</th>\n",
       "      <th>sqft_above</th>\n",
       "      <th>sqft_basement</th>\n",
       "      <th>yr_built</th>\n",
       "      <th>yr_renovated</th>\n",
       "      <th>zipcode</th>\n",
       "      <th>lat</th>\n",
       "      <th>long</th>\n",
       "      <th>sqft_living15</th>\n",
       "      <th>sqft_lot15</th>\n",
       "      <th>age</th>\n",
       "    </tr>\n",
       "  </thead>\n",
       "  <tbody>\n",
       "    <tr>\n",
       "      <th>1164</th>\n",
       "      <td>1247600105</td>\n",
       "      <td>20141020T000000</td>\n",
       "      <td>5110800.000</td>\n",
       "      <td>5</td>\n",
       "      <td>5.250</td>\n",
       "      <td>8010</td>\n",
       "      <td>45517</td>\n",
       "      <td>2.000</td>\n",
       "      <td>1</td>\n",
       "      <td>4</td>\n",
       "      <td>...</td>\n",
       "      <td>5990</td>\n",
       "      <td>2020</td>\n",
       "      <td>1999</td>\n",
       "      <td>0</td>\n",
       "      <td>98033</td>\n",
       "      <td>47.677</td>\n",
       "      <td>-122.211</td>\n",
       "      <td>3430</td>\n",
       "      <td>26788</td>\n",
       "      <td>18</td>\n",
       "    </tr>\n",
       "    <tr>\n",
       "      <th>1315</th>\n",
       "      <td>7558700030</td>\n",
       "      <td>20150413T000000</td>\n",
       "      <td>5300000.000</td>\n",
       "      <td>6</td>\n",
       "      <td>6.000</td>\n",
       "      <td>7390</td>\n",
       "      <td>24829</td>\n",
       "      <td>2.000</td>\n",
       "      <td>1</td>\n",
       "      <td>4</td>\n",
       "      <td>...</td>\n",
       "      <td>5000</td>\n",
       "      <td>2390</td>\n",
       "      <td>1991</td>\n",
       "      <td>0</td>\n",
       "      <td>98040</td>\n",
       "      <td>47.563</td>\n",
       "      <td>-122.210</td>\n",
       "      <td>4320</td>\n",
       "      <td>24619</td>\n",
       "      <td>26</td>\n",
       "    </tr>\n",
       "    <tr>\n",
       "      <th>1448</th>\n",
       "      <td>8907500070</td>\n",
       "      <td>20150413T000000</td>\n",
       "      <td>5350000.000</td>\n",
       "      <td>5</td>\n",
       "      <td>5.000</td>\n",
       "      <td>8000</td>\n",
       "      <td>23985</td>\n",
       "      <td>2.000</td>\n",
       "      <td>0</td>\n",
       "      <td>4</td>\n",
       "      <td>...</td>\n",
       "      <td>6720</td>\n",
       "      <td>1280</td>\n",
       "      <td>2009</td>\n",
       "      <td>0</td>\n",
       "      <td>98004</td>\n",
       "      <td>47.623</td>\n",
       "      <td>-122.220</td>\n",
       "      <td>4600</td>\n",
       "      <td>21750</td>\n",
       "      <td>8</td>\n",
       "    </tr>\n",
       "    <tr>\n",
       "      <th>2626</th>\n",
       "      <td>7738500731</td>\n",
       "      <td>20140815T000000</td>\n",
       "      <td>4500000.000</td>\n",
       "      <td>5</td>\n",
       "      <td>5.500</td>\n",
       "      <td>6640</td>\n",
       "      <td>40014</td>\n",
       "      <td>2.000</td>\n",
       "      <td>1</td>\n",
       "      <td>4</td>\n",
       "      <td>...</td>\n",
       "      <td>6350</td>\n",
       "      <td>290</td>\n",
       "      <td>2004</td>\n",
       "      <td>0</td>\n",
       "      <td>98155</td>\n",
       "      <td>47.749</td>\n",
       "      <td>-122.280</td>\n",
       "      <td>3030</td>\n",
       "      <td>23408</td>\n",
       "      <td>13</td>\n",
       "    </tr>\n",
       "    <tr>\n",
       "      <th>3914</th>\n",
       "      <td>9808700762</td>\n",
       "      <td>20140611T000000</td>\n",
       "      <td>7062500.000</td>\n",
       "      <td>5</td>\n",
       "      <td>4.500</td>\n",
       "      <td>10040</td>\n",
       "      <td>37325</td>\n",
       "      <td>2.000</td>\n",
       "      <td>1</td>\n",
       "      <td>2</td>\n",
       "      <td>...</td>\n",
       "      <td>7680</td>\n",
       "      <td>2360</td>\n",
       "      <td>1940</td>\n",
       "      <td>2001</td>\n",
       "      <td>98004</td>\n",
       "      <td>47.650</td>\n",
       "      <td>-122.214</td>\n",
       "      <td>3930</td>\n",
       "      <td>25449</td>\n",
       "      <td>16</td>\n",
       "    </tr>\n",
       "    <tr>\n",
       "      <th>4411</th>\n",
       "      <td>2470100110</td>\n",
       "      <td>20140804T000000</td>\n",
       "      <td>5570000.000</td>\n",
       "      <td>5</td>\n",
       "      <td>5.750</td>\n",
       "      <td>9200</td>\n",
       "      <td>35069</td>\n",
       "      <td>2.000</td>\n",
       "      <td>0</td>\n",
       "      <td>0</td>\n",
       "      <td>...</td>\n",
       "      <td>6200</td>\n",
       "      <td>3000</td>\n",
       "      <td>2001</td>\n",
       "      <td>0</td>\n",
       "      <td>98039</td>\n",
       "      <td>47.629</td>\n",
       "      <td>-122.233</td>\n",
       "      <td>3560</td>\n",
       "      <td>24345</td>\n",
       "      <td>16</td>\n",
       "    </tr>\n",
       "    <tr>\n",
       "      <th>7252</th>\n",
       "      <td>6762700020</td>\n",
       "      <td>20141013T000000</td>\n",
       "      <td>7700000.000</td>\n",
       "      <td>6</td>\n",
       "      <td>8.000</td>\n",
       "      <td>12050</td>\n",
       "      <td>27600</td>\n",
       "      <td>2.500</td>\n",
       "      <td>0</td>\n",
       "      <td>3</td>\n",
       "      <td>...</td>\n",
       "      <td>8570</td>\n",
       "      <td>3480</td>\n",
       "      <td>1910</td>\n",
       "      <td>1987</td>\n",
       "      <td>98102</td>\n",
       "      <td>47.630</td>\n",
       "      <td>-122.323</td>\n",
       "      <td>3940</td>\n",
       "      <td>8800</td>\n",
       "      <td>30</td>\n",
       "    </tr>\n",
       "    <tr>\n",
       "      <th>8092</th>\n",
       "      <td>1924059029</td>\n",
       "      <td>20140617T000000</td>\n",
       "      <td>4668000.000</td>\n",
       "      <td>5</td>\n",
       "      <td>6.750</td>\n",
       "      <td>9640</td>\n",
       "      <td>13068</td>\n",
       "      <td>1.000</td>\n",
       "      <td>1</td>\n",
       "      <td>4</td>\n",
       "      <td>...</td>\n",
       "      <td>4820</td>\n",
       "      <td>4820</td>\n",
       "      <td>1983</td>\n",
       "      <td>2009</td>\n",
       "      <td>98040</td>\n",
       "      <td>47.557</td>\n",
       "      <td>-122.210</td>\n",
       "      <td>3270</td>\n",
       "      <td>10454</td>\n",
       "      <td>8</td>\n",
       "    </tr>\n",
       "    <tr>\n",
       "      <th>8638</th>\n",
       "      <td>3835500195</td>\n",
       "      <td>20140618T000000</td>\n",
       "      <td>4489000.000</td>\n",
       "      <td>4</td>\n",
       "      <td>3.000</td>\n",
       "      <td>6430</td>\n",
       "      <td>27517</td>\n",
       "      <td>2.000</td>\n",
       "      <td>0</td>\n",
       "      <td>0</td>\n",
       "      <td>...</td>\n",
       "      <td>6430</td>\n",
       "      <td>0</td>\n",
       "      <td>2001</td>\n",
       "      <td>0</td>\n",
       "      <td>98004</td>\n",
       "      <td>47.621</td>\n",
       "      <td>-122.219</td>\n",
       "      <td>3720</td>\n",
       "      <td>14592</td>\n",
       "      <td>16</td>\n",
       "    </tr>\n",
       "    <tr>\n",
       "      <th>9254</th>\n",
       "      <td>9208900037</td>\n",
       "      <td>20140919T000000</td>\n",
       "      <td>6885000.000</td>\n",
       "      <td>6</td>\n",
       "      <td>7.750</td>\n",
       "      <td>9890</td>\n",
       "      <td>31374</td>\n",
       "      <td>2.000</td>\n",
       "      <td>0</td>\n",
       "      <td>4</td>\n",
       "      <td>...</td>\n",
       "      <td>8860</td>\n",
       "      <td>1030</td>\n",
       "      <td>2001</td>\n",
       "      <td>0</td>\n",
       "      <td>98039</td>\n",
       "      <td>47.630</td>\n",
       "      <td>-122.240</td>\n",
       "      <td>4540</td>\n",
       "      <td>42730</td>\n",
       "      <td>16</td>\n",
       "    </tr>\n",
       "    <tr>\n",
       "      <th>12370</th>\n",
       "      <td>6065300370</td>\n",
       "      <td>20150506T000000</td>\n",
       "      <td>4208000.000</td>\n",
       "      <td>5</td>\n",
       "      <td>6.000</td>\n",
       "      <td>7440</td>\n",
       "      <td>21540</td>\n",
       "      <td>2.000</td>\n",
       "      <td>0</td>\n",
       "      <td>0</td>\n",
       "      <td>...</td>\n",
       "      <td>5550</td>\n",
       "      <td>1890</td>\n",
       "      <td>2003</td>\n",
       "      <td>0</td>\n",
       "      <td>98006</td>\n",
       "      <td>47.569</td>\n",
       "      <td>-122.189</td>\n",
       "      <td>4740</td>\n",
       "      <td>19329</td>\n",
       "      <td>14</td>\n",
       "    </tr>\n",
       "  </tbody>\n",
       "</table>\n",
       "<p>11 rows × 22 columns</p>\n",
       "</div>"
      ],
      "text/plain": [
       "               id             date       price  bedrooms  bathrooms  \\\n",
       "1164   1247600105  20141020T000000 5110800.000         5      5.250   \n",
       "1315   7558700030  20150413T000000 5300000.000         6      6.000   \n",
       "1448   8907500070  20150413T000000 5350000.000         5      5.000   \n",
       "2626   7738500731  20140815T000000 4500000.000         5      5.500   \n",
       "3914   9808700762  20140611T000000 7062500.000         5      4.500   \n",
       "4411   2470100110  20140804T000000 5570000.000         5      5.750   \n",
       "7252   6762700020  20141013T000000 7700000.000         6      8.000   \n",
       "8092   1924059029  20140617T000000 4668000.000         5      6.750   \n",
       "8638   3835500195  20140618T000000 4489000.000         4      3.000   \n",
       "9254   9208900037  20140919T000000 6885000.000         6      7.750   \n",
       "12370  6065300370  20150506T000000 4208000.000         5      6.000   \n",
       "\n",
       "       sqft_living  sqft_lot  floors  waterfront  view ...   sqft_above  \\\n",
       "1164          8010     45517   2.000           1     4 ...         5990   \n",
       "1315          7390     24829   2.000           1     4 ...         5000   \n",
       "1448          8000     23985   2.000           0     4 ...         6720   \n",
       "2626          6640     40014   2.000           1     4 ...         6350   \n",
       "3914         10040     37325   2.000           1     2 ...         7680   \n",
       "4411          9200     35069   2.000           0     0 ...         6200   \n",
       "7252         12050     27600   2.500           0     3 ...         8570   \n",
       "8092          9640     13068   1.000           1     4 ...         4820   \n",
       "8638          6430     27517   2.000           0     0 ...         6430   \n",
       "9254          9890     31374   2.000           0     4 ...         8860   \n",
       "12370         7440     21540   2.000           0     0 ...         5550   \n",
       "\n",
       "       sqft_basement  yr_built  yr_renovated  zipcode    lat     long  \\\n",
       "1164            2020      1999             0    98033 47.677 -122.211   \n",
       "1315            2390      1991             0    98040 47.563 -122.210   \n",
       "1448            1280      2009             0    98004 47.623 -122.220   \n",
       "2626             290      2004             0    98155 47.749 -122.280   \n",
       "3914            2360      1940          2001    98004 47.650 -122.214   \n",
       "4411            3000      2001             0    98039 47.629 -122.233   \n",
       "7252            3480      1910          1987    98102 47.630 -122.323   \n",
       "8092            4820      1983          2009    98040 47.557 -122.210   \n",
       "8638               0      2001             0    98004 47.621 -122.219   \n",
       "9254            1030      2001             0    98039 47.630 -122.240   \n",
       "12370           1890      2003             0    98006 47.569 -122.189   \n",
       "\n",
       "       sqft_living15  sqft_lot15  age  \n",
       "1164            3430       26788   18  \n",
       "1315            4320       24619   26  \n",
       "1448            4600       21750    8  \n",
       "2626            3030       23408   13  \n",
       "3914            3930       25449   16  \n",
       "4411            3560       24345   16  \n",
       "7252            3940        8800   30  \n",
       "8092            3270       10454    8  \n",
       "8638            3720       14592   16  \n",
       "9254            4540       42730   16  \n",
       "12370           4740       19329   14  \n",
       "\n",
       "[11 rows x 22 columns]"
      ]
     },
     "execution_count": 3456,
     "metadata": {},
     "output_type": "execute_result"
    }
   ],
   "source": [
    "prices_exp = prices_df[prices_df.price > 4000000]\n",
    "prices_exp.head(15)"
   ]
  },
  {
   "cell_type": "code",
   "execution_count": 3457,
   "metadata": {},
   "outputs": [
    {
     "name": "stdout",
     "output_type": "stream",
     "text": [
      "3850000.0\n"
     ]
    }
   ],
   "source": [
    "prices_df = prices_df[prices_df.price < 4000000]\n",
    "print(max(prices_df['price']))"
   ]
  },
  {
   "cell_type": "code",
   "execution_count": 3458,
   "metadata": {},
   "outputs": [
    {
     "data": {
      "text/plain": [
       "<matplotlib.axes._subplots.AxesSubplot at 0x1c951e048>"
      ]
     },
     "execution_count": 3458,
     "metadata": {},
     "output_type": "execute_result"
    },
    {
     "data": {
      "image/png": "[encoded data removed]",
      "text/plain": [
       "<matplotlib.figure.Figure at 0x1ca59d278>"
      ]
     },
     "metadata": {},
     "output_type": "display_data"
    }
   ],
   "source": [
    "#See how they relate to each other\n",
    "sns.heatmap(prices_df.corr())"
   ]
  },
  {
   "cell_type": "code",
   "execution_count": 3459,
   "metadata": {
    "collapsed": true
   },
   "outputs": [],
   "source": [
    "#Let's take a look at the distributions to pick the best features for our model"
   ]
  },
  {
   "cell_type": "code",
   "execution_count": 3460,
   "metadata": {
    "collapsed": true
   },
   "outputs": [],
   "source": [
    "prices_df['sqft_living_sqr'] = prices_df['sqft_living'] ** 2"
   ]
  },
  {
   "cell_type": "code",
   "execution_count": 3461,
   "metadata": {},
   "outputs": [
    {
     "data": {
      "text/plain": [
       "(array([  713.,  6925.,  7853.,  4086.,  1138.,   509.,   201.,   106.,\n",
       "           49.,    20.]),\n",
       " array([  273.86127875,   442.68931958,   611.51736041,   780.34540124,\n",
       "          949.17344207,  1118.00148289,  1286.82952372,  1455.65756455,\n",
       "         1624.48560538,  1793.31364621,  1962.14168703]),\n",
       " <a list of 10 Patch objects>)"
      ]
     },
     "execution_count": 3461,
     "metadata": {},
     "output_type": "execute_result"
    },
    {
     "name": "stderr",
     "output_type": "stream",
     "text": [
      "/Users/bryancorder/anaconda3/lib/python3.6/site-packages/matplotlib/figure.py:1743: UserWarning: This figure includes Axes that are not compatible with tight_layout, so its results might be incorrect.\n",
      "  warnings.warn(\"This figure includes Axes that are not \"\n"
     ]
    },
    {
     "data": {
      "image/png": "[encoded data removed]",
      "text/plain": [
       "<matplotlib.figure.Figure at 0x1c80697f0>"
      ]
     },
     "metadata": {},
     "output_type": "display_data"
    }
   ],
   "source": [
    "prices_df['price_sqrt'] = np.sqrt(prices_df['price'])\n",
    "\n",
    "x = prices_df['price']\n",
    "y = prices_df['price_sqrt']\n",
    "\n",
    "fig, axs = plt.subplots(1, 2, sharey=True, tight_layout=True)\n",
    "\n",
    "# We can set the number of bins with the `bins` kwarg\n",
    "axs[0].hist(x)\n",
    "axs[1].hist(y)"
   ]
  },
  {
   "cell_type": "code",
   "execution_count": 3462,
   "metadata": {},
   "outputs": [
    {
     "data": {
      "text/plain": [
       "(array([  2.12000000e+02,   2.76000000e+03,   9.82400000e+03,\n",
       "          6.88000000e+03,   1.59400000e+03,   2.69000000e+02,\n",
       "          3.80000000e+01,   1.30000000e+01,   6.00000000e+00,\n",
       "          4.00000000e+00]),\n",
       " array([  0. ,   1.1,   2.2,   3.3,   4.4,   5.5,   6.6,   7.7,   8.8,\n",
       "          9.9,  11. ]),\n",
       " <a list of 10 Patch objects>)"
      ]
     },
     "execution_count": 3462,
     "metadata": {},
     "output_type": "execute_result"
    },
    {
     "data": {
      "image/png": "[encoded data removed]",
      "text/plain": [
       "<matplotlib.figure.Figure at 0x1c9a66e80>"
      ]
     },
     "metadata": {},
     "output_type": "display_data"
    }
   ],
   "source": [
    "plt.hist(prices_df['bedrooms'])\n"
   ]
  },
  {
   "cell_type": "code",
   "execution_count": 3463,
   "metadata": {},
   "outputs": [
    {
     "data": {
      "text/plain": [
       "(array([  8.60000000e+01,   5.30700000e+03,   7.02400000e+03,\n",
       "          7.31700000e+03,   1.47500000e+03,   3.37000000e+02,\n",
       "          4.00000000e+01,   9.00000000e+00,   3.00000000e+00,\n",
       "          2.00000000e+00]),\n",
       " array([ 0. ,  0.8,  1.6,  2.4,  3.2,  4. ,  4.8,  5.6,  6.4,  7.2,  8. ]),\n",
       " <a list of 10 Patch objects>)"
      ]
     },
     "execution_count": 3463,
     "metadata": {},
     "output_type": "execute_result"
    },
    {
     "data": {
      "image/png": "[encoded data removed]",
      "text/plain": [
       "<matplotlib.figure.Figure at 0x1ca596550>"
      ]
     },
     "metadata": {},
     "output_type": "display_data"
    }
   ],
   "source": [
    "plt.hist(prices_df['bathrooms'])\n"
   ]
  },
  {
   "cell_type": "code",
   "execution_count": 3464,
   "metadata": {},
   "outputs": [
    {
     "data": {
      "text/plain": [
       "(array([  2.50000000e+02,   4.51000000e+03,   8.75200000e+03,\n",
       "          5.84000000e+03,   1.85200000e+03,   3.34000000e+02,\n",
       "          5.40000000e+01,   7.00000000e+00,   0.00000000e+00,\n",
       "          1.00000000e+00]),\n",
       " array([  17.02938637,   26.9625983 ,   36.89581023,   46.82902215,\n",
       "          56.76223408,   66.69544601,   76.62865794,   86.56186987,\n",
       "          96.4950818 ,  106.42829373,  116.36150566]),\n",
       " <a list of 10 Patch objects>)"
      ]
     },
     "execution_count": 3464,
     "metadata": {},
     "output_type": "execute_result"
    },
    {
     "name": "stderr",
     "output_type": "stream",
     "text": [
      "/Users/bryancorder/anaconda3/lib/python3.6/site-packages/matplotlib/figure.py:1743: UserWarning: This figure includes Axes that are not compatible with tight_layout, so its results might be incorrect.\n",
      "  warnings.warn(\"This figure includes Axes that are not \"\n"
     ]
    },
    {
     "data": {
      "image/png": "[encoded data removed]",
      "text/plain": [
       "<matplotlib.figure.Figure at 0x1c810f8d0>"
      ]
     },
     "metadata": {},
     "output_type": "display_data"
    }
   ],
   "source": [
    "prices_df['sqft_living_sqrt'] = prices_df['sqft_living'] ** 0.5\n",
    "\n",
    "x = prices_df['sqft_living']\n",
    "y = prices_df['sqft_living_sqrt']\n",
    "\n",
    "fig, axs = plt.subplots(1, 2, sharey=True, tight_layout=True)\n",
    "\n",
    "# We can set the number of bins with the `bins` kwarg\n",
    "axs[0].hist(x)\n",
    "axs[1].hist(y)\n"
   ]
  },
  {
   "cell_type": "code",
   "execution_count": 3465,
   "metadata": {},
   "outputs": [
    {
     "data": {
      "text/plain": [
       "(array([    30.,      0.,      0.,    172.,      0.,  14021.,      0.,\n",
       "             0.,   5677.,   1700.]),\n",
       " array([ 1.        ,  1.1236068 ,  1.2472136 ,  1.37082039,  1.49442719,\n",
       "         1.61803399,  1.74164079,  1.86524758,  1.98885438,  2.11246118,\n",
       "         2.23606798]),\n",
       " <a list of 10 Patch objects>)"
      ]
     },
     "execution_count": 3465,
     "metadata": {},
     "output_type": "execute_result"
    },
    {
     "name": "stderr",
     "output_type": "stream",
     "text": [
      "/Users/bryancorder/anaconda3/lib/python3.6/site-packages/matplotlib/figure.py:1743: UserWarning: This figure includes Axes that are not compatible with tight_layout, so its results might be incorrect.\n",
      "  warnings.warn(\"This figure includes Axes that are not \"\n"
     ]
    },
    {
     "data": {
      "image/png": "[encoded data removed]",
      "text/plain": [
       "<matplotlib.figure.Figure at 0x1cd0cec18>"
      ]
     },
     "metadata": {},
     "output_type": "display_data"
    }
   ],
   "source": [
    "prices_df['condition_sqrt'] = np.sqrt(prices_df['condition'])\n",
    "\n",
    "x = prices_df['condition']\n",
    "y = prices_df['condition_sqrt']\n",
    "\n",
    "fig, axs = plt.subplots(1, 2, sharey=True, tight_layout=True)\n",
    "\n",
    "# We can set the number of bins with the `bins` kwarg\n",
    "axs[0].hist(x)\n",
    "axs[1].hist(y)\n"
   ]
  },
  {
   "cell_type": "code",
   "execution_count": 3466,
   "metadata": {},
   "outputs": [
    {
     "data": {
      "text/plain": [
       "(array([  1.31320000e+04,   3.49000000e+02,   1.19300000e+03,\n",
       "          2.36000000e+03,   2.87600000e+03,   1.30500000e+03,\n",
       "          3.20000000e+02,   5.80000000e+01,   5.00000000e+00,\n",
       "          2.00000000e+00]),\n",
       " array([  0.        ,   6.42650761,  12.85301521,  19.27952282,\n",
       "         25.70603042,  32.13253803,  38.55904563,  44.98555324,\n",
       "         51.41206084,  57.83856845,  64.26507605]),\n",
       " <a list of 10 Patch objects>)"
      ]
     },
     "execution_count": 3466,
     "metadata": {},
     "output_type": "execute_result"
    },
    {
     "name": "stderr",
     "output_type": "stream",
     "text": [
      "/Users/bryancorder/anaconda3/lib/python3.6/site-packages/matplotlib/figure.py:1743: UserWarning: This figure includes Axes that are not compatible with tight_layout, so its results might be incorrect.\n",
      "  warnings.warn(\"This figure includes Axes that are not \"\n"
     ]
    },
    {
     "data": {
      "image/png": "[encoded data removed]",
      "text/plain": [
       "<matplotlib.figure.Figure at 0x1c8186da0>"
      ]
     },
     "metadata": {},
     "output_type": "display_data"
    }
   ],
   "source": [
    "prices_df['sqft_basement_sqrt'] = np.sqrt(prices_df['sqft_basement'])\n",
    "\n",
    "x = prices_df['sqft_basement']\n",
    "y = prices_df['sqft_basement_sqrt'] \n",
    "\n",
    "fig, axs = plt.subplots(1, 2, sharey=True, tight_layout=True)\n",
    "\n",
    "# We can set the number of bins with the `bins` kwarg\n",
    "axs[0].hist(x)\n",
    "axs[1].hist(y)\n"
   ]
  },
  {
   "cell_type": "code",
   "execution_count": 3467,
   "metadata": {},
   "outputs": [
    {
     "data": {
      "text/plain": [
       "(array([ 19484.,      0.,      0.,      0.,      0.,    332.,      0.,\n",
       "           962.,    509.,    313.]),\n",
       " array([ 0. ,  0.2,  0.4,  0.6,  0.8,  1. ,  1.2,  1.4,  1.6,  1.8,  2. ]),\n",
       " <a list of 10 Patch objects>)"
      ]
     },
     "execution_count": 3467,
     "metadata": {},
     "output_type": "execute_result"
    },
    {
     "name": "stderr",
     "output_type": "stream",
     "text": [
      "/Users/bryancorder/anaconda3/lib/python3.6/site-packages/matplotlib/figure.py:1743: UserWarning: This figure includes Axes that are not compatible with tight_layout, so its results might be incorrect.\n",
      "  warnings.warn(\"This figure includes Axes that are not \"\n"
     ]
    },
    {
     "data": {
      "image/png": "[encoded data removed]",
      "text/plain": [
       "<matplotlib.figure.Figure at 0x1c94479e8>"
      ]
     },
     "metadata": {},
     "output_type": "display_data"
    }
   ],
   "source": [
    "prices_df['view_sqrt'] = np.sqrt(prices_df['view'])\n",
    "\n",
    "x = prices_df['view']\n",
    "y = prices_df['view_sqrt']\n",
    "\n",
    "fig, axs = plt.subplots(1, 2, sharey=True, tight_layout=True)\n",
    "\n",
    "# We can set the number of bins with the `bins` kwarg\n",
    "axs[0].hist(x)\n",
    "axs[1].hist(y)"
   ]
  },
  {
   "cell_type": "code",
   "execution_count": 3468,
   "metadata": {},
   "outputs": [
    {
     "data": {
      "text/plain": [
       "(array([  1.06780000e+04,   0.00000000e+00,   0.00000000e+00,\n",
       "          1.91000000e+03,   0.00000000e+00,   8.23100000e+03,\n",
       "          0.00000000e+00,   1.60000000e+02,   6.13000000e+02,\n",
       "          8.00000000e+00]),\n",
       " array([ 0.        ,  0.1252763 ,  0.25055259,  0.37582889,  0.50110519,\n",
       "         0.62638148,  0.75165778,  0.87693408,  1.00221037,  1.12748667,\n",
       "         1.25276297]),\n",
       " <a list of 10 Patch objects>)"
      ]
     },
     "execution_count": 3468,
     "metadata": {},
     "output_type": "execute_result"
    },
    {
     "name": "stderr",
     "output_type": "stream",
     "text": [
      "/Users/bryancorder/anaconda3/lib/python3.6/site-packages/matplotlib/figure.py:1743: UserWarning: This figure includes Axes that are not compatible with tight_layout, so its results might be incorrect.\n",
      "  warnings.warn(\"This figure includes Axes that are not \"\n"
     ]
    },
    {
     "data": {
      "image/png": "[encoded data removed]",
      "text/plain": [
       "<matplotlib.figure.Figure at 0x1c97443c8>"
      ]
     },
     "metadata": {},
     "output_type": "display_data"
    }
   ],
   "source": [
    "prices_df['floors_log'] = np.log(prices_df['floors'])\n",
    "\n",
    "x = prices_df['floors']\n",
    "y = prices_df['floors_log']\n",
    "\n",
    "fig, axs = plt.subplots(1, 2, sharey=True, tight_layout=True)\n",
    "\n",
    "# We can set the number of bins with the `bins` kwarg\n",
    "axs[0].hist(x)\n",
    "axs[1].hist(y)"
   ]
  },
  {
   "cell_type": "code",
   "execution_count": 3469,
   "metadata": {},
   "outputs": [
    {
     "data": {
      "text/plain": [
       "(array([ 1123.,  1390.,  2694.,  2068.,  2750.,  2932.,  3429.,  2603.,\n",
       "         1379.,  1232.]),\n",
       " array([  1.41421356,   2.35445759,   3.29470162,   4.23494564,\n",
       "          5.17518967,   6.11543369,   7.05567772,   7.99592175,\n",
       "          8.93616577,   9.8764098 ,  10.81665383]),\n",
       " <a list of 10 Patch objects>)"
      ]
     },
     "execution_count": 3469,
     "metadata": {},
     "output_type": "execute_result"
    },
    {
     "name": "stderr",
     "output_type": "stream",
     "text": [
      "/Users/bryancorder/anaconda3/lib/python3.6/site-packages/matplotlib/figure.py:1743: UserWarning: This figure includes Axes that are not compatible with tight_layout, so its results might be incorrect.\n",
      "  warnings.warn(\"This figure includes Axes that are not \"\n"
     ]
    },
    {
     "data": {
      "image/png": "[encoded data removed]",
      "text/plain": [
       "<matplotlib.figure.Figure at 0x1c9455cf8>"
      ]
     },
     "metadata": {},
     "output_type": "display_data"
    }
   ],
   "source": [
    "prices_df['age_sqrt'] = np.sqrt(prices_df['age'])\n",
    "\n",
    "x = prices_df['age']\n",
    "y = prices_df['age_sqrt']\n",
    "\n",
    "fig, axs = plt.subplots(1, 2, sharey=True, tight_layout=True)\n",
    "\n",
    "# We can set the number of bins with the `bins` kwarg\n",
    "axs[0].hist(x)\n",
    "axs[1].hist(y)"
   ]
  },
  {
   "cell_type": "code",
   "execution_count": 3470,
   "metadata": {},
   "outputs": [
    {
     "data": {
      "text/plain": [
       "(array([  1.00000000e+00,   3.00000000e+00,   2.90000000e+01,\n",
       "          2.42000000e+02,   2.03800000e+03,   1.50480000e+04,\n",
       "          2.61500000e+03,   1.13400000e+03,   3.98000000e+02,\n",
       "          9.20000000e+01]),\n",
       " array([  1. ,   2.2,   3.4,   4.6,   5.8,   7. ,   8.2,   9.4,  10.6,\n",
       "         11.8,  13. ]),\n",
       " <a list of 10 Patch objects>)"
      ]
     },
     "execution_count": 3470,
     "metadata": {},
     "output_type": "execute_result"
    },
    {
     "data": {
      "image/png": "[encoded data removed]",
      "text/plain": [
       "<matplotlib.figure.Figure at 0x1c81574a8>"
      ]
     },
     "metadata": {},
     "output_type": "display_data"
    }
   ],
   "source": [
    "plt.hist(prices_df['grade'])"
   ]
  },
  {
   "cell_type": "code",
   "execution_count": 3471,
   "metadata": {},
   "outputs": [
    {
     "data": {
      "text/plain": [
       "(array([  181.,   323.,  1411.,  1928.,  1430.,  2553.,  3890.,  3000.,\n",
       "         4026.,  2858.]),\n",
       " array([ 3.85345913,  3.85476891,  3.85607869,  3.85738847,  3.85869824,\n",
       "         3.86000802,  3.8613178 ,  3.86262758,  3.86393736,  3.86524713,\n",
       "         3.86655691]),\n",
       " <a list of 10 Patch objects>)"
      ]
     },
     "execution_count": 3471,
     "metadata": {},
     "output_type": "execute_result"
    },
    {
     "name": "stderr",
     "output_type": "stream",
     "text": [
      "/Users/bryancorder/anaconda3/lib/python3.6/site-packages/matplotlib/figure.py:1743: UserWarning: This figure includes Axes that are not compatible with tight_layout, so its results might be incorrect.\n",
      "  warnings.warn(\"This figure includes Axes that are not \"\n"
     ]
    },
    {
     "data": {
      "image/png": "[encoded data removed]",
      "text/plain": [
       "<matplotlib.figure.Figure at 0x1cae1bac8>"
      ]
     },
     "metadata": {},
     "output_type": "display_data"
    }
   ],
   "source": [
    "prices_df['lat_log'] = np.log(prices_df['lat'])\n",
    "\n",
    "x = prices_df['lat']\n",
    "y = prices_df['lat_log']\n",
    "\n",
    "fig, axs = plt.subplots(1, 2, sharey=True, tight_layout=True)\n",
    "\n",
    "# We can set the number of bins with the `bins` kwarg\n",
    "axs[0].hist(x)\n",
    "axs[1].hist(y)"
   ]
  },
  {
   "cell_type": "code",
   "execution_count": 3472,
   "metadata": {},
   "outputs": [
    {
     "data": {
      "text/plain": [
       "(array([  1.50000000e+01,   2.00000000e+00,   1.00000000e+00,\n",
       "          2.18000000e+02,   4.83000000e+02,   2.05200000e+03,\n",
       "          3.94700000e+03,   5.58200000e+03,   8.88100000e+03,\n",
       "          4.19000000e+02]),\n",
       " array([ 11.01430888,  11.019761  ,  11.02521312,  11.03066525,\n",
       "         11.03611737,  11.04156949,  11.04702162,  11.05247374,\n",
       "         11.05792586,  11.06337799,  11.06883011]),\n",
       " <a list of 10 Patch objects>)"
      ]
     },
     "execution_count": 3472,
     "metadata": {},
     "output_type": "execute_result"
    },
    {
     "name": "stderr",
     "output_type": "stream",
     "text": [
      "/Users/bryancorder/anaconda3/lib/python3.6/site-packages/matplotlib/figure.py:1743: UserWarning: This figure includes Axes that are not compatible with tight_layout, so its results might be incorrect.\n",
      "  warnings.warn(\"This figure includes Axes that are not \"\n"
     ]
    },
    {
     "data": {
      "image/png": "[encoded data removed]",
      "text/plain": [
       "<matplotlib.figure.Figure at 0x1cba18ef0>"
      ]
     },
     "metadata": {},
     "output_type": "display_data"
    }
   ],
   "source": [
    "prices_df['long_log'] = np.sqrt(np.absolute(prices_df['long']))\n",
    "\n",
    "x = prices_df['long']\n",
    "y = prices_df['long_log']\n",
    "\n",
    "fig, axs = plt.subplots(1, 2, sharey=True, tight_layout=True)\n",
    "\n",
    "# We can set the number of bins with the `bins` kwarg\n",
    "axs[0].hist(x)\n",
    "axs[1].hist(y)"
   ]
  },
  {
   "cell_type": "code",
   "execution_count": 3473,
   "metadata": {},
   "outputs": [
    {
     "data": {
      "text/plain": [
       "(array([ 21442.,      0.,      0.,      0.,      0.,      0.,      0.,\n",
       "             0.,      0.,    158.]),\n",
       " array([ 0. ,  0.1,  0.2,  0.3,  0.4,  0.5,  0.6,  0.7,  0.8,  0.9,  1. ]),\n",
       " <a list of 10 Patch objects>)"
      ]
     },
     "execution_count": 3473,
     "metadata": {},
     "output_type": "execute_result"
    },
    {
     "data": {
      "image/png": "[encoded data removed]",
      "text/plain": [
       "<matplotlib.figure.Figure at 0x1ccb23780>"
      ]
     },
     "metadata": {},
     "output_type": "display_data"
    }
   ],
   "source": [
    "plt.hist(prices_df['waterfront'])"
   ]
  },
  {
   "cell_type": "code",
   "execution_count": 3474,
   "metadata": {
    "collapsed": true
   },
   "outputs": [],
   "source": [
    "prices_df['latlong'] = prices_df['lat'] + np.absolute(prices_df['long'])"
   ]
  },
  {
   "cell_type": "code",
   "execution_count": 3475,
   "metadata": {},
   "outputs": [
    {
     "data": {
      "text/html": [
       "<div>\n",
       "<style>\n",
       "    .dataframe thead tr:only-child th {\n",
       "        text-align: right;\n",
       "    }\n",
       "\n",
       "    .dataframe thead th {\n",
       "        text-align: left;\n",
       "    }\n",
       "\n",
       "    .dataframe tbody tr th {\n",
       "        vertical-align: top;\n",
       "    }\n",
       "</style>\n",
       "<table border=\"1\" class=\"dataframe\">\n",
       "  <thead>\n",
       "    <tr style=\"text-align: right;\">\n",
       "      <th></th>\n",
       "      <th>lat</th>\n",
       "      <th>long</th>\n",
       "      <th>zipcode</th>\n",
       "    </tr>\n",
       "  </thead>\n",
       "  <tbody>\n",
       "    <tr>\n",
       "      <th>lat</th>\n",
       "      <td>1.000</td>\n",
       "      <td>-0.135</td>\n",
       "      <td>0.267</td>\n",
       "    </tr>\n",
       "    <tr>\n",
       "      <th>long</th>\n",
       "      <td>-0.135</td>\n",
       "      <td>1.000</td>\n",
       "      <td>-0.564</td>\n",
       "    </tr>\n",
       "    <tr>\n",
       "      <th>zipcode</th>\n",
       "      <td>0.267</td>\n",
       "      <td>-0.564</td>\n",
       "      <td>1.000</td>\n",
       "    </tr>\n",
       "  </tbody>\n",
       "</table>\n",
       "</div>"
      ],
      "text/plain": [
       "           lat   long  zipcode\n",
       "lat      1.000 -0.135    0.267\n",
       "long    -0.135  1.000   -0.564\n",
       "zipcode  0.267 -0.564    1.000"
      ]
     },
     "metadata": {},
     "output_type": "display_data"
    },
    {
     "name": "stdout",
     "output_type": "stream",
     "text": [
      "\n",
      "Coefficients: \n",
      " [[  6.30148469e+02   1.33704213e+01  -5.84642604e-01]]\n",
      "\n",
      "Intercept: \n",
      " [ 29710.13548184]\n",
      "\n",
      "R-squared:\n",
      "0.180188089692\n",
      "Accuracy: 0.18 (+/- 0.02)\n"
     ]
    }
   ],
   "source": [
    "# Instantiate and fit our model with only location data\n",
    "regr = linear_model.LinearRegression()\n",
    "Y = prices_df['price_sqrt'].values.reshape(-1, 1)\n",
    "X = prices_df[['lat', 'long', 'zipcode']]\n",
    "regr.fit(X, Y)\n",
    "\n",
    "# Inspect the results.\n",
    "correlation_matrix = X.corr()\n",
    "display(correlation_matrix)\n",
    "print('\\nCoefficients: \\n', regr.coef_)\n",
    "print('\\nIntercept: \\n', regr.intercept_)\n",
    "print('\\nR-squared:')\n",
    "print(regr.score(X, Y))\n",
    "score = cross_val_score(regr, X, Y, cv=5)\n",
    "print(\"Accuracy: %0.2f (+/- %0.2f)\" % (score.mean(), score.std() * 2))"
   ]
  },
  {
   "cell_type": "code",
   "execution_count": 3476,
   "metadata": {},
   "outputs": [
    {
     "data": {
      "text/html": [
       "<div>\n",
       "<style>\n",
       "    .dataframe thead tr:only-child th {\n",
       "        text-align: right;\n",
       "    }\n",
       "\n",
       "    .dataframe thead th {\n",
       "        text-align: left;\n",
       "    }\n",
       "\n",
       "    .dataframe tbody tr th {\n",
       "        vertical-align: top;\n",
       "    }\n",
       "</style>\n",
       "<table border=\"1\" class=\"dataframe\">\n",
       "  <thead>\n",
       "    <tr style=\"text-align: right;\">\n",
       "      <th></th>\n",
       "      <th>bedrooms</th>\n",
       "      <th>bathrooms</th>\n",
       "      <th>sqft_living_sqrt</th>\n",
       "      <th>view_sqrt</th>\n",
       "      <th>floors</th>\n",
       "      <th>age_sqrt</th>\n",
       "      <th>grade</th>\n",
       "      <th>lat_log</th>\n",
       "      <th>waterfront</th>\n",
       "    </tr>\n",
       "  </thead>\n",
       "  <tbody>\n",
       "    <tr>\n",
       "      <th>bedrooms</th>\n",
       "      <td>1.000</td>\n",
       "      <td>0.528</td>\n",
       "      <td>0.621</td>\n",
       "      <td>0.081</td>\n",
       "      <td>0.180</td>\n",
       "      <td>-0.163</td>\n",
       "      <td>0.364</td>\n",
       "      <td>-0.011</td>\n",
       "      <td>-0.012</td>\n",
       "    </tr>\n",
       "    <tr>\n",
       "      <th>bathrooms</th>\n",
       "      <td>0.528</td>\n",
       "      <td>1.000</td>\n",
       "      <td>0.763</td>\n",
       "      <td>0.181</td>\n",
       "      <td>0.502</td>\n",
       "      <td>-0.549</td>\n",
       "      <td>0.662</td>\n",
       "      <td>0.024</td>\n",
       "      <td>0.053</td>\n",
       "    </tr>\n",
       "    <tr>\n",
       "      <th>sqft_living_sqrt</th>\n",
       "      <td>0.621</td>\n",
       "      <td>0.763</td>\n",
       "      <td>1.000</td>\n",
       "      <td>0.264</td>\n",
       "      <td>0.366</td>\n",
       "      <td>-0.363</td>\n",
       "      <td>0.760</td>\n",
       "      <td>0.046</td>\n",
       "      <td>0.081</td>\n",
       "    </tr>\n",
       "    <tr>\n",
       "      <th>view_sqrt</th>\n",
       "      <td>0.081</td>\n",
       "      <td>0.181</td>\n",
       "      <td>0.264</td>\n",
       "      <td>1.000</td>\n",
       "      <td>0.024</td>\n",
       "      <td>0.030</td>\n",
       "      <td>0.246</td>\n",
       "      <td>0.007</td>\n",
       "      <td>0.334</td>\n",
       "    </tr>\n",
       "    <tr>\n",
       "      <th>floors</th>\n",
       "      <td>0.180</td>\n",
       "      <td>0.502</td>\n",
       "      <td>0.366</td>\n",
       "      <td>0.024</td>\n",
       "      <td>1.000</td>\n",
       "      <td>-0.564</td>\n",
       "      <td>0.458</td>\n",
       "      <td>0.049</td>\n",
       "      <td>0.023</td>\n",
       "    </tr>\n",
       "    <tr>\n",
       "      <th>age_sqrt</th>\n",
       "      <td>-0.163</td>\n",
       "      <td>-0.549</td>\n",
       "      <td>-0.363</td>\n",
       "      <td>0.030</td>\n",
       "      <td>-0.564</td>\n",
       "      <td>1.000</td>\n",
       "      <td>-0.464</td>\n",
       "      <td>0.116</td>\n",
       "      <td>0.007</td>\n",
       "    </tr>\n",
       "    <tr>\n",
       "      <th>grade</th>\n",
       "      <td>0.364</td>\n",
       "      <td>0.662</td>\n",
       "      <td>0.760</td>\n",
       "      <td>0.246</td>\n",
       "      <td>0.458</td>\n",
       "      <td>-0.464</td>\n",
       "      <td>1.000</td>\n",
       "      <td>0.114</td>\n",
       "      <td>0.075</td>\n",
       "    </tr>\n",
       "    <tr>\n",
       "      <th>lat_log</th>\n",
       "      <td>-0.011</td>\n",
       "      <td>0.024</td>\n",
       "      <td>0.046</td>\n",
       "      <td>0.007</td>\n",
       "      <td>0.049</td>\n",
       "      <td>0.116</td>\n",
       "      <td>0.114</td>\n",
       "      <td>1.000</td>\n",
       "      <td>-0.016</td>\n",
       "    </tr>\n",
       "    <tr>\n",
       "      <th>waterfront</th>\n",
       "      <td>-0.012</td>\n",
       "      <td>0.053</td>\n",
       "      <td>0.081</td>\n",
       "      <td>0.334</td>\n",
       "      <td>0.023</td>\n",
       "      <td>0.007</td>\n",
       "      <td>0.075</td>\n",
       "      <td>-0.016</td>\n",
       "      <td>1.000</td>\n",
       "    </tr>\n",
       "  </tbody>\n",
       "</table>\n",
       "</div>"
      ],
      "text/plain": [
       "                  bedrooms  bathrooms  sqft_living_sqrt  view_sqrt  floors  \\\n",
       "bedrooms             1.000      0.528             0.621      0.081   0.180   \n",
       "bathrooms            0.528      1.000             0.763      0.181   0.502   \n",
       "sqft_living_sqrt     0.621      0.763             1.000      0.264   0.366   \n",
       "view_sqrt            0.081      0.181             0.264      1.000   0.024   \n",
       "floors               0.180      0.502             0.366      0.024   1.000   \n",
       "age_sqrt            -0.163     -0.549            -0.363      0.030  -0.564   \n",
       "grade                0.364      0.662             0.760      0.246   0.458   \n",
       "lat_log             -0.011      0.024             0.046      0.007   0.049   \n",
       "waterfront          -0.012      0.053             0.081      0.334   0.023   \n",
       "\n",
       "                  age_sqrt  grade  lat_log  waterfront  \n",
       "bedrooms            -0.163  0.364   -0.011      -0.012  \n",
       "bathrooms           -0.549  0.662    0.024       0.053  \n",
       "sqft_living_sqrt    -0.363  0.760    0.046       0.081  \n",
       "view_sqrt            0.030  0.246    0.007       0.334  \n",
       "floors              -0.564  0.458    0.049       0.023  \n",
       "age_sqrt             1.000 -0.464    0.116       0.007  \n",
       "grade               -0.464  1.000    0.114       0.075  \n",
       "lat_log              0.116  0.114    1.000      -0.016  \n",
       "waterfront           0.007  0.075   -0.016       1.000  "
      ]
     },
     "metadata": {},
     "output_type": "display_data"
    },
    {
     "name": "stdout",
     "output_type": "stream",
     "text": [
      "\n",
      "Coefficients: \n",
      " [[ -1.17179895e+01   2.22545459e+01   7.68353780e+00   5.50492136e+01\n",
      "    1.12946603e+01   1.55733863e+01   6.61767896e+01   2.11896621e+04\n",
      "    2.44822285e+02]]\n",
      "\n",
      "Intercept: \n",
      " [-82108.56469369]\n",
      "\n",
      "R-squared:\n",
      "0.730052212856\n",
      "Accuracy: 0.73 (+/- 0.02)\n"
     ]
    }
   ],
   "source": [
    "# Instantiate and fit our model.\n",
    "regr = linear_model.LinearRegression()\n",
    "Y = prices_df['price_sqrt'].values.reshape(-1, 1)\n",
    "X = prices_df[['bedrooms', 'bathrooms', 'sqft_living_sqrt', 'view_sqrt', 'floors', 'age_sqrt', 'grade', 'lat_log', 'waterfront']]\n",
    "regr.fit(X, Y)\n",
    "\n",
    "# Inspect the results.\n",
    "correlation_matrix = X.corr()\n",
    "display(correlation_matrix)\n",
    "print('\\nCoefficients: \\n', regr.coef_)\n",
    "print('\\nIntercept: \\n', regr.intercept_)\n",
    "print('\\nR-squared:')\n",
    "print(regr.score(X, Y))\n",
    "score = cross_val_score(regr, X, Y, cv=5)\n",
    "print(\"Accuracy: %0.2f (+/- %0.2f)\" % (score.mean(), score.std() * 2))"
   ]
  },
  {
   "cell_type": "code",
   "execution_count": 3477,
   "metadata": {},
   "outputs": [
    {
     "data": {
      "image/png": "[encoded data removed]",
      "text/plain": [
       "<matplotlib.figure.Figure at 0x1cc4a66a0>"
      ]
     },
     "metadata": {},
     "output_type": "display_data"
    }
   ],
   "source": [
    "# Extract predicted values.\n",
    "predicted = regr.predict(X).ravel()\n",
    "actual = prices_df['price_sqrt']\n",
    "\n",
    "# Calculate the error, also called the residual.\n",
    "residual = actual - predicted\n",
    "\n",
    "# This looks a bit concerning.\n",
    "plt.hist(residual)\n",
    "plt.title('Residual counts')\n",
    "plt.xlabel('Residual')\n",
    "plt.ylabel('Count')\n",
    "plt.show()"
   ]
  },
  {
   "cell_type": "code",
   "execution_count": 3478,
   "metadata": {},
   "outputs": [
    {
     "name": "stdout",
     "output_type": "stream",
     "text": [
      "Unweighted Accuracy: 0.42 (+/- 0.03)\n"
     ]
    }
   ],
   "source": [
    "# Build our model.\n",
    "knn = neighbors.KNeighborsRegressor(n_neighbors=5)\n",
    "df = pd.DataFrame(prices_df.bedrooms + prices_df.bathrooms + prices_df.sqft_living + prices_df.floors + prices_df.view_sqrt\n",
    "                  + prices_df.grade + prices_df.lat_log + prices_df.waterfront + prices_df.age)\n",
    "\n",
    "X = df \n",
    "Y = prices_df.price_sqrt\n",
    "knn.fit(X, Y)\n",
    "\n",
    "score = cross_val_score(knn, X, Y, cv=5)\n",
    "print(\"Unweighted Accuracy: %0.2f (+/- %0.2f)\" % (score.mean(), score.std() * 2))"
   ]
  },
  {
   "cell_type": "code",
   "execution_count": 3479,
   "metadata": {},
   "outputs": [
    {
     "name": "stdout",
     "output_type": "stream",
     "text": [
      "Unweighted Accuracy: 0.47 (+/- 0.04)\n"
     ]
    }
   ],
   "source": [
    "# Build our model.\n",
    "knn = neighbors.KNeighborsRegressor(n_neighbors=10)\n",
    "df = pd.DataFrame(prices_df.bedrooms + prices_df.bathrooms + prices_df.sqft_living + prices_df.floors + prices_df.view_sqrt\n",
    "                  + prices_df.grade + prices_df.lat_log + prices_df.waterfront + prices_df.age)\n",
    "\n",
    "X = df \n",
    "Y = prices_df.price_sqrt\n",
    "knn.fit(X, Y)\n",
    "\n",
    "score = cross_val_score(knn, X, Y, cv=5)\n",
    "print(\"Unweighted Accuracy: %0.2f (+/- %0.2f)\" % (score.mean(), score.std() * 2))"
   ]
  },
  {
   "cell_type": "code",
   "execution_count": 3480,
   "metadata": {},
   "outputs": [
    {
     "name": "stdout",
     "output_type": "stream",
     "text": [
      "Unweighted Accuracy: 0.48 (+/- 0.05)\n"
     ]
    }
   ],
   "source": [
    "# Build our model.\n",
    "knn = neighbors.KNeighborsRegressor(n_neighbors=15)\n",
    "df = pd.DataFrame(prices_df.bedrooms + prices_df.bathrooms + prices_df.sqft_living + prices_df.floors + prices_df.view_sqrt\n",
    "                  + prices_df.grade + prices_df.lat_log + prices_df.waterfront + prices_df.age)\n",
    "\n",
    "X = df \n",
    "Y = prices_df.price_sqrt\n",
    "knn.fit(X, Y)\n",
    "\n",
    "score = cross_val_score(knn, X, Y, cv=5)\n",
    "print(\"Unweighted Accuracy: %0.2f (+/- %0.2f)\" % (score.mean(), score.std() * 2))"
   ]
  },
  {
   "cell_type": "code",
   "execution_count": 3481,
   "metadata": {},
   "outputs": [
    {
     "name": "stdout",
     "output_type": "stream",
     "text": [
      "Unweighted Accuracy: 0.50 (+/- 0.04)\n"
     ]
    }
   ],
   "source": [
    "# Build our model.\n",
    "knn = neighbors.KNeighborsRegressor(n_neighbors=20)\n",
    "df = pd.DataFrame(prices_df.bedrooms + prices_df.bathrooms + prices_df.sqft_living + prices_df.floors + prices_df.view_sqrt\n",
    "                  + prices_df.grade + prices_df.lat_log + prices_df.waterfront + prices_df.age + prices_df.zipcode)\n",
    "\n",
    "X = df \n",
    "Y = prices_df.price_sqrt\n",
    "knn.fit(X, Y)\n",
    "\n",
    "score = cross_val_score(knn, X, Y, cv=5)\n",
    "print(\"Unweighted Accuracy: %0.2f (+/- %0.2f)\" % (score.mean(), score.std() * 2))"
   ]
  },
  {
   "cell_type": "code",
   "execution_count": 3482,
   "metadata": {},
   "outputs": [
    {
     "name": "stdout",
     "output_type": "stream",
     "text": [
      "Weighted Accuracy: 0.40 (+/- 0.04)\n"
     ]
    }
   ],
   "source": [
    "# Build our model.\n",
    "knn = neighbors.KNeighborsRegressor(n_neighbors=25, weights='distance')\n",
    "df = pd.DataFrame(prices_df.bedrooms + prices_df.bathrooms + prices_df.sqft_living + prices_df.floors + prices_df.view_sqrt\n",
    "                  + prices_df.grade + prices_df.lat_log + prices_df.waterfront + prices_df.age + prices_df.zipcode)\n",
    "\n",
    "X = df \n",
    "Y = prices_df.price_sqrt\n",
    "knn.fit(X, Y)\n",
    "\n",
    "score = cross_val_score(knn, X, Y, cv=5)\n",
    "print(\"Weighted Accuracy: %0.2f (+/- %0.2f)\" % (score.mean(), score.std() * 2))"
   ]
  },
  {
   "cell_type": "code",
   "execution_count": 3483,
   "metadata": {},
   "outputs": [
    {
     "name": "stdout",
     "output_type": "stream",
     "text": [
      "Unweighted Accuracy: 0.55 (+/- 0.06)\n"
     ]
    }
   ],
   "source": [
    "# Try only location data\n",
    "\n",
    "knn = neighbors.KNeighborsRegressor(n_neighbors=35)\n",
    "df = pd.DataFrame(prices_df.lat + np.absolute(prices_df.long) + prices_df.zipcode)\n",
    "\n",
    "X = df \n",
    "Y = prices_df.price_sqrt\n",
    "knn.fit(X, Y)\n",
    "\n",
    "score = cross_val_score(knn, X, Y, cv=5)\n",
    "print(\"Unweighted Accuracy: %0.2f (+/- %0.2f)\" % (score.mean(), score.std() * 2))"
   ]
  },
  {
   "cell_type": "code",
   "execution_count": 3484,
   "metadata": {},
   "outputs": [
    {
     "name": "stdout",
     "output_type": "stream",
     "text": [
      "Weighted Accuracy: 0.59 (+/- 0.01)\n"
     ]
    },
    {
     "data": {
      "image/png": "[encoded data removed]",
      "text/plain": [
       "<matplotlib.figure.Figure at 0x1cade96a0>"
      ]
     },
     "metadata": {},
     "output_type": "display_data"
    }
   ],
   "source": [
    "# Try only location data\n",
    "knn = neighbors.KNeighborsRegressor(n_neighbors=25, weights='distance')\n",
    "df = pd.DataFrame(prices_df.lat + np.absolute(prices_df.long) + prices_df.zipcode + prices_df.sqft_living)\n",
    "\n",
    "X = df \n",
    "Y = prices_df.price_sqrt\n",
    "knn.fit(X, Y)\n",
    "\n",
    "score = cross_val_score(knn, X, Y, cv=5)\n",
    "print(\"Weighted Accuracy: %0.2f (+/- %0.2f)\" % (score.mean(), score.std() * 2))\n",
    "# Set up our prediction line.\n",
    "T = np.arange(98000, 108000, 0.1)[:, np.newaxis]\n",
    "\n",
    "# Trailing underscores are a common convention for a prediction.\n",
    "Y_ = knn.predict(T)\n",
    "\n",
    "plt.scatter(X, Y, c='k', label='prices_df')\n",
    "plt.plot(T, Y_, c='g', label='prediction')\n",
    "plt.xlim(97500, 107500)\n",
    "plt.legend()\n",
    "plt.title('K=25, Weighted')\n",
    "plt.show()"
   ]
  },
  {
   "cell_type": "code",
   "execution_count": 3485,
   "metadata": {},
   "outputs": [
    {
     "name": "stdout",
     "output_type": "stream",
     "text": [
      "Unweighted Accuracy: 0.55 (+/- 0.06)\n"
     ]
    }
   ],
   "source": [
    "# Try only location data\n",
    "\n",
    "knn = neighbors.KNeighborsRegressor(n_neighbors=35)\n",
    "df = pd.DataFrame(prices_df.lat + np.absolute(prices_df.long) + prices_df.zipcode)\n",
    "\n",
    "X = df \n",
    "Y = prices_df.price_sqrt\n",
    "knn.fit(X, Y)\n",
    "\n",
    "score = cross_val_score(knn, X, Y, cv=5)\n",
    "print(\"Unweighted Accuracy: %0.2f (+/- %0.2f)\" % (score.mean(), score.std() * 2))"
   ]
  },
  {
   "cell_type": "code",
   "execution_count": 3486,
   "metadata": {
    "collapsed": true
   },
   "outputs": [],
   "source": [
    "#Try normalizing the data for KNN\n",
    "\n",
    "a = prices_df['bedrooms']\n",
    "b = prices_df['bathrooms']\n",
    "c = prices_df['sqft_living']\n",
    "d = prices_df['floors']\n",
    "e = prices_df['view_sqrt']\n",
    "f = prices_df['grade']\n",
    "g = prices_df['lat_log']\n",
    "h = prices_df['waterfront']\n",
    "i = prices_df['age_sqrt']\n",
    "j = prices_df['price']\n",
    "h = prices_df['lat']\n",
    "i = prices_df['long']\n",
    "prices_df['pricenormalized'] = (j-min(j))/(max(j)-min(j))\n",
    "prices_df['latnormalized'] = (h-min(h))/(max(h)-min(h))\n",
    "prices_df['longnormalized'] = (i-min(i))/(max(i)-min(i))\n",
    "prices_df['bedroomsnormalized'] = (a-min(a))/(max(a)-min(a))\n",
    "prices_df['bathroomsnormalized'] = (b-min(b))/(max(b)-min(b))\n",
    "prices_df['sqft_living_normalized'] = (c-min(c))/(max(c)-min(c))\n",
    "prices_df['floorsnormalized'] = (d-min(d))/(max(d)-min(d))\n",
    "prices_df['viewnormalized'] = (e-min(e))/(max(e)-min(e))\n",
    "prices_df['gradenormalized'] = (f-min(f))/(max(f)-min(f))\n",
    "prices_df['lat_lognormalized'] = (g-min(g))/(max(g)-min(g))\n",
    "prices_df['waterfrontnormalized'] = (h-min(h))/(max(h)-min(h))\n",
    "prices_df['agenormalized'] = (i-min(i))/(max(i)-min(i))"
   ]
  },
  {
   "cell_type": "code",
   "execution_count": 3487,
   "metadata": {},
   "outputs": [
    {
     "name": "stdout",
     "output_type": "stream",
     "text": [
      "Unweighted Accuracy: 0.54 (+/- 0.03)\n"
     ]
    },
    {
     "data": {
      "image/png": "[encoded data removed]",
      "text/plain": [
       "<matplotlib.figure.Figure at 0x1cc3d36a0>"
      ]
     },
     "metadata": {},
     "output_type": "display_data"
    }
   ],
   "source": [
    "# Build our model.\n",
    "knn = neighbors.KNeighborsRegressor(n_neighbors=25)\n",
    "df = pd.DataFrame(prices_df.bedroomsnormalized + prices_df.bathroomsnormalized + prices_df.sqft_living_normalized + \n",
    "                  prices_df.floorsnormalized + prices_df.viewnormalized + prices_df.gradenormalized + prices_df.latnormalized + \n",
    "                  prices_df.waterfrontnormalized + prices_df.agenormalized)\n",
    "\n",
    "X = df \n",
    "Y = prices_df.price_sqrt\n",
    "knn.fit(X, Y)\n",
    "\n",
    "score = cross_val_score(knn, X, Y, cv=5)\n",
    "print(\"Unweighted Accuracy: %0.2f (+/- %0.2f)\" % (score.mean(), score.std() * 2))\n",
    "# Set up our prediction line.\n",
    "T = np.arange(0, 6, 0.1)[:, np.newaxis]\n",
    "\n",
    "# Trailing underscores are a common convention for a prediction.\n",
    "Y_ = knn.predict(T)\n",
    "\n",
    "plt.scatter(X, Y, c='k', label='prices_df')\n",
    "plt.plot(T, Y_, c='g', label='prediction')\n",
    "plt.xlim(0, 6)\n",
    "plt.legend()\n",
    "plt.title('K=25, Weighted')\n",
    "plt.show()"
   ]
  },
  {
   "cell_type": "code",
   "execution_count": 3488,
   "metadata": {},
   "outputs": [
    {
     "name": "stdout",
     "output_type": "stream",
     "text": [
      "Unweighted Accuracy: 0.09 (+/- 0.06)\n"
     ]
    },
    {
     "data": {
      "image/png": "[encoded data removed]",
      "text/plain": [
       "<matplotlib.figure.Figure at 0x1cac4e320>"
      ]
     },
     "metadata": {},
     "output_type": "display_data"
    }
   ],
   "source": [
    "# Build our model.\n",
    "knn = neighbors.KNeighborsRegressor(n_neighbors=25, weights='distance')\n",
    "df = pd.DataFrame(prices_df.latnormalized + prices_df.longnormalized)\n",
    "\n",
    "X = df \n",
    "Y = prices_df.price\n",
    "knn.fit(X, Y)\n",
    "\n",
    "score = cross_val_score(knn, X, Y, cv=5)\n",
    "print(\"Unweighted Accuracy: %0.2f (+/- %0.2f)\" % (score.mean(), score.std() * 2))\n",
    "# Set up our prediction line.\n",
    "T = np.arange(0, 4, 0.1)[:, np.newaxis]\n",
    "\n",
    "# Trailing underscores are a common convention for a prediction.\n",
    "Y_ = knn.predict(T)\n",
    "\n",
    "plt.scatter(X, Y, c='k', label='prices_df')\n",
    "plt.plot(T, Y_, c='g', label='prediction')\n",
    "plt.xlim(0, 3)\n",
    "plt.legend()\n",
    "plt.title('K=25, Weighted')\n",
    "plt.show()"
   ]
  },
  {
   "cell_type": "code",
   "execution_count": 3489,
   "metadata": {},
   "outputs": [
    {
     "name": "stdout",
     "output_type": "stream",
     "text": [
      "Unweighted Accuracy: 0.62 (+/- 0.09)\n"
     ]
    }
   ],
   "source": [
    "# Try only location data\n",
    "\n",
    "knn = neighbors.KNeighborsRegressor(n_neighbors=35)\n",
    "df1 = prices_df[['lat', 'long', 'zipcode']]\n",
    "\n",
    "X = df1 \n",
    "Y = prices_df.price_sqrt\n",
    "pca = PCA(n_components=3)\n",
    "pca.fit(X)\n",
    "knn.fit(X, Y)\n",
    "\n",
    "score = cross_val_score(knn, X, Y, cv=5)\n",
    "print(\"Unweighted Accuracy: %0.2f (+/- %0.2f)\" % (score.mean(), score.std() * 2))\n"
   ]
  },
  {
   "cell_type": "code",
   "execution_count": 3490,
   "metadata": {},
   "outputs": [
    {
     "name": "stdout",
     "output_type": "stream",
     "text": [
      "Weighted Accuracy: 0.66 (+/- 0.09)\n"
     ]
    }
   ],
   "source": [
    "# Try only location data\n",
    "\n",
    "knn = neighbors.KNeighborsRegressor(n_neighbors=35, weights='distance')\n",
    "df1 = prices_df[['lat', 'long', 'zipcode']]\n",
    "\n",
    "X = df1 \n",
    "Y = prices_df.price_sqrt\n",
    "pca = PCA(n_components=3)\n",
    "pca.fit(X)\n",
    "knn.fit(X, Y)\n",
    "\n",
    "score = cross_val_score(knn, X, Y, cv=5)\n",
    "print(\"Weighted Accuracy: %0.2f (+/- %0.2f)\" % (score.mean(), score.std() * 2))\n"
   ]
  },
  {
   "cell_type": "code",
   "execution_count": 3491,
   "metadata": {},
   "outputs": [
    {
     "name": "stdout",
     "output_type": "stream",
     "text": [
      "Unweighted Accuracy: 0.64 (+/- 0.02)\n"
     ]
    }
   ],
   "source": [
    "# Try only location data\n",
    "\n",
    "knn = neighbors.KNeighborsRegressor(n_neighbors=35)\n",
    "df2 = prices_df[['bedrooms', 'bathrooms', 'sqft_living_sqrt', 'view_sqrt', 'floors', 'age_sqrt', 'grade', 'lat_log', 'waterfront']]\n",
    "\n",
    "X = df2 \n",
    "Y = prices_df.price_sqrt\n",
    "pca = PCA(n_components=9)\n",
    "pca.fit(X)\n",
    "knn.fit(X, Y)\n",
    "\n",
    "score = cross_val_score(knn, X, Y, cv=5)\n",
    "print(\"Unweighted Accuracy: %0.2f (+/- %0.2f)\" % (score.mean(), score.std() * 2))\n"
   ]
  },
  {
   "cell_type": "code",
   "execution_count": 3492,
   "metadata": {},
   "outputs": [
    {
     "name": "stdout",
     "output_type": "stream",
     "text": [
      "Weighted Accuracy: 0.65 (+/- 0.02)\n"
     ]
    }
   ],
   "source": [
    "# Try only location data\n",
    "\n",
    "knn = neighbors.KNeighborsRegressor(n_neighbors=35, weights='distance')\n",
    "df2 = prices_df[['bedrooms', 'bathrooms', 'sqft_living_sqrt', 'view_sqrt', 'floors', 'age_sqrt', 'grade', 'lat_log', 'waterfront']]\n",
    "\n",
    "X = df2 \n",
    "Y = prices_df.price_sqrt\n",
    "pca = PCA(n_components=9)\n",
    "pca.fit(X)\n",
    "knn.fit(X, Y)\n",
    "\n",
    "score = cross_val_score(knn, X, Y, cv=5)\n",
    "print(\"Weighted Accuracy: %0.2f (+/- %0.2f)\" % (score.mean(), score.std() * 2))\n"
   ]
  },
  {
   "cell_type": "code",
   "execution_count": 3493,
   "metadata": {},
   "outputs": [
    {
     "name": "stdout",
     "output_type": "stream",
     "text": [
      "Unweighted Accuracy: 0.52 (+/- 0.03)\n"
     ]
    }
   ],
   "source": [
    "# Try only location data\n",
    "\n",
    "knn = neighbors.KNeighborsRegressor(n_neighbors=35)\n",
    "df3 = prices_df.drop(prices_df.columns[[0, 1, 2]], axis=1)\n",
    "\n",
    "X = df3 \n",
    "Y = prices_df.price_sqrt\n",
    "pca = PCA(n_components=5)\n",
    "pca.fit(X)\n",
    "knn.fit(X, Y)\n",
    "\n",
    "score = cross_val_score(knn, X, Y, cv=5)\n",
    "print(\"Unweighted Accuracy: %0.2f (+/- %0.2f)\" % (score.mean(), score.std() * 2))\n"
   ]
  },
  {
   "cell_type": "markdown",
   "metadata": {},
   "source": [
    "In the feature selection, I tried to find the best combinations based on the distributions and how normal they were. Manipulating the data to normalize the skew helped improve the accuracy of the OLS model, but it didn't help in the KNN model. The OLS didn't do well with geographical data, but the KNN model excelled while using only the locational data. In fact, the KNN model gave its best score in the PCA of only the location data. This makes sense because of the famous phrase in real estate that location is everything. When you're doing a KNN analysis, the distance between the price and the location is the crux of the analysis. When doing OLS, the locations become numbers in the mechanics and lose their geographical significance. That's why the OLS analysis above produced an R-Squared of 0.18 versus the KNN which produced at 0.59.\n",
    "\n",
    "Both models have their strengths and weaknesses. It would be interesting if there were a method to utilize the location correlation and mix it with the strength of the OLS model with the other variables."
   ]
  }
 ],
 "metadata": {
  "kernelspec": {
   "display_name": "Python 3",
   "language": "python",
   "name": "python3"
  },
  "language_info": {
   "codemirror_mode": {
    "name": "ipython",
    "version": 3
   },
   "file_extension": ".py",
   "mimetype": "text/x-python",
   "name": "python",
   "nbconvert_exporter": "python",
   "pygments_lexer": "ipython3",
   "version": "3.6.1"
  }
 },
 "nbformat": 4,
 "nbformat_minor": 2
}
