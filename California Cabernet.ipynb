{
 "cells": [
  {
   "cell_type": "markdown",
   "metadata": {
    "collapsed": true
   },
   "source": [
    "A lot of people say that Paso Robles is the next Napa, so this study looks at how similar they really are."
   ]
  },
  {
   "cell_type": "code",
   "execution_count": 77,
   "metadata": {
    "collapsed": true
   },
   "outputs": [],
   "source": [
    "import numpy as np\n",
    "import pandas as pd\n",
    "import matplotlib.pyplot as plt\n",
    "from sklearn import datasets, linear_model\n",
    "%matplotlib inline"
   ]
  },
  {
   "cell_type": "markdown",
   "metadata": {},
   "source": [
    "Question 1: Napa Cabernet are some of the most expensive grapes on the market in the US. How do Cabernet grapes compare in price?"
   ]
  },
  {
   "cell_type": "code",
   "execution_count": 78,
   "metadata": {},
   "outputs": [
    {
     "name": "stdout",
     "output_type": "stream",
     "text": [
      "    Unnamed: 0     2000     2001     2002     2003     2004     2005     2006  \\\n",
      "0         Napa  3168.33  3728.56  4020.64  4010.85  3948.16  3970.07  4126.26   \n",
      "1  Paso Robles  1323.62  1314.69  1229.38  1075.67   924.82   833.08   892.90   \n",
      "\n",
      "      2007     2008     2009     2010     2011     2012     2013     2014  \\\n",
      "0  4302.49  4688.78  4772.84  4453.09  4660.36  5059.96  5473.94  5923.36   \n",
      "1   912.27   974.17  1031.13   965.18  1119.28  1295.77  1377.55  1464.62   \n",
      "\n",
      "      2015     2016  \n",
      "0  6288.52  6830.22  \n",
      "1  1545.02  1585.56  \n"
     ]
    }
   ],
   "source": [
    "cost_df = pd.read_csv('Cost Per Ton.csv')\n",
    "cost_df.shape\n",
    "print(cost_df)"
   ]
  },
  {
   "cell_type": "markdown",
   "metadata": {},
   "source": [
    "\"\"\"years = ('2000', '2001', '2002', '2003', '2004', '2005', '2006', '2007' '2008', \n",
    "         '2009', '2010', '2011', '2012', '2013','2014', '2015', '2016')\n",
    "y_pos = np.arange(len(years))\n",
    "\n",
    "plt.bar(y_pos, cost_df[1:], align='center', alpha=0.5)\n",
    "plt.xticks(y_pos, years)\n",
    "plt.ylabel('Cost Per Ton')\n",
    "plt.title('Cost Per Ton of Cabernet Grapes in Napa and Paso Robles')\n",
    " \n",
    "plt.show()\n",
    "plt.figure(figsize=(10, 5))\n",
    "plt.plot(cost_df['Napa'], color = 'green')\n",
    "plt.plot(cost_df['Paso Robles'], color = 'blue')\n",
    "keys = [x[0:17] for x in red_df[0]]\n",
    "x_pos = np.arange(len(keys))\n",
    "plt.xticks(x_pos, keys)\n",
    "plt.xlabel('Grapes')\n",
    "plt.ylabel('Tons Produced')\n",
    "plt.title('Grape Production 2015 and 2016')\"\"\""
   ]
  },
  {
   "cell_type": "markdown",
   "metadata": {},
   "source": [
    "Question 2: Are Paso Robles vineyard land prices trending up toward Napa land prices?"
   ]
  },
  {
   "cell_type": "code",
   "execution_count": 80,
   "metadata": {},
   "outputs": [
    {
     "name": "stdout",
     "output_type": "stream",
     "text": [
      "    Unnamed: 0  Napa Prime Low  Napa Prime High  Napa Secondary Low  \\\n",
      "0         2003             NaN           180000                 NaN   \n",
      "1         2004             NaN           180000                 NaN   \n",
      "2         2005             NaN           200000                 NaN   \n",
      "3         2006             NaN           275000                 NaN   \n",
      "4         2007        225000.0           285000            130000.0   \n",
      "5         2008        225000.0           300000            115000.0   \n",
      "6         2009        225000.0           300000            115000.0   \n",
      "7         2010        225000.0           300000            100000.0   \n",
      "8         2011        225000.0           300000             90000.0   \n",
      "9         2012        200000.0           300000            100000.0   \n",
      "10        2013        200000.0           300000            100000.0   \n",
      "11        2014        220000.0           320000            100000.0   \n",
      "12        2015        250000.0           370000            120000.0   \n",
      "\n",
      "    Napa Secondary High  Napa Outlying Low  Napa Outlying High  Paso Low  \\\n",
      "0                   NaN              50000                 NaN     12000   \n",
      "1                   NaN              55000                 NaN     21000   \n",
      "2                   NaN              55000                 NaN     21000   \n",
      "3                   NaN              50000                 NaN     25000   \n",
      "4              215000.0              55000             75000.0     25000   \n",
      "5              215000.0              55000             75000.0     26500   \n",
      "6              215000.0              55000             75000.0     11200   \n",
      "7              165000.0              30000             75000.0     16500   \n",
      "8              165000.0              35000             75000.0     11500   \n",
      "9              200000.0              50000            100000.0     18000   \n",
      "10             200000.0              50000            100000.0     25000   \n",
      "11             220000.0              50000            100000.0     40000   \n",
      "12             270000.0              50000            120000.0     25000   \n",
      "\n",
      "    Paso High  \n",
      "0       30000  \n",
      "1       31000  \n",
      "2       32000  \n",
      "3       50000  \n",
      "4       50000  \n",
      "5       50900  \n",
      "6       56000  \n",
      "7       57000  \n",
      "8       50000  \n",
      "9       50000  \n",
      "10      60000  \n",
      "11      85000  \n",
      "12      70000  \n"
     ]
    }
   ],
   "source": [
    "land_df = pd.read_csv('Land Prices.csv')\n",
    "land_df.shape\n",
    "print(land_df)"
   ]
  },
  {
   "cell_type": "code",
   "execution_count": 81,
   "metadata": {
    "scrolled": false
   },
   "outputs": [
    {
     "data": {
      "image/png": "[encoded data removed]",
      "text/plain": [
       "<matplotlib.figure.Figure at 0x11f33ac88>"
      ]
     },
     "metadata": {},
     "output_type": "display_data"
    }
   ],
   "source": [
    "plt.scatter(x = land_df['Napa Prime High'], y = land_df['Paso High'])\n",
    "plt.xlabel('Napa Prime Land Highs')\n",
    "plt.ylabel('Paso Robles Land High')\n",
    "plt.title('Land Prices')\n",
    "\n",
    "plt.show()"
   ]
  },
  {
   "cell_type": "markdown",
   "metadata": {},
   "source": [
    "Question 3: Does Paso Robles have the focus on Cabernet as Napa does?"
   ]
  },
  {
   "cell_type": "code",
   "execution_count": 82,
   "metadata": {
    "scrolled": true
   },
   "outputs": [
    {
     "name": "stdout",
     "output_type": "stream",
     "text": [
      "               Variety    2008 and Earlier  2009  2010  2011  2012  2013  \\\n",
      "0            AGLIANICO                   1     0     0     0     0     0   \n",
      "1    ALICANTE BOUSCHET                   1     0     0     0     1     0   \n",
      "2              BARBERA                  10     0     0     0     0     0   \n",
      "3       CABERNET FRANC                1032    25    36     6     2    13   \n",
      "4   CABERNET SAUVIGNON               17834   503   209   312   429   270   \n",
      "5            CARIGNANE                   4     0     0     0     0     0   \n",
      "6            CARMENERE                   5     0     0     0     0     2   \n",
      "7             CHARBONO                  46     2     0     0     0     0   \n",
      "8              CINSAUT                   1     0     0     0     0     0   \n",
      "9             DOLCETTO                   7     0     0     0     0     0   \n",
      "10       GAMAY  (NAPA)                  21     0     0     0     0     0   \n",
      "11            GRENACHE                  21     4     0     9     0     2   \n",
      "12              MALBEC                 366    29    15     3     5     8   \n",
      "13             MATARO                   17     0     0     0     0     0   \n",
      "14              MERLOT                4911    53    44    17    16    27   \n",
      "15             MEUNIER                  41    13     0     8     0     0   \n",
      "16       MONTEPULCIANO                   1     0     0     0     0     0   \n",
      "17      MUSCAT HAMBURG                   3     0     0     0     0     0   \n",
      "18            NEBBIOLO                   3     1     0     0     0     0   \n",
      "19        PETIT VERDOT                 677    26    21    17    14     3   \n",
      "20        PETITE SIRAH                 687    18     1    53     6    10   \n",
      "21          PINOT NOIR                2655    42    29    34    13    22   \n",
      "22            PINOTAGE                   2     0     0     0     0     0   \n",
      "23           PRIMITIVO                  42     0     6     0     0     0   \n",
      "24          SANGIOVESE                 246     0     0     0     0     0   \n",
      "25              SOUZAO                  10     0     0     0     0     0   \n",
      "26               SYRAH                 863     3     7     0     0     1   \n",
      "27              TANNAT                   2     0     0     1     0     0   \n",
      "28         TEMPRANILLO                  23     0     4     0     0     1   \n",
      "29  TOURIGA NACIONAL *                  14     0     0     0     0     0   \n",
      "30           ZINFANDEL                1334    17     4    27    14    14   \n",
      "31      OTHER RED WINE                  42     0     4     1     1     2   \n",
      "32      Total Red Wine               30923   734   379   489   502   373   \n",
      "\n",
      "    2014  2015  2016  \n",
      "0      0     0     0  \n",
      "1      0     0     0  \n",
      "2      0     0     0  \n",
      "3      8    18     9  \n",
      "4    363   515   324  \n",
      "5      0     0     0  \n",
      "6      0     0     0  \n",
      "7      0     0     0  \n",
      "8      0     0     0  \n",
      "9      0     0     0  \n",
      "10     0     0     0  \n",
      "11     2     0     1  \n",
      "12    18     6     5  \n",
      "13     1     0     0  \n",
      "14    20    21     4  \n",
      "15     0     0     0  \n",
      "16     0     0     0  \n",
      "17     0     0     0  \n",
      "18     0     0     0  \n",
      "19     2    19     3  \n",
      "20    20     1     5  \n",
      "21    25    12     7  \n",
      "22     0     0     0  \n",
      "23     0     2     0  \n",
      "24     0     3     0  \n",
      "25     0     0     0  \n",
      "26    11     3     2  \n",
      "27     1     0     0  \n",
      "28     0     0     0  \n",
      "29     0     0     0  \n",
      "30     3     2     0  \n",
      "31     0     3     0  \n",
      "32   474   604   361                  Variety    2008 and Earlier  2009  2010  2011  2012  2013  \\\n",
      "0            AGLIANICO                  16     0     0     0     0     0   \n",
      "1    ALICANTE BOUSCHET                  10     0     0     1     0     1   \n",
      "2              BARBERA                  50     1     9     0     0     1   \n",
      "3       CABERNET FRANC                 304     5     7     2    41    39   \n",
      "4   CABERNET SAUVIGNON                8908   353   424   188   601  1717   \n",
      "5            CARIGNANE                   6     0     4     1     2     8   \n",
      "6            CARMENERE                   5     0     0     0     0     1   \n",
      "7             CHARBONO                   7     0     0     0     0     0   \n",
      "8              CINSAUT                   6     0     0     0     0     0   \n",
      "9             COUNOISE                  17     0     2     3     0     0   \n",
      "10            DOLCETTO                   6     0     0     0     0     0   \n",
      "11       GAMAY  (NAPA)                  19     0     0     0    26     0   \n",
      "12            GRENACHE                 301    22    26    14    44    19   \n",
      "13              MALBEC                 183     5    12    31    52    47   \n",
      "14              MATARO                 156    22    12     7    15    12   \n",
      "15              MERLOT                3609    61     6    26    88   118   \n",
      "16             MEUNIER                   0     0     0     0    21     0   \n",
      "17             MISSION                   1     0     0     0     0     0   \n",
      "18       MONTEPULCIANO                   0     0     0     0     2     0   \n",
      "19      MUSCAT HAMBURG                   5     1     0     0     0     0   \n",
      "20            NEBBIOLO                  21     0     0     0     0     0   \n",
      "21        PETIT VERDOT                 677    26    21    17    14     3   \n",
      "22        PETITE SIRAH                1215    44    95    53    15    78   \n",
      "23          PINOT NOIR                1739    17    13    21    72    88   \n",
      "24           PRIMITIVO                  87     1     7     5    55    81   \n",
      "25          SANGIOVESE                 143     4     8     5     0     0   \n",
      "26              SOUZAO                   6     0     0     0     0     2   \n",
      "27               SYRAH                2222    10    21    13    51     4   \n",
      "28              TANNAT                  35     3     1     1    12     4   \n",
      "29         TEMPRANILLO                 138    16    10     3     0     0   \n",
      "30           TEROLDEGO                   2     0     1     0     0     0   \n",
      "31    TOURIGA NACIONAL                   9     0     1     0     0     1   \n",
      "32           ZINFANDEL                1880     8    25     6    27    38   \n",
      "33      OTHER RED WINE                 104     3     4    14     8    24   \n",
      "\n",
      "    2014  2015  2016  \n",
      "0      0     0     0  \n",
      "1      0     0     0  \n",
      "2      0     0     0  \n",
      "3     12     5     2  \n",
      "4    690   433   459  \n",
      "5      6     0     0  \n",
      "6      0     0     0  \n",
      "7      0     0     0  \n",
      "8      1     0     0  \n",
      "9      0     0     0  \n",
      "10     0     0     0  \n",
      "11     0     0     0  \n",
      "12    33     4    15  \n",
      "13    24    23     1  \n",
      "14    21     3     1  \n",
      "15    24     0    10  \n",
      "16     0     0     0  \n",
      "17     0     0     0  \n",
      "18     0     0     0  \n",
      "19     0     0     0  \n",
      "20     0     0     0  \n",
      "21     2    19     3  \n",
      "22    46   103    49  \n",
      "23    12    58    32  \n",
      "24     0     2     0  \n",
      "25     1     1     1  \n",
      "26     0     0     0  \n",
      "27    16     2     9  \n",
      "28     0     3     1  \n",
      "29     4     3     1  \n",
      "30     0     0     0  \n",
      "31     2     0     0  \n",
      "32    31     1    11  \n",
      "33     3     1     4  \n"
     ]
    }
   ],
   "source": [
    "napa_acre_df = pd.read_csv('Napa Acres.csv')\n",
    "slo_acre_df = pd.read_csv('SLO Acres.csv')\n",
    "napa_acre_df.shape\n",
    "slo_acre_df.shape\n",
    "print(napa_acre_df, slo_acre_df)"
   ]
  },
  {
   "cell_type": "code",
   "execution_count": null,
   "metadata": {
    "collapsed": true
   },
   "outputs": [],
   "source": []
  }
 ],
 "metadata": {
  "kernelspec": {
   "display_name": "Python 3",
   "language": "python",
   "name": "python3"
  },
  "language_info": {
   "codemirror_mode": {
    "name": "ipython",
    "version": 3
   },
   "file_extension": ".py",
   "mimetype": "text/x-python",
   "name": "python",
   "nbconvert_exporter": "python",
   "pygments_lexer": "ipython3",
   "version": "3.6.1"
  }
 },
 "nbformat": 4,
 "nbformat_minor": 2
}
