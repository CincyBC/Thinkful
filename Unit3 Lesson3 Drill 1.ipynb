{
 "cells": [
  {
   "cell_type": "code",
   "execution_count": 24,
   "metadata": {
    "collapsed": true
   },
   "outputs": [],
   "source": [
    "import numpy as np\n",
    "import pandas as pd\n",
    "import matplotlib.pyplot as plt\n",
    "%matplotlib inline"
   ]
  },
  {
   "cell_type": "code",
   "execution_count": 25,
   "metadata": {},
   "outputs": [
    {
     "data": {
      "image/png": "[encoded data removed]",
      "text/plain": [
       "<matplotlib.figure.Figure at 0x10f2ba160>"
      ]
     },
     "metadata": {},
     "output_type": "display_data"
    }
   ],
   "source": [
    "gamma = np.random.gamma(8, 2, 100)\n",
    "plt.hist(gamma)\n",
    "plt.axvline(gamma.mean(), color='red', linestyle='solid', linewidth=2)\n",
    "plt.axvline(gamma.mean() + gamma.std(), color='red', linestyle='dashed', linewidth=2)\n",
    "plt.axvline(gamma.mean() - gamma.std(), color='red', linestyle='dashed', linewidth=2)\n",
    "plt.show()"
   ]
  },
  {
   "cell_type": "markdown",
   "metadata": {},
   "source": [
    "A gamma distribution is one where the cluster is toward the beginning and tails off slower than a normal distribution. Therefore, you would expect to see peaks below the mean (or skewed left), which this distribution does after running several times."
   ]
  },
  {
   "cell_type": "code",
   "execution_count": 26,
   "metadata": {
    "scrolled": true
   },
   "outputs": [
    {
     "data": {
      "image/png": "[encoded data removed]",
      "text/plain": [
       "<matplotlib.figure.Figure at 0x10f2d4940>"
      ]
     },
     "metadata": {},
     "output_type": "display_data"
    }
   ],
   "source": [
    "rand1 = np.random.normal(5, 0.5, 1000)\n",
    "rand2 = np.random.normal(10, 1, 1000)\n",
    "rand3 = rand1 + rand2\n",
    "\n",
    "plt.hist(rand3)\n",
    "plt.axvline(rand3.mean(), color='red', linestyle='solid', linewidth=2)\n",
    "plt.axvline(rand3.mean() - rand3.std(), color='red', linestyle='dashed', linewidth=2)\n",
    "plt.axvline(rand3.mean() + rand3.std(), color='red', linestyle='dashed', linewidth=2)\n",
    "plt.show()\n"
   ]
  },
  {
   "cell_type": "markdown",
   "metadata": {},
   "source": [
    "Combining rand1 (mean 5) and rand2 (mean 10) gave me a dataset with a mean of 15 since it took all of the first numbers and added them to the second set of numbers. I tried to do the exercise with different sized sets, but it wouldn't allow me since to add, you need the same size vectors."
   ]
  }
 ],
 "metadata": {
  "kernelspec": {
   "display_name": "Python 3",
   "language": "python",
   "name": "python3"
  },
  "language_info": {
   "codemirror_mode": {
    "name": "ipython",
    "version": 3
   },
   "file_extension": ".py",
   "mimetype": "text/x-python",
   "name": "python",
   "nbconvert_exporter": "python",
   "pygments_lexer": "ipython3",
   "version": "3.6.1"
  }
 },
 "nbformat": 4,
 "nbformat_minor": 2
}
