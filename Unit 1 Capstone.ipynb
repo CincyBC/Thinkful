{
 "cells": [
  {
   "cell_type": "markdown",
   "metadata": {},
   "source": [
    "# Experiment to Test Whether Napa Cabernet Grapes Justify the Cost Compared to Paso Robles Cabernet Grapes"
   ]
  },
  {
   "cell_type": "code",
   "execution_count": 11,
   "metadata": {
    "collapsed": true
   },
   "outputs": [],
   "source": [
    "import pandas as pd\n",
    "import numpy as np\n",
    "from matplotlib import pyplot as plt\n",
    "from collections import Counter\n",
    "%matplotlib inline"
   ]
  },
  {
   "cell_type": "markdown",
   "metadata": {},
   "source": [
    "As we can see from the data below, Cabernet Sauvignon grapes grown in Napa Valley command a much higher price in the grape market than grapes from other regions in California including Paso Robles."
   ]
  },
  {
   "cell_type": "code",
   "execution_count": 12,
   "metadata": {
    "scrolled": false
   },
   "outputs": [
    {
     "name": "stdout",
     "output_type": "stream",
     "text": [
      "    Year   area 1   area 2   area 3     Napa   area 5   area 6   area 7  \\\n",
      "0   2000  1973.71  1673.17  2417.96  3168.33  1094.04  1306.49  1307.47   \n",
      "1   2001  2020.11  1722.40  2701.65  3728.56   904.58  1356.09  1252.58   \n",
      "2   2002  1900.48  1802.72  2694.93  4020.64  1112.31  1361.22  1179.81   \n",
      "3   2003  1764.95  1689.19  2537.94  4010.85   634.70  1007.42  1152.75   \n",
      "4   2004  1393.49  1507.51  2397.71  3948.16   701.04   736.05  1083.54   \n",
      "5   2005  1293.21  1528.53  2322.87  3970.07   762.70   963.01  1000.65   \n",
      "6   2006  1291.28  1565.19  2265.69  4126.26   578.59   852.09  1008.76   \n",
      "7   2007  1256.78  1376.33  2237.73  4302.49   703.70  1008.41   927.72   \n",
      "8   2008  1399.10  1435.31  2321.51  4779.55  1182.27  1136.49   953.38   \n",
      "9   2009  1340.66  1398.11  2280.67  4772.84  1164.92  1206.63   907.16   \n",
      "10  2010  1144.39  1287.07  2083.96  4453.09  1178.30  1101.95   848.59   \n",
      "11  2011  1315.75  1365.78  2111.24  4660.36  1168.33  1283.98   944.25   \n",
      "12  2012  1589.23  1615.19  2313.56  5059.96  1571.45  1213.63  1041.29   \n",
      "13  2013  1685.32  1725.08  2462.99  5473.94  1710.69  1205.00  1055.52   \n",
      "14  2014  1852.88  2009.89  2614.37  5923.36  1689.31  1258.86  1142.57   \n",
      "15  2015  1923.76  2158.83  2724.17  6288.52  1755.22  1352.55  1235.41   \n",
      "16  2016  2058.34  2345.51  2964.60  6830.22  1972.52  1393.88  1314.28   \n",
      "\n",
      "    Paso Robles  area 9  area 10  area 11  area 12  area 13  area 14  area 15  \\\n",
      "0       1323.62  742.21  1195.45   575.42   343.91   295.45   185.99  1350.00   \n",
      "1       1314.69  740.07  1254.93   507.50   330.90   285.04   123.78  1500.00   \n",
      "2       1229.38  585.59  1209.76   434.19   356.43   270.79    95.13   680.19   \n",
      "3       1075.67  351.83  1026.32   375.18   285.32   245.02   124.95   815.07   \n",
      "4        924.82  325.87  1006.24   374.14   293.41   273.28   192.65     0.00   \n",
      "5        833.08  234.03  1260.02   358.76   282.36   274.39   243.22   500.00   \n",
      "6        892.90  287.58  1065.13   344.79   236.02   261.25   169.67  1000.00   \n",
      "7        912.27  224.10  1040.56   335.21   266.00   260.86   126.99     0.00   \n",
      "8       1004.59  408.35  1185.56   486.13   387.08   344.07   360.54  1300.00   \n",
      "9       1031.13  461.43  1150.64   490.82   391.48   350.90   389.13   717.65   \n",
      "10       965.18  487.53  1134.14   503.12   421.79   356.79   392.29   555.56   \n",
      "11      1119.28  577.01  1183.75   620.84   535.62   485.94   480.03  1000.00   \n",
      "12      1295.77  640.02  1316.40   727.96   604.81   542.77   646.91   787.02   \n",
      "13      1377.55  725.77  1404.43   708.38   586.23   522.93   674.73  1658.54   \n",
      "14      1464.62  634.91  1284.51   660.18   526.42   422.20   301.56   657.14   \n",
      "15      1545.02  741.23  1177.92   655.97   488.84   381.03   295.47  1100.00   \n",
      "16      1585.56  711.20  1210.22   653.78   501.71   396.93   325.68   891.30   \n",
      "\n",
      "    area 16  area 17         Mean  \n",
      "0   1005.01   722.20  1216.495882  \n",
      "1    934.14   674.71  1255.984118  \n",
      "2    847.00   516.51  1193.945882  \n",
      "3    901.85   431.54  1084.150000  \n",
      "4    724.57   432.50   959.704706  \n",
      "5    890.28   443.47  1009.450000  \n",
      "6   1147.94   538.90  1037.178824  \n",
      "7   1267.66   427.40   980.835882  \n",
      "8   1262.85   518.21  1203.822941  \n",
      "9   1095.30   514.37  1156.696471  \n",
      "10  1158.10   618.90  1099.455882  \n",
      "11  1142.04   648.88  1214.298824  \n",
      "12  1280.13   736.12  1351.895294  \n",
      "13  1328.53   650.19  1467.989412  \n",
      "14  1521.89   698.32  1450.764118  \n",
      "15  1606.73   710.10  1537.692353  \n",
      "16  1763.63   800.79  1630.597059  \n"
     ]
    }
   ],
   "source": [
    "cost_df = pd.read_csv('Cost per Ton 2.csv')\n",
    "cost_df.shape\n",
    "print(cost_df)"
   ]
  },
  {
   "cell_type": "code",
   "execution_count": 13,
   "metadata": {},
   "outputs": [
    {
     "data": {
      "image/png": "[encoded data removed]",
      "text/plain": [
       "<matplotlib.figure.Figure at 0x11713bb00>"
      ]
     },
     "metadata": {},
     "output_type": "display_data"
    }
   ],
   "source": [
    "plt.figure(figsize=(10, 5))\n",
    "plt.plot(cost_df['Napa'], color = 'green')\n",
    "plt.plot(cost_df['Paso Robles'], color = 'blue')\n",
    "plt.plot(cost_df['Mean'], label='California Mean', color='black')\n",
    "dates = Counter(cost_df['Year'])\n",
    "years = sorted(dates.items(), key=lambda pair: pair[1])\n",
    "keys = [x[0] for x in years]\n",
    "x_pos = np.arange(len(keys))\n",
    "plt.xticks(x_pos, keys)\n",
    "plt.xlabel('Year')\n",
    "plt.ylabel('Cost per Ton')\n",
    "plt.title('Cost of Cabernet Sauvignon Grapes Per Ton')\n",
    "plt.legend(loc='upper left') \n",
    "\n",
    "plt.show()"
   ]
  },
  {
   "cell_type": "markdown",
   "metadata": {},
   "source": [
    "From the graph above, you can see the price of grapes are skyrocketing while the grapes of Paso Robles and the rest of California (represented by the mean) remain far below the prices of Napa. The question is whether the cost of the grapes is markedly better or is it another factor such as branding or the skill of the wine makers that causes the grapes to be in high demand and able to command such a high price in the grape market."
   ]
  },
  {
   "cell_type": "markdown",
   "metadata": {},
   "source": [
    "## Hypothesis:"
   ]
  },
  {
   "cell_type": "markdown",
   "metadata": {},
   "source": [
    "The grapes of Napa valley are relatively equal in quality to those produced in Paso Robles."
   ]
  },
  {
   "cell_type": "markdown",
   "metadata": {},
   "source": [
    "## Experiment"
   ]
  },
  {
   "cell_type": "markdown",
   "metadata": {},
   "source": [
    "### The Test Wine"
   ]
  },
  {
   "cell_type": "markdown",
   "metadata": {},
   "source": [
    "Cabernet Sauvignon grapes will be harvested from each region at relatively the same time (different altitude/latitude could impact the ripeness of grapes) and brought to a wine making facility exactly halfway between the two regions. The reason for the processing facility to be halfway between the regions is twofold: 1) to ensure the grapes endure similar deterioation in quality from the transportation, and 2) to ensure the grapes are turned into wine using the exact same techniques. The grapes will be harvested from multiple vineyards purchased through brokers on an exchange to mirror the market represented in the USDA data above.\n",
    "\n",
    "The grapes will be processed separately at the facility using the exact same technique and workers at the facility will not know if they are processing Napa grapes or Paso grapes so that there is little or no bias in the way the grapes are treated at the facility. The wine makers will equally not know whether they are making wine with Napa grapes or Paso grapes and will implement the same wine making process on both grapes. This part will be difficult since different vintages are usually treated with different additives to cover up short falls in that harvest, but this kind of intervention will be left out of the wine making process for these two wines. Everything down to the aging process will be exactly the same between the two grapes. "
   ]
  },
  {
   "cell_type": "markdown",
   "metadata": {},
   "source": [
    "### The Groups"
   ]
  },
  {
   "cell_type": "markdown",
   "metadata": {},
   "source": [
    "After the wine is produced and ready for consumption, they'll be ready for the experiment. At multiple wine festivals in different cities across the country, we will get a booth to conduct the experiment. People will be selected at random from the visitors of the wine festivals to participate in the study. Each participant will do the tasting individually and will be assigned to either groups A or B at random for the test.\n",
    "\n",
    "Group A participants will be given the wines with the proper label on them (Napa or Paso) and asked to rate the wine based on harshness of the tannins, bitterness, level of alcohol, and overall quality of the wine on a scale of 1 to 5.\n",
    "\n",
    "Group B participants will be given the wine without labels and asked to assess the wines based on the same qualities. They will not be told even that the wines come from different regions only that they are two different wines.\n",
    "\n",
    "In addition, each participant will be asked basic demographic questions such as age group, gender, and nationality to ensure a well mix of people in each group. They will also be asked to asked to rate their overall knowledge of wine in these general demographic questions."
   ]
  },
  {
   "cell_type": "markdown",
   "metadata": {},
   "source": [
    "### Measure of Success"
   ]
  },
  {
   "cell_type": "markdown",
   "metadata": {},
   "source": [
    "The hypothesis is that the wines will be rated relatively the same in terms of overall quality, so the null hypothesis is that one or the other receives a rating that is far superior to the other. Since the wines will be produced using the exact same techniques and will not receive a label from a particular wine maker, it will eliminate any influence the wine making process has on the wine and will be solely about the regions. Since it will be a sampling of different vineyards chosen through the equally random process of buying through a broker means they will come of similar origins."
   ]
  },
  {
   "cell_type": "markdown",
   "metadata": {},
   "source": [
    "## Rollout"
   ]
  },
  {
   "cell_type": "markdown",
   "metadata": {},
   "source": [
    "As stated above, this would be conducted at wine festivals across the country to get a good sample of regionality and good mixture of people sampling the wines (not all from California). Using wine festivals also means that the sample populations will be guaranteed to come from the wine drinking population of America. The cost of the experiment would be setting up booths in these wine festivals (hopefully at a discounted rate or free since it is for the industry!) as well as transportation to the venue for the people conducting the experiment."
   ]
  },
  {
   "cell_type": "markdown",
   "metadata": {},
   "source": [
    "## Evaluating the Results"
   ]
  },
  {
   "cell_type": "markdown",
   "metadata": {},
   "source": [
    "After the results are compliled, one can see whether people really value wines produced from Napa and Paso the same or whether they rate the ones from Napa higher or lower. One can also see whether the Napa grapes are better than Paso by a factor of 4 as they are priced."
   ]
  }
 ],
 "metadata": {
  "kernelspec": {
   "display_name": "Python 3",
   "language": "python",
   "name": "python3"
  },
  "language_info": {
   "codemirror_mode": {
    "name": "ipython",
    "version": 3
   },
   "file_extension": ".py",
   "mimetype": "text/x-python",
   "name": "python",
   "nbconvert_exporter": "python",
   "pygments_lexer": "ipython3",
   "version": "3.6.1"
  }
 },
 "nbformat": 4,
 "nbformat_minor": 2
}
