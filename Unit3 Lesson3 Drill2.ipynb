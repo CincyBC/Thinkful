{
 "cells": [
  {
   "cell_type": "code",
   "execution_count": 59,
   "metadata": {},
   "outputs": [],
   "source": [
    "import numpy as np\n",
    "import pandas as pd\n",
    "import matplotlib.pyplot as plt\n",
    "import scipy \n",
    "%matplotlib inline"
   ]
  },
  {
   "cell_type": "code",
   "execution_count": 60,
   "metadata": {},
   "outputs": [],
   "source": [
    "def samples(pop1, pop2, sample):\n",
    "    \n",
    "    sample1 = np.random.choice(pop1, sample, replace=True)\n",
    "    sample2 = np.random.choice(pop2, sample, replace=True)\n",
    "    print('Sample 1 Mean = {}'.format(sample1.mean()))\n",
    "    print('Sample 2 Mean = {}'.format(sample2.mean()))\n",
    "    print('Sample 1 STD = {}'.format(sample1.std()))\n",
    "    print('Sample 2 STD = {}'.format(sample2.std()))\n",
    "    from scipy.stats import ttest_ind\n",
    "    print(ttest_ind(sample2, sample1, equal_var=False))\n",
    "\n",
    "    plt.hist(sample1, alpha=0.5, label='Sample1')\n",
    "    plt.hist(sample2, alpha=0.5, label='Sample2')\n",
    "    plt.legend(loc='upper right')\n",
    "    plt.show()"
   ]
  },
  {
   "cell_type": "code",
   "execution_count": 61,
   "metadata": {
    "scrolled": true
   },
   "outputs": [
    {
     "name": "stdout",
     "output_type": "stream",
     "text": [
      "Sample 1 Mean = 2.08\n",
      "Sample 2 Mean = 4.89\n",
      "Sample 1 STD = 1.3541048703848604\n",
      "Sample 2 STD = 1.6606926265868707\n",
      "Ttest_indResult(statistic=13.048080363643008, pvalue=3.2777330198635423e-28)\n"
     ]
    },
    {
     "data": {
      "image/png": "[encoded data removed]",
      "text/plain": [
       "<matplotlib.figure.Figure at 0x118592780>"
      ]
     },
     "metadata": {},
     "output_type": "display_data"
    }
   ],
   "source": [
    "pop1 = np.random.binomial(10, .2, 10000)\n",
    "pop2 = np.random.binomial(10, .5, 10000)\n",
    "sample = 100\n",
    "samples(pop1, pop2, sample)"
   ]
  },
  {
   "cell_type": "code",
   "execution_count": 62,
   "metadata": {},
   "outputs": [
    {
     "name": "stdout",
     "output_type": "stream",
     "text": [
      "Sample 1 Mean = 1.96\n",
      "Sample 2 Mean = 5.03\n",
      "Sample 1 STD = 1.2690153663372246\n",
      "Sample 2 STD = 1.5450242716540088\n",
      "Ttest_indResult(statistic=48.531854106755496, pvalue=0.0)\n"
     ]
    },
    {
     "data": {
      "image/png": "[encoded data removed]",
      "text/plain": [
       "<matplotlib.figure.Figure at 0x11809d2b0>"
      ]
     },
     "metadata": {},
     "output_type": "display_data"
    }
   ],
   "source": [
    "sample = 1000\n",
    "samples(pop1, pop2, sample)"
   ]
  },
  {
   "cell_type": "code",
   "execution_count": 63,
   "metadata": {},
   "outputs": [
    {
     "name": "stdout",
     "output_type": "stream",
     "text": [
      "Sample 1 Mean = 2.35\n",
      "Sample 2 Mean = 4.25\n",
      "Sample 1 STD = 1.49248115565993\n",
      "Sample 2 STD = 1.8131464364468746\n",
      "Ttest_indResult(statistic=3.5266116921485056, pvalue=0.0011514115458328531)\n"
     ]
    },
    {
     "data": {
      "image/png": "[encoded data removed]",
      "text/plain": [
       "<matplotlib.figure.Figure at 0x119f435f8>"
      ]
     },
     "metadata": {},
     "output_type": "display_data"
    }
   ],
   "source": [
    "sample = 20\n",
    "samples(pop1, pop2, sample)"
   ]
  },
  {
   "cell_type": "markdown",
   "metadata": {},
   "source": [
    "In the above, the smaller sample provided a smaller standard deviation. Otherwise, for the most part, the mean stayed around the same number (though it is strangely lower in the 100 sample for the first one)."
   ]
  },
  {
   "cell_type": "code",
   "execution_count": 64,
   "metadata": {},
   "outputs": [
    {
     "name": "stdout",
     "output_type": "stream",
     "text": [
      "Sample 1 Mean = 2.93\n",
      "Sample 2 Mean = 4.83\n",
      "Sample 1 STD = 1.2510395677195825\n",
      "Sample 2 STD = 1.6495757030218405\n",
      "Ttest_indResult(statistic=9.1313498504322848, pvalue=1.1917978274256976e-16)\n"
     ]
    },
    {
     "data": {
      "image/png": "[encoded data removed]",
      "text/plain": [
       "<matplotlib.figure.Figure at 0x11a0672e8>"
      ]
     },
     "metadata": {},
     "output_type": "display_data"
    }
   ],
   "source": [
    "pop1 = np.random.binomial(10, 0.3, 10000)\n",
    "sample = 100\n",
    "samples(pop1, pop2, sample)"
   ]
  },
  {
   "cell_type": "code",
   "execution_count": 65,
   "metadata": {},
   "outputs": [
    {
     "name": "stdout",
     "output_type": "stream",
     "text": [
      "Sample 1 Mean = 3.99\n",
      "Sample 2 Mean = 5.06\n",
      "Sample 1 STD = 1.5652156400956387\n",
      "Sample 2 STD = 1.5988746042138515\n",
      "Ttest_indResult(statistic=4.7582027046823709, pvalue=3.761143253675233e-06)\n"
     ]
    },
    {
     "data": {
      "image/png": "[encoded data removed]",
      "text/plain": [
       "<matplotlib.figure.Figure at 0x118542128>"
      ]
     },
     "metadata": {},
     "output_type": "display_data"
    }
   ],
   "source": [
    "pop1 = np.random.binomial(10, 0.4, 10000)\n",
    "samples(pop1, pop2, sample)"
   ]
  },
  {
   "cell_type": "markdown",
   "metadata": {},
   "source": [
    "In the above tests, the as the standard deviation approaches the same between pop1 and pop2, you can see the t-value (variance) decrease as well as the p-value. The smaller the p value, the more the variations can be attributed to the populations themselves rather than from the variations in the samples."
   ]
  },
  {
   "cell_type": "code",
   "execution_count": 66,
   "metadata": {
    "scrolled": true
   },
   "outputs": [
    {
     "name": "stdout",
     "output_type": "stream",
     "text": [
      "Sample 1 Mean = 1.9319508440912696\n",
      "Sample 2 Mean = 4.95\n",
      "Sample 1 STD = 0.6372917468107251\n",
      "Sample 2 STD = 1.4991664350564948\n",
      "Ttest_indResult(statistic=18.434138272088031, pvalue=1.5874000794991988e-38)\n"
     ]
    },
    {
     "data": {
      "image/png": "[encoded data removed]",
      "text/plain": [
       "<matplotlib.figure.Figure at 0x11803ed30>"
      ]
     },
     "metadata": {},
     "output_type": "display_data"
    }
   ],
   "source": [
    "pop1 = np.random.gamma(10, 0.2, 10000)\n",
    "samples(pop1, pop2, sample)"
   ]
  },
  {
   "cell_type": "markdown",
   "metadata": {},
   "source": [
    "In the above example, I used the original binomial population from pop2 and compared it to a gamma distribution in a new pop1. The key change is that compared to above, the t-value increased dramatically (over double) showing what we can see from the histogram that the distributions are very different. The p-value is also much lower meaning that the differences are not in the samples, but most likely baked into the populations."
   ]
  },
  {
   "cell_type": "code",
   "execution_count": 67,
   "metadata": {},
   "outputs": [
    {
     "name": "stdout",
     "output_type": "stream",
     "text": [
      "Sample 1 Mean = 1.9454611853061803\n",
      "Sample 2 Mean = 2.81\n",
      "Sample 1 STD = 0.6327772816795941\n",
      "Sample 2 STD = 1.5664928981645592\n",
      "Ttest_indResult(statistic=5.0915703128421033, pvalue=1.2128321687094742e-06)\n"
     ]
    },
    {
     "data": {
      "image/png": "[encoded data removed]",
      "text/plain": [
       "<matplotlib.figure.Figure at 0x11809b9b0>"
      ]
     },
     "metadata": {},
     "output_type": "display_data"
    }
   ],
   "source": [
    "pop2 = np.random.poisson(3, 10000)\n",
    "samples(pop1, pop2, sample)"
   ]
  },
  {
   "cell_type": "markdown",
   "metadata": {},
   "source": [
    "Since Gamma Distributions look like Poisson distributions in the explanation, I gave them a try. The result is that the t-value went down, but the p-value compared to the example above went up meaning there is less variation in these samples and that the distribution variations are less baked into the populations as the above example."
   ]
  }
 ],
 "metadata": {
  "kernelspec": {
   "display_name": "Python 3",
   "language": "python",
   "name": "python3"
  },
  "language_info": {
   "codemirror_mode": {
    "name": "ipython",
    "version": 3
   },
   "file_extension": ".py",
   "mimetype": "text/x-python",
   "name": "python",
   "nbconvert_exporter": "python",
   "pygments_lexer": "ipython3",
   "version": "3.6.1"
  }
 },
 "nbformat": 4,
 "nbformat_minor": 2
}
