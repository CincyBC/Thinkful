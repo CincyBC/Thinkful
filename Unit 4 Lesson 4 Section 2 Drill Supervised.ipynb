{
 "cells": [
  {
   "cell_type": "code",
   "execution_count": 92,
   "metadata": {
    "collapsed": true
   },
   "outputs": [],
   "source": [
    "%matplotlib inline\n",
    "import numpy as np\n",
    "import pandas as pd\n",
    "import scipy\n",
    "import sklearn\n",
    "import spacy\n",
    "import matplotlib.pyplot as plt\n",
    "import seaborn as sns\n",
    "import re\n",
    "from sklearn.svm import SVC\n",
    "from sklearn.decomposition import PCA\n",
    "from sklearn.neighbors import KNeighborsClassifier\n",
    "from sklearn.feature_selection import SelectFromModel\n",
    "from sklearn import ensemble\n",
    "from sklearn.model_selection import train_test_split\n",
    "from sklearn.model_selection import GridSearchCV\n",
    "from sklearn.model_selection import cross_val_score\n",
    "from sklearn.linear_model import LogisticRegression\n",
    "from datetime import datetime\n",
    "\n",
    "\n",
    "from nltk.corpus import gutenberg, stopwords\n",
    "from collections import Counter"
   ]
  },
  {
   "cell_type": "code",
   "execution_count": 93,
   "metadata": {
    "collapsed": true
   },
   "outputs": [],
   "source": [
    "# Utility function for standard text cleaning.\n",
    "def text_cleaner(text):\n",
    "    # Visual inspection identifies a form of punctuation spaCy does not\n",
    "    # recognize: the double dash '--'.  Better get rid of it now!\n",
    "    text = re.sub(r'--',' ',text)\n",
    "    text = re.sub(\"[\\[].*?[\\]]\", \"\", text)\n",
    "    text = ' '.join(text.split())\n",
    "    return text\n",
    "    \n",
    "# Load and clean the data.\n",
    "persuasion = gutenberg.raw('austen-persuasion.txt')\n",
    "alice = gutenberg.raw('carroll-alice.txt')\n",
    "emma = gutenberg.raw('austen-emma.txt')\n",
    "whitman = gutenberg.raw('whitman-leaves.txt')\n",
    "\n",
    "# The Chapter indicator is idiosyncratic\n",
    "persuasion = re.sub(r'Chapter \\d+', '', persuasion)\n",
    "alice = re.sub(r'CHAPTER .*', '', alice)\n",
    "emma = re.sub(r'VOLUME \\w+', '', emma)\n",
    "emma = re.sub(r'CHAPTER \\w+', '', emma)\n",
    "whitman = re.sub(r'VOLUME \\w+', '', whitman)\n",
    "whitman = re.sub(r'CHAPTER \\w+', '', whitman)\n",
    "    \n",
    "alice = text_cleaner(alice)\n",
    "persuasion = text_cleaner(persuasion)\n",
    "emma = text_cleaner(emma)\n",
    "whitman = text_cleaner(whitman)"
   ]
  },
  {
   "cell_type": "code",
   "execution_count": 94,
   "metadata": {},
   "outputs": [
    {
     "name": "stdout",
     "output_type": "stream",
     "text": [
      "Alice Parsed 0:00:13.896927\n",
      "Persuasion Parsed 0:00:38.817070\n",
      "Emma Parsed 0:01:34.714986\n",
      "Whitman Parsed 0:02:09.210663\n",
      "\n",
      "It took the following time to complete this task: 0:02:09.211653\n"
     ]
    }
   ],
   "source": [
    "start = datetime.now()\n",
    "# Parse the cleaned novels. This can take a bit.\n",
    "nlp = spacy.load('en')\n",
    "alice_doc = nlp(alice)\n",
    "print('Alice Parsed', datetime.now() - start)\n",
    "persuasion_doc = nlp(persuasion)\n",
    "print('Persuasion Parsed', datetime.now() - start)\n",
    "emma_doc = nlp(emma)\n",
    "print('Emma Parsed', datetime.now() - start)\n",
    "whitman_doc = nlp(whitman)\n",
    "print('Whitman Parsed', datetime.now() - start)\n",
    "print('\\nIt took the following time to complete this task:', datetime.now() - start)"
   ]
  },
  {
   "cell_type": "code",
   "execution_count": 95,
   "metadata": {},
   "outputs": [
    {
     "data": {
      "text/html": [
       "<div>\n",
       "<style>\n",
       "    .dataframe thead tr:only-child th {\n",
       "        text-align: right;\n",
       "    }\n",
       "\n",
       "    .dataframe thead th {\n",
       "        text-align: left;\n",
       "    }\n",
       "\n",
       "    .dataframe tbody tr th {\n",
       "        vertical-align: top;\n",
       "    }\n",
       "</style>\n",
       "<table border=\"1\" class=\"dataframe\">\n",
       "  <thead>\n",
       "    <tr style=\"text-align: right;\">\n",
       "      <th></th>\n",
       "      <th>0</th>\n",
       "      <th>1</th>\n",
       "    </tr>\n",
       "  </thead>\n",
       "  <tbody>\n",
       "    <tr>\n",
       "      <th>0</th>\n",
       "      <td>(Alice, was, beginning, to, get, very, tired, ...</td>\n",
       "      <td>Carroll</td>\n",
       "    </tr>\n",
       "    <tr>\n",
       "      <th>1</th>\n",
       "      <td>(So, she, was, considering, in, her, own, mind...</td>\n",
       "      <td>Carroll</td>\n",
       "    </tr>\n",
       "    <tr>\n",
       "      <th>2</th>\n",
       "      <td>(There, was, nothing, so, VERY, remarkable, in...</td>\n",
       "      <td>Carroll</td>\n",
       "    </tr>\n",
       "    <tr>\n",
       "      <th>3</th>\n",
       "      <td>(Oh, dear, !)</td>\n",
       "      <td>Carroll</td>\n",
       "    </tr>\n",
       "    <tr>\n",
       "      <th>4</th>\n",
       "      <td>(I, shall, be, late, !, ')</td>\n",
       "      <td>Carroll</td>\n",
       "    </tr>\n",
       "  </tbody>\n",
       "</table>\n",
       "</div>"
      ],
      "text/plain": [
       "                                                   0        1\n",
       "0  (Alice, was, beginning, to, get, very, tired, ...  Carroll\n",
       "1  (So, she, was, considering, in, her, own, mind...  Carroll\n",
       "2  (There, was, nothing, so, VERY, remarkable, in...  Carroll\n",
       "3                                      (Oh, dear, !)  Carroll\n",
       "4                         (I, shall, be, late, !, ')  Carroll"
      ]
     },
     "execution_count": 95,
     "metadata": {},
     "output_type": "execute_result"
    }
   ],
   "source": [
    "# Group into sentences.\n",
    "alice_sents = [[sent, \"Carroll\"] for sent in alice_doc.sents]\n",
    "persuasion_sents = [[sent, \"Austen\"] for sent in persuasion_doc.sents]\n",
    "emma_sents = [[sent, \"Austen\"] for sent in emma_doc.sents]\n",
    "emma_sents = emma_sents[0:len(alice_sents)]\n",
    "whitman_sents = [[sent, \"Whitman\"] for sent in whitman_doc.sents]\n",
    "whitman_sents = whitman_sents[0:len(alice_sents)]\n",
    "\n",
    "# Combine the sentences from the two novels into one data frame.\n",
    "sentences1 = pd.DataFrame(alice_sents + persuasion_sents)\n",
    "sentences1.head()"
   ]
  },
  {
   "cell_type": "code",
   "execution_count": 96,
   "metadata": {
    "collapsed": true
   },
   "outputs": [],
   "source": [
    "# Utility function to create a list of the 3000 most common words.\n",
    "def bag_of_words(text):\n",
    "    \n",
    "    # Filter out punctuation and stop words.\n",
    "    allwords = [token.lemma_\n",
    "                for token in text\n",
    "                if not token.is_punct\n",
    "                and not token.is_stop]\n",
    "    \n",
    "    # Return the most common words.\n",
    "    return [item[0] for item in Counter(allwords).most_common(3000)]\n",
    "    \n",
    "\n",
    "# Creates a data frame with features for each word in our common word set.\n",
    "# Each value is the count of the times the word appears in each sentence.\n",
    "def bow_features(sentences, common_words):\n",
    "    \n",
    "    # Scaffold the data frame and initialize counts to zero.\n",
    "    df = pd.DataFrame(columns=common_words)\n",
    "    df['text_sentence'] = sentences[0]\n",
    "    df['text_source'] = sentences[1]\n",
    "    df.loc[:, common_words] = 0\n",
    "    \n",
    "    # Process each row, counting the occurrence of words in each sentence.\n",
    "    for i, sentence in enumerate(df['text_sentence']):\n",
    "        \n",
    "        # Convert the sentence to lemmas, then filter out punctuation,\n",
    "        # stop words, and uncommon words.\n",
    "        words = [token.lemma_\n",
    "                 for token in sentence\n",
    "                 if (\n",
    "                     not token.is_punct\n",
    "                     and not token.is_stop\n",
    "                     and token.lemma_ in common_words\n",
    "                 )]\n",
    "        \n",
    "        POS = [token.pos_\n",
    "              for token in sentence\n",
    "              if (\n",
    "                  not token.is_punct\n",
    "                  and not token.is_stop\n",
    "                  and token.pos_ in common_words\n",
    "              )]\n",
    "        \n",
    "        # Populate the row with word counts.\n",
    "        for word in words:\n",
    "            df.loc[i, word] += 1\n",
    "            \n",
    "        for pos in POS:\n",
    "            df.loc[i, word] += 1\n",
    "        \n",
    "        # This counter is just to make sure the kernel didn't hang.\n",
    "        if i % 500 == 0:\n",
    "            print(\"Processing row {}\".format(i))\n",
    "            \n",
    "    return df\n",
    "\n",
    "# Set up the bags.\n",
    "alicewords = bag_of_words(alice_doc)\n",
    "persuasionwords = bag_of_words(persuasion_doc)\n",
    "emmawords = bag_of_words(emma_doc)\n",
    "whitmanwords = bag_of_words(whitman_doc)\n",
    "\n",
    "# Combine bags to create a set of unique words.\n",
    "common_words1 = set(alicewords + persuasionwords)"
   ]
  },
  {
   "cell_type": "code",
   "execution_count": 97,
   "metadata": {},
   "outputs": [
    {
     "name": "stdout",
     "output_type": "stream",
     "text": [
      "Processing row 0\n",
      "Processing row 500\n",
      "Processing row 1000\n",
      "Processing row 1500\n",
      "Processing row 2000\n",
      "Processing row 2500\n",
      "Processing row 3000\n",
      "Processing row 3500\n",
      "Processing row 4000\n",
      "Processing row 4500\n",
      "Processing row 5000\n"
     ]
    },
    {
     "data": {
      "text/html": [
       "<div>\n",
       "<style>\n",
       "    .dataframe thead tr:only-child th {\n",
       "        text-align: right;\n",
       "    }\n",
       "\n",
       "    .dataframe thead th {\n",
       "        text-align: left;\n",
       "    }\n",
       "\n",
       "    .dataframe tbody tr th {\n",
       "        vertical-align: top;\n",
       "    }\n",
       "</style>\n",
       "<table border=\"1\" class=\"dataframe\">\n",
       "  <thead>\n",
       "    <tr style=\"text-align: right;\">\n",
       "      <th></th>\n",
       "      <th>publicity</th>\n",
       "      <th>she</th>\n",
       "      <th>sugar</th>\n",
       "      <th>acceptable</th>\n",
       "      <th>poison</th>\n",
       "      <th>pitied</th>\n",
       "      <th>hit</th>\n",
       "      <th>umbrella</th>\n",
       "      <th>service</th>\n",
       "      <th>currant</th>\n",
       "      <th>...</th>\n",
       "      <th>after</th>\n",
       "      <th>closer</th>\n",
       "      <th>symptom</th>\n",
       "      <th>foolish</th>\n",
       "      <th>heighten</th>\n",
       "      <th>procure</th>\n",
       "      <th>those</th>\n",
       "      <th>talk</th>\n",
       "      <th>text_sentence</th>\n",
       "      <th>text_source</th>\n",
       "    </tr>\n",
       "  </thead>\n",
       "  <tbody>\n",
       "    <tr>\n",
       "      <th>0</th>\n",
       "      <td>0</td>\n",
       "      <td>0</td>\n",
       "      <td>0</td>\n",
       "      <td>0</td>\n",
       "      <td>0</td>\n",
       "      <td>0</td>\n",
       "      <td>0</td>\n",
       "      <td>0</td>\n",
       "      <td>0</td>\n",
       "      <td>0</td>\n",
       "      <td>...</td>\n",
       "      <td>0</td>\n",
       "      <td>0</td>\n",
       "      <td>0</td>\n",
       "      <td>0</td>\n",
       "      <td>0</td>\n",
       "      <td>0</td>\n",
       "      <td>0</td>\n",
       "      <td>0</td>\n",
       "      <td>(Alice, was, beginning, to, get, very, tired, ...</td>\n",
       "      <td>Carroll</td>\n",
       "    </tr>\n",
       "    <tr>\n",
       "      <th>1</th>\n",
       "      <td>0</td>\n",
       "      <td>0</td>\n",
       "      <td>0</td>\n",
       "      <td>0</td>\n",
       "      <td>0</td>\n",
       "      <td>0</td>\n",
       "      <td>0</td>\n",
       "      <td>0</td>\n",
       "      <td>0</td>\n",
       "      <td>0</td>\n",
       "      <td>...</td>\n",
       "      <td>0</td>\n",
       "      <td>0</td>\n",
       "      <td>0</td>\n",
       "      <td>0</td>\n",
       "      <td>0</td>\n",
       "      <td>0</td>\n",
       "      <td>0</td>\n",
       "      <td>0</td>\n",
       "      <td>(So, she, was, considering, in, her, own, mind...</td>\n",
       "      <td>Carroll</td>\n",
       "    </tr>\n",
       "    <tr>\n",
       "      <th>2</th>\n",
       "      <td>0</td>\n",
       "      <td>0</td>\n",
       "      <td>0</td>\n",
       "      <td>0</td>\n",
       "      <td>0</td>\n",
       "      <td>0</td>\n",
       "      <td>0</td>\n",
       "      <td>0</td>\n",
       "      <td>0</td>\n",
       "      <td>0</td>\n",
       "      <td>...</td>\n",
       "      <td>0</td>\n",
       "      <td>0</td>\n",
       "      <td>0</td>\n",
       "      <td>0</td>\n",
       "      <td>0</td>\n",
       "      <td>0</td>\n",
       "      <td>0</td>\n",
       "      <td>0</td>\n",
       "      <td>(There, was, nothing, so, VERY, remarkable, in...</td>\n",
       "      <td>Carroll</td>\n",
       "    </tr>\n",
       "    <tr>\n",
       "      <th>3</th>\n",
       "      <td>0</td>\n",
       "      <td>0</td>\n",
       "      <td>0</td>\n",
       "      <td>0</td>\n",
       "      <td>0</td>\n",
       "      <td>0</td>\n",
       "      <td>0</td>\n",
       "      <td>0</td>\n",
       "      <td>0</td>\n",
       "      <td>0</td>\n",
       "      <td>...</td>\n",
       "      <td>0</td>\n",
       "      <td>0</td>\n",
       "      <td>0</td>\n",
       "      <td>0</td>\n",
       "      <td>0</td>\n",
       "      <td>0</td>\n",
       "      <td>0</td>\n",
       "      <td>0</td>\n",
       "      <td>(Oh, dear, !)</td>\n",
       "      <td>Carroll</td>\n",
       "    </tr>\n",
       "    <tr>\n",
       "      <th>4</th>\n",
       "      <td>0</td>\n",
       "      <td>0</td>\n",
       "      <td>0</td>\n",
       "      <td>0</td>\n",
       "      <td>0</td>\n",
       "      <td>0</td>\n",
       "      <td>0</td>\n",
       "      <td>0</td>\n",
       "      <td>0</td>\n",
       "      <td>0</td>\n",
       "      <td>...</td>\n",
       "      <td>0</td>\n",
       "      <td>0</td>\n",
       "      <td>0</td>\n",
       "      <td>0</td>\n",
       "      <td>0</td>\n",
       "      <td>0</td>\n",
       "      <td>0</td>\n",
       "      <td>0</td>\n",
       "      <td>(I, shall, be, late, !, ')</td>\n",
       "      <td>Carroll</td>\n",
       "    </tr>\n",
       "  </tbody>\n",
       "</table>\n",
       "<p>5 rows × 3923 columns</p>\n",
       "</div>"
      ],
      "text/plain": [
       "  publicity she sugar acceptable poison pitied hit umbrella service currant  \\\n",
       "0         0   0     0          0      0      0   0        0       0       0   \n",
       "1         0   0     0          0      0      0   0        0       0       0   \n",
       "2         0   0     0          0      0      0   0        0       0       0   \n",
       "3         0   0     0          0      0      0   0        0       0       0   \n",
       "4         0   0     0          0      0      0   0        0       0       0   \n",
       "\n",
       "      ...     after closer symptom foolish heighten procure those talk  \\\n",
       "0     ...         0      0       0       0        0       0     0    0   \n",
       "1     ...         0      0       0       0        0       0     0    0   \n",
       "2     ...         0      0       0       0        0       0     0    0   \n",
       "3     ...         0      0       0       0        0       0     0    0   \n",
       "4     ...         0      0       0       0        0       0     0    0   \n",
       "\n",
       "                                       text_sentence text_source  \n",
       "0  (Alice, was, beginning, to, get, very, tired, ...     Carroll  \n",
       "1  (So, she, was, considering, in, her, own, mind...     Carroll  \n",
       "2  (There, was, nothing, so, VERY, remarkable, in...     Carroll  \n",
       "3                                      (Oh, dear, !)     Carroll  \n",
       "4                         (I, shall, be, late, !, ')     Carroll  \n",
       "\n",
       "[5 rows x 3923 columns]"
      ]
     },
     "execution_count": 97,
     "metadata": {},
     "output_type": "execute_result"
    }
   ],
   "source": [
    "# Create our data frame with features. This can take a while to run.\n",
    "word_counts = bow_features(sentences1, common_words1)\n",
    "word_counts.head()"
   ]
  },
  {
   "cell_type": "code",
   "execution_count": 98,
   "metadata": {
    "scrolled": false
   },
   "outputs": [],
   "source": [
    "\n",
    "Y = word_counts['text_source']\n",
    "X = np.array(word_counts.drop(['text_sentence','text_source'], 1))\n",
    "\n",
    "X_train, X_test, y_train, y_test = train_test_split(X, \n",
    "                                                    Y,\n",
    "                                                    test_size=0.4,\n",
    "                                                    random_state=0)\n"
   ]
  },
  {
   "cell_type": "code",
   "execution_count": 99,
   "metadata": {
    "collapsed": true
   },
   "outputs": [],
   "source": [
    "#Create a testing function that will fit the test the data.\n",
    "def testing_func(test, models):\n",
    "    # This is a local list used to temporarily store scores\n",
    "    scores=[]\n",
    "    # This list serves the For loop below putting the variables in  \n",
    "    train = test.fit(models[0], models[1])\n",
    "\n",
    "    print('Training set score:', test.score(models[0], models[1]))\n",
    "    print('\\nTest set score:', test.score(models[2], models[3]))\n",
    "    print('\\nCV score:', np.mean(cross_val_score(test, models[0], models[1], cv=5)))                                           \n",
    " "
   ]
  },
  {
   "cell_type": "markdown",
   "metadata": {},
   "source": [
    "# Challenge 0\n",
    "Improve performance on test above 93% or on CV above 90%."
   ]
  },
  {
   "cell_type": "code",
   "execution_count": 100,
   "metadata": {
    "collapsed": true
   },
   "outputs": [],
   "source": [
    "models = [X_train, y_train, X_test, y_test]"
   ]
  },
  {
   "cell_type": "code",
   "execution_count": 101,
   "metadata": {},
   "outputs": [
    {
     "name": "stdout",
     "output_type": "stream",
     "text": [
      "Training set score: 0.9940438871473354\n",
      "\n",
      "Test set score: 0.9050751879699248\n",
      "\n",
      "CV score: 0.9025041950040216\n",
      "\n",
      "It took the following time to complete this task: 0:08:49.350229\n"
     ]
    }
   ],
   "source": [
    "start = datetime.now()\n",
    "rfc = ensemble.RandomForestClassifier(n_estimators=2000, n_jobs=4)\n",
    "testing_func(rfc, models)\n",
    "print('\\nIt took the following time to complete this task:', datetime.now() - start)"
   ]
  },
  {
   "cell_type": "code",
   "execution_count": 102,
   "metadata": {},
   "outputs": [
    {
     "data": {
      "image/png": "[encoded data removed]",
      "text/plain": [
       "<matplotlib.figure.Figure at 0x11e1798d0>"
      ]
     },
     "metadata": {},
     "output_type": "display_data"
    },
    {
     "name": "stdout",
     "output_type": "stream",
     "text": [
      "It took the following time to complete this task: 0:06:50.654666\n"
     ]
    }
   ],
   "source": [
    "start = datetime.now()\n",
    "# Try to figure out the best Lambda for Lasso by running the test with the PCA X variable and mapping them out.\n",
    "# Temporary lists to store the results\n",
    "yl = []\n",
    "cl = []\n",
    "\n",
    "# For loop to run the model with different Lambdas represented as L\n",
    "numb = np.arange(0.01, 1, 0.01)\n",
    "for l in numb:\n",
    "    lr = LogisticRegression(C=l, penalty='l1')\n",
    "    train = lr.fit(X_train, y_train)\n",
    "    yl.append(lr.score(X_train, y_train))\n",
    "    cl.append(np.mean(cross_val_score(lr, X_train, y_train, cv=5)))\n",
    "\n",
    "lambda_number = cl.index(max(cl)) + 1\n",
    "# Plot the results of the accuracy and Cross Validation Score\n",
    "fig = plt.figure()\n",
    "ax1 = fig.add_subplot(111)\n",
    "plt.xlabel('Lambda')\n",
    "plt.ylabel('Score')\n",
    "ax1.scatter(x=numb, y=yl, c='b', marker=\"s\", label='Score')\n",
    "ax1.scatter(x=numb, y=cl, s=10, c='r', marker=\"^\", label='Cross Validation')\n",
    "plt.legend(loc='upper left');\n",
    "plt.show()\n",
    "print('It took the following time to complete this task:', datetime.now() - start)"
   ]
  },
  {
   "cell_type": "code",
   "execution_count": 103,
   "metadata": {},
   "outputs": [
    {
     "name": "stdout",
     "output_type": "stream",
     "text": [
      "Training set score: 0.9893416927899686\n",
      "\n",
      "Test set score: 0.8947368421052632\n",
      "\n",
      "CV score: 0.8877770132609515\n",
      "\n",
      "It took the following time to complete this task: 0:00:04.586371\n"
     ]
    }
   ],
   "source": [
    "start = datetime.now()\n",
    "lr = LogisticRegression(C=lambda_number)\n",
    "testing_func(lr, models)\n",
    "print('\\nIt took the following time to complete this task:', datetime.now() - start)"
   ]
  },
  {
   "cell_type": "code",
   "execution_count": 104,
   "metadata": {},
   "outputs": [
    {
     "name": "stdout",
     "output_type": "stream",
     "text": [
      "The best parameters are {'C': 5, 'gamma': 0.05} with a score of %0.8987460815047021\n",
      "It took the following time to complete this task: 0:16:14.405171\n"
     ]
    }
   ],
   "source": [
    "# SKlearn has a tool that will optimize SVC\n",
    "start = datetime.now()\n",
    "svc = SVC()\n",
    "\n",
    "# Set the hyperparameters\n",
    "svcparameters = {'C':[5,7,9], 'gamma': \n",
    "              [0.02,0.04,0.05]}\n",
    "\n",
    "# Run it through the tool.\n",
    "grid = GridSearchCV(svc, svcparameters).fit(X_train, y_train)\n",
    "predicted = grid.predict(X_test)\n",
    "print(\"The best parameters are {} with a score of %{}\".format(grid.best_params_, grid.best_score_))\n",
    "\n",
    "#Put those parameters in a dictionary to call.\n",
    "svcparameters = grid.best_params_\n",
    "\n",
    "print('It took the following time to complete this task:', datetime.now() - start)"
   ]
  },
  {
   "cell_type": "code",
   "execution_count": 105,
   "metadata": {},
   "outputs": [
    {
     "name": "stdout",
     "output_type": "stream",
     "text": [
      "Training set score: 0.9689655172413794\n",
      "\n",
      "Test set score: 0.9135338345864662\n",
      "\n",
      "CV score: 0.9037659735363197\n",
      "\n",
      "It took the following time to complete this task: 0:03:37.239193\n"
     ]
    }
   ],
   "source": [
    "start = datetime.now()\n",
    "svc = SVC(C=svcparameters['C'], gamma=svcparameters['gamma'])\n",
    "testing_func(svc, models)\n",
    "print('\\nIt took the following time to complete this task:', datetime.now() - start)"
   ]
  },
  {
   "cell_type": "code",
   "execution_count": 106,
   "metadata": {},
   "outputs": [
    {
     "name": "stdout",
     "output_type": "stream",
     "text": [
      "The best parameters are {'learning_rate': 0.5, 'n_estimators': 200} with a score of %0.8818181818181818\n",
      "It took the following time to complete this task: 0:11:56.293995\n"
     ]
    }
   ],
   "source": [
    "# Run the same optimization tool for gradient boosting\n",
    "start = datetime.now()\n",
    "clf = ensemble.GradientBoostingClassifier()\n",
    "parameters = {'n_estimators':[100, 200], 'learning_rate': [ 0.5, 1.0]}\n",
    "grid = GridSearchCV(clf, parameters).fit(X_train, y_train)\n",
    "predicted = grid.predict(X_test)\n",
    "print(\"The best parameters are {} with a score of %{}\".format(grid.best_params_, grid.best_score_))\n",
    "\n",
    "#Put those parameters in a dictionary to call.\n",
    "parameters = grid.best_params_\n",
    "print('It took the following time to complete this task:', datetime.now() - start)"
   ]
  },
  {
   "cell_type": "code",
   "execution_count": 107,
   "metadata": {},
   "outputs": [
    {
     "name": "stdout",
     "output_type": "stream",
     "text": [
      "Training set score: 0.977742946708464\n",
      "\n",
      "Test set score: 0.8980263157894737\n",
      "\n",
      "CV score: 0.8858980947512134\n",
      "\n",
      "It took the following time to complete this task: 0:10:28.739975\n"
     ]
    }
   ],
   "source": [
    "start = datetime.now()\n",
    "clf = ensemble.GradientBoostingClassifier(n_estimators=parameters['n_estimators'], \n",
    "                                          learning_rate=parameters['learning_rate'])\n",
    "testing_func(clf, models)\n",
    "print('\\nIt took the following time to complete this task:', datetime.now() - start)"
   ]
  },
  {
   "cell_type": "code",
   "execution_count": 108,
   "metadata": {},
   "outputs": [
    {
     "name": "stdout",
     "output_type": "stream",
     "text": [
      "Processing row 0\n",
      "Processing row 500\n",
      "Processing row 1000\n",
      "Processing row 1500\n",
      "\n",
      "It took the following time to complete this task: 0:00:04.787884\n"
     ]
    }
   ],
   "source": [
    "start = datetime.now()\n",
    "emma_sentences = pd.DataFrame(emma_sents)\n",
    "emma_bow = bow_features(emma_sentences, common_words1)\n",
    "\n",
    "print('\\nIt took the following time to complete this task:', datetime.now() - start)"
   ]
  },
  {
   "cell_type": "code",
   "execution_count": 109,
   "metadata": {},
   "outputs": [
    {
     "name": "stdout",
     "output_type": "stream",
     "text": [
      "\n",
      "Test set score: 0.6580909768829232\n",
      "\n",
      "It took the following time to complete this task: 0:00:01.487441\n"
     ]
    }
   ],
   "source": [
    "start = datetime.now()\n",
    "# Now we can model it!\n",
    "# Let's use logistic regression again.\n",
    "\n",
    "# Combine the Emma sentence data with the Alice data from the test set.\n",
    "X_Emma_test = np.concatenate((\n",
    "    X_train[y_train[y_train=='Carroll'].index],\n",
    "    emma_bow.drop(['text_sentence','text_source'], 1)\n",
    "), axis=0)\n",
    "y_Emma_test = pd.concat([y_train[y_train=='Carroll'],\n",
    "                         pd.Series(['Austen'] * emma_bow.shape[0])])\n",
    "\n",
    "# Model.\n",
    "print('\\nTest set score:', lr.score(X_Emma_test, y_Emma_test))\n",
    "lr_Emma_predicted = lr.predict(X_Emma_test)\n",
    "pd.crosstab(y_Emma_test, lr_Emma_predicted)\n",
    "print('\\nIt took the following time to complete this task:', datetime.now() - start)"
   ]
  },
  {
   "cell_type": "markdown",
   "metadata": {},
   "source": [
    "# Challenge 1\n",
    "Find out whether your new model is good at identifying Alice in Wonderland vs any other work, Persuasion vs any other work, or Austen vs any other work. This will involve pulling a new book from the Project Gutenberg corpus (print(gutenberg.fileids()) for a list) and processing it."
   ]
  },
  {
   "cell_type": "code",
   "execution_count": 110,
   "metadata": {},
   "outputs": [
    {
     "name": "stdout",
     "output_type": "stream",
     "text": [
      "Processing row 0\n",
      "Processing row 500\n",
      "Processing row 1000\n",
      "Processing row 1500\n",
      "\n",
      "It took the following time to complete this task: 0:00:05.399147\n"
     ]
    }
   ],
   "source": [
    "start = datetime.now()\n",
    "whitman_sentences = pd.DataFrame(whitman_sents)\n",
    "whitman_bow = bow_features(whitman_sentences, common_words1)\n",
    "print('\\nIt took the following time to complete this task:', datetime.now() - start)"
   ]
  },
  {
   "cell_type": "markdown",
   "metadata": {},
   "source": [
    "## Alice vs. Whitman"
   ]
  },
  {
   "cell_type": "code",
   "execution_count": 111,
   "metadata": {
    "collapsed": true
   },
   "outputs": [],
   "source": [
    "New_Alice_Whitman = word_counts.drop(word_counts.text_source=='Austen', axis=0)\n",
    "New_Alice_Whitman = pd.concat([New_Alice_Whitman, whitman_bow], axis=0)\n",
    "y_Alice = New_Alice_Whitman['text_source']\n",
    "X_Alice = np.array(New_Alice_Whitman.drop(['text_sentence','text_source'], 1))\n",
    "\n",
    "X_Alice_train, X_Alice_test, y_Alice_train, y_Alice_test = train_test_split(X_Alice, \n",
    "                                                    y_Alice,\n",
    "                                                    test_size=0.4,\n",
    "                                                    random_state=0)\n"
   ]
  },
  {
   "cell_type": "code",
   "execution_count": 112,
   "metadata": {},
   "outputs": [
    {
     "name": "stdout",
     "output_type": "stream",
     "text": [
      "\n",
      "Test set score: 0.7208303507516106\n",
      "\n",
      "It took the following time to complete this task: 0:00:26.657758\n"
     ]
    }
   ],
   "source": [
    "start = datetime.now()\n",
    "# Now we can model it!\n",
    "# Let's use svc again.\n",
    "# Model.\n",
    "print('\\nTest set score:', svc.score(X_Alice_test, y_Alice_test))\n",
    "\n",
    "print('\\nIt took the following time to complete this task:', datetime.now() - start)"
   ]
  },
  {
   "cell_type": "markdown",
   "metadata": {},
   "source": [
    "## Persuasion vs. Whitman"
   ]
  },
  {
   "cell_type": "code",
   "execution_count": 113,
   "metadata": {
    "collapsed": true
   },
   "outputs": [],
   "source": [
    "New_Persuasion_Whitman = word_counts.drop(word_counts.text_source=='Austen', axis=0)\n",
    "New_Persuasion_Whitman = pd.concat([New_Persuasion_Whitman, whitman_bow], axis=0)\n",
    "y_Persuasion = New_Persuasion_Whitman['text_source']\n",
    "X_Persuasion = np.array(New_Persuasion_Whitman.drop(['text_sentence','text_source'], 1))\n",
    "\n",
    "X_Persuasion_train, X_Persuasion_test, y_Persuasion_train, y_Persuasion_test = train_test_split(X_Persuasion, \n",
    "                                                    y_Persuasion,\n",
    "                                                    test_size=0.4,\n",
    "                                                    random_state=0)\n"
   ]
  },
  {
   "cell_type": "code",
   "execution_count": 114,
   "metadata": {},
   "outputs": [
    {
     "name": "stdout",
     "output_type": "stream",
     "text": [
      "\n",
      "Test set score: 0.7208303507516106\n",
      "\n",
      "It took the following time to complete this task: 0:00:25.823148\n"
     ]
    }
   ],
   "source": [
    "start = datetime.now()\n",
    "# Now we can model it!\n",
    "\n",
    "# Model.\n",
    "print('\\nTest set score:', svc.score(X_Persuasion_test, y_Persuasion_test))\n",
    "\n",
    "print('\\nIt took the following time to complete this task:', datetime.now() - start)"
   ]
  },
  {
   "cell_type": "markdown",
   "metadata": {},
   "source": [
    "## Austen vs. Whitman"
   ]
  },
  {
   "cell_type": "code",
   "execution_count": 115,
   "metadata": {},
   "outputs": [
    {
     "name": "stdout",
     "output_type": "stream",
     "text": [
      "Processing row 0\n",
      "Processing row 500\n",
      "Processing row 1000\n",
      "Processing row 1500\n",
      "Processing row 2000\n",
      "Processing row 2500\n",
      "Processing row 3000\n",
      "Processing row 3500\n",
      "Processing row 4000\n",
      "Processing row 4500\n",
      "Processing row 5000\n",
      "Processing row 5500\n",
      "Processing row 6000\n",
      "Processing row 6500\n",
      "Austen     5318\n",
      "Whitman    1669\n",
      "Name: text_source, dtype: int64\n"
     ]
    }
   ],
   "source": [
    "sentences2 = pd.DataFrame(emma_sents + persuasion_sents + whitman_sents)\n",
    "New_Austen_Whitman = bow_features(sentences2, common_words1)\n",
    "y_Austen = New_Austen_Whitman['text_source']\n",
    "X_Austen = np.array(New_Austen_Whitman.drop(['text_sentence','text_source'], 1))\n",
    "\n",
    "X_Austen_train, X_Austen_test, y_Austen_train, y_Austen_test = train_test_split(X_Austen, \n",
    "                                                    y_Austen,\n",
    "                                                    test_size=0.4,\n",
    "                                                    random_state=0)\n",
    "print(New_Austen_Whitman['text_source'].value_counts())"
   ]
  },
  {
   "cell_type": "code",
   "execution_count": 116,
   "metadata": {},
   "outputs": [
    {
     "name": "stdout",
     "output_type": "stream",
     "text": [
      "\n",
      "Test set score: 0.7373881932021467\n",
      "\n",
      "It took the following time to complete this task: 0:00:21.577526\n"
     ]
    }
   ],
   "source": [
    "start = datetime.now()\n",
    "\n",
    "# Model.\n",
    "print('\\nTest set score:', svc.score(X_Austen_test, y_Austen_test))\n",
    "\n",
    "print('\\nIt took the following time to complete this task:', datetime.now() - start)"
   ]
  }
 ],
 "metadata": {
  "kernelspec": {
   "display_name": "Python 3",
   "language": "python",
   "name": "python3"
  },
  "language_info": {
   "codemirror_mode": {
    "name": "ipython",
    "version": 3
   },
   "file_extension": ".py",
   "mimetype": "text/x-python",
   "name": "python",
   "nbconvert_exporter": "python",
   "pygments_lexer": "ipython3",
   "version": "3.6.1"
  }
 },
 "nbformat": 4,
 "nbformat_minor": 2
}
