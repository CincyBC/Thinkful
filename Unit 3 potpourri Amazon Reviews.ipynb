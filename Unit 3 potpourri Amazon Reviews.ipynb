{
 "cells": [
  {
   "cell_type": "code",
   "execution_count": 1,
   "metadata": {
    "collapsed": true
   },
   "outputs": [],
   "source": [
    "import numpy as np\n",
    "import pandas as pd\n",
    "import scipy\n",
    "import sklearn\n",
    "import matplotlib.pyplot as plt\n",
    "import seaborn as sns\n",
    "from datetime import datetime\n",
    "\n",
    "from sklearn.decomposition import PCA\n",
    "from sklearn.feature_extraction.text import TfidfVectorizer\n",
    "from sklearn.model_selection import train_test_split\n",
    "from sklearn.decomposition import TruncatedSVD\n",
    "from sklearn.pipeline import make_pipeline\n",
    "from sklearn.preprocessing import Normalizer\n",
    "from sklearn.naive_bayes import BernoulliNB\n",
    "from sklearn.tree import DecisionTreeClassifier\n",
    "from sklearn.ensemble import GradientBoostingClassifier\n",
    "from sklearn.linear_model import LogisticRegression\n",
    "from sklearn import ensemble\n",
    "from sklearn.utils import resample\n",
    "from string import punctuation\n",
    "import re\n",
    "from sklearn.model_selection import cross_val_score\n",
    "\n",
    "%matplotlib inline"
   ]
  },
  {
   "cell_type": "code",
   "execution_count": 2,
   "metadata": {},
   "outputs": [
    {
     "data": {
      "text/html": [
       "<div>\n",
       "<style>\n",
       "    .dataframe thead tr:only-child th {\n",
       "        text-align: right;\n",
       "    }\n",
       "\n",
       "    .dataframe thead th {\n",
       "        text-align: left;\n",
       "    }\n",
       "\n",
       "    .dataframe tbody tr th {\n",
       "        vertical-align: top;\n",
       "    }\n",
       "</style>\n",
       "<table border=\"1\" class=\"dataframe\">\n",
       "  <thead>\n",
       "    <tr style=\"text-align: right;\">\n",
       "      <th></th>\n",
       "      <th>asin</th>\n",
       "      <th>helpful</th>\n",
       "      <th>overall</th>\n",
       "      <th>reviewText</th>\n",
       "      <th>reviewTime</th>\n",
       "      <th>reviewerID</th>\n",
       "      <th>reviewerName</th>\n",
       "      <th>summary</th>\n",
       "      <th>unixReviewTime</th>\n",
       "    </tr>\n",
       "  </thead>\n",
       "  <tbody>\n",
       "    <tr>\n",
       "      <th>0</th>\n",
       "      <td>1881509818</td>\n",
       "      <td>[0, 0]</td>\n",
       "      <td>5</td>\n",
       "      <td>This came in on time and I am veru happy with ...</td>\n",
       "      <td>01 26, 2014</td>\n",
       "      <td>AIXZKN4ACSKI</td>\n",
       "      <td>David Briner</td>\n",
       "      <td>Woks very good</td>\n",
       "      <td>1390694400</td>\n",
       "    </tr>\n",
       "    <tr>\n",
       "      <th>1</th>\n",
       "      <td>1881509818</td>\n",
       "      <td>[1, 1]</td>\n",
       "      <td>5</td>\n",
       "      <td>I had a factory Glock tool that I was using fo...</td>\n",
       "      <td>02 2, 2012</td>\n",
       "      <td>A1L5P841VIO02V</td>\n",
       "      <td>Jason A. Kramer</td>\n",
       "      <td>Works as well as the factory tool</td>\n",
       "      <td>1328140800</td>\n",
       "    </tr>\n",
       "    <tr>\n",
       "      <th>2</th>\n",
       "      <td>1881509818</td>\n",
       "      <td>[2, 2]</td>\n",
       "      <td>4</td>\n",
       "      <td>If you don't have a 3/32 punch or would like t...</td>\n",
       "      <td>02 28, 2012</td>\n",
       "      <td>AB2W04NI4OEAD</td>\n",
       "      <td>J. Fernald</td>\n",
       "      <td>It's a punch, that's all.</td>\n",
       "      <td>1330387200</td>\n",
       "    </tr>\n",
       "    <tr>\n",
       "      <th>3</th>\n",
       "      <td>1881509818</td>\n",
       "      <td>[0, 0]</td>\n",
       "      <td>4</td>\n",
       "      <td>This works no better than any 3/32 punch you w...</td>\n",
       "      <td>02 5, 2012</td>\n",
       "      <td>A148SVSWKTJKU6</td>\n",
       "      <td>Jusitn A. Watts \"Maverick9614\"</td>\n",
       "      <td>It's a punch with a Glock logo.</td>\n",
       "      <td>1328400000</td>\n",
       "    </tr>\n",
       "    <tr>\n",
       "      <th>4</th>\n",
       "      <td>1881509818</td>\n",
       "      <td>[0, 0]</td>\n",
       "      <td>4</td>\n",
       "      <td>I purchased this thinking maybe I need a speci...</td>\n",
       "      <td>04 23, 2013</td>\n",
       "      <td>AAAWJ6LW9WMOO</td>\n",
       "      <td>Material Man</td>\n",
       "      <td>Ok,tool does what a regular punch does.</td>\n",
       "      <td>1366675200</td>\n",
       "    </tr>\n",
       "    <tr>\n",
       "      <th>5</th>\n",
       "      <td>1881509818</td>\n",
       "      <td>[0, 0]</td>\n",
       "      <td>5</td>\n",
       "      <td>Needed this tool to really break down my G22, ...</td>\n",
       "      <td>11 2, 2012</td>\n",
       "      <td>A2XX2A4OJCDNLZ</td>\n",
       "      <td>RatherLiveInKeyWest</td>\n",
       "      <td>Glock punch tool - needed for your Glock and o...</td>\n",
       "      <td>1351814400</td>\n",
       "    </tr>\n",
       "    <tr>\n",
       "      <th>6</th>\n",
       "      <td>1881509818</td>\n",
       "      <td>[0, 0]</td>\n",
       "      <td>5</td>\n",
       "      <td>If u don't have it .. Get it. All you need to ...</td>\n",
       "      <td>06 10, 2014</td>\n",
       "      <td>A283UOBQRUNM4Q</td>\n",
       "      <td>Thomas Dragon</td>\n",
       "      <td>Great tool</td>\n",
       "      <td>1402358400</td>\n",
       "    </tr>\n",
       "    <tr>\n",
       "      <th>7</th>\n",
       "      <td>2094869245</td>\n",
       "      <td>[0, 0]</td>\n",
       "      <td>4</td>\n",
       "      <td>This light will no doubt capture the attention...</td>\n",
       "      <td>08 31, 2013</td>\n",
       "      <td>AWG3H90WVZ0Z1</td>\n",
       "      <td>Alec Nelson</td>\n",
       "      <td>Bright!</td>\n",
       "      <td>1377907200</td>\n",
       "    </tr>\n",
       "    <tr>\n",
       "      <th>8</th>\n",
       "      <td>2094869245</td>\n",
       "      <td>[0, 1]</td>\n",
       "      <td>5</td>\n",
       "      <td>Light and laser torch work well, very bright. ...</td>\n",
       "      <td>05 27, 2013</td>\n",
       "      <td>A3V52OTJHKIJZX</td>\n",
       "      <td>A. Saenz Jr. \"Bettering self\"</td>\n",
       "      <td>Be seen</td>\n",
       "      <td>1369612800</td>\n",
       "    </tr>\n",
       "    <tr>\n",
       "      <th>9</th>\n",
       "      <td>2094869245</td>\n",
       "      <td>[0, 0]</td>\n",
       "      <td>5</td>\n",
       "      <td>Does everything it says it will do. I would li...</td>\n",
       "      <td>11 2, 2013</td>\n",
       "      <td>A3SZBE5F3UQ9EC</td>\n",
       "      <td>ChasRat \"ChasRat\"</td>\n",
       "      <td>Bicycle rear tail light</td>\n",
       "      <td>1383350400</td>\n",
       "    </tr>\n",
       "  </tbody>\n",
       "</table>\n",
       "</div>"
      ],
      "text/plain": [
       "         asin helpful  overall  \\\n",
       "0  1881509818  [0, 0]        5   \n",
       "1  1881509818  [1, 1]        5   \n",
       "2  1881509818  [2, 2]        4   \n",
       "3  1881509818  [0, 0]        4   \n",
       "4  1881509818  [0, 0]        4   \n",
       "5  1881509818  [0, 0]        5   \n",
       "6  1881509818  [0, 0]        5   \n",
       "7  2094869245  [0, 0]        4   \n",
       "8  2094869245  [0, 1]        5   \n",
       "9  2094869245  [0, 0]        5   \n",
       "\n",
       "                                          reviewText   reviewTime  \\\n",
       "0  This came in on time and I am veru happy with ...  01 26, 2014   \n",
       "1  I had a factory Glock tool that I was using fo...   02 2, 2012   \n",
       "2  If you don't have a 3/32 punch or would like t...  02 28, 2012   \n",
       "3  This works no better than any 3/32 punch you w...   02 5, 2012   \n",
       "4  I purchased this thinking maybe I need a speci...  04 23, 2013   \n",
       "5  Needed this tool to really break down my G22, ...   11 2, 2012   \n",
       "6  If u don't have it .. Get it. All you need to ...  06 10, 2014   \n",
       "7  This light will no doubt capture the attention...  08 31, 2013   \n",
       "8  Light and laser torch work well, very bright. ...  05 27, 2013   \n",
       "9  Does everything it says it will do. I would li...   11 2, 2013   \n",
       "\n",
       "       reviewerID                    reviewerName  \\\n",
       "0    AIXZKN4ACSKI                    David Briner   \n",
       "1  A1L5P841VIO02V                 Jason A. Kramer   \n",
       "2   AB2W04NI4OEAD                      J. Fernald   \n",
       "3  A148SVSWKTJKU6  Jusitn A. Watts \"Maverick9614\"   \n",
       "4   AAAWJ6LW9WMOO                    Material Man   \n",
       "5  A2XX2A4OJCDNLZ             RatherLiveInKeyWest   \n",
       "6  A283UOBQRUNM4Q                   Thomas Dragon   \n",
       "7   AWG3H90WVZ0Z1                     Alec Nelson   \n",
       "8  A3V52OTJHKIJZX   A. Saenz Jr. \"Bettering self\"   \n",
       "9  A3SZBE5F3UQ9EC               ChasRat \"ChasRat\"   \n",
       "\n",
       "                                             summary  unixReviewTime  \n",
       "0                                     Woks very good      1390694400  \n",
       "1                  Works as well as the factory tool      1328140800  \n",
       "2                          It's a punch, that's all.      1330387200  \n",
       "3                    It's a punch with a Glock logo.      1328400000  \n",
       "4            Ok,tool does what a regular punch does.      1366675200  \n",
       "5  Glock punch tool - needed for your Glock and o...      1351814400  \n",
       "6                                         Great tool      1402358400  \n",
       "7                                            Bright!      1377907200  \n",
       "8                                            Be seen      1369612800  \n",
       "9                            Bicycle rear tail light      1383350400  "
      ]
     },
     "execution_count": 2,
     "metadata": {},
     "output_type": "execute_result"
    }
   ],
   "source": [
    "reviews_raw = pd.read_json('reviews_Sports_And_Outdoors_5.JSON', lines=True)\n",
    "pd.DataFrame.from_dict(reviews_raw, orient='columns')\n",
    "reviews_raw.head(10)"
   ]
  },
  {
   "cell_type": "code",
   "execution_count": 3,
   "metadata": {},
   "outputs": [
    {
     "data": {
      "text/plain": [
       "reviewerName    1402\n",
       "dtype: int64"
      ]
     },
     "execution_count": 3,
     "metadata": {},
     "output_type": "execute_result"
    }
   ],
   "source": [
    "null_count = reviews_raw.isnull().sum()\n",
    "null_count[null_count>0]"
   ]
  },
  {
   "cell_type": "code",
   "execution_count": 4,
   "metadata": {},
   "outputs": [
    {
     "data": {
      "text/html": [
       "<div>\n",
       "<style>\n",
       "    .dataframe thead tr:only-child th {\n",
       "        text-align: right;\n",
       "    }\n",
       "\n",
       "    .dataframe thead th {\n",
       "        text-align: left;\n",
       "    }\n",
       "\n",
       "    .dataframe tbody tr th {\n",
       "        vertical-align: top;\n",
       "    }\n",
       "</style>\n",
       "<table border=\"1\" class=\"dataframe\">\n",
       "  <thead>\n",
       "    <tr style=\"text-align: right;\">\n",
       "      <th></th>\n",
       "      <th>reviewText</th>\n",
       "      <th>Sentiment</th>\n",
       "    </tr>\n",
       "  </thead>\n",
       "  <tbody>\n",
       "    <tr>\n",
       "      <th>0</th>\n",
       "      <td>This came in on time and I am veru happy with ...</td>\n",
       "      <td>1</td>\n",
       "    </tr>\n",
       "    <tr>\n",
       "      <th>1</th>\n",
       "      <td>I had a factory Glock tool that I was using fo...</td>\n",
       "      <td>1</td>\n",
       "    </tr>\n",
       "    <tr>\n",
       "      <th>2</th>\n",
       "      <td>If you don't have a 3/32 punch or would like t...</td>\n",
       "      <td>1</td>\n",
       "    </tr>\n",
       "    <tr>\n",
       "      <th>3</th>\n",
       "      <td>This works no better than any 3/32 punch you w...</td>\n",
       "      <td>1</td>\n",
       "    </tr>\n",
       "    <tr>\n",
       "      <th>4</th>\n",
       "      <td>I purchased this thinking maybe I need a speci...</td>\n",
       "      <td>1</td>\n",
       "    </tr>\n",
       "    <tr>\n",
       "      <th>5</th>\n",
       "      <td>Needed this tool to really break down my G22, ...</td>\n",
       "      <td>1</td>\n",
       "    </tr>\n",
       "    <tr>\n",
       "      <th>6</th>\n",
       "      <td>If u don't have it .. Get it. All you need to ...</td>\n",
       "      <td>1</td>\n",
       "    </tr>\n",
       "    <tr>\n",
       "      <th>7</th>\n",
       "      <td>This light will no doubt capture the attention...</td>\n",
       "      <td>1</td>\n",
       "    </tr>\n",
       "    <tr>\n",
       "      <th>8</th>\n",
       "      <td>Light and laser torch work well, very bright. ...</td>\n",
       "      <td>1</td>\n",
       "    </tr>\n",
       "    <tr>\n",
       "      <th>9</th>\n",
       "      <td>Does everything it says it will do. I would li...</td>\n",
       "      <td>1</td>\n",
       "    </tr>\n",
       "  </tbody>\n",
       "</table>\n",
       "</div>"
      ],
      "text/plain": [
       "                                          reviewText  Sentiment\n",
       "0  This came in on time and I am veru happy with ...          1\n",
       "1  I had a factory Glock tool that I was using fo...          1\n",
       "2  If you don't have a 3/32 punch or would like t...          1\n",
       "3  This works no better than any 3/32 punch you w...          1\n",
       "4  I purchased this thinking maybe I need a speci...          1\n",
       "5  Needed this tool to really break down my G22, ...          1\n",
       "6  If u don't have it .. Get it. All you need to ...          1\n",
       "7  This light will no doubt capture the attention...          1\n",
       "8  Light and laser torch work well, very bright. ...          1\n",
       "9  Does everything it says it will do. I would li...          1"
      ]
     },
     "execution_count": 4,
     "metadata": {},
     "output_type": "execute_result"
    }
   ],
   "source": [
    "df2 = reviews_raw.drop(['reviewerID', 'reviewerName', 'asin', 'helpful', 'reviewTime', 'summary', \n",
    "                       'unixReviewTime'], 1)\n",
    "threshold = 4\n",
    "df2['Sentiment'] = np.where(df2['overall'] >= threshold, 1,0)\n",
    "df2 = df2.drop(['overall'], 1)\n",
    "\n",
    "df2.head(10)"
   ]
  },
  {
   "cell_type": "code",
   "execution_count": 5,
   "metadata": {},
   "outputs": [
    {
     "data": {
      "text/plain": [
       "1    253017\n",
       "0     43320\n",
       "Name: Sentiment, dtype: int64"
      ]
     },
     "execution_count": 5,
     "metadata": {},
     "output_type": "execute_result"
    }
   ],
   "source": [
    "df2['Sentiment'].value_counts()"
   ]
  },
  {
   "cell_type": "code",
   "execution_count": 6,
   "metadata": {},
   "outputs": [
    {
     "data": {
      "text/html": [
       "<div>\n",
       "<style>\n",
       "    .dataframe thead tr:only-child th {\n",
       "        text-align: right;\n",
       "    }\n",
       "\n",
       "    .dataframe thead th {\n",
       "        text-align: left;\n",
       "    }\n",
       "\n",
       "    .dataframe tbody tr th {\n",
       "        vertical-align: top;\n",
       "    }\n",
       "</style>\n",
       "<table border=\"1\" class=\"dataframe\">\n",
       "  <thead>\n",
       "    <tr style=\"text-align: right;\">\n",
       "      <th></th>\n",
       "      <th>reviewText</th>\n",
       "      <th>Sentiment</th>\n",
       "    </tr>\n",
       "  </thead>\n",
       "  <tbody>\n",
       "    <tr>\n",
       "      <th>0</th>\n",
       "      <td>This came in on time and I am veru happy with ...</td>\n",
       "      <td>1</td>\n",
       "    </tr>\n",
       "    <tr>\n",
       "      <th>1</th>\n",
       "      <td>I had a factory Glock tool that I was using fo...</td>\n",
       "      <td>1</td>\n",
       "    </tr>\n",
       "    <tr>\n",
       "      <th>2</th>\n",
       "      <td>If you don't have a 3/32 punch or would like t...</td>\n",
       "      <td>1</td>\n",
       "    </tr>\n",
       "    <tr>\n",
       "      <th>3</th>\n",
       "      <td>This works no better than any 3/32 punch you w...</td>\n",
       "      <td>1</td>\n",
       "    </tr>\n",
       "    <tr>\n",
       "      <th>4</th>\n",
       "      <td>I purchased this thinking maybe I need a speci...</td>\n",
       "      <td>1</td>\n",
       "    </tr>\n",
       "    <tr>\n",
       "      <th>5</th>\n",
       "      <td>Needed this tool to really break down my G22, ...</td>\n",
       "      <td>1</td>\n",
       "    </tr>\n",
       "    <tr>\n",
       "      <th>6</th>\n",
       "      <td>If u don't have it .. Get it. All you need to ...</td>\n",
       "      <td>1</td>\n",
       "    </tr>\n",
       "    <tr>\n",
       "      <th>7</th>\n",
       "      <td>This light will no doubt capture the attention...</td>\n",
       "      <td>1</td>\n",
       "    </tr>\n",
       "    <tr>\n",
       "      <th>8</th>\n",
       "      <td>Light and laser torch work well, very bright. ...</td>\n",
       "      <td>1</td>\n",
       "    </tr>\n",
       "    <tr>\n",
       "      <th>9</th>\n",
       "      <td>Does everything it says it will do. I would li...</td>\n",
       "      <td>1</td>\n",
       "    </tr>\n",
       "  </tbody>\n",
       "</table>\n",
       "</div>"
      ],
      "text/plain": [
       "                                          reviewText  Sentiment\n",
       "0  This came in on time and I am veru happy with ...          1\n",
       "1  I had a factory Glock tool that I was using fo...          1\n",
       "2  If you don't have a 3/32 punch or would like t...          1\n",
       "3  This works no better than any 3/32 punch you w...          1\n",
       "4  I purchased this thinking maybe I need a speci...          1\n",
       "5  Needed this tool to really break down my G22, ...          1\n",
       "6  If u don't have it .. Get it. All you need to ...          1\n",
       "7  This light will no doubt capture the attention...          1\n",
       "8  Light and laser torch work well, very bright. ...          1\n",
       "9  Does everything it says it will do. I would li...          1"
      ]
     },
     "execution_count": 6,
     "metadata": {},
     "output_type": "execute_result"
    }
   ],
   "source": [
    "# Utility function for standard text cleaning.\n",
    "def text_cleaner(text):\n",
    "    # Visual inspection identifies a form of punctuation spaCy does not\n",
    "    # recognize: the double dash '--'.  Better get rid of it now!\n",
    "    text = re.sub(r'--',' ',text)\n",
    "    text = re.sub(\"[\\[].*?[\\]]\", \"\", text)\n",
    "    text = ' '.join(text.split())\n",
    "    return text\n",
    "\n",
    "for review in df2['reviewText']:\n",
    "    review = text_cleaner(review)\n",
    "\n",
    "df2.head(10)"
   ]
  },
  {
   "cell_type": "code",
   "execution_count": 7,
   "metadata": {},
   "outputs": [
    {
     "data": {
      "text/plain": [
       "1    43320\n",
       "0    43320\n",
       "Name: Sentiment, dtype: int64"
      ]
     },
     "execution_count": 7,
     "metadata": {},
     "output_type": "execute_result"
    }
   ],
   "source": [
    "positive = df2.loc[df2['Sentiment'] == 1]\n",
    "negative = df2.loc[df2['Sentiment'] == 0]\n",
    "df3 = resample(positive, n_samples=43320)\n",
    "negative = resample(negative, n_samples=43320)\n",
    "df3 = df3.append(negative)\n",
    "df3['Sentiment'].value_counts()"
   ]
  },
  {
   "cell_type": "code",
   "execution_count": 8,
   "metadata": {},
   "outputs": [],
   "source": [
    "X = df3['reviewText']\n",
    "y = df3['Sentiment']\n",
    "\n",
    "X_train, X_test, y_train, y_test = train_test_split(X, y, test_size=0.33, random_state=42)\n",
    "vect2 = TfidfVectorizer(min_df=20, analyzer = 'word', stop_words = 'english', ngram_range = (1,2) ).fit(X_train)\n",
    "\n",
    "X_train_vectorized = vect2.transform(X_train)\n",
    "X_test_vectorized = vect2.transform(X_test)\n"
   ]
  },
  {
   "cell_type": "code",
   "execution_count": 9,
   "metadata": {
    "collapsed": true
   },
   "outputs": [],
   "source": [
    "def testing_func(model):\n",
    "    \n",
    "    model.fit(X_train_vectorized, y_train)\n",
    "    model.fit(X_test_vectorized, y_test)\n",
    "\n",
    "    # Inspect the results.\n",
    "    print('\\nR-squared for the Training Set:')\n",
    "    print(model.score(X_train_vectorized, y_train))\n",
    "    print('\\nR-squared for the Test Set with PCA:')\n",
    "    print(model.score(X_test_vectorized, y_test))\n",
    "    print('Cross Validation Scores with 10 folds for PCA: {}'.format(cross_val_score(model, X_train_vectorized, y_train, cv=10)))"
   ]
  },
  {
   "cell_type": "code",
   "execution_count": 10,
   "metadata": {},
   "outputs": [
    {
     "name": "stdout",
     "output_type": "stream",
     "text": [
      "\n",
      "R-squared for the Training Set:\n",
      "0.735684261301\n",
      "\n",
      "R-squared for the Test Set with PCA:\n",
      "0.778609401231\n",
      "Cross Validation Scores with 10 folds for PCA: [ 0.72868217  0.73970715  0.73936262  0.74074074  0.75021533  0.73488372\n",
      "  0.75159345  0.73936262  0.73608958  0.73255213]\n",
      "It took the following time to complete this task: 0:00:01.821072\n"
     ]
    }
   ],
   "source": [
    "start = datetime.now()\n",
    "#Let's put our variables through Naive Bayes.\n",
    "bnb = BernoulliNB(alpha=1.0, binarize=0.0, class_prior=None, fit_prior=True)\n",
    "\n",
    "testing_func(bnb)\n",
    "print('It took the following time to complete this task:', datetime.now() - start)"
   ]
  },
  {
   "cell_type": "code",
   "execution_count": 11,
   "metadata": {},
   "outputs": [
    {
     "name": "stdout",
     "output_type": "stream",
     "text": [
      "\n",
      "R-squared for the Training Set:\n",
      "0.789363974642\n",
      "\n",
      "R-squared for the Test Set with PCA:\n",
      "0.824986010073\n",
      "Cross Validation Scores with 10 folds for PCA: [ 0.80861326  0.79534884  0.81171404  0.80551249  0.80999139  0.81343669\n",
      "  0.8124031   0.79310939  0.80017227  0.79958642]\n",
      "It took the following time to complete this task: 0:00:19.646285\n"
     ]
    }
   ],
   "source": [
    "start = datetime.now()\n",
    "#Let's pop those into the model\n",
    "lr = LogisticRegression(C=1, penalty='l1')\n",
    "testing_func(lr)\n",
    "\n",
    "print('It took the following time to complete this task:', datetime.now() - start)"
   ]
  },
  {
   "cell_type": "code",
   "execution_count": 12,
   "metadata": {},
   "outputs": [
    {
     "name": "stdout",
     "output_type": "stream",
     "text": [
      "\n",
      "R-squared for the Training Set:\n",
      "0.80092337376\n",
      "\n",
      "R-squared for the Test Set with PCA:\n",
      "0.860695299384\n",
      "Cross Validation Scores with 10 folds for PCA: [ 0.82411714  0.80620155  0.82222222  0.81567614  0.81929371  0.81533161\n",
      "  0.82239449  0.8089578   0.81360896  0.80940893]\n",
      "It took the following time to complete this task: 0:00:16.423998\n"
     ]
    }
   ],
   "source": [
    "start = datetime.now()\n",
    "#Let's pop those into the model\n",
    "lr = LogisticRegression(C=1, penalty='l2')\n",
    "testing_func(lr)\n",
    "\n",
    "print('It took the following time to complete this task:', datetime.now() - start)"
   ]
  },
  {
   "cell_type": "code",
   "execution_count": 13,
   "metadata": {},
   "outputs": [
    {
     "name": "stdout",
     "output_type": "stream",
     "text": [
      "\n",
      "R-squared for the Training Set:\n",
      "0.648342750827\n",
      "\n",
      "R-squared for the Test Set with PCA:\n",
      "0.660534415221\n",
      "Cross Validation Scores with 10 folds for PCA: [ 0.65185185  0.63927649  0.64857881  0.64788975  0.65770887  0.65099053\n",
      "  0.65822567  0.64633936  0.64651163  0.63846286]\n",
      "It took the following time to complete this task: 0:01:18.690858\n"
     ]
    }
   ],
   "source": [
    "start = datetime.now()\n",
    "clf = DecisionTreeClassifier(max_depth=8, random_state=0)\n",
    "testing_func(clf)\n",
    "\n",
    "print('It took the following time to complete this task:', datetime.now() - start)"
   ]
  },
  {
   "cell_type": "code",
   "execution_count": 14,
   "metadata": {},
   "outputs": [
    {
     "name": "stdout",
     "output_type": "stream",
     "text": [
      "\n",
      "R-squared for the Training Set:\n",
      "0.671392640573\n",
      "\n",
      "R-squared for the Test Set with PCA:\n",
      "0.678616396195\n",
      "Cross Validation Scores with 10 folds for PCA: [ 0.66287683  0.65219638  0.66046512  0.65925926  0.67459087  0.66907838\n",
      "  0.66925065  0.66080965  0.66356589  0.64759607]\n",
      "It took the following time to complete this task: 0:02:46.697318\n"
     ]
    }
   ],
   "source": [
    "start = datetime.now()\n",
    "#Now let's model with Gradient Boosting\n",
    "clf = GradientBoostingClassifier(loss='deviance', learning_rate=1.0, n_estimators=10, subsample=1.0, \n",
    "                                          criterion='friedman_mse', min_samples_split=4, min_samples_leaf=1, \n",
    "                                          min_weight_fraction_leaf=0.0, max_depth=2, min_impurity_decrease=0.0, \n",
    "                                          min_impurity_split=None, init=None, random_state=None, max_features=None, \n",
    "                                          verbose=0, max_leaf_nodes=None, warm_start=False, presort='auto')\n",
    "\n",
    "testing_func(clf)\n",
    "print('It took the following time to complete this task:', datetime.now() - start)"
   ]
  },
  {
   "cell_type": "markdown",
   "metadata": {},
   "source": [
    "Althought Bernoulli Bayes works fairly well, Ridge and Lasso Regression performed the best of all the models with around 0.80 Accuracy with similar scores on the Cross Validation/Test meaning that it likely isn't overfitting the data."
   ]
  }
 ],
 "metadata": {
  "kernelspec": {
   "display_name": "Python 3",
   "language": "python",
   "name": "python3"
  },
  "language_info": {
   "codemirror_mode": {
    "name": "ipython",
    "version": 3
   },
   "file_extension": ".py",
   "mimetype": "text/x-python",
   "name": "python",
   "nbconvert_exporter": "python",
   "pygments_lexer": "ipython3",
   "version": "3.6.1"
  }
 },
 "nbformat": 4,
 "nbformat_minor": 2
}
