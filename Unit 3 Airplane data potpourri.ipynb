{
 "cells": [
  {
   "cell_type": "code",
   "execution_count": 1,
   "metadata": {
    "collapsed": true
   },
   "outputs": [],
   "source": [
    "import numpy as np\n",
    "import pandas as pd\n",
    "import scipy\n",
    "import matplotlib.pyplot as plt\n",
    "import seaborn as sns\n",
    "\n",
    "from sklearn.preprocessing import StandardScaler\n",
    "from sklearn.model_selection import cross_val_score\n",
    "from sklearn.utils import resample\n",
    "from sklearn.model_selection import train_test_split\n",
    "from sklearn.feature_selection import RFECV\n",
    "from sklearn.decomposition import PCA\n",
    "from sklearn.neighbors import KNeighborsClassifier\n",
    "from sklearn.linear_model import LogisticRegression\n",
    "from sklearn.tree import DecisionTreeClassifier\n",
    "from sklearn.ensemble import GradientBoostingClassifier\n",
    "from sklearn.feature_selection import SelectFromModel\n",
    "from sklearn.ensemble import RandomForestClassifier\n",
    "from datetime import datetime\n",
    "main_start = datetime.now()\n",
    "%matplotlib inline"
   ]
  },
  {
   "cell_type": "code",
   "execution_count": 2,
   "metadata": {},
   "outputs": [
    {
     "data": {
      "text/plain": [
       "['Year',\n",
       " 'Month',\n",
       " 'DayofMonth',\n",
       " 'DayOfWeek',\n",
       " 'DepTime',\n",
       " 'CRSDepTime',\n",
       " 'ArrTime',\n",
       " 'CRSArrTime',\n",
       " 'UniqueCarrier',\n",
       " 'FlightNum',\n",
       " 'TailNum',\n",
       " 'ActualElapsedTime',\n",
       " 'CRSElapsedTime',\n",
       " 'AirTime',\n",
       " 'ArrDelay',\n",
       " 'DepDelay',\n",
       " 'Origin',\n",
       " 'Dest',\n",
       " 'Distance',\n",
       " 'TaxiIn',\n",
       " 'TaxiOut',\n",
       " 'Cancelled',\n",
       " 'CancellationCode',\n",
       " 'Diverted',\n",
       " 'CarrierDelay',\n",
       " 'WeatherDelay',\n",
       " 'NASDelay',\n",
       " 'SecurityDelay',\n",
       " 'LateAircraftDelay']"
      ]
     },
     "execution_count": 2,
     "metadata": {},
     "output_type": "execute_result"
    }
   ],
   "source": [
    "raw_data = pd.read_csv('2007.csv')\n",
    "list(raw_data.columns)\n"
   ]
  },
  {
   "cell_type": "code",
   "execution_count": 3,
   "metadata": {},
   "outputs": [
    {
     "data": {
      "text/plain": [
       "Year                   int64\n",
       "Month                  int64\n",
       "DayofMonth             int64\n",
       "DayOfWeek              int64\n",
       "DepTime              float64\n",
       "CRSDepTime             int64\n",
       "ArrTime              float64\n",
       "CRSArrTime             int64\n",
       "UniqueCarrier         object\n",
       "FlightNum              int64\n",
       "TailNum               object\n",
       "ActualElapsedTime    float64\n",
       "CRSElapsedTime       float64\n",
       "AirTime              float64\n",
       "ArrDelay             float64\n",
       "DepDelay             float64\n",
       "Origin                object\n",
       "Dest                  object\n",
       "Distance               int64\n",
       "TaxiIn                 int64\n",
       "TaxiOut                int64\n",
       "Cancelled              int64\n",
       "CancellationCode      object\n",
       "Diverted               int64\n",
       "CarrierDelay           int64\n",
       "WeatherDelay           int64\n",
       "NASDelay               int64\n",
       "SecurityDelay          int64\n",
       "LateAircraftDelay      int64\n",
       "dtype: object"
      ]
     },
     "execution_count": 3,
     "metadata": {},
     "output_type": "execute_result"
    }
   ],
   "source": [
    "raw_data.dtypes"
   ]
  },
  {
   "cell_type": "code",
   "execution_count": 4,
   "metadata": {},
   "outputs": [
    {
     "data": {
      "text/plain": [
       "DepTime               160748\n",
       "ArrTime               177927\n",
       "TailNum                   22\n",
       "ActualElapsedTime     177927\n",
       "CRSElapsedTime           994\n",
       "AirTime               177927\n",
       "ArrDelay              177927\n",
       "DepDelay              160748\n",
       "CancellationCode     7292466\n",
       "dtype: int64"
      ]
     },
     "execution_count": 4,
     "metadata": {},
     "output_type": "execute_result"
    }
   ],
   "source": [
    "# Count nulls \n",
    "null_count = raw_data.isnull().sum()\n",
    "null_count[null_count>0]"
   ]
  },
  {
   "cell_type": "code",
   "execution_count": 5,
   "metadata": {},
   "outputs": [
    {
     "data": {
      "text/plain": [
       "ArrTime              17179\n",
       "ActualElapsedTime    17179\n",
       "CRSElapsedTime         727\n",
       "AirTime              17179\n",
       "ArrDelay             17179\n",
       "dtype: int64"
      ]
     },
     "execution_count": 5,
     "metadata": {},
     "output_type": "execute_result"
    }
   ],
   "source": [
    "#Get rid of flights that were cancelled since they couldn't be late.\n",
    "df2007 = raw_data[raw_data.CancellationCode.isnull()]\n",
    "\n",
    "#Get rid of Cancellation code since it comes up only when an aircraft is cancelled. We also won't need Year since it's 2007.\n",
    "df2007 = df2007.drop(['Year', 'FlightNum', 'TailNum', 'Dest', 'Cancelled', 'Diverted', 'CancellationCode'], 1)\n",
    "# Count nulls \n",
    "null_count = df2007.isnull().sum()\n",
    "null_count[null_count>0]"
   ]
  },
  {
   "cell_type": "code",
   "execution_count": 6,
   "metadata": {},
   "outputs": [
    {
     "data": {
      "text/plain": [
       "Series([], dtype: int64)"
      ]
     },
     "execution_count": 6,
     "metadata": {},
     "output_type": "execute_result"
    }
   ],
   "source": [
    "#Dropping out cancelled flights got rid of the majority of our nulls. The rest seem to be issues with Arrival time/delay, so let's get rid of them all. \n",
    "df2007 = df2007.dropna()\n",
    "null_count = df2007.isnull().sum()\n",
    "null_count[null_count>0]"
   ]
  },
  {
   "cell_type": "code",
   "execution_count": 7,
   "metadata": {
    "collapsed": true
   },
   "outputs": [],
   "source": [
    "#Turn this into a classification with the definition that a late plane is one that arrives 30 minutes or more late.\n",
    "threshold = 30.0\n",
    "df2007['Late'] = np.where(df2007['ArrDelay'] >= threshold, 1,0)"
   ]
  },
  {
   "cell_type": "code",
   "execution_count": 8,
   "metadata": {},
   "outputs": [
    {
     "name": "stdout",
     "output_type": "stream",
     "text": [
      "0    6177946\n",
      "1    1097341\n",
      "Name: Late, dtype: int64\n"
     ]
    }
   ],
   "source": [
    "print(df2007['Late'].value_counts())"
   ]
  },
  {
   "cell_type": "code",
   "execution_count": 9,
   "metadata": {},
   "outputs": [
    {
     "data": {
      "text/plain": [
       "1    1097341\n",
       "0    1097341\n",
       "Name: Late, dtype: int64"
      ]
     },
     "execution_count": 9,
     "metadata": {},
     "output_type": "execute_result"
    }
   ],
   "source": [
    "airlines_ontime = df2007[df2007.Late == 0]\n",
    "airlines_delay = df2007[df2007.Late == 1]\n",
    "\n",
    "df3 = resample(airlines_ontime, n_samples=1097341)\n",
    "\n",
    "\n",
    "df3 = df3.append(airlines_delay)\n",
    "df3['Late'].value_counts()"
   ]
  },
  {
   "cell_type": "code",
   "execution_count": 10,
   "metadata": {},
   "outputs": [
    {
     "name": "stdout",
     "output_type": "stream",
     "text": [
      "It took the following time to complete this task: 0:07:08.549795\n"
     ]
    },
    {
     "data": {
      "image/png": "[encoded data removed]",
      "text/plain": [
       "<matplotlib.figure.Figure at 0x13b015ba8>"
      ]
     },
     "metadata": {},
     "output_type": "display_data"
    }
   ],
   "source": [
    "start = datetime.now()\n",
    "# Remove some features that occur after a plane has taken off.\n",
    "df3 = df3.drop(['ArrTime', 'CRSArrTime', 'ActualElapsedTime', 'CRSElapsedTime', 'AirTime'], 1)\n",
    "#Turn the string features into dummies\n",
    "df3 = pd.get_dummies(df3, columns=['Origin', 'UniqueCarrier'])\n",
    "sns.heatmap(df3.corr())\n",
    "print('It took the following time to complete this task:', datetime.now() - start)"
   ]
  },
  {
   "cell_type": "code",
   "execution_count": 11,
   "metadata": {
    "collapsed": true
   },
   "outputs": [],
   "source": [
    "X = df3.drop(['ArrDelay', 'Late'], 1)\n",
    "y = df3['Late']\n",
    "X_train, X_test, y_train, y_test = train_test_split(X, y, test_size=0.2, random_state=42)"
   ]
  },
  {
   "cell_type": "code",
   "execution_count": 12,
   "metadata": {},
   "outputs": [
    {
     "data": {
      "image/png": "[encoded data removed]",
      "text/plain": [
       "<matplotlib.figure.Figure at 0x11ba73208>"
      ]
     },
     "metadata": {},
     "output_type": "display_data"
    }
   ],
   "source": [
    "# Normalize the data so that all variables have a mean of 0 and standard deviation\n",
    "# of 1.\n",
    "X = StandardScaler().fit_transform(X_train)\n",
    "\n",
    "# The NumPy covariance function assumes that variables are represented by rows,\n",
    "# not columns, so we transpose X.\n",
    "Xt = X.T\n",
    "Cx = np.cov(Xt)\n",
    "# Calculating eigenvalues and eigenvectors.\n",
    "eig_val_cov, eig_vec_cov = np.linalg.eig(Cx)\n",
    "\n",
    "plt.plot(eig_val_cov)\n",
    "plt.show()"
   ]
  },
  {
   "cell_type": "code",
   "execution_count": 13,
   "metadata": {
    "collapsed": true
   },
   "outputs": [],
   "source": [
    "#Select features with PCA\n",
    "pca = PCA(n_components=5)\n",
    "X_std_pca = pca.fit_transform(X_train)\n",
    "X1 = pd.DataFrame(X_std_pca)\n",
    "\n",
    "#Now for the Test\n",
    "pca = PCA(n_components=5)\n",
    "X_std_pca = pca.fit_transform(X_test)\n",
    "X1_test = pd.DataFrame(X_std_pca)"
   ]
  },
  {
   "cell_type": "code",
   "execution_count": 14,
   "metadata": {
    "scrolled": false
   },
   "outputs": [
    {
     "name": "stdout",
     "output_type": "stream",
     "text": [
      "('Month', 0.0061010316332905483)\n",
      "('DayofMonth', 0.0059711957343694735)\n",
      "('DayOfWeek', 0.0040945433923833064)\n",
      "('DepTime', 0.029957897231823696)\n",
      "('CRSDepTime', 0.020784931908861649)\n",
      "('DepDelay', 0.34480279922070617)\n",
      "('Distance', 0.0071414633226239759)\n",
      "('TaxiIn', 0.010398465802606687)\n",
      "('TaxiOut', 0.049479778324953448)\n",
      "('CarrierDelay', 0.12877705660662164)\n",
      "('WeatherDelay', 0.022294760130636852)\n",
      "('NASDelay', 0.19428126225993886)\n",
      "('SecurityDelay', 0.00095056400523359837)\n",
      "('LateAircraftDelay', 0.14668511129375553)\n",
      "('Origin_ABE', 1.3875020199818555e-05)\n",
      "('Origin_ABI', 3.9453524656133503e-06)\n",
      "('Origin_ABQ', 7.2843744821940757e-05)\n",
      "('Origin_ABY', 4.0783846878517609e-06)\n",
      "('Origin_ACK', 2.2324949450769445e-06)\n",
      "('Origin_ACT', 3.5133808844205851e-06)\n",
      "('Origin_ACV', 1.635711217171827e-05)\n",
      "('Origin_ACY', 4.4187384470702334e-06)\n",
      "('Origin_ADK', 5.5157036898583859e-07)\n",
      "('Origin_ADQ', 4.7141292587170265e-06)\n",
      "('Origin_AEX', 1.0872162047495318e-05)\n",
      "('Origin_AGS', 6.2701588398887095e-06)\n",
      "('Origin_AKN', 2.7296095266816211e-06)\n",
      "('Origin_ALB', 4.2153833595386025e-05)\n",
      "('Origin_ALO', 6.2282092728253005e-07)\n",
      "('Origin_AMA', 1.9418590971273036e-05)\n",
      "('Origin_ANC', 4.6258383070276356e-05)\n",
      "('Origin_APF', 1.827187139772326e-06)\n",
      "('Origin_ASE', 1.723087773414077e-05)\n",
      "('Origin_ATL', 0.00046105495593325033)\n",
      "('Origin_ATW', 1.8419321706231103e-05)\n",
      "('Origin_AUS', 9.0499583108169255e-05)\n",
      "('Origin_AVL', 1.2528380142885831e-05)\n",
      "('Origin_AVP', 1.0293642227950948e-05)\n",
      "('Origin_AZO', 1.4687280339401754e-05)\n",
      "('Origin_BDL', 8.2366645659538465e-05)\n",
      "('Origin_BET', 2.9060669035063109e-06)\n",
      "('Origin_BFL', 9.0399123622279893e-06)\n",
      "('Origin_BGM', 3.1948800386789163e-06)\n",
      "('Origin_BGR', 1.7874763276705507e-05)\n",
      "('Origin_BHM', 5.3738821183753666e-05)\n",
      "('Origin_BIL', 9.2458184325776998e-06)\n",
      "('Origin_BIS', 8.5284942880014342e-06)\n",
      "('Origin_BJI', 6.9327551543753329e-07)\n",
      "('Origin_BLI', 1.7121089378544841e-06)\n",
      "('Origin_BMI', 1.0477271882457037e-05)\n",
      "('Origin_BNA', 0.00010169165543038735)\n",
      "('Origin_BOI', 3.4591505530335632e-05)\n",
      "('Origin_BOS', 0.00024083505960407385)\n",
      "('Origin_BPT', 3.6958393098071409e-07)\n",
      "('Origin_BQK', 2.1705168500848589e-06)\n",
      "('Origin_BQN', 3.0642822594389098e-06)\n",
      "('Origin_BRO', 2.7290510435780409e-06)\n",
      "('Origin_BRW', 3.6915273637878694e-06)\n",
      "('Origin_BTM', 1.3257198340136961e-06)\n",
      "('Origin_BTR', 2.1352609310614138e-05)\n",
      "('Origin_BTV', 2.8429158496492161e-05)\n",
      "('Origin_BUF', 6.9460187332121389e-05)\n",
      "('Origin_BUR', 5.9583996773280081e-05)\n",
      "('Origin_BWI', 0.00017219499108307807)\n",
      "('Origin_BZN', 1.6361991454578296e-05)\n",
      "('Origin_CAE', 3.1606929844986926e-05)\n",
      "('Origin_CAK', 2.4848786012787023e-05)\n",
      "('Origin_CDV', 1.6258009300534037e-06)\n",
      "('Origin_CEC', 1.1441699836347523e-05)\n",
      "('Origin_CHA', 1.3007781869174284e-05)\n",
      "('Origin_CHO', 2.1815567339475597e-06)\n",
      "('Origin_CHS', 4.1639738908525436e-05)\n",
      "('Origin_CIC', 4.3090527724524614e-06)\n",
      "('Origin_CID', 2.7785144863077381e-05)\n",
      "('Origin_CLD', 5.439917331834134e-06)\n",
      "('Origin_CLE', 0.00012817062511918785)\n",
      "('Origin_CLL', 3.653672904814198e-06)\n",
      "('Origin_CLT', 0.00021493331543542796)\n",
      "('Origin_CMH', 9.6651792661823203e-05)\n",
      "('Origin_CMI', 7.406095536753911e-06)\n",
      "('Origin_CMX', 1.3398519544828423e-07)\n",
      "('Origin_COD', 3.9540063691890919e-06)\n",
      "('Origin_COS', 3.8462080877752926e-05)\n",
      "('Origin_CPR', 7.4449117240274594e-06)\n",
      "('Origin_CRP', 1.2880840482762222e-05)\n",
      "('Origin_CRW', 1.2032642853767107e-05)\n",
      "('Origin_CSG', 5.9901196679997207e-06)\n",
      "('Origin_CVG', 0.00018372604667763856)\n",
      "('Origin_CWA', 5.0251795853880382e-06)\n",
      "('Origin_DAB', 1.1573066324151857e-05)\n",
      "('Origin_DAL', 7.8582783437766254e-05)\n",
      "('Origin_DAY', 3.151193078518988e-05)\n",
      "('Origin_DBQ', 4.329188790396742e-06)\n",
      "('Origin_DCA', 0.00017503234859790324)\n",
      "('Origin_DEN', 0.00032498380951902738)\n",
      "('Origin_DFW', 0.00037637228306970828)\n",
      "('Origin_DHN', 4.6150671984390162e-06)\n",
      "('Origin_DLG', 2.0201063893074062e-06)\n",
      "('Origin_DLH', 4.9990253432315136e-06)\n",
      "('Origin_DRO', 8.4493486498207465e-06)\n",
      "('Origin_DSM', 4.1047841283146915e-05)\n",
      "('Origin_DTW', 0.00027821768650180341)\n",
      "('Origin_EAU', 1.9111709915208378e-07)\n",
      "('Origin_EGE', 1.1980194778307116e-05)\n",
      "('Origin_EKO', 3.1455429276280933e-06)\n",
      "('Origin_ELM', 1.9451354886329253e-06)\n",
      "('Origin_ELP', 3.962118926177809e-05)\n",
      "('Origin_ERI', 4.4469690832366556e-06)\n",
      "('Origin_EUG', 1.2901799306257352e-05)\n",
      "('Origin_EVV', 1.1765308085793186e-05)\n",
      "('Origin_EWN', 3.4208618587125157e-06)\n",
      "('Origin_EWR', 0.00060529538715432167)\n",
      "('Origin_EYW', 6.0060566400986897e-06)\n",
      "('Origin_FAI', 1.0594914396297799e-05)\n",
      "('Origin_FAR', 1.4222475368495629e-05)\n",
      "('Origin_FAT', 2.8639883701925961e-05)\n",
      "('Origin_FAY', 7.6453046301101121e-06)\n",
      "('Origin_FCA', 1.0442396684463849e-05)\n",
      "('Origin_FLG', 3.7181383487492419e-06)\n",
      "('Origin_FLL', 0.00013702626923690987)\n",
      "('Origin_FLO', 2.3424316160257974e-06)\n",
      "('Origin_FNT', 1.9628251422783623e-05)\n",
      "('Origin_FSD', 2.1062276930290324e-05)\n",
      "('Origin_FSM', 7.6607657675444605e-06)\n",
      "('Origin_FWA', 1.7402233156535735e-05)\n",
      "('Origin_GEG', 3.1116057483906807e-05)\n",
      "('Origin_GFK', 3.4166562109957974e-06)\n",
      "('Origin_GGG', 2.0106622184770261e-06)\n",
      "('Origin_GJT', 1.0863870751501977e-05)\n",
      "('Origin_GNV', 7.4944378211547475e-06)\n",
      "('Origin_GPT', 1.8175620122592048e-05)\n",
      "('Origin_GRB', 2.0143642008226882e-05)\n",
      "('Origin_GRK', 1.0705822770011579e-05)\n",
      "('Origin_GRR', 3.8612542294848169e-05)\n",
      "('Origin_GSO', 3.8011935060825704e-05)\n",
      "('Origin_GSP', 2.8509485251513685e-05)\n",
      "('Origin_GST', 1.8779387039297519e-07)\n",
      "('Origin_GTF', 8.5685332349409658e-06)\n",
      "('Origin_GTR', 3.7246725591887035e-06)\n",
      "('Origin_GUC', 3.3032605767329244e-06)\n",
      "('Origin_HDN', 1.0729646553120643e-05)\n",
      "('Origin_HHH', 2.9745168629026496e-06)\n",
      "('Origin_HLN', 4.2215673573277319e-06)\n",
      "('Origin_HNL', 0.00035772830142591301)\n",
      "('Origin_HOU', 8.536279941578418e-05)\n",
      "('Origin_HPN', 4.2832059247122588e-05)\n",
      "('Origin_HRL', 8.4591189180977521e-06)\n",
      "('Origin_HSV', 2.6829971847023504e-05)\n",
      "('Origin_HTS', 7.7524004102165873e-07)\n",
      "('Origin_IAD', 0.00019849737382843539)\n",
      "('Origin_IAH', 0.00027330435598474118)\n",
      "('Origin_ICT', 3.6610143858590462e-05)\n",
      "('Origin_IDA', 7.0503254568893771e-06)\n",
      "('Origin_ILG', 4.0412270441264085e-06)\n",
      "('Origin_ILM', 1.3204315494988434e-05)\n",
      "('Origin_IND', 9.4289403947146448e-05)\n",
      "('Origin_INL', 1.0557668171445222e-06)\n",
      "('Origin_IPL', 2.5319372974675697e-06)\n",
      "('Origin_ISO', 9.0054468754367348e-09)\n",
      "('Origin_ISP', 2.2783078424148396e-05)\n",
      "('Origin_ITO', 2.5566488748979682e-05)\n",
      "('Origin_IYK', 1.1196241002077514e-06)\n",
      "('Origin_JAC', 1.3030176848710776e-05)\n",
      "('Origin_JAN', 2.5877854353085141e-05)\n",
      "('Origin_JAX', 7.8767173656768314e-05)\n",
      "('Origin_JFK', 0.00062523877445589532)\n",
      "('Origin_JNU', 1.3346747683856777e-05)\n",
      "('Origin_KOA', 5.8391593620927611e-05)\n",
      "('Origin_KTN', 5.2211296386262657e-06)\n",
      "('Origin_LAN', 1.2821895689834528e-05)\n",
      "('Origin_LAS', 0.00029234568763052658)\n",
      "('Origin_LAW', 3.8321528701422878e-06)\n",
      "('Origin_LAX', 0.00034684846730659405)\n",
      "('Origin_LBB', 1.8431952369443501e-05)\n",
      "('Origin_LCH', 3.2498537710626979e-06)\n",
      "('Origin_LEX', 2.1114472341017202e-05)\n",
      "('Origin_LFT', 1.2716480999092086e-05)\n",
      "('Origin_LGA', 0.00042153002703370685)\n",
      "('Origin_LGB', 3.6301401376116761e-05)\n",
      "('Origin_LIH', 4.2905951725994336e-05)\n",
      "('Origin_LIT', 3.8745616183519494e-05)\n",
      "('Origin_LNK', 9.2066358172132828e-06)\n",
      "('Origin_LRD', 5.9793849079306693e-06)\n",
      "('Origin_LSE', 6.0780134040965347e-06)\n",
      "('Origin_LWB', 3.0339864358701821e-06)\n",
      "('Origin_LWS', 1.4052503178223025e-06)\n",
      "('Origin_LYH', 3.2628163542972321e-06)\n",
      "('Origin_MAF', 1.4241613094451732e-05)\n",
      "('Origin_MBS', 1.010282566565326e-05)\n",
      "('Origin_MCI', 0.00011688857385806878)\n",
      "('Origin_MCN', 3.3744437269237575e-06)\n",
      "('Origin_MCO', 0.00020145255868110476)\n",
      "('Origin_MDT', 2.3863850601181106e-05)\n",
      "('Origin_MDW', 0.00013668450290310383)\n",
      "('Origin_MEI', 3.2502518683405948e-06)\n",
      "('Origin_MEM', 0.00013263740809408973)\n",
      "('Origin_MFE', 1.0382893751220689e-05)\n",
      "('Origin_MFR', 1.2118036063893261e-05)\n",
      "('Origin_MGM', 1.086533437414396e-05)\n",
      "('Origin_MHT', 5.3500616602175615e-05)\n",
      "('Origin_MIA', 0.00012798776749714549)\n",
      "('Origin_MKE', 8.1066538938372025e-05)\n",
      "('Origin_MLB', 5.9876785843428634e-06)\n",
      "('Origin_MLI', 2.1940271540672949e-05)\n",
      "('Origin_MLU', 6.7307144186195768e-06)\n",
      "('Origin_MOB', 1.7161514173653819e-05)\n",
      "('Origin_MOD', 9.0376024630308081e-06)\n",
      "('Origin_MOT', 2.9167213782858641e-06)\n",
      "('Origin_MQT', 2.2746936144529063e-06)\n",
      "('Origin_MRY', 1.8853025006098497e-05)\n",
      "('Origin_MSN', 3.6845411830043155e-05)\n",
      "('Origin_MSO', 9.1551820358829185e-06)\n",
      "('Origin_MSP', 0.00023510938831394917)\n",
      "('Origin_MSY', 8.0409826110770078e-05)\n",
      "('Origin_MTH', 3.8073549119630095e-07)\n",
      "('Origin_MTJ', 1.1975319487233784e-05)\n",
      "('Origin_MYR', 2.1763177629521679e-05)\n",
      "('Origin_OAJ', 4.4678078023073188e-06)\n",
      "('Origin_OAK', 0.00014760851028060621)\n",
      "('Origin_OGG', 9.0794785668478367e-05)\n",
      "('Origin_OKC', 5.515224524765346e-05)\n",
      "('Origin_OMA', 6.4324957111232313e-05)\n",
      "('Origin_OME', 4.1290475445409359e-06)\n",
      "('Origin_ONT', 7.3959911941624972e-05)\n",
      "('Origin_ORD', 0.00095414029296348607)\n",
      "('Origin_ORF', 4.7533385357317976e-05)\n",
      "('Origin_OTZ', 3.3236127974270227e-06)\n",
      "('Origin_OXR', 1.7557797776734446e-06)\n",
      "('Origin_PBI', 7.4177019482554951e-05)\n",
      "('Origin_PDX', 9.6884822917321271e-05)\n",
      "('Origin_PFN', 8.3199098338196409e-06)\n",
      "('Origin_PHF', 1.482901554246924e-05)\n",
      "('Origin_PHL', 0.00030411854176605197)\n",
      "('Origin_PHX', 0.00030273590926642544)\n",
      "('Origin_PIA', 1.5577594174499777e-05)\n",
      "('Origin_PIH', 2.5514407754023881e-06)\n",
      "('Origin_PIR', 1.3650910050988153e-07)\n",
      "('Origin_PIT', 0.0001189792337116494)\n",
      "('Origin_PLN', 8.9076100692921877e-07)\n",
      "('Origin_PMD', 1.1510847056701244e-06)\n",
      "('Origin_PNS', 2.4860263728085173e-05)\n",
      "('Origin_PSC', 5.4367574961957368e-06)\n",
      "('Origin_PSE', 3.0718007048084044e-06)\n",
      "('Origin_PSG', 3.4216105683747564e-06)\n",
      "('Origin_PSP', 2.7285133746420542e-05)\n",
      "('Origin_PVD', 6.328617653113894e-05)\n",
      "('Origin_PWM', 2.732673205148777e-05)\n",
      "('Origin_RAP', 1.0640290970432266e-05)\n",
      "('Origin_RDD', 4.9726774109142652e-06)\n",
      "('Origin_RDM', 6.9088548325488728e-06)\n",
      "('Origin_RDU', 0.00013493276862351582)\n",
      "('Origin_RFD', 2.4813978756563765e-06)\n",
      "('Origin_RHI', 6.1330449341365025e-07)\n",
      "('Origin_RIC', 4.8281235339836371e-05)\n",
      "('Origin_RNO', 5.1452727970517927e-05)\n",
      "('Origin_ROA', 1.1534464062239013e-05)\n",
      "('Origin_ROC', 5.8404383601558333e-05)\n",
      "('Origin_ROW', 5.5059652791342802e-07)\n",
      "('Origin_RST', 1.0585713007325608e-05)\n",
      "('Origin_RSW', 6.3959804731023506e-05)\n",
      "('Origin_SAN', 0.00017641364737489525)\n",
      "('Origin_SAT', 8.8572773940949717e-05)\n",
      "('Origin_SAV', 3.437834421491856e-05)\n",
      "('Origin_SBA', 2.7153923934681363e-05)\n",
      "('Origin_SBN', 1.7625704959915792e-05)\n",
      "('Origin_SBP', 1.1112671937911583e-05)\n",
      "('Origin_SCC', 2.7888964009388714e-06)\n",
      "('Origin_SCE', 3.4836258926780057e-06)\n",
      "('Origin_SDF', 5.0294043604669588e-05)\n",
      "('Origin_SEA', 0.00017755782983885216)\n",
      "('Origin_SFO', 0.00026802086999885995)\n",
      "('Origin_SGF', 2.5765131694991922e-05)\n",
      "('Origin_SGU', 5.5650687842495492e-06)\n",
      "('Origin_SHV', 1.8730149483276951e-05)\n",
      "('Origin_SIT', 2.5785169083037112e-06)\n",
      "('Origin_SJC', 0.00012678289821982115)\n",
      "('Origin_SJT', 3.5940528176494361e-06)\n",
      "('Origin_SJU', 5.9333177278026354e-05)\n",
      "('Origin_SLC', 0.0003093517191440622)\n",
      "('Origin_SLE', 1.1365172375353892e-06)\n",
      "('Origin_SMF', 0.00010517637113764817)\n",
      "('Origin_SMX', 4.6378416410538066e-06)\n",
      "('Origin_SNA', 0.00010833703064531376)\n",
      "('Origin_SOP', 1.0334091908299805e-06)\n",
      "('Origin_SPI', 6.0903707347823578e-06)\n",
      "('Origin_SPS', 4.1357249669059062e-06)\n",
      "('Origin_SRQ', 1.8413721489864731e-05)\n",
      "('Origin_STL', 0.00011350715747080419)\n",
      "('Origin_STT', 1.7762438740723274e-05)\n",
      "('Origin_STX', 3.2131811930101401e-06)\n",
      "('Origin_SUN', 5.6191930831425827e-06)\n",
      "('Origin_SUX', 7.0681963517631459e-07)\n",
      "('Origin_SWF', 2.0464106821161748e-05)\n",
      "('Origin_SYR', 4.6027969876581823e-05)\n",
      "('Origin_TEX', 1.2990874043555635e-06)\n",
      "('Origin_TLH', 1.2842728109616875e-05)\n",
      "('Origin_TOL', 4.4026759548763615e-06)\n",
      "('Origin_TPA', 0.00013742814880011138)\n",
      "('Origin_TRI', 4.1482396231634932e-06)\n",
      "('Origin_TTN', 2.9687823130097493e-06)\n",
      "('Origin_TUL', 5.2336790371742069e-05)\n",
      "('Origin_TUP', 9.9190854459849342e-07)\n",
      "('Origin_TUS', 5.3706791661318054e-05)\n",
      "('Origin_TVC', 1.1660612948434359e-05)\n",
      "('Origin_TWF', 4.6794345008910887e-06)\n",
      "('Origin_TXK', 3.504207886950979e-06)\n",
      "('Origin_TYR', 4.169075888159937e-06)\n",
      "('Origin_TYS', 3.0966573222216236e-05)\n",
      "('Origin_VLD', 4.1596053042201554e-06)\n",
      "('Origin_VPS', 1.9662887788106629e-05)\n",
      "('Origin_WRG', 2.5761490501444357e-06)\n",
      "('Origin_WYS', 5.7465492595170859e-07)\n",
      "('Origin_XNA', 3.8636398105285012e-05)\n",
      "('Origin_YAK', 2.0242804503624948e-06)\n",
      "('Origin_YKM', 2.5698857354754766e-06)\n",
      "('Origin_YUM', 8.3156758297741451e-06)\n",
      "('UniqueCarrier_9E', 0.00027975380236180372)\n",
      "('UniqueCarrier_AA', 0.00065160562342012692)\n",
      "('UniqueCarrier_AQ', 0.00022560898168084574)\n",
      "('UniqueCarrier_AS', 0.00018724472277926307)\n",
      "('UniqueCarrier_B6', 0.00030070518784296125)\n",
      "('UniqueCarrier_CO', 0.00041783776013541837)\n",
      "('UniqueCarrier_DL', 0.00062714032634473736)\n",
      "('UniqueCarrier_EV', 0.0011023209113969934)\n",
      "('UniqueCarrier_F9', 0.00026166142577632766)\n",
      "('UniqueCarrier_FL', 0.00035389178211448651)\n",
      "('UniqueCarrier_HA', 0.00044738972207943132)\n",
      "('UniqueCarrier_MQ', 0.00045905458013937282)\n",
      "('UniqueCarrier_NW', 0.00048599769202346642)\n",
      "('UniqueCarrier_OH', 0.00061041398656446518)\n",
      "('UniqueCarrier_OO', 0.0018177862027594334)\n",
      "('UniqueCarrier_UA', 0.00046758476225781416)\n",
      "('UniqueCarrier_US', 0.00051783821471038007)\n",
      "('UniqueCarrier_WN', 0.0024586611923150801)\n",
      "('UniqueCarrier_XE', 0.00034680706506875575)\n",
      "('UniqueCarrier_YV', 0.0010336158643504331)\n",
      "It took the following time to complete this task: 1:35:01.533801\n"
     ]
    }
   ],
   "source": [
    "# Let's use Random Forest to select features.\n",
    "start = datetime.now()\n",
    "X = X_train\n",
    "y = y_train\n",
    "clf = RandomForestClassifier(n_estimators=1000, random_state=0, n_jobs=-1)\n",
    "df2 = X.columns.get_values()\n",
    "feat_labels = df2.tolist()\n",
    "\n",
    "# Train the classifier\n",
    "clf.fit(X, y)\n",
    "# Create a selector object that will use the random forest classifier to identify\n",
    "# features that have an importance of more than 0.15\n",
    "for feature in zip(X, clf.feature_importances_):\n",
    "    print(feature)\n",
    "\n",
    "print('It took the following time to complete this task:', datetime.now() - start)"
   ]
  },
  {
   "cell_type": "code",
   "execution_count": 15,
   "metadata": {},
   "outputs": [
    {
     "name": "stdout",
     "output_type": "stream",
     "text": [
      "DepDelay\n",
      "TaxiOut\n",
      "CarrierDelay\n",
      "NASDelay\n",
      "LateAircraftDelay\n",
      "Number of features in this list: 5\n",
      "It took the following time to complete this task: 1:59:34.465862\n"
     ]
    }
   ],
   "source": [
    "start = datetime.now()\n",
    "sfm = SelectFromModel(clf, threshold=0.03)\n",
    "rfcfeature_list =[]\n",
    "# Train the selector\n",
    "sfm.fit(X, y)\n",
    "for feature_list_index in sfm.get_support(indices=True):\n",
    "    rfcfeature_list.append(feat_labels[feature_list_index])\n",
    "    print(feat_labels[feature_list_index])\n",
    "\n",
    "X2 = X_train[rfcfeature_list]\n",
    "X2_test = X_test[rfcfeature_list]\n",
    "     \n",
    "print('Number of features in this list: {}'.format(len(rfcfeature_list)))\n",
    "print('It took the following time to complete this task:', datetime.now() - start)"
   ]
  },
  {
   "cell_type": "code",
   "execution_count": 16,
   "metadata": {
    "collapsed": true
   },
   "outputs": [],
   "source": [
    "def testing_func(model):\n",
    "    model.fit(X1, y)\n",
    "    model.fit(X1_test, y_test)\n",
    "\n",
    "    # Inspect the results.\n",
    "    print('\\nThe accuracy score for the Training Set with PCA:')\n",
    "    print(model.score(X1, y))\n",
    "    print('\\nThe accuracy score for the Test Set with PCA:')\n",
    "    print(model.score(X1_test, y_test))\n",
    "    print('Cross Validation Scores with 10 folds for PCA: {}'.format(cross_val_score(model, X1, y, cv=10)))\n",
    "    model.fit(X2, y)\n",
    "    model.fit(X2_test, y_test)\n",
    "\n",
    "    # Inspect the results.\n",
    "\n",
    "    print('\\nThe accuracy score for the Training Set with Random Forest selected features:')\n",
    "    print(model.score(X2, y))\n",
    "    print('\\nThe accuracy score for the Test Set with Random Forest selected features:')\n",
    "    print(model.score(X2_test, y_test))\n",
    "    print('Cross Validation Scores with 10 folds Random Forest selected features: {}'.format(cross_val_score(model, X2, y, cv=10)))"
   ]
  },
  {
   "cell_type": "code",
   "execution_count": 17,
   "metadata": {},
   "outputs": [
    {
     "name": "stdout",
     "output_type": "stream",
     "text": [
      "\n",
      "R-squared for the Training Set with PCA:\n",
      "0.909771635403\n",
      "\n",
      "R-squared for the Test Set with PCA:\n",
      "0.909349177672\n",
      "Cross Validation Scores with 10 folds for PCA: [ 0.91005035  0.90931511  0.90905881  0.9099644   0.90918359  0.90971898\n",
      "  0.90978163  0.90988415  0.91162701  0.90877351]\n",
      "\n",
      "R-squared for the Training Set with Random Forest selected features:\n",
      "0.978445617103\n",
      "\n",
      "R-squared for the Test Set with Random Forest selected features:\n",
      "0.978274786587\n",
      "Cross Validation Scores with 10 folds Random Forest selected features: [ 0.97836265  0.97819166  0.97822583  0.97869856  0.97832823  0.97816305\n",
      "  0.97831684  0.978875    0.97853896  0.97872122]\n",
      "It took the following time to complete this task: 0:03:00.678160\n"
     ]
    }
   ],
   "source": [
    "start = datetime.now()\n",
    "#Let's pop those into the model\n",
    "lr = LogisticRegression(C=9e9)\n",
    "testing_func(lr)\n",
    "\n",
    "print('It took the following time to complete this task:', datetime.now() - start)"
   ]
  },
  {
   "cell_type": "code",
   "execution_count": 18,
   "metadata": {},
   "outputs": [
    {
     "name": "stdout",
     "output_type": "stream",
     "text": [
      "\n",
      "R-squared for the Training Set with PCA:\n",
      "0.909772204961\n",
      "\n",
      "R-squared for the Test Set with PCA:\n",
      "0.909333230054\n",
      "Cross Validation Scores with 10 folds for PCA: [ 0.91003896  0.90931511  0.90905881  0.91007262  0.9091779   0.90973607\n",
      "  0.90979872  0.90988415  0.91166118  0.9087792 ]\n",
      "\n",
      "R-squared for the Training Set with Random Forest selected features:\n",
      "0.978441060632\n",
      "\n",
      "R-squared for the Test Set with Random Forest selected features:\n",
      "0.978286177743\n",
      "Cross Validation Scores with 10 folds Random Forest selected features: [ 0.97786144  0.97803788  0.97731454  0.97771323  0.97773588  0.97750236\n",
      "  0.97757641  0.97790675  0.97786688  0.97774727]\n",
      "It took the following time to complete this task: 0:14:51.500307\n"
     ]
    }
   ],
   "source": [
    "start = datetime.now()\n",
    "#Let's pop those into the model\n",
    "lr = LogisticRegression(C=1, penalty='l1')\n",
    "testing_func(lr)\n",
    "\n",
    "print('It took the following time to complete this task:', datetime.now() - start)"
   ]
  },
  {
   "cell_type": "code",
   "execution_count": 19,
   "metadata": {},
   "outputs": [
    {
     "name": "stdout",
     "output_type": "stream",
     "text": [
      "\n",
      "R-squared for the Training Set with PCA:\n",
      "0.909773344079\n",
      "\n",
      "R-squared for the Test Set with PCA:\n",
      "0.909349177672\n",
      "Cross Validation Scores with 10 folds for PCA: [ 0.91005035  0.90931511  0.90905881  0.9099644   0.90918929  0.90971898\n",
      "  0.90977593  0.90988415  0.91162131  0.90877351]\n",
      "\n",
      "R-squared for the Training Set with Random Forest selected features:\n",
      "0.978445617103\n",
      "\n",
      "R-squared for the Test Set with Random Forest selected features:\n",
      "0.978288455974\n",
      "Cross Validation Scores with 10 folds Random Forest selected features: [ 0.97836265  0.97817457  0.97823152  0.97869287  0.97832823  0.97816875\n",
      "  0.97831114  0.978875    0.97853896  0.97870983]\n",
      "It took the following time to complete this task: 0:02:44.300297\n"
     ]
    }
   ],
   "source": [
    "start = datetime.now()\n",
    "#Let's pop those into the model\n",
    "lr = LogisticRegression(C=1, penalty='l2')\n",
    "testing_func(lr)\n",
    "\n",
    "print('It took the following time to complete this task:', datetime.now() - start)"
   ]
  },
  {
   "cell_type": "code",
   "execution_count": 20,
   "metadata": {},
   "outputs": [
    {
     "name": "stdout",
     "output_type": "stream",
     "text": [
      "\n",
      "R-squared for the Training Set with PCA:\n",
      "0.90489108612\n",
      "\n",
      "R-squared for the Test Set with PCA:\n",
      "0.904861062066\n",
      "Cross Validation Scores with 10 folds for PCA: [ 0.90510092  0.90450235  0.90463904  0.9044397   0.90315764  0.90389238\n",
      "  0.90438789  0.90410311  0.90628453  0.90438789]\n",
      "\n",
      "R-squared for the Training Set with Random Forest selected features:\n",
      "0.973017152263\n",
      "\n",
      "R-squared for the Test Set with Random Forest selected features:\n",
      "0.972902717246\n",
      "Cross Validation Scores with 10 folds Random Forest selected features: [ 0.97304871  0.97250748  0.97313968  0.97331625  0.97319649  0.97248454\n",
      "  0.97247884  0.97366922  0.97255858  0.97262693]\n",
      "It took the following time to complete this task: 0:03:20.379238\n"
     ]
    }
   ],
   "source": [
    "start = datetime.now()\n",
    "#Now let's model with Gradient Boosting\n",
    "clf = GradientBoostingClassifier(loss='exponential', learning_rate=1.0, n_estimators=5, subsample=1.0, \n",
    "                                          criterion='friedman_mse', min_samples_split=4, min_samples_leaf=1, \n",
    "                                          min_weight_fraction_leaf=0.0, max_depth=2, min_impurity_decrease=0.0, \n",
    "                                          min_impurity_split=None, init=None, random_state=None, max_features=None, \n",
    "                                          verbose=0, max_leaf_nodes=None, warm_start=False, presort='auto')\n",
    "\n",
    "testing_func(clf)\n",
    "\n",
    "print('It took the following time to complete this task:', datetime.now() - start)"
   ]
  },
  {
   "cell_type": "code",
   "execution_count": 21,
   "metadata": {},
   "outputs": [
    {
     "name": "stdout",
     "output_type": "stream",
     "text": [
      "\n",
      "R-squared for the Training Set with PCA:\n",
      "0.900528265779\n",
      "\n",
      "R-squared for the Test Set with PCA:\n",
      "0.900505083873\n",
      "Cross Validation Scores with 10 folds for PCA: [ 0.90553379  0.90506052  0.90435426  0.90506052  0.90546436  0.90409742\n",
      "  0.90529919  0.90621049  0.90721291  0.90462711]\n",
      "\n",
      "R-squared for the Training Set with Random Forest selected features:\n",
      "0.985840768449\n",
      "\n",
      "R-squared for the Test Set with Random Forest selected features:\n",
      "0.985941034818\n",
      "Cross Validation Scores with 10 folds Random Forest selected features: [ 0.98491252  0.98659262  0.98617685  0.98719066  0.98537938  0.98527686\n",
      "  0.98501487  0.98709946  0.98688872  0.98654698]\n",
      "\n",
      "R-squared for the Training Set with PCA:\n",
      "0.922680115848\n",
      "\n",
      "R-squared for the Test Set with PCA:\n",
      "0.924847985018\n",
      "Cross Validation Scores with 10 folds for PCA: [ 0.92331526  0.92275096  0.9217998   0.92267692  0.92140636  0.92186201\n",
      "  0.92193605  0.92246574  0.92357069  0.92176518]\n",
      "\n",
      "R-squared for the Training Set with Random Forest selected features:\n",
      "0.993004678925\n",
      "\n",
      "R-squared for the Test Set with Random Forest selected features:\n",
      "0.993436415704\n",
      "Cross Validation Scores with 10 folds Random Forest selected features: [ 0.99281223  0.99272106  0.9928008   0.99290901  0.99320514  0.99276089\n",
      "  0.99268684  0.99297162  0.99293745  0.99283493]\n",
      "It took the following time to complete this task: 0:06:31.198311\n"
     ]
    }
   ],
   "source": [
    "start = datetime.now()\n",
    "clf_1 = DecisionTreeClassifier(max_depth=5)\n",
    "clf_2 = DecisionTreeClassifier(max_depth=9)\n",
    "testing_func(clf_1)\n",
    "testing_func(clf_2)\n",
    "\n",
    "print('It took the following time to complete this task:', datetime.now() - start)"
   ]
  },
  {
   "cell_type": "code",
   "execution_count": 22,
   "metadata": {},
   "outputs": [
    {
     "name": "stdout",
     "output_type": "stream",
     "text": [
      "It took the following time to complete this project: 4:15:12.422788\n"
     ]
    }
   ],
   "source": [
    "print('It took the following time to complete this project:', datetime.now() - main_start)"
   ]
  }
 ],
 "metadata": {
  "kernelspec": {
   "display_name": "Python 3",
   "language": "python",
   "name": "python3"
  },
  "language_info": {
   "codemirror_mode": {
    "name": "ipython",
    "version": 3
   },
   "file_extension": ".py",
   "mimetype": "text/x-python",
   "name": "python",
   "nbconvert_exporter": "python",
   "pygments_lexer": "ipython3",
   "version": "3.6.1"
  }
 },
 "nbformat": 4,
 "nbformat_minor": 2
}
