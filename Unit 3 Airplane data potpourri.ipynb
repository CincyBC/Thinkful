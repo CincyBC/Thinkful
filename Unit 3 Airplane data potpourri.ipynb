{
 "cells": [
  {
   "cell_type": "code",
   "execution_count": 116,
   "metadata": {
    "collapsed": true
   },
   "outputs": [],
   "source": [
    "import numpy as np\n",
    "import pandas as pd\n",
    "import scipy\n",
    "import matplotlib.pyplot as plt\n",
    "import seaborn as sns\n",
    "\n",
    "from sklearn.model_selection import cross_val_score\n",
    "from sklearn.feature_selection import RFE\n",
    "from sklearn.decomposition import PCA\n",
    "from sklearn.ensemble import RandomForestClassifier\n",
    "from sklearn.linear_model import LogisticRegression\n",
    "from sklearn.utils import resample\n",
    "from datetime import datetime\n",
    "\n",
    "%matplotlib inline"
   ]
  },
  {
   "cell_type": "code",
   "execution_count": 117,
   "metadata": {},
   "outputs": [
    {
     "data": {
      "text/plain": [
       "['Year',\n",
       " 'Month',\n",
       " 'DayofMonth',\n",
       " 'DayOfWeek',\n",
       " 'DepTime',\n",
       " 'CRSDepTime',\n",
       " 'ArrTime',\n",
       " 'CRSArrTime',\n",
       " 'UniqueCarrier',\n",
       " 'FlightNum',\n",
       " 'TailNum',\n",
       " 'ActualElapsedTime',\n",
       " 'CRSElapsedTime',\n",
       " 'AirTime',\n",
       " 'ArrDelay',\n",
       " 'DepDelay',\n",
       " 'Origin',\n",
       " 'Dest',\n",
       " 'Distance',\n",
       " 'TaxiIn',\n",
       " 'TaxiOut',\n",
       " 'Cancelled',\n",
       " 'CancellationCode',\n",
       " 'Diverted',\n",
       " 'CarrierDelay',\n",
       " 'WeatherDelay',\n",
       " 'NASDelay',\n",
       " 'SecurityDelay',\n",
       " 'LateAircraftDelay']"
      ]
     },
     "execution_count": 117,
     "metadata": {},
     "output_type": "execute_result"
    }
   ],
   "source": [
    "raw_data = pd.read_csv('2007.csv')\n",
    "list(raw_data.columns)\n"
   ]
  },
  {
   "cell_type": "code",
   "execution_count": 118,
   "metadata": {},
   "outputs": [
    {
     "data": {
      "text/plain": [
       "DepTime               160748\n",
       "ArrTime               177927\n",
       "TailNum                   22\n",
       "ActualElapsedTime     177927\n",
       "CRSElapsedTime           994\n",
       "AirTime               177927\n",
       "ArrDelay              177927\n",
       "DepDelay              160748\n",
       "CancellationCode     7292466\n",
       "dtype: int64"
      ]
     },
     "execution_count": 118,
     "metadata": {},
     "output_type": "execute_result"
    }
   ],
   "source": [
    "# Count nulls \n",
    "null_count = raw_data.isnull().sum()\n",
    "null_count[null_count>0]"
   ]
  },
  {
   "cell_type": "code",
   "execution_count": null,
   "metadata": {
    "collapsed": true
   },
   "outputs": [],
   "source": []
  },
  {
   "cell_type": "code",
   "execution_count": 119,
   "metadata": {},
   "outputs": [
    {
     "data": {
      "text/plain": [
       "ArrTime              17179\n",
       "ActualElapsedTime    17179\n",
       "CRSElapsedTime         727\n",
       "AirTime              17179\n",
       "ArrDelay             17179\n",
       "dtype: int64"
      ]
     },
     "execution_count": 119,
     "metadata": {},
     "output_type": "execute_result"
    }
   ],
   "source": [
    "#Get rid of flights that were cancelled since they couldn't be late.\n",
    "\n",
    "df2007 = raw_data[raw_data.CancellationCode.isnull()]\n",
    "\n",
    "#Get rid of Cancellation code since it comes up only when an aircraft is cancelled. We also won't need Year since it's 2007.\n",
    "df2007 = df2007.drop(['Year', 'FlightNum', 'TailNum', 'Dest', 'Cancelled', 'Diverted', 'DayofMonth','CancellationCode'], 1)\n",
    "# Count nulls \n",
    "null_count = df2007.isnull().sum()\n",
    "null_count[null_count>0]"
   ]
  },
  {
   "cell_type": "code",
   "execution_count": 120,
   "metadata": {},
   "outputs": [
    {
     "data": {
      "text/plain": [
       "Series([], dtype: int64)"
      ]
     },
     "execution_count": 120,
     "metadata": {},
     "output_type": "execute_result"
    }
   ],
   "source": [
    "#Dropping out cancelled flights got rid of the majority of our nulls. The rest seem to be issues with Arrival time/delay, so let's get rid of them all. \n",
    "df2007 = df2007.dropna()\n",
    "null_count = df2007.isnull().sum()\n",
    "null_count[null_count>0]"
   ]
  },
  {
   "cell_type": "code",
   "execution_count": 121,
   "metadata": {},
   "outputs": [],
   "source": [
    "#Turn this into a classification with the definition that a late plane is one that arrives 30 minutes or more late.\n",
    "threshold = 30.0\n",
    "df2007['Late'] = np.where(df2007['ArrDelay'] >= threshold, 1,0)"
   ]
  },
  {
   "cell_type": "code",
   "execution_count": 122,
   "metadata": {},
   "outputs": [
    {
     "name": "stdout",
     "output_type": "stream",
     "text": [
      "0    6177946\n",
      "1    1097341\n",
      "Name: Late, dtype: int64\n"
     ]
    }
   ],
   "source": [
    "print(df2007['Late'].value_counts())"
   ]
  },
  {
   "cell_type": "code",
   "execution_count": 123,
   "metadata": {},
   "outputs": [
    {
     "name": "stdout",
     "output_type": "stream",
     "text": [
      "0.0    1671723\n",
      "1.0     300791\n",
      "Name: Late, dtype: int64\n"
     ]
    }
   ],
   "source": [
    "#Rebalance the data\n",
    "not_late = df2007.loc[np.where(df2007['Late'] == 0)]\n",
    "\n",
    "# Take a random sample from the not lates\n",
    "msk = np.random.rand(len(not_late)) < 0.15\n",
    "not_data = not_late[msk]\n",
    "\n",
    "df2 = not_data.append(df2007.loc[np.where(df2007['Late'] == 1)])\n",
    "\n",
    "print(df2['Late'].value_counts())"
   ]
  },
  {
   "cell_type": "code",
   "execution_count": 124,
   "metadata": {},
   "outputs": [
    {
     "data": {
      "text/plain": [
       "Month                49764\n",
       "DayOfWeek            49764\n",
       "DepTime              49764\n",
       "CRSDepTime           49764\n",
       "ArrTime              49764\n",
       "CRSArrTime           49764\n",
       "UniqueCarrier        49764\n",
       "ActualElapsedTime    49764\n",
       "CRSElapsedTime       49764\n",
       "AirTime              49764\n",
       "ArrDelay             49764\n",
       "DepDelay             49764\n",
       "Origin               49764\n",
       "Distance             49764\n",
       "TaxiIn               49764\n",
       "TaxiOut              49764\n",
       "CarrierDelay         49764\n",
       "WeatherDelay         49764\n",
       "NASDelay             49764\n",
       "SecurityDelay        49764\n",
       "LateAircraftDelay    49764\n",
       "Late                 49764\n",
       "dtype: int64"
      ]
     },
     "execution_count": 124,
     "metadata": {},
     "output_type": "execute_result"
    }
   ],
   "source": [
    "null_count = df2.isnull().sum()\n",
    "null_count[null_count>0]"
   ]
  },
  {
   "cell_type": "code",
   "execution_count": 125,
   "metadata": {},
   "outputs": [
    {
     "name": "stdout",
     "output_type": "stream",
     "text": [
      "It took the following time to complete this task: 7:15:32.705669\n"
     ]
    },
    {
     "data": {
      "image/png": "[encoded data removed]",
      "text/plain": [
       "<matplotlib.figure.Figure at 0x18c613828>"
      ]
     },
     "metadata": {},
     "output_type": "display_data"
    }
   ],
   "source": [
    "start = datetime.now()\n",
    "#Turn the string features into dummies\n",
    "df2007 = pd.get_dummies(df2007)\n",
    "print('It took the following time to complete this task:', datetime.now() - start)"
   ]
  },
  {
   "cell_type": "code",
   "execution_count": 126,
   "metadata": {},
   "outputs": [
    {
     "name": "stdout",
     "output_type": "stream",
     "text": [
      "========= COLUMNS WITH NULL VALUES =================\n",
      "Series([], dtype: bool)\n",
      "========= COLUMNS WITH INFINITE VALUES =================\n",
      "DepTime              True\n",
      "ArrTime              True\n",
      "ActualElapsedTime    True\n",
      "CRSElapsedTime       True\n",
      "AirTime              True\n",
      "ArrDelay             True\n",
      "DepDelay             True\n",
      "dtype: bool\n"
     ]
    }
   ],
   "source": [
    "m = df2007.isnull().any()\n",
    "print(\"========= COLUMNS WITH NULL VALUES =================\")\n",
    "print(m[m])\n",
    "print(\"========= COLUMNS WITH INFINITE VALUES =================\")\n",
    "m = np.isfinite(df2007.select_dtypes(include=['float64'])).any()\n",
    "print(m[m])"
   ]
  },
  {
   "cell_type": "code",
   "execution_count": 127,
   "metadata": {},
   "outputs": [
    {
     "name": "stdout",
     "output_type": "stream",
     "text": [
      "              Features  Ranking  Support\n",
      "204         Origin_LIH        1     True\n",
      "337         Origin_WYS        1     True\n",
      "245         Origin_OGG        1     True\n",
      "261         Origin_PIH        1     True\n",
      "186         Origin_IYK        1     True\n",
      "192         Origin_KOA        1     True\n",
      "128         Origin_EKO        1     True\n",
      "185         Origin_ITO        1     True\n",
      "168         Origin_HNL        2    False\n",
      "42          Origin_ACK        3    False\n",
      "253         Origin_OXR        4    False\n",
      "305         Origin_SLE        5    False\n",
      "330         Origin_TWF        6    False\n",
      "72          Origin_BLI        7    False\n",
      "316         Origin_SUN        8    False\n",
      "210         Origin_LWS        9    False\n",
      "264         Origin_PLN       10    False\n",
      "77          Origin_BPT       11    False\n",
      "298         Origin_SGU       12    False\n",
      "98          Origin_CLD       13    False\n",
      "267         Origin_PSC       14    False\n",
      "82          Origin_BTM       15    False\n",
      "92          Origin_CEC       16    False\n",
      "105         Origin_COD       17    False\n",
      "28    UniqueCarrier_HA       18    False\n",
      "20    UniqueCarrier_AQ       19    False\n",
      "307         Origin_SMX       20    False\n",
      "104         Origin_CMX       21    False\n",
      "277         Origin_RFD       22    False\n",
      "149         Origin_GEG       23    False\n",
      "..                 ...      ...      ...\n",
      "38          Origin_ABE      306    False\n",
      "318         Origin_SWF      307    False\n",
      "71          Origin_BJI      308    False\n",
      "163         Origin_GTR      309    False\n",
      "320         Origin_TEX      310    False\n",
      "222         Origin_MFR      311    False\n",
      "52          Origin_ALO      312    False\n",
      "126         Origin_EAU      313    False\n",
      "156         Origin_GRB      314    False\n",
      "66          Origin_BGM      315    False\n",
      "110         Origin_CSG      316    False\n",
      "217         Origin_MDT      317    False\n",
      "15            NASDelay      318    False\n",
      "1            DayOfWeek      319    False\n",
      "9             DepDelay      320    False\n",
      "0                Month      321    False\n",
      "7       CRSElapsedTime      322    False\n",
      "11              TaxiIn      323    False\n",
      "12             TaxiOut      324    False\n",
      "6    ActualElapsedTime      325    False\n",
      "8              AirTime      326    False\n",
      "3           CRSDepTime      327    False\n",
      "5           CRSArrTime      328    False\n",
      "10            Distance      329    False\n",
      "2              DepTime      330    False\n",
      "4              ArrTime      331    False\n",
      "262         Origin_PIR      332    False\n",
      "153         Origin_GLH      333    False\n",
      "183         Origin_ISO      334    False\n",
      "226         Origin_MKC      335    False\n",
      "\n",
      "[342 rows x 3 columns]\n",
      "It took the following time to complete this task: 14:52:49.829572\n"
     ]
    }
   ],
   "source": [
    "start = datetime.now()\n",
    "#Use Lasso/RFE to get the best features\n",
    "lr = LogisticRegression(C=1, penalty='l1')\n",
    "\n",
    "#Set up our X,y\n",
    "X = df2007.drop(['ArrDelay', 'Late'], 1)\n",
    "y = df2007['Late']\n",
    "\n",
    "#Set up our Recursive Feature Elimination\n",
    "rfe = RFE(lr,n_features_to_select=8) \n",
    "fit = rfe.fit(X,y)\n",
    "result_RFE = pd.DataFrame(list(zip(X.head(0), rfe.ranking_, rfe.support_)),\n",
    "                          columns=['Features','Ranking','Support'] ) \n",
    "print(result_RFE.sort_values('Ranking'))\n",
    "print('It took the following time to complete this task:', datetime.now() - start)"
   ]
  },
  {
   "cell_type": "code",
   "execution_count": 128,
   "metadata": {},
   "outputs": [
    {
     "name": "stdout",
     "output_type": "stream",
     "text": [
      "\n",
      "Coefficients: \n",
      " [[ -7.38870391e-04   8.27110708e-04  -4.34713142e-03   1.46636775e+00\n",
      "    1.46711999e+00   1.46855497e+00   1.45947453e+00   1.46723772e+00]]\n",
      "\n",
      "Intercept: \n",
      " [-43.19910594]\n",
      "\n",
      "R-squared:\n",
      "1.0\n",
      "[ 1.  1.  1.  1.  1.]\n",
      "It took the following time to complete this task: 0:04:40.810311\n"
     ]
    }
   ],
   "source": [
    "start = datetime.now()\n",
    "#Let's pop those into the model\n",
    "lr = LogisticRegression(C=9e9)\n",
    "X = df2007[['AirTime', 'DepDelay', 'TaxiIn', 'CarrierDelay', 'WeatherDelay', 'NASDelay', 'SecurityDelay', \n",
    "            'LateAircraftDelay']]\n",
    "lr.fit(X, y)\n",
    "\n",
    "\n",
    "# Inspect the results.\n",
    "print('\\nCoefficients: \\n', lr.coef_)\n",
    "print('\\nIntercept: \\n', lr.intercept_)\n",
    "print('\\nR-squared:')\n",
    "print(lr.score(X, y))\n",
    "print(cross_val_score(lr, X, y, cv=5))\n",
    "print('It took the following time to complete this task:', datetime.now() - start)"
   ]
  },
  {
   "cell_type": "code",
   "execution_count": 129,
   "metadata": {},
   "outputs": [
    {
     "name": "stdout",
     "output_type": "stream",
     "text": [
      "\n",
      "Coefficients: \n",
      " [[-0.00272921  0.02717491 -0.01051492  0.24924233  0.25221297  0.2810542\n",
      "   0.24100024  0.24929963]]\n",
      "\n",
      "Intercept: \n",
      " [-8.00455812]\n",
      "\n",
      "R-squared:\n",
      "0.99648275044\n",
      "[ 0.9955988   0.99571357  0.99611287  0.99609569  0.99815677]\n",
      "It took the following time to complete this task: 0:49:18.874713\n"
     ]
    }
   ],
   "source": [
    "start = datetime.now()\n",
    "#Let's pop those into the model\n",
    "lr = LogisticRegression(C=1, penalty='l1')\n",
    "lr.fit(X, y)\n",
    "\n",
    "\n",
    "# Inspect the results.\n",
    "print('\\nCoefficients: \\n', lr.coef_)\n",
    "print('\\nIntercept: \\n', lr.intercept_)\n",
    "print('\\nR-squared:')\n",
    "print(lr.score(X, y))\n",
    "print(cross_val_score(lr, X, y, cv=5))\n",
    "print('It took the following time to complete this task:', datetime.now() - start)"
   ]
  },
  {
   "cell_type": "code",
   "execution_count": 130,
   "metadata": {},
   "outputs": [
    {
     "ename": "ValueError",
     "evalue": "Unsupported set of arguments: The combination of penalty='l' and loss='logistic_regression' is not supported, Parameters: penalty='l', loss='logistic_regression', dual=False",
     "output_type": "error",
     "traceback": [
      "\u001b[0;31m---------------------------------------------------------------------------\u001b[0m",
      "\u001b[0;31mValueError\u001b[0m                                Traceback (most recent call last)",
      "\u001b[0;32m<ipython-input-130-eb66cb2d086a>\u001b[0m in \u001b[0;36m<module>\u001b[0;34m()\u001b[0m\n\u001b[1;32m      2\u001b[0m \u001b[0;31m#Let's pop those into the model\u001b[0m\u001b[0;34m\u001b[0m\u001b[0;34m\u001b[0m\u001b[0m\n\u001b[1;32m      3\u001b[0m \u001b[0mlr\u001b[0m \u001b[0;34m=\u001b[0m \u001b[0mLogisticRegression\u001b[0m\u001b[0;34m(\u001b[0m\u001b[0mC\u001b[0m\u001b[0;34m=\u001b[0m\u001b[0;36m1\u001b[0m\u001b[0;34m,\u001b[0m \u001b[0mpenalty\u001b[0m\u001b[0;34m=\u001b[0m\u001b[0;34m'l'\u001b[0m\u001b[0;34m)\u001b[0m\u001b[0;34m\u001b[0m\u001b[0m\n\u001b[0;32m----> 4\u001b[0;31m \u001b[0mlr\u001b[0m\u001b[0;34m.\u001b[0m\u001b[0mfit\u001b[0m\u001b[0;34m(\u001b[0m\u001b[0mX\u001b[0m\u001b[0;34m,\u001b[0m \u001b[0my\u001b[0m\u001b[0;34m)\u001b[0m\u001b[0;34m\u001b[0m\u001b[0m\n\u001b[0m\u001b[1;32m      5\u001b[0m \u001b[0;34m\u001b[0m\u001b[0m\n\u001b[1;32m      6\u001b[0m \u001b[0;34m\u001b[0m\u001b[0m\n",
      "\u001b[0;32m/Users/bryancorder/anaconda3/lib/python3.6/site-packages/sklearn/linear_model/logistic.py\u001b[0m in \u001b[0;36mfit\u001b[0;34m(self, X, y, sample_weight)\u001b[0m\n\u001b[1;32m   1231\u001b[0m                 \u001b[0mself\u001b[0m\u001b[0;34m.\u001b[0m\u001b[0mclass_weight\u001b[0m\u001b[0;34m,\u001b[0m \u001b[0mself\u001b[0m\u001b[0;34m.\u001b[0m\u001b[0mpenalty\u001b[0m\u001b[0;34m,\u001b[0m \u001b[0mself\u001b[0m\u001b[0;34m.\u001b[0m\u001b[0mdual\u001b[0m\u001b[0;34m,\u001b[0m \u001b[0mself\u001b[0m\u001b[0;34m.\u001b[0m\u001b[0mverbose\u001b[0m\u001b[0;34m,\u001b[0m\u001b[0;34m\u001b[0m\u001b[0m\n\u001b[1;32m   1232\u001b[0m                 \u001b[0mself\u001b[0m\u001b[0;34m.\u001b[0m\u001b[0mmax_iter\u001b[0m\u001b[0;34m,\u001b[0m \u001b[0mself\u001b[0m\u001b[0;34m.\u001b[0m\u001b[0mtol\u001b[0m\u001b[0;34m,\u001b[0m \u001b[0mself\u001b[0m\u001b[0;34m.\u001b[0m\u001b[0mrandom_state\u001b[0m\u001b[0;34m,\u001b[0m\u001b[0;34m\u001b[0m\u001b[0m\n\u001b[0;32m-> 1233\u001b[0;31m                 sample_weight=sample_weight)\n\u001b[0m\u001b[1;32m   1234\u001b[0m             \u001b[0mself\u001b[0m\u001b[0;34m.\u001b[0m\u001b[0mn_iter_\u001b[0m \u001b[0;34m=\u001b[0m \u001b[0mnp\u001b[0m\u001b[0;34m.\u001b[0m\u001b[0marray\u001b[0m\u001b[0;34m(\u001b[0m\u001b[0;34m[\u001b[0m\u001b[0mn_iter_\u001b[0m\u001b[0;34m]\u001b[0m\u001b[0;34m)\u001b[0m\u001b[0;34m\u001b[0m\u001b[0m\n\u001b[1;32m   1235\u001b[0m             \u001b[0;32mreturn\u001b[0m \u001b[0mself\u001b[0m\u001b[0;34m\u001b[0m\u001b[0m\n",
      "\u001b[0;32m/Users/bryancorder/anaconda3/lib/python3.6/site-packages/sklearn/svm/base.py\u001b[0m in \u001b[0;36m_fit_liblinear\u001b[0;34m(X, y, C, fit_intercept, intercept_scaling, class_weight, penalty, dual, verbose, max_iter, tol, random_state, multi_class, loss, epsilon, sample_weight)\u001b[0m\n\u001b[1;32m    884\u001b[0m         \u001b[0mcheck_consistent_length\u001b[0m\u001b[0;34m(\u001b[0m\u001b[0msample_weight\u001b[0m\u001b[0;34m,\u001b[0m \u001b[0mX\u001b[0m\u001b[0;34m)\u001b[0m\u001b[0;34m\u001b[0m\u001b[0m\n\u001b[1;32m    885\u001b[0m \u001b[0;34m\u001b[0m\u001b[0m\n\u001b[0;32m--> 886\u001b[0;31m     \u001b[0msolver_type\u001b[0m \u001b[0;34m=\u001b[0m \u001b[0m_get_liblinear_solver_type\u001b[0m\u001b[0;34m(\u001b[0m\u001b[0mmulti_class\u001b[0m\u001b[0;34m,\u001b[0m \u001b[0mpenalty\u001b[0m\u001b[0;34m,\u001b[0m \u001b[0mloss\u001b[0m\u001b[0;34m,\u001b[0m \u001b[0mdual\u001b[0m\u001b[0;34m)\u001b[0m\u001b[0;34m\u001b[0m\u001b[0m\n\u001b[0m\u001b[1;32m    887\u001b[0m     raw_coef_, n_iter_ = liblinear.train_wrap(\n\u001b[1;32m    888\u001b[0m         \u001b[0mX\u001b[0m\u001b[0;34m,\u001b[0m \u001b[0my_ind\u001b[0m\u001b[0;34m,\u001b[0m \u001b[0msp\u001b[0m\u001b[0;34m.\u001b[0m\u001b[0misspmatrix\u001b[0m\u001b[0;34m(\u001b[0m\u001b[0mX\u001b[0m\u001b[0;34m)\u001b[0m\u001b[0;34m,\u001b[0m \u001b[0msolver_type\u001b[0m\u001b[0;34m,\u001b[0m \u001b[0mtol\u001b[0m\u001b[0;34m,\u001b[0m \u001b[0mbias\u001b[0m\u001b[0;34m,\u001b[0m \u001b[0mC\u001b[0m\u001b[0;34m,\u001b[0m\u001b[0;34m\u001b[0m\u001b[0m\n",
      "\u001b[0;32m/Users/bryancorder/anaconda3/lib/python3.6/site-packages/sklearn/svm/base.py\u001b[0m in \u001b[0;36m_get_liblinear_solver_type\u001b[0;34m(multi_class, penalty, loss, dual)\u001b[0m\n\u001b[1;32m    745\u001b[0m     raise ValueError('Unsupported set of arguments: %s, '\n\u001b[1;32m    746\u001b[0m                      \u001b[0;34m'Parameters: penalty=%r, loss=%r, dual=%r'\u001b[0m\u001b[0;34m\u001b[0m\u001b[0m\n\u001b[0;32m--> 747\u001b[0;31m                      % (error_string, penalty, loss, dual))\n\u001b[0m\u001b[1;32m    748\u001b[0m \u001b[0;34m\u001b[0m\u001b[0m\n\u001b[1;32m    749\u001b[0m \u001b[0;34m\u001b[0m\u001b[0m\n",
      "\u001b[0;31mValueError\u001b[0m: Unsupported set of arguments: The combination of penalty='l' and loss='logistic_regression' is not supported, Parameters: penalty='l', loss='logistic_regression', dual=False"
     ]
    }
   ],
   "source": [
    "start = datetime.now()\n",
    "#Let's pop those into the model\n",
    "lr = LogisticRegression(C=1, penalty='l')\n",
    "lr.fit(X, y)\n",
    "\n",
    "\n",
    "# Inspect the results.\n",
    "print('\\nCoefficients: \\n', lr.coef_)\n",
    "print('\\nIntercept: \\n', lr.intercept_)\n",
    "print('\\nR-squared:')\n",
    "print(lr.score(X, y))\n",
    "print(cross_val_score(lr, X, y, cv=5))\n",
    "print('It took the following time to complete this task:', datetime.now() - start)"
   ]
  }
 ],
 "metadata": {
  "kernelspec": {
   "display_name": "Python 3",
   "language": "python",
   "name": "python3"
  },
  "language_info": {
   "codemirror_mode": {
    "name": "ipython",
    "version": 3
   },
   "file_extension": ".py",
   "mimetype": "text/x-python",
   "name": "python",
   "nbconvert_exporter": "python",
   "pygments_lexer": "ipython3",
   "version": "3.6.1"
  }
 },
 "nbformat": 4,
 "nbformat_minor": 2
}
