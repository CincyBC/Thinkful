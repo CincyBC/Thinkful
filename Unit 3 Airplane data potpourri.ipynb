{
 "cells": [
  {
   "cell_type": "code",
   "execution_count": 103,
   "metadata": {
    "collapsed": true
   },
   "outputs": [],
   "source": [
    "import numpy as np\n",
    "import pandas as pd\n",
    "import scipy\n",
    "import matplotlib.pyplot as plt\n",
    "import seaborn as sns\n",
    "from sklearn.svm import SVC\n",
    "from sklearn.model_selection import cross_val_score\n",
    "from sklearn.feature_selection import RFE\n",
    "from sklearn.decomposition import PCA\n",
    "from sklearn.ensemble import RandomForestClassifier\n",
    "from sklearn.linear_model import LogisticRegression\n",
    "from datetime import datetime\n",
    "\n",
    "%matplotlib inline"
   ]
  },
  {
   "cell_type": "code",
   "execution_count": 104,
   "metadata": {},
   "outputs": [
    {
     "data": {
      "text/plain": [
       "['Year',\n",
       " 'Month',\n",
       " 'DayofMonth',\n",
       " 'DayOfWeek',\n",
       " 'DepTime',\n",
       " 'CRSDepTime',\n",
       " 'ArrTime',\n",
       " 'CRSArrTime',\n",
       " 'UniqueCarrier',\n",
       " 'FlightNum',\n",
       " 'TailNum',\n",
       " 'ActualElapsedTime',\n",
       " 'CRSElapsedTime',\n",
       " 'AirTime',\n",
       " 'ArrDelay',\n",
       " 'DepDelay',\n",
       " 'Origin',\n",
       " 'Dest',\n",
       " 'Distance',\n",
       " 'TaxiIn',\n",
       " 'TaxiOut',\n",
       " 'Cancelled',\n",
       " 'CancellationCode',\n",
       " 'Diverted',\n",
       " 'CarrierDelay',\n",
       " 'WeatherDelay',\n",
       " 'NASDelay',\n",
       " 'SecurityDelay',\n",
       " 'LateAircraftDelay']"
      ]
     },
     "execution_count": 104,
     "metadata": {},
     "output_type": "execute_result"
    }
   ],
   "source": [
    "raw_data = pd.read_csv('2007.csv')\n",
    "list(raw_data.columns)\n"
   ]
  },
  {
   "cell_type": "code",
   "execution_count": 105,
   "metadata": {},
   "outputs": [
    {
     "name": "stdout",
     "output_type": "stream",
     "text": [
      "(array([   3340,    8000,    8014, ..., 7451634, 7451702, 7452734]),)\n"
     ]
    }
   ],
   "source": [
    "raw_data = raw_data.drop(['Month', 'UniqueCarrier', 'DayOfWeek', 'Origin'], 1)\n",
    "print(np.where(raw_data['Diverted'] != 0))"
   ]
  },
  {
   "cell_type": "code",
   "execution_count": 106,
   "metadata": {},
   "outputs": [
    {
     "data": {
      "text/plain": [
       "'null_count = raw_data.isnull().sum()\\nnull_count[null_count>0]'"
      ]
     },
     "execution_count": 106,
     "metadata": {},
     "output_type": "execute_result"
    }
   ],
   "source": [
    "# Count nulls \n",
    "\"\"\"null_count = raw_data.isnull().sum()\n",
    "null_count[null_count>0]\"\"\""
   ]
  },
  {
   "cell_type": "code",
   "execution_count": 107,
   "metadata": {},
   "outputs": [
    {
     "data": {
      "text/plain": [
       "'null_count = df2007.isnull().sum()\\nnull_count[null_count>0]'"
      ]
     },
     "execution_count": 107,
     "metadata": {},
     "output_type": "execute_result"
    }
   ],
   "source": [
    "#Get rid of flights that were cancelled since they couldn't be late.\n",
    "\n",
    "df2007 = raw_data[raw_data.CancellationCode.isnull()]\n",
    "\n",
    "#Get rid of Cancellation code since it comes up only when an aircraft is cancelled. We also won't need Year since it's 2007.\n",
    "df2007 = df2007.drop(['Year', 'FlightNum', 'TailNum', 'Dest', 'Cancelled', 'Diverted', 'DayofMonth','CancellationCode'], 1)\n",
    "# Count nulls \n",
    "\"\"\"null_count = df2007.isnull().sum()\n",
    "null_count[null_count>0]\"\"\""
   ]
  },
  {
   "cell_type": "code",
   "execution_count": 108,
   "metadata": {},
   "outputs": [
    {
     "data": {
      "text/plain": [
       "Series([], dtype: int64)"
      ]
     },
     "execution_count": 108,
     "metadata": {},
     "output_type": "execute_result"
    }
   ],
   "source": [
    "#Dropping out cancelled flights got rid of the majority of our nulls. The rest seem to be issues with Arrival time/delay, so let's get rid of them all. \n",
    "df2007 = df2007.dropna()\n",
    "null_count = df2007.isnull().sum()\n",
    "null_count[null_count>0]"
   ]
  },
  {
   "cell_type": "code",
   "execution_count": 109,
   "metadata": {},
   "outputs": [],
   "source": [
    "#Turn this into a classification with the definition that a late plane is one that arrives 30 minutes or more late.\n",
    "threshold = 30.0\n",
    "df2007['Late'] = np.where(df2007['ArrDelay'] >= threshold, 1,0)"
   ]
  },
  {
   "cell_type": "code",
   "execution_count": 110,
   "metadata": {},
   "outputs": [
    {
     "data": {
      "text/plain": [
       "\"print(df2007['Late'].value_counts())\""
      ]
     },
     "execution_count": 110,
     "metadata": {},
     "output_type": "execute_result"
    }
   ],
   "source": [
    "\"\"\"print(df2007['Late'].value_counts())\"\"\""
   ]
  },
  {
   "cell_type": "code",
   "execution_count": 111,
   "metadata": {},
   "outputs": [
    {
     "name": "stdout",
     "output_type": "stream",
     "text": [
      "0.0    1674362\n",
      "1.0     301169\n",
      "Name: Late, dtype: int64\n"
     ]
    }
   ],
   "source": [
    "#Rebalance the data\n",
    "not_late = df2007.loc[np.where(df2007['Late'] == 0)]\n",
    "\n",
    "# Take a random sample from the not lates\n",
    "msk = np.random.rand(len(not_late)) < 0.15\n",
    "not_data = not_late[msk]\n",
    "\n",
    "df2 = not_data.append(df2007.loc[np.where(df2007['Late'] == 1)])\n",
    "\n",
    "print(df2['Late'].value_counts())"
   ]
  },
  {
   "cell_type": "code",
   "execution_count": 112,
   "metadata": {},
   "outputs": [
    {
     "data": {
      "text/plain": [
       "DepTime              49679\n",
       "CRSDepTime           49679\n",
       "ArrTime              49679\n",
       "CRSArrTime           49679\n",
       "ActualElapsedTime    49679\n",
       "CRSElapsedTime       49679\n",
       "AirTime              49679\n",
       "ArrDelay             49679\n",
       "DepDelay             49679\n",
       "Distance             49679\n",
       "TaxiIn               49679\n",
       "TaxiOut              49679\n",
       "CarrierDelay         49679\n",
       "WeatherDelay         49679\n",
       "NASDelay             49679\n",
       "SecurityDelay        49679\n",
       "LateAircraftDelay    49679\n",
       "Late                 49679\n",
       "dtype: int64"
      ]
     },
     "execution_count": 112,
     "metadata": {},
     "output_type": "execute_result"
    }
   ],
   "source": [
    "null_count = df2.isnull().sum()\n",
    "null_count[null_count>0]"
   ]
  },
  {
   "cell_type": "code",
   "execution_count": 113,
   "metadata": {},
   "outputs": [
    {
     "data": {
      "text/plain": [
       "<matplotlib.axes._subplots.AxesSubplot at 0x18c611860>"
      ]
     },
     "execution_count": 113,
     "metadata": {},
     "output_type": "execute_result"
    },
    {
     "data": {
      "image/png": "[encoded data removed]",
      "text/plain": [
       "<matplotlib.figure.Figure at 0x15f1a7ef0>"
      ]
     },
     "metadata": {},
     "output_type": "display_data"
    }
   ],
   "source": [
    "#Turn the string features into dummies\n",
    "df2007 = pd.get_dummies(df2007)\n",
    "\n",
    "#See how the independent variables correlate to each other\n",
    "sns.heatmap(df2007.corr())"
   ]
  },
  {
   "cell_type": "code",
   "execution_count": 114,
   "metadata": {},
   "outputs": [
    {
     "name": "stdout",
     "output_type": "stream",
     "text": [
      "========= COLUMNS WITH NULL VALUES =================\n",
      "Series([], dtype: bool)\n",
      "========= COLUMNS WITH INFINITE VALUES =================\n",
      "DepTime              True\n",
      "ArrTime              True\n",
      "ActualElapsedTime    True\n",
      "CRSElapsedTime       True\n",
      "AirTime              True\n",
      "ArrDelay             True\n",
      "DepDelay             True\n",
      "dtype: bool\n"
     ]
    }
   ],
   "source": [
    "m = df2007.isnull().any()\n",
    "print(\"========= COLUMNS WITH NULL VALUES =================\")\n",
    "print(m[m])\n",
    "print(\"========= COLUMNS WITH INFINITE VALUES =================\")\n",
    "m = np.isfinite(df2007.select_dtypes(include=['float64'])).any()\n",
    "print(m[m])"
   ]
  },
  {
   "cell_type": "code",
   "execution_count": 115,
   "metadata": {},
   "outputs": [
    {
     "name": "stdout",
     "output_type": "stream",
     "text": [
      "             Features  Ranking  Support\n",
      "6             AirTime        1     True\n",
      "7            DepDelay        1     True\n",
      "9              TaxiIn        1     True\n",
      "11       CarrierDelay        1     True\n",
      "12       WeatherDelay        1     True\n",
      "13           NASDelay        1     True\n",
      "14      SecurityDelay        1     True\n",
      "15  LateAircraftDelay        1     True\n",
      "4   ActualElapsedTime        2    False\n",
      "5      CRSElapsedTime        3    False\n",
      "10            TaxiOut        4    False\n",
      "3          CRSArrTime        5    False\n",
      "2             ArrTime        6    False\n",
      "1          CRSDepTime        7    False\n",
      "0             DepTime        8    False\n",
      "8            Distance        9    False\n"
     ]
    }
   ],
   "source": [
    "#Use Lasso/RFE to get the best features\n",
    "lr = LogisticRegression(C=1, penalty='l1')\n",
    "\n",
    "#Set up our X,y\n",
    "X = df2007.drop(['ArrDelay', 'Late'], 1)\n",
    "y = df2007['Late']\n",
    "\n",
    "#Set up our Recursive Feature Elimination\n",
    "rfe = RFE(lr,n_features_to_select=8) \n",
    "fit = rfe.fit(X,y)\n",
    "result_RFE = pd.DataFrame(list(zip(X.head(0), rfe.ranking_, rfe.support_)),\n",
    "                          columns=['Features','Ranking','Support'] ) \n",
    "print(result_RFE.sort_values('Ranking'))"
   ]
  }
 ],
 "metadata": {
  "kernelspec": {
   "display_name": "Python 3",
   "language": "python",
   "name": "python3"
  },
  "language_info": {
   "codemirror_mode": {
    "name": "ipython",
    "version": 3
   },
   "file_extension": ".py",
   "mimetype": "text/x-python",
   "name": "python",
   "nbconvert_exporter": "python",
   "pygments_lexer": "ipython3",
   "version": "3.6.1"
  }
 },
 "nbformat": 4,
 "nbformat_minor": 2
}
