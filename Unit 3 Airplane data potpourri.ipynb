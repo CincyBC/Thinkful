{
 "cells": [
  {
   "cell_type": "code",
   "execution_count": 23,
   "metadata": {
    "collapsed": true
   },
   "outputs": [],
   "source": [
    "import numpy as np\n",
    "import pandas as pd\n",
    "import scipy\n",
    "import matplotlib.pyplot as plt\n",
    "import seaborn as sns\n",
    "\n",
    "from sklearn.model_selection import cross_val_score\n",
    "from sklearn.utils import resample\n",
    "from sklearn.model_selection import train_test_split\n",
    "from sklearn.feature_selection import RFECV\n",
    "from sklearn.decomposition import PCA\n",
    "from sklearn.neighbors import KNeighborsClassifier\n",
    "from sklearn.linear_model import LogisticRegression\n",
    "from sklearn.tree import DecisionTreeClassifier\n",
    "from datetime import datetime\n",
    "main_start = datetime.now()\n",
    "%matplotlib inline"
   ]
  },
  {
   "cell_type": "code",
   "execution_count": 24,
   "metadata": {},
   "outputs": [
    {
     "data": {
      "text/plain": [
       "['Year',\n",
       " 'Month',\n",
       " 'DayofMonth',\n",
       " 'DayOfWeek',\n",
       " 'DepTime',\n",
       " 'CRSDepTime',\n",
       " 'ArrTime',\n",
       " 'CRSArrTime',\n",
       " 'UniqueCarrier',\n",
       " 'FlightNum',\n",
       " 'TailNum',\n",
       " 'ActualElapsedTime',\n",
       " 'CRSElapsedTime',\n",
       " 'AirTime',\n",
       " 'ArrDelay',\n",
       " 'DepDelay',\n",
       " 'Origin',\n",
       " 'Dest',\n",
       " 'Distance',\n",
       " 'TaxiIn',\n",
       " 'TaxiOut',\n",
       " 'Cancelled',\n",
       " 'CancellationCode',\n",
       " 'Diverted',\n",
       " 'CarrierDelay',\n",
       " 'WeatherDelay',\n",
       " 'NASDelay',\n",
       " 'SecurityDelay',\n",
       " 'LateAircraftDelay']"
      ]
     },
     "execution_count": 24,
     "metadata": {},
     "output_type": "execute_result"
    }
   ],
   "source": [
    "raw_data = pd.read_csv('2007.csv')\n",
    "list(raw_data.columns)\n"
   ]
  },
  {
   "cell_type": "code",
   "execution_count": 25,
   "metadata": {},
   "outputs": [
    {
     "data": {
      "text/plain": [
       "Year                   int64\n",
       "Month                  int64\n",
       "DayofMonth             int64\n",
       "DayOfWeek              int64\n",
       "DepTime              float64\n",
       "CRSDepTime             int64\n",
       "ArrTime              float64\n",
       "CRSArrTime             int64\n",
       "UniqueCarrier         object\n",
       "FlightNum              int64\n",
       "TailNum               object\n",
       "ActualElapsedTime    float64\n",
       "CRSElapsedTime       float64\n",
       "AirTime              float64\n",
       "ArrDelay             float64\n",
       "DepDelay             float64\n",
       "Origin                object\n",
       "Dest                  object\n",
       "Distance               int64\n",
       "TaxiIn                 int64\n",
       "TaxiOut                int64\n",
       "Cancelled              int64\n",
       "CancellationCode      object\n",
       "Diverted               int64\n",
       "CarrierDelay           int64\n",
       "WeatherDelay           int64\n",
       "NASDelay               int64\n",
       "SecurityDelay          int64\n",
       "LateAircraftDelay      int64\n",
       "dtype: object"
      ]
     },
     "execution_count": 25,
     "metadata": {},
     "output_type": "execute_result"
    }
   ],
   "source": [
    "raw_data.dtypes"
   ]
  },
  {
   "cell_type": "code",
   "execution_count": 26,
   "metadata": {},
   "outputs": [
    {
     "data": {
      "text/plain": [
       "DepTime               160748\n",
       "ArrTime               177927\n",
       "TailNum                   22\n",
       "ActualElapsedTime     177927\n",
       "CRSElapsedTime           994\n",
       "AirTime               177927\n",
       "ArrDelay              177927\n",
       "DepDelay              160748\n",
       "CancellationCode     7292466\n",
       "dtype: int64"
      ]
     },
     "execution_count": 26,
     "metadata": {},
     "output_type": "execute_result"
    }
   ],
   "source": [
    "# Count nulls \n",
    "null_count = raw_data.isnull().sum()\n",
    "null_count[null_count>0]"
   ]
  },
  {
   "cell_type": "code",
   "execution_count": 27,
   "metadata": {},
   "outputs": [
    {
     "data": {
      "text/plain": [
       "ArrTime              17179\n",
       "ActualElapsedTime    17179\n",
       "CRSElapsedTime         727\n",
       "AirTime              17179\n",
       "ArrDelay             17179\n",
       "dtype: int64"
      ]
     },
     "execution_count": 27,
     "metadata": {},
     "output_type": "execute_result"
    }
   ],
   "source": [
    "#Get rid of flights that were cancelled since they couldn't be late.\n",
    "df2007 = raw_data[raw_data.CancellationCode.isnull()]\n",
    "\n",
    "#Get rid of Cancellation code since it comes up only when an aircraft is cancelled. We also won't need Year since it's 2007.\n",
    "df2007 = df2007.drop(['Year', 'FlightNum', 'TailNum', 'Dest', 'Cancelled', 'Diverted', 'CancellationCode'], 1)\n",
    "# Count nulls \n",
    "null_count = df2007.isnull().sum()\n",
    "null_count[null_count>0]"
   ]
  },
  {
   "cell_type": "code",
   "execution_count": 28,
   "metadata": {},
   "outputs": [
    {
     "data": {
      "text/plain": [
       "Series([], dtype: int64)"
      ]
     },
     "execution_count": 28,
     "metadata": {},
     "output_type": "execute_result"
    }
   ],
   "source": [
    "#Dropping out cancelled flights got rid of the majority of our nulls. The rest seem to be issues with Arrival time/delay, so let's get rid of them all. \n",
    "df2007 = df2007.dropna()\n",
    "null_count = df2007.isnull().sum()\n",
    "null_count[null_count>0]"
   ]
  },
  {
   "cell_type": "code",
   "execution_count": 29,
   "metadata": {
    "collapsed": true
   },
   "outputs": [],
   "source": [
    "#Turn this into a classification with the definition that a late plane is one that arrives 30 minutes or more late.\n",
    "threshold = 30.0\n",
    "df2007['Late'] = np.where(df2007['ArrDelay'] >= threshold, 1,0)"
   ]
  },
  {
   "cell_type": "code",
   "execution_count": 30,
   "metadata": {},
   "outputs": [
    {
     "name": "stdout",
     "output_type": "stream",
     "text": [
      "0    6177946\n",
      "1    1097341\n",
      "Name: Late, dtype: int64\n"
     ]
    }
   ],
   "source": [
    "print(df2007['Late'].value_counts())"
   ]
  },
  {
   "cell_type": "code",
   "execution_count": 31,
   "metadata": {},
   "outputs": [
    {
     "data": {
      "text/plain": [
       "1    9734\n",
       "0    9734\n",
       "Name: Late, dtype: int64"
      ]
     },
     "execution_count": 31,
     "metadata": {},
     "output_type": "execute_result"
    }
   ],
   "source": [
    "airlines_ontime = df2007[df2007.Late == 0]\n",
    "airlines_delay = df2007[df2007.Late == 1]\n",
    "\n",
    "df3 = resample(airlines_ontime, n_samples=9734)\n",
    "airlines_delay = resample(airlines_delay, n_samples=9734)\n",
    "\n",
    "df3 = df3.append(airlines_delay)\n",
    "df3['Late'].value_counts()"
   ]
  },
  {
   "cell_type": "code",
   "execution_count": 32,
   "metadata": {},
   "outputs": [
    {
     "name": "stdout",
     "output_type": "stream",
     "text": [
      "It took the following time to complete this task: 0:00:08.690395\n"
     ]
    },
    {
     "data": {
      "image/png": "[encoded data removed]",
      "text/plain": [
       "<matplotlib.figure.Figure at 0x11744c518>"
      ]
     },
     "metadata": {},
     "output_type": "display_data"
    }
   ],
   "source": [
    "start = datetime.now()\n",
    "#Turn the string features into dummies\n",
    "df3 = pd.get_dummies(df3, columns=['Origin', 'UniqueCarrier'])\n",
    "sns.heatmap(df3.corr())\n",
    "print('It took the following time to complete this task:', datetime.now() - start)"
   ]
  },
  {
   "cell_type": "code",
   "execution_count": 33,
   "metadata": {
    "collapsed": true
   },
   "outputs": [],
   "source": [
    "X = df3.drop(['ArrDelay', 'Late'], 1)\n",
    "y = df3['Late']\n",
    "X_train, X_test, y_train, y_test = train_test_split(X, y, test_size=0.2, random_state=42)"
   ]
  },
  {
   "cell_type": "code",
   "execution_count": 34,
   "metadata": {},
   "outputs": [
    {
     "name": "stdout",
     "output_type": "stream",
     "text": [
      "It took the following time to complete this task: 0:00:00.009083\n"
     ]
    }
   ],
   "source": [
    "start = datetime.now()\n",
    "#Use Lasso/RFECV to get the best features\n",
    "lr = LogisticRegression(C=1, penalty='l1')\n",
    "\n",
    "#Set up our X,y\n",
    "X = X_train\n",
    "y = y_train\n",
    "\n",
    "#Set up our Recursive Feature Elimination with Cross Validation\n",
    "\"\"\"rfecv = RFECV(lr, cv=10) \n",
    "fit = rfecv.fit(X,y)\n",
    "result_RFECV = pd.DataFrame(list(zip(X.head(0), rfecv.ranking_, rfecv.support_)),\n",
    "                          columns=['Features','Ranking','Support'] ) \n",
    "print(result_RFECV.sort_values('Ranking'))\"\"\"\n",
    "print('It took the following time to complete this task:', datetime.now() - start)"
   ]
  },
  {
   "cell_type": "code",
   "execution_count": 35,
   "metadata": {},
   "outputs": [
    {
     "data": {
      "text/plain": [
       "\"true_values = result_RFECV[result_RFECV.Support == True]\\nfeature_list = []\\nfor feature in true_values['Features']:\\n    feature_list.append(feature)\\nsns.heatmap(X_train[feature_list].corr())\""
      ]
     },
     "execution_count": 35,
     "metadata": {},
     "output_type": "execute_result"
    }
   ],
   "source": [
    "\"\"\"true_values = result_RFECV[result_RFECV.Support == True]\n",
    "feature_list = []\n",
    "for feature in true_values['Features']:\n",
    "    feature_list.append(feature)\n",
    "sns.heatmap(X_train[feature_list].corr())\"\"\""
   ]
  },
  {
   "cell_type": "code",
   "execution_count": null,
   "metadata": {
    "collapsed": true
   },
   "outputs": [],
   "source": []
  },
  {
   "cell_type": "code",
   "execution_count": 36,
   "metadata": {
    "collapsed": true
   },
   "outputs": [],
   "source": [
    "#Select features with PCA\n",
    "pca = PCA(n_components=15)\n",
    "X_std_pca = pca.fit_transform(X_train)\n",
    "X1 = pd.DataFrame(X_std_pca)\n",
    "\n",
    "#Now for the Test\n",
    "pca = PCA(n_components=25)\n",
    "X_std_pca = pca.fit_transform(X_test)\n",
    "X1_test = pd.DataFrame(X_std_pca)"
   ]
  },
  {
   "cell_type": "code",
   "execution_count": 37,
   "metadata": {},
   "outputs": [
    {
     "data": {
      "text/plain": [
       "'X = X_train[feature_list]\\ny = y_train\\nX_test = X_test[feature_list]'"
      ]
     },
     "execution_count": 37,
     "metadata": {},
     "output_type": "execute_result"
    }
   ],
   "source": [
    "#Set our X, y variables\n",
    "\"\"\"X = X_train[feature_list]\n",
    "y = y_train\n",
    "X_test = X_test[feature_list]\"\"\"\n",
    "\n"
   ]
  },
  {
   "cell_type": "code",
   "execution_count": 38,
   "metadata": {
    "collapsed": true
   },
   "outputs": [],
   "source": [
    "def testing_func(model):\n",
    "    \"\"\"model.fit(X, y)\"\"\"\n",
    "    model.fit(X1, y)\n",
    "\n",
    "    # Inspect the results.\n",
    "    \"\"\"print('\\nR-squared for the Training Set with RFECV features:')\n",
    "    print(model.score(X, y))\"\"\"\n",
    "    print('\\nR-squared for the Training Set with PCA:')\n",
    "    print(model.score(X1, y))\n",
    "    \"\"\"print('Cross Validation Scores with 10 folds for RFECV Features: {}'.format(cross_val_score(model, X, y, cv=10)))\"\"\"\n",
    "    print('Cross Validation Scores with 10 folds for PCA: {}'.format(cross_val_score(model, X1, y, cv=10)))"
   ]
  },
  {
   "cell_type": "code",
   "execution_count": 39,
   "metadata": {},
   "outputs": [
    {
     "name": "stdout",
     "output_type": "stream",
     "text": [
      "\n",
      "R-squared for the Training Set with PCA:\n",
      "0.997303197637\n",
      "Cross Validation Scores with 10 folds for PCA: [ 0.99807445  0.99679076  0.99614891  0.99807445  0.99614891  0.99807322\n",
      "  0.99743096  0.99743096  0.99807322  0.99871465]\n",
      "It took the following time to complete this task: 0:00:05.493038\n"
     ]
    }
   ],
   "source": [
    "start = datetime.now()\n",
    "#Let's pop those into the model\n",
    "lr = LogisticRegression(C=9e9)\n",
    "testing_func(lr)\n",
    "\n",
    "print('It took the following time to complete this task:', datetime.now() - start)"
   ]
  },
  {
   "cell_type": "code",
   "execution_count": 40,
   "metadata": {},
   "outputs": [
    {
     "name": "stdout",
     "output_type": "stream",
     "text": [
      "\n",
      "R-squared for the Training Set with PCA:\n",
      "0.995954796456\n",
      "Cross Validation Scores with 10 folds for PCA: [ 0.99550706  0.99486521  0.99486521  0.99486521  0.99486521  0.99614644\n",
      "  0.9967887   0.9967887   0.99743096  0.99678663]\n",
      "It took the following time to complete this task: 0:00:21.550571\n"
     ]
    }
   ],
   "source": [
    "start = datetime.now()\n",
    "#Let's pop those into the model\n",
    "lr = LogisticRegression(C=1, penalty='l1')\n",
    "testing_func(lr)\n",
    "\n",
    "print('It took the following time to complete this task:', datetime.now() - start)"
   ]
  },
  {
   "cell_type": "code",
   "execution_count": 41,
   "metadata": {},
   "outputs": [
    {
     "name": "stdout",
     "output_type": "stream",
     "text": [
      "\n",
      "R-squared for the Training Set with PCA:\n",
      "0.997110568897\n",
      "Cross Validation Scores with 10 folds for PCA: [ 0.99679076  0.99614891  0.99486521  0.99743261  0.99486521  0.99807322\n",
      "  0.99743096  0.9967887   0.99743096  0.99807198]\n",
      "It took the following time to complete this task: 0:00:04.851402\n"
     ]
    }
   ],
   "source": [
    "start = datetime.now()\n",
    "#Let's pop those into the model\n",
    "lr = LogisticRegression(C=1, penalty='l2')\n",
    "testing_func(lr)\n",
    "\n",
    "print('It took the following time to complete this task:', datetime.now() - start)"
   ]
  },
  {
   "cell_type": "code",
   "execution_count": 42,
   "metadata": {},
   "outputs": [
    {
     "name": "stdout",
     "output_type": "stream",
     "text": [
      "\n",
      "R-squared for the Training Set with PCA:\n",
      "0.939964042635\n",
      "Cross Validation Scores with 10 folds for PCA: [ 0.91848524  0.88896021  0.89794608  0.90500642  0.90885751  0.90687219\n",
      "  0.90751445  0.9132948   0.90044958  0.89460154]\n",
      "It took the following time to complete this task: 0:00:01.084161\n"
     ]
    }
   ],
   "source": [
    "start = datetime.now()\n",
    "neighbors = KNeighborsClassifier(n_neighbors=5)\n",
    "testing_func(neighbors)\n",
    "\n",
    "print('It took the following time to complete this task:', datetime.now() - start)"
   ]
  },
  {
   "cell_type": "code",
   "execution_count": 43,
   "metadata": {},
   "outputs": [
    {
     "name": "stdout",
     "output_type": "stream",
     "text": [
      "\n",
      "R-squared for the Training Set with PCA:\n",
      "0.956209066393\n",
      "Cross Validation Scores with 10 folds for PCA: [ 0.95442875  0.95057766  0.94865212  0.94159178  0.95314506  0.94348105\n",
      "  0.94348105  0.94412331  0.93641618  0.95501285]\n",
      "\n",
      "R-squared for the Training Set with PCA:\n",
      "0.986965455246\n",
      "Cross Validation Scores with 10 folds for PCA: [ 0.96084724  0.95699615  0.95892169  0.95699615  0.94929397  0.95761079\n",
      "  0.95953757  0.96531792  0.95183044  0.96915167]\n",
      "It took the following time to complete this task: 0:00:03.628880\n"
     ]
    }
   ],
   "source": [
    "start = datetime.now()\n",
    "clf_1 = DecisionTreeClassifier(max_depth=5)\n",
    "clf_2 = DecisionTreeClassifier(max_depth=9)\n",
    "testing_func(clf_1)\n",
    "testing_func(clf_2)\n",
    "\n",
    "print('It took the following time to complete this task:', datetime.now() - start)"
   ]
  },
  {
   "cell_type": "code",
   "execution_count": 44,
   "metadata": {},
   "outputs": [
    {
     "name": "stdout",
     "output_type": "stream",
     "text": [
      "It took the following time to complete this project: 0:01:41.449501\n"
     ]
    }
   ],
   "source": [
    "print('It took the following time to complete this project:', datetime.now() - main_start)"
   ]
  }
 ],
 "metadata": {
  "kernelspec": {
   "display_name": "Python 3",
   "language": "python",
   "name": "python3"
  },
  "language_info": {
   "codemirror_mode": {
    "name": "ipython",
    "version": 3
   },
   "file_extension": ".py",
   "mimetype": "text/x-python",
   "name": "python",
   "nbconvert_exporter": "python",
   "pygments_lexer": "ipython3",
   "version": "3.6.1"
  }
 },
 "nbformat": 4,
 "nbformat_minor": 2
}
