{
 "cells": [
  {
   "cell_type": "code",
   "execution_count": 1328,
   "metadata": {},
   "outputs": [],
   "source": [
    "import math\n",
    "import warnings\n",
    "\n",
    "from matplotlib import pyplot as plt\n",
    "import numpy as np\n",
    "import pandas as pd\n",
    "import seaborn as sns\n",
    "from sklearn import linear_model\n",
    "from scipy import stats\n",
    "import statsmodels.formula.api as smf\n",
    "from sklearn.feature_selection import RFE\n",
    "from sklearn.model_selection import cross_val_score\n",
    "from sklearn.svm import SVR\n",
    "from sklearn.linear_model import LogisticRegression\n",
    "from sklearn.decomposition import PCA\n",
    "\n",
    "# Display preferences.\n",
    "%matplotlib inline\n",
    "pd.options.display.float_format = '{:.3f}'.format\n",
    "\n",
    "# Suppress annoying harmless error.\n",
    "warnings.filterwarnings(\n",
    "    action=\"ignore\",\n",
    "    module=\"scipy\",\n",
    "    message=\"^internal gelsd\"\n",
    ")"
   ]
  },
  {
   "cell_type": "code",
   "execution_count": 1329,
   "metadata": {},
   "outputs": [
    {
     "data": {
      "text/html": [
       "<div>\n",
       "<style>\n",
       "    .dataframe thead tr:only-child th {\n",
       "        text-align: right;\n",
       "    }\n",
       "\n",
       "    .dataframe thead th {\n",
       "        text-align: left;\n",
       "    }\n",
       "\n",
       "    .dataframe tbody tr th {\n",
       "        vertical-align: top;\n",
       "    }\n",
       "</style>\n",
       "<table border=\"1\" class=\"dataframe\">\n",
       "  <thead>\n",
       "    <tr style=\"text-align: right;\">\n",
       "      <th></th>\n",
       "      <th>City</th>\n",
       "      <th>Population</th>\n",
       "      <th>Violent crime</th>\n",
       "      <th>Murder</th>\n",
       "      <th>Rape revised</th>\n",
       "      <th>Rape legacy</th>\n",
       "      <th>Robbery</th>\n",
       "      <th>Aggravated assault</th>\n",
       "      <th>Property crime</th>\n",
       "      <th>Burglary</th>\n",
       "      <th>Larceny</th>\n",
       "      <th>Motor vehicle theft</th>\n",
       "      <th>Arson</th>\n",
       "    </tr>\n",
       "  </thead>\n",
       "  <tbody>\n",
       "    <tr>\n",
       "      <th>338</th>\n",
       "      <td>West Seneca Town</td>\n",
       "      <td>44,821</td>\n",
       "      <td>35</td>\n",
       "      <td>1.000</td>\n",
       "      <td>nan</td>\n",
       "      <td>1</td>\n",
       "      <td>9</td>\n",
       "      <td>24</td>\n",
       "      <td>896</td>\n",
       "      <td>166</td>\n",
       "      <td>710</td>\n",
       "      <td>20</td>\n",
       "      <td>0.000</td>\n",
       "    </tr>\n",
       "    <tr>\n",
       "      <th>339</th>\n",
       "      <td>Whitehall Village</td>\n",
       "      <td>2,604</td>\n",
       "      <td>6</td>\n",
       "      <td>0.000</td>\n",
       "      <td>nan</td>\n",
       "      <td>0</td>\n",
       "      <td>0</td>\n",
       "      <td>6</td>\n",
       "      <td>62</td>\n",
       "      <td>12</td>\n",
       "      <td>49</td>\n",
       "      <td>1</td>\n",
       "      <td>nan</td>\n",
       "    </tr>\n",
       "    <tr>\n",
       "      <th>340</th>\n",
       "      <td>White Plains</td>\n",
       "      <td>57,559</td>\n",
       "      <td>78</td>\n",
       "      <td>1.000</td>\n",
       "      <td>nan</td>\n",
       "      <td>3</td>\n",
       "      <td>28</td>\n",
       "      <td>46</td>\n",
       "      <td>1,232</td>\n",
       "      <td>77</td>\n",
       "      <td>1,134</td>\n",
       "      <td>21</td>\n",
       "      <td>nan</td>\n",
       "    </tr>\n",
       "    <tr>\n",
       "      <th>341</th>\n",
       "      <td>Whitesboro Village</td>\n",
       "      <td>3,733</td>\n",
       "      <td>4</td>\n",
       "      <td>0.000</td>\n",
       "      <td>nan</td>\n",
       "      <td>0</td>\n",
       "      <td>0</td>\n",
       "      <td>4</td>\n",
       "      <td>36</td>\n",
       "      <td>14</td>\n",
       "      <td>21</td>\n",
       "      <td>1</td>\n",
       "      <td>0.000</td>\n",
       "    </tr>\n",
       "    <tr>\n",
       "      <th>342</th>\n",
       "      <td>Whitestown Town</td>\n",
       "      <td>9,141</td>\n",
       "      <td>0</td>\n",
       "      <td>0.000</td>\n",
       "      <td>nan</td>\n",
       "      <td>0</td>\n",
       "      <td>0</td>\n",
       "      <td>0</td>\n",
       "      <td>77</td>\n",
       "      <td>13</td>\n",
       "      <td>61</td>\n",
       "      <td>3</td>\n",
       "      <td>0.000</td>\n",
       "    </tr>\n",
       "    <tr>\n",
       "      <th>343</th>\n",
       "      <td>Woodbury Town</td>\n",
       "      <td>10,685</td>\n",
       "      <td>3</td>\n",
       "      <td>0.000</td>\n",
       "      <td>nan</td>\n",
       "      <td>0</td>\n",
       "      <td>2</td>\n",
       "      <td>1</td>\n",
       "      <td>541</td>\n",
       "      <td>9</td>\n",
       "      <td>529</td>\n",
       "      <td>3</td>\n",
       "      <td>nan</td>\n",
       "    </tr>\n",
       "    <tr>\n",
       "      <th>344</th>\n",
       "      <td>Woodridge Village</td>\n",
       "      <td>829</td>\n",
       "      <td>7</td>\n",
       "      <td>0.000</td>\n",
       "      <td>nan</td>\n",
       "      <td>0</td>\n",
       "      <td>0</td>\n",
       "      <td>7</td>\n",
       "      <td>17</td>\n",
       "      <td>8</td>\n",
       "      <td>9</td>\n",
       "      <td>0</td>\n",
       "      <td>0.000</td>\n",
       "    </tr>\n",
       "    <tr>\n",
       "      <th>345</th>\n",
       "      <td>Woodstock Town</td>\n",
       "      <td>5,931</td>\n",
       "      <td>2</td>\n",
       "      <td>0.000</td>\n",
       "      <td>nan</td>\n",
       "      <td>0</td>\n",
       "      <td>0</td>\n",
       "      <td>2</td>\n",
       "      <td>58</td>\n",
       "      <td>13</td>\n",
       "      <td>45</td>\n",
       "      <td>0</td>\n",
       "      <td>nan</td>\n",
       "    </tr>\n",
       "    <tr>\n",
       "      <th>346</th>\n",
       "      <td>Yonkers</td>\n",
       "      <td>199,134</td>\n",
       "      <td>1,036</td>\n",
       "      <td>6.000</td>\n",
       "      <td>nan</td>\n",
       "      <td>25</td>\n",
       "      <td>390</td>\n",
       "      <td>615</td>\n",
       "      <td>2,368</td>\n",
       "      <td>470</td>\n",
       "      <td>1,662</td>\n",
       "      <td>236</td>\n",
       "      <td>10.000</td>\n",
       "    </tr>\n",
       "    <tr>\n",
       "      <th>347</th>\n",
       "      <td>Yorktown Town</td>\n",
       "      <td>36,643</td>\n",
       "      <td>15</td>\n",
       "      <td>0.000</td>\n",
       "      <td>nan</td>\n",
       "      <td>0</td>\n",
       "      <td>2</td>\n",
       "      <td>13</td>\n",
       "      <td>334</td>\n",
       "      <td>45</td>\n",
       "      <td>287</td>\n",
       "      <td>2</td>\n",
       "      <td>nan</td>\n",
       "    </tr>\n",
       "  </tbody>\n",
       "</table>\n",
       "</div>"
      ],
      "text/plain": [
       "                   City Population Violent crime  Murder  Rape revised  \\\n",
       "338    West Seneca Town     44,821            35   1.000           nan   \n",
       "339   Whitehall Village      2,604             6   0.000           nan   \n",
       "340        White Plains     57,559            78   1.000           nan   \n",
       "341  Whitesboro Village      3,733             4   0.000           nan   \n",
       "342     Whitestown Town      9,141             0   0.000           nan   \n",
       "343       Woodbury Town     10,685             3   0.000           nan   \n",
       "344   Woodridge Village        829             7   0.000           nan   \n",
       "345      Woodstock Town      5,931             2   0.000           nan   \n",
       "346             Yonkers    199,134         1,036   6.000           nan   \n",
       "347       Yorktown Town     36,643            15   0.000           nan   \n",
       "\n",
       "    Rape legacy Robbery Aggravated assault Property crime Burglary Larceny  \\\n",
       "338           1       9                 24            896      166     710   \n",
       "339           0       0                  6             62       12      49   \n",
       "340           3      28                 46          1,232       77   1,134   \n",
       "341           0       0                  4             36       14      21   \n",
       "342           0       0                  0             77       13      61   \n",
       "343           0       2                  1            541        9     529   \n",
       "344           0       0                  7             17        8       9   \n",
       "345           0       0                  2             58       13      45   \n",
       "346          25     390                615          2,368      470   1,662   \n",
       "347           0       2                 13            334       45     287   \n",
       "\n",
       "    Motor vehicle theft  Arson  \n",
       "338                  20  0.000  \n",
       "339                   1    nan  \n",
       "340                  21    nan  \n",
       "341                   1  0.000  \n",
       "342                   3  0.000  \n",
       "343                   3    nan  \n",
       "344                   0  0.000  \n",
       "345                   0    nan  \n",
       "346                 236 10.000  \n",
       "347                   2    nan  "
      ]
     },
     "execution_count": 1329,
     "metadata": {},
     "output_type": "execute_result"
    }
   ],
   "source": [
    "data_path = (\"https://raw.githubusercontent.com/Thinkful-Ed/data-201-resources/master/New_York_offenses/NEW_YORK-Offenses_Known_to_Law_Enforcement_by_City_2013%20-%2013tbl8ny.csv\"\n",
    "            )\n",
    "crime_df = pd.read_csv(data_path, header=1, index_col=False, skiprows=[0, 1, 2])\n",
    "crime_df = crime_df.drop(crime_df.index[-3:])\n",
    "\n",
    "#Clean up the column names\n",
    "crime_df.columns=['City','Population', 'Violent crime', 'Murder', 'Rape revised', 'Rape legacy', 'Robbery', \n",
    "         'Aggravated assault','Property crime', 'Burglary', 'Larceny', 'Motor vehicle theft', 'Arson']\n",
    "crime_df.tail(10)"
   ]
  },
  {
   "cell_type": "code",
   "execution_count": 1330,
   "metadata": {},
   "outputs": [
    {
     "data": {
      "text/html": [
       "<div>\n",
       "<style>\n",
       "    .dataframe thead tr:only-child th {\n",
       "        text-align: right;\n",
       "    }\n",
       "\n",
       "    .dataframe thead th {\n",
       "        text-align: left;\n",
       "    }\n",
       "\n",
       "    .dataframe tbody tr th {\n",
       "        vertical-align: top;\n",
       "    }\n",
       "</style>\n",
       "<table border=\"1\" class=\"dataframe\">\n",
       "  <thead>\n",
       "    <tr style=\"text-align: right;\">\n",
       "      <th></th>\n",
       "      <th>City</th>\n",
       "      <th>Population</th>\n",
       "      <th>Violent crime</th>\n",
       "      <th>Murder</th>\n",
       "      <th>Rape revised</th>\n",
       "      <th>Rape legacy</th>\n",
       "      <th>Robbery</th>\n",
       "      <th>Aggravated assault</th>\n",
       "      <th>Property crime</th>\n",
       "      <th>Burglary</th>\n",
       "      <th>Larceny</th>\n",
       "      <th>Motor vehicle theft</th>\n",
       "      <th>Arson</th>\n",
       "      <th>Rape combined</th>\n",
       "      <th>Property crime binary</th>\n",
       "      <th>Murder binary</th>\n",
       "      <th>Robbery binary</th>\n",
       "    </tr>\n",
       "  </thead>\n",
       "  <tbody>\n",
       "    <tr>\n",
       "      <th>0</th>\n",
       "      <td>Adams Village</td>\n",
       "      <td>1861</td>\n",
       "      <td>0</td>\n",
       "      <td>0.000</td>\n",
       "      <td>0</td>\n",
       "      <td>0</td>\n",
       "      <td>0</td>\n",
       "      <td>0</td>\n",
       "      <td>12</td>\n",
       "      <td>2</td>\n",
       "      <td>10</td>\n",
       "      <td>0</td>\n",
       "      <td>0</td>\n",
       "      <td>0</td>\n",
       "      <td>1</td>\n",
       "      <td>0</td>\n",
       "      <td>0</td>\n",
       "    </tr>\n",
       "    <tr>\n",
       "      <th>1</th>\n",
       "      <td>Addison Town and Village</td>\n",
       "      <td>2577</td>\n",
       "      <td>3</td>\n",
       "      <td>0.000</td>\n",
       "      <td>0</td>\n",
       "      <td>0</td>\n",
       "      <td>0</td>\n",
       "      <td>3</td>\n",
       "      <td>24</td>\n",
       "      <td>3</td>\n",
       "      <td>20</td>\n",
       "      <td>1</td>\n",
       "      <td>0</td>\n",
       "      <td>0</td>\n",
       "      <td>1</td>\n",
       "      <td>0</td>\n",
       "      <td>0</td>\n",
       "    </tr>\n",
       "    <tr>\n",
       "      <th>2</th>\n",
       "      <td>Akron Village</td>\n",
       "      <td>2846</td>\n",
       "      <td>3</td>\n",
       "      <td>0.000</td>\n",
       "      <td>0</td>\n",
       "      <td>0</td>\n",
       "      <td>0</td>\n",
       "      <td>3</td>\n",
       "      <td>16</td>\n",
       "      <td>1</td>\n",
       "      <td>15</td>\n",
       "      <td>0</td>\n",
       "      <td>0</td>\n",
       "      <td>0</td>\n",
       "      <td>1</td>\n",
       "      <td>0</td>\n",
       "      <td>0</td>\n",
       "    </tr>\n",
       "    <tr>\n",
       "      <th>3</th>\n",
       "      <td>Albany</td>\n",
       "      <td>97956</td>\n",
       "      <td>791</td>\n",
       "      <td>8.000</td>\n",
       "      <td>0</td>\n",
       "      <td>30</td>\n",
       "      <td>227</td>\n",
       "      <td>526</td>\n",
       "      <td>4090</td>\n",
       "      <td>705</td>\n",
       "      <td>3243</td>\n",
       "      <td>142</td>\n",
       "      <td>0</td>\n",
       "      <td>30</td>\n",
       "      <td>1</td>\n",
       "      <td>1</td>\n",
       "      <td>1</td>\n",
       "    </tr>\n",
       "    <tr>\n",
       "      <th>4</th>\n",
       "      <td>Albion Village</td>\n",
       "      <td>6388</td>\n",
       "      <td>23</td>\n",
       "      <td>0.000</td>\n",
       "      <td>0</td>\n",
       "      <td>3</td>\n",
       "      <td>4</td>\n",
       "      <td>16</td>\n",
       "      <td>223</td>\n",
       "      <td>53</td>\n",
       "      <td>165</td>\n",
       "      <td>5</td>\n",
       "      <td>0</td>\n",
       "      <td>3</td>\n",
       "      <td>1</td>\n",
       "      <td>0</td>\n",
       "      <td>1</td>\n",
       "    </tr>\n",
       "    <tr>\n",
       "      <th>5</th>\n",
       "      <td>Alfred Village</td>\n",
       "      <td>4089</td>\n",
       "      <td>5</td>\n",
       "      <td>0.000</td>\n",
       "      <td>0</td>\n",
       "      <td>0</td>\n",
       "      <td>3</td>\n",
       "      <td>2</td>\n",
       "      <td>46</td>\n",
       "      <td>10</td>\n",
       "      <td>36</td>\n",
       "      <td>0</td>\n",
       "      <td>0</td>\n",
       "      <td>0</td>\n",
       "      <td>1</td>\n",
       "      <td>0</td>\n",
       "      <td>1</td>\n",
       "    </tr>\n",
       "    <tr>\n",
       "      <th>6</th>\n",
       "      <td>Allegany Village</td>\n",
       "      <td>1781</td>\n",
       "      <td>3</td>\n",
       "      <td>0.000</td>\n",
       "      <td>0</td>\n",
       "      <td>0</td>\n",
       "      <td>0</td>\n",
       "      <td>3</td>\n",
       "      <td>10</td>\n",
       "      <td>0</td>\n",
       "      <td>10</td>\n",
       "      <td>0</td>\n",
       "      <td>0</td>\n",
       "      <td>0</td>\n",
       "      <td>1</td>\n",
       "      <td>0</td>\n",
       "      <td>0</td>\n",
       "    </tr>\n",
       "    <tr>\n",
       "      <th>7</th>\n",
       "      <td>Amherst Town</td>\n",
       "      <td>118296</td>\n",
       "      <td>107</td>\n",
       "      <td>1.000</td>\n",
       "      <td>0</td>\n",
       "      <td>7</td>\n",
       "      <td>31</td>\n",
       "      <td>68</td>\n",
       "      <td>2118</td>\n",
       "      <td>204</td>\n",
       "      <td>1882</td>\n",
       "      <td>32</td>\n",
       "      <td>3</td>\n",
       "      <td>7</td>\n",
       "      <td>1</td>\n",
       "      <td>1</td>\n",
       "      <td>1</td>\n",
       "    </tr>\n",
       "    <tr>\n",
       "      <th>8</th>\n",
       "      <td>Amityville Village</td>\n",
       "      <td>9519</td>\n",
       "      <td>9</td>\n",
       "      <td>0.000</td>\n",
       "      <td>0</td>\n",
       "      <td>2</td>\n",
       "      <td>4</td>\n",
       "      <td>3</td>\n",
       "      <td>210</td>\n",
       "      <td>16</td>\n",
       "      <td>188</td>\n",
       "      <td>6</td>\n",
       "      <td>1</td>\n",
       "      <td>2</td>\n",
       "      <td>1</td>\n",
       "      <td>0</td>\n",
       "      <td>1</td>\n",
       "    </tr>\n",
       "    <tr>\n",
       "      <th>9</th>\n",
       "      <td>Amsterdam</td>\n",
       "      <td>18182</td>\n",
       "      <td>30</td>\n",
       "      <td>0.000</td>\n",
       "      <td>0</td>\n",
       "      <td>0</td>\n",
       "      <td>12</td>\n",
       "      <td>18</td>\n",
       "      <td>405</td>\n",
       "      <td>99</td>\n",
       "      <td>291</td>\n",
       "      <td>15</td>\n",
       "      <td>0</td>\n",
       "      <td>0</td>\n",
       "      <td>1</td>\n",
       "      <td>0</td>\n",
       "      <td>1</td>\n",
       "    </tr>\n",
       "  </tbody>\n",
       "</table>\n",
       "</div>"
      ],
      "text/plain": [
       "                       City  Population  Violent crime  Murder  Rape revised  \\\n",
       "0             Adams Village        1861              0   0.000             0   \n",
       "1  Addison Town and Village        2577              3   0.000             0   \n",
       "2             Akron Village        2846              3   0.000             0   \n",
       "3                    Albany       97956            791   8.000             0   \n",
       "4            Albion Village        6388             23   0.000             0   \n",
       "5            Alfred Village        4089              5   0.000             0   \n",
       "6          Allegany Village        1781              3   0.000             0   \n",
       "7              Amherst Town      118296            107   1.000             0   \n",
       "8        Amityville Village        9519              9   0.000             0   \n",
       "9                 Amsterdam       18182             30   0.000             0   \n",
       "\n",
       "   Rape legacy  Robbery  Aggravated assault  Property crime  Burglary  \\\n",
       "0            0        0                   0              12         2   \n",
       "1            0        0                   3              24         3   \n",
       "2            0        0                   3              16         1   \n",
       "3           30      227                 526            4090       705   \n",
       "4            3        4                  16             223        53   \n",
       "5            0        3                   2              46        10   \n",
       "6            0        0                   3              10         0   \n",
       "7            7       31                  68            2118       204   \n",
       "8            2        4                   3             210        16   \n",
       "9            0       12                  18             405        99   \n",
       "\n",
       "   Larceny  Motor vehicle theft  Arson  Rape combined  Property crime binary  \\\n",
       "0       10                    0      0              0                      1   \n",
       "1       20                    1      0              0                      1   \n",
       "2       15                    0      0              0                      1   \n",
       "3     3243                  142      0             30                      1   \n",
       "4      165                    5      0              3                      1   \n",
       "5       36                    0      0              0                      1   \n",
       "6       10                    0      0              0                      1   \n",
       "7     1882                   32      3              7                      1   \n",
       "8      188                    6      1              2                      1   \n",
       "9      291                   15      0              0                      1   \n",
       "\n",
       "   Murder binary  Robbery binary  \n",
       "0              0               0  \n",
       "1              0               0  \n",
       "2              0               0  \n",
       "3              1               1  \n",
       "4              0               1  \n",
       "5              0               1  \n",
       "6              0               0  \n",
       "7              1               1  \n",
       "8              0               1  \n",
       "9              0               1  "
      ]
     },
     "execution_count": 1330,
     "metadata": {},
     "output_type": "execute_result"
    }
   ],
   "source": [
    "#Turn the Population strings into integers\n",
    "crime_df['Population'] = crime_df['Population'].str.replace(',', '')\n",
    "crime_df['Population'] = crime_df['Population'].astype(int)\n",
    "#Turn the Robbery strings into integers\n",
    "crime_df['Robbery'] = crime_df['Robbery'].str.replace(',', '')\n",
    "crime_df['Robbery'] = crime_df['Robbery'].astype(int)\n",
    "#Turn the Violent crime strings into integers\n",
    "crime_df['Violent crime'] = crime_df['Violent crime'].str.replace(',', '')\n",
    "crime_df['Violent crime'] = crime_df['Violent crime'].astype(int)\n",
    "#Turn the Aggravated Assault strings into integers\n",
    "crime_df['Aggravated assault'] = crime_df['Aggravated assault'].str.replace(',', '')\n",
    "crime_df['Aggravated assault'] = crime_df['Aggravated assault'].astype(int)\n",
    "#Turn the Property crime strings into integers\n",
    "crime_df['Property crime'] = crime_df['Property crime'].str.replace(',', '')\n",
    "crime_df['Property crime'] = crime_df['Property crime'].astype(int)\n",
    "#Turn the Burglary strings into integers\n",
    "crime_df['Burglary'] = crime_df['Burglary'].str.replace(',', '')\n",
    "crime_df['Burglary'] = crime_df['Burglary'].astype(int)\n",
    "#Turn the Larceny strings into integers\n",
    "crime_df['Larceny'] = crime_df['Larceny'].str.replace(',', '')\n",
    "crime_df['Larceny'] = crime_df['Larceny'].astype(int)\n",
    "#Turn the Motor vehicle theft strings into integers\n",
    "crime_df['Motor vehicle theft'] = crime_df['Motor vehicle theft'].str.replace(',', '')\n",
    "crime_df['Motor vehicle theft'] = crime_df['Motor vehicle theft'].astype(int)\n",
    "\n",
    "#Combine the Rape Scenarios into one category\n",
    "crime_df['Rape legacy'] = crime_df['Rape legacy'].str.replace(',', '')\n",
    "crime_df['Rape legacy'] = crime_df['Rape legacy'].astype(int)\n",
    "crime_df['Rape revised'] = crime_df['Rape revised'].replace([None], 0).astype(int)\n",
    "crime_df['Rape legacy'] = crime_df['Rape legacy'].replace([None], 0)\n",
    "crime_df['Rape combined'] = crime_df['Rape revised'] + crime_df['Rape legacy']\n",
    "\n",
    "crime_df['Arson'] = crime_df['Arson'].replace([None], 0).astype(int)\n",
    "\n",
    "#Make Murder and Robbery binary\n",
    "threshold = 1\n",
    "crime_df['Property crime binary'] = np.where(crime_df['Property crime'] >= threshold, 1,0)\n",
    "crime_df['Murder binary'] = np.where(crime_df['Murder'] >= threshold, 1,0)\n",
    "crime_df['Robbery binary'] = np.where(crime_df['Robbery'] >= threshold, 1, 0)\n",
    "\n",
    "crime_df.head(10)"
   ]
  },
  {
   "cell_type": "code",
   "execution_count": 1331,
   "metadata": {},
   "outputs": [
    {
     "name": "stdout",
     "output_type": "stream",
     "text": [
      "Missing values per column:\n",
      "City                     0\n",
      "Population               0\n",
      "Violent crime            0\n",
      "Murder                   0\n",
      "Rape revised             0\n",
      "Rape legacy              0\n",
      "Robbery                  0\n",
      "Aggravated assault       0\n",
      "Property crime           0\n",
      "Burglary                 0\n",
      "Larceny                  0\n",
      "Motor vehicle theft      0\n",
      "Arson                    0\n",
      "Rape combined            0\n",
      "Property crime binary    0\n",
      "Murder binary            0\n",
      "Robbery binary           0\n",
      "dtype: int64\n"
     ]
    }
   ],
   "source": [
    "#Double Check there is no missing data\n",
    "\n",
    "def num_missing(x):\n",
    "  return sum(x.isnull())\n",
    "\n",
    "#Applying per column:\n",
    "print(\"Missing values per column:\")\n",
    "print(crime_df.apply(num_missing, axis=0))"
   ]
  },
  {
   "cell_type": "code",
   "execution_count": 1332,
   "metadata": {},
   "outputs": [
    {
     "name": "stdout",
     "output_type": "stream",
     "text": [
      "       Population  Violent crime  Murder  Rape revised  Rape legacy   Robbery  \\\n",
      "count     348.000        348.000 348.000       348.000      348.000   348.000   \n",
      "mean    40037.632        201.595   1.566         0.000        5.865    72.902   \n",
      "std    450037.368       2815.269  18.304         0.000       60.425  1031.033   \n",
      "min       526.000          0.000   0.000         0.000        0.000     0.000   \n",
      "25%      3003.000          2.000   0.000         0.000        0.000     0.000   \n",
      "50%      7233.500          6.000   0.000         0.000        0.000     1.000   \n",
      "75%     18427.500         22.000   0.000         0.000        2.000     5.000   \n",
      "max   8396126.000      52384.000 335.000         0.000     1112.000 19170.000   \n",
      "\n",
      "       Aggravated assault  Property crime  Burglary    Larceny  \\\n",
      "count             348.000         348.000   348.000    348.000   \n",
      "mean              121.261         792.606   119.684    637.017   \n",
      "std              1706.132        7659.725   924.949   6346.054   \n",
      "min                 0.000           0.000     0.000      0.000   \n",
      "25%                 1.000          40.500     6.000     31.000   \n",
      "50%                 4.000         112.500    17.500     94.000   \n",
      "75%                14.000         341.000    51.250    287.250   \n",
      "max             31767.000      141971.000 16606.000 117931.000   \n",
      "\n",
      "       Motor vehicle theft   Arson  Rape combined  Property crime binary  \\\n",
      "count              348.000 348.000        348.000                348.000   \n",
      "mean                35.905   1.006          5.865                  0.983   \n",
      "std                403.424   7.885         60.425                  0.130   \n",
      "min                  0.000   0.000          0.000                  0.000   \n",
      "25%                  0.000   0.000          0.000                  1.000   \n",
      "50%                  2.000   0.000          0.000                  1.000   \n",
      "75%                  7.000   0.000          2.000                  1.000   \n",
      "max               7434.000 132.000       1112.000                  1.000   \n",
      "\n",
      "       Murder binary  Robbery binary  \n",
      "count        348.000         348.000  \n",
      "mean           0.141           0.601  \n",
      "std            0.348           0.490  \n",
      "min            0.000           0.000  \n",
      "25%            0.000           0.000  \n",
      "50%            0.000           1.000  \n",
      "75%            0.000           1.000  \n",
      "max            1.000           1.000  \n"
     ]
    }
   ],
   "source": [
    "#look at data for outliers\n",
    "print(crime_df.describe())"
   ]
  },
  {
   "cell_type": "code",
   "execution_count": 1333,
   "metadata": {
    "collapsed": true
   },
   "outputs": [],
   "source": [
    "#Let's Remove New York since it far outnumbers other data\n",
    "crime_df = crime_df[crime_df.City != 'New York']"
   ]
  },
  {
   "cell_type": "code",
   "execution_count": 1334,
   "metadata": {},
   "outputs": [
    {
     "data": {
      "text/plain": [
       "<matplotlib.axes._subplots.AxesSubplot at 0x123022f60>"
      ]
     },
     "execution_count": 1334,
     "metadata": {},
     "output_type": "execute_result"
    },
    {
     "data": {
      "image/png": "[encoded data removed]",
      "text/plain": [
       "<matplotlib.figure.Figure at 0x1230222e8>"
      ]
     },
     "metadata": {},
     "output_type": "display_data"
    }
   ],
   "source": [
    "# Take a look at the relationship between the variables\n",
    "\n",
    "sns.heatmap(crime_df.corr())"
   ]
  },
  {
   "cell_type": "code",
   "execution_count": 1335,
   "metadata": {},
   "outputs": [
    {
     "data": {
      "image/png": "[encoded data removed]",
      "text/plain": [
       "<matplotlib.figure.Figure at 0x1231342b0>"
      ]
     },
     "metadata": {},
     "output_type": "display_data"
    },
    {
     "data": {
      "image/png": "[encoded data removed]",
      "text/plain": [
       "<matplotlib.figure.Figure at 0x122cdfbe0>"
      ]
     },
     "metadata": {},
     "output_type": "display_data"
    },
    {
     "data": {
      "image/png": "[encoded data removed]",
      "text/plain": [
       "<matplotlib.figure.Figure at 0x122ede978>"
      ]
     },
     "metadata": {},
     "output_type": "display_data"
    },
    {
     "data": {
      "image/png": "[encoded data removed]",
      "text/plain": [
       "<matplotlib.figure.Figure at 0x121293898>"
      ]
     },
     "metadata": {},
     "output_type": "display_data"
    },
    {
     "data": {
      "image/png": "[encoded data removed]",
      "text/plain": [
       "<matplotlib.figure.Figure at 0x11cfa7f60>"
      ]
     },
     "metadata": {},
     "output_type": "display_data"
    },
    {
     "data": {
      "image/png": "[encoded data removed]",
      "text/plain": [
       "<matplotlib.figure.Figure at 0x11c8eccf8>"
      ]
     },
     "metadata": {},
     "output_type": "display_data"
    },
    {
     "data": {
      "image/png": "[encoded data removed]",
      "text/plain": [
       "<matplotlib.figure.Figure at 0x11d7620f0>"
      ]
     },
     "metadata": {},
     "output_type": "display_data"
    },
    {
     "data": {
      "image/png": "[encoded data removed]",
      "text/plain": [
       "<matplotlib.figure.Figure at 0x122551a58>"
      ]
     },
     "metadata": {},
     "output_type": "display_data"
    },
    {
     "data": {
      "image/png": "[encoded data removed]",
      "text/plain": [
       "<matplotlib.figure.Figure at 0x1212bad68>"
      ]
     },
     "metadata": {},
     "output_type": "display_data"
    },
    {
     "data": {
      "image/png": "[encoded data removed]",
      "text/plain": [
       "<matplotlib.figure.Figure at 0x11d383160>"
      ]
     },
     "metadata": {},
     "output_type": "display_data"
    }
   ],
   "source": [
    "# Take a look at the relationship between the dependent variable and the independent variable in box plots since this is a binary variable\n",
    "\n",
    "sns.boxplot(y=\"Population\", x='Murder binary', data=crime_df)\n",
    "plt.show()\n",
    "sns.boxplot(y=\"Violent crime\", x='Murder binary', data=crime_df)\n",
    "plt.show()\n",
    "sns.boxplot(y=\"Rape combined\", x='Murder binary', data=crime_df)\n",
    "plt.show()\n",
    "sns.boxplot(y=\"Robbery\", x='Murder binary', data=crime_df)\n",
    "plt.show()\n",
    "sns.boxplot(y=\"Aggravated assault\", x='Murder binary', data=crime_df)\n",
    "plt.show()\n",
    "sns.boxplot(y=\"Property crime\", x='Murder binary', data=crime_df)\n",
    "plt.show()\n",
    "sns.boxplot(y=\"Burglary\", x='Murder binary', data=crime_df)\n",
    "plt.show()\n",
    "sns.boxplot(y=\"Larceny\", x='Murder binary', data=crime_df)\n",
    "plt.show()\n",
    "sns.boxplot(y=\"Motor vehicle theft\", x='Murder binary', data=crime_df)\n",
    "plt.show()\n",
    "sns.boxplot(y=\"Arson\", x='Murder binary', data=crime_df)\n",
    "plt.show()\n"
   ]
  },
  {
   "cell_type": "code",
   "execution_count": 1336,
   "metadata": {},
   "outputs": [],
   "source": [
    "# randomly create our training and test samples\n",
    "msk = np.random.rand(len(crime_df)) < 0.8\n",
    "train = crime_df[msk]\n",
    "test = crime_df[~msk]\n",
    "Y_train = train['Murder binary']\n",
    "Y_test = test['Property crime binary']\n",
    "X_train = train.drop(['Murder binary', 'City', 'Murder'], axis=1)"
   ]
  },
  {
   "cell_type": "code",
   "execution_count": 1337,
   "metadata": {},
   "outputs": [],
   "source": [
    "X, y = X_train, Y_train\n"
   ]
  },
  {
   "cell_type": "code",
   "execution_count": 1338,
   "metadata": {},
   "outputs": [
    {
     "name": "stdout",
     "output_type": "stream",
     "text": [
      "Coefficients\n",
      "[[  6.06195501e-06   9.72078080e+00   0.00000000e+00  -4.83235755e+00\n",
      "   -9.73373673e+00  -9.71484352e+00   2.32327656e-04   4.21522004e-03\n",
      "    5.68756265e-05  -4.03976800e-03  -1.64158251e-01  -4.83235755e+00\n",
      "   -3.29812123e+00   2.28952960e+00]]\n",
      "[-5.18809254]\n",
      "\n",
      " Percentage accuracy\n",
      "1.0\n",
      "[ 1.  1.  1.  1.  1.  1.  1.  1.  1.  1.]\n"
     ]
    }
   ],
   "source": [
    "# Declare a logistic regression classifier.\n",
    "\n",
    "lr = LogisticRegression(C=9e9)\n",
    "\n",
    "# Fit the model.\n",
    "fit = lr.fit(X, y)\n",
    "\n",
    "# Display.\n",
    "print('Coefficients')\n",
    "print(fit.coef_)\n",
    "print(fit.intercept_)\n",
    "\n",
    "print('\\n Percentage accuracy')\n",
    "print(lr.score(X, y))\n",
    "print(cross_val_score(lr, X, y, cv=10))"
   ]
  },
  {
   "cell_type": "code",
   "execution_count": 1339,
   "metadata": {},
   "outputs": [
    {
     "name": "stdout",
     "output_type": "stream",
     "text": [
      "Coefficients\n",
      "[[  1.68620130e-05   4.22510409e+00   0.00000000e+00  -2.05239052e+00\n",
      "   -4.23623908e+00  -4.21759085e+00   6.61193583e-05   5.70305328e-03\n",
      "    3.16369897e-05  -1.56205966e-02   0.00000000e+00  -2.04978532e+00\n",
      "    0.00000000e+00   0.00000000e+00]]\n",
      "[-4.21197708]\n",
      "\n",
      " Percentage accuracy\n",
      "1.0\n",
      "[ 0.96153846  0.98076923  1.          0.96153846  0.94117647]\n"
     ]
    }
   ],
   "source": [
    "# Now with pentaly 'l1' which is Lasso\n",
    "lr = LogisticRegression(C=1, penalty='l1')\n",
    "\n",
    "# Fit the model.\n",
    "fit = lr.fit(X, y)\n",
    "\n",
    "# Display.\n",
    "print('Coefficients')\n",
    "print(fit.coef_)\n",
    "print(fit.intercept_)\n",
    "\n",
    "print('\\n Percentage accuracy')\n",
    "print(lr.score(X, y))\n",
    "print(cross_val_score(lr, X, y, cv=5))"
   ]
  },
  {
   "cell_type": "code",
   "execution_count": 1340,
   "metadata": {},
   "outputs": [
    {
     "name": "stdout",
     "output_type": "stream",
     "text": [
      "Computing regularization path ...\n"
     ]
    },
    {
     "data": {
      "image/png": "[encoded data removed]",
      "text/plain": [
       "<matplotlib.figure.Figure at 0x121e78400>"
      ]
     },
     "metadata": {},
     "output_type": "display_data"
    }
   ],
   "source": [
    "cs = l1_min_c(X, y, loss='log') * np.logspace(0, 3)\n",
    "\n",
    "\n",
    "print(\"Computing regularization path ...\")\n",
    "\n",
    "clf = linear_model.LogisticRegression(C=1.0, penalty='l1', tol=1e-6)\n",
    "coefs_ = []\n",
    "for c in cs:\n",
    "    clf.set_params(C=c)\n",
    "    clf.fit(X, y)\n",
    "    coefs_.append(clf.coef_.ravel().copy())\n",
    "\n",
    "\n",
    "coefs_ = np.array(coefs_)\n",
    "plt.plot(np.log10(cs), coefs_)\n",
    "ymin, ymax = plt.ylim()\n",
    "plt.xlabel('log(C)')\n",
    "plt.ylabel('Coefficients')\n",
    "plt.title('Logistic Regression Path')\n",
    "plt.axis('tight')\n",
    "plt.show()"
   ]
  },
  {
   "cell_type": "code",
   "execution_count": 1341,
   "metadata": {},
   "outputs": [
    {
     "name": "stdout",
     "output_type": "stream",
     "text": [
      "Coefficients\n",
      "[[  1.72253173e-05   2.38801876e+00   0.00000000e+00  -1.13151871e+00\n",
      "   -2.39712233e+00  -2.37906168e+00  -4.03457769e-03   9.75282615e-03\n",
      "    4.19340377e-03  -1.79808076e-02   2.80480451e-02  -1.13151871e+00\n",
      "   -1.77904747e+00   6.04447842e-01]]\n",
      "[-2.23598469]\n",
      "\n",
      " Percentage accuracy\n",
      "0.972972972973\n",
      "[ 0.96153846  0.94230769  0.94230769  0.96153846  0.90196078]\n"
     ]
    }
   ],
   "source": [
    "# Now with pentaly 'l2' penalty which is Ridge\n",
    "lr = LogisticRegression(C=1, penalty='l2')\n",
    "\n",
    "# Fit the model.\n",
    "fit = lr.fit(X, y)\n",
    "\n",
    "# Display.\n",
    "print('Coefficients')\n",
    "print(fit.coef_)\n",
    "print(fit.intercept_)\n",
    "\n",
    "print('\\n Percentage accuracy')\n",
    "print(lr.score(X, y))\n",
    "print(cross_val_score(lr, X, y, cv=5))"
   ]
  },
  {
   "cell_type": "code",
   "execution_count": 1342,
   "metadata": {},
   "outputs": [
    {
     "name": "stdout",
     "output_type": "stream",
     "text": [
      "Computing regularization path ...\n"
     ]
    },
    {
     "data": {
      "image/png": "[encoded data removed]",
      "text/plain": [
       "<matplotlib.figure.Figure at 0x11e8fe6a0>"
      ]
     },
     "metadata": {},
     "output_type": "display_data"
    }
   ],
   "source": [
    "cs = l1_min_c(X, y, loss='log') * np.logspace(0, 3)\n",
    "\n",
    "\n",
    "print(\"Computing regularization path ...\")\n",
    "\n",
    "clf = linear_model.LogisticRegression(C=1.0, penalty='l2', tol=1e-6)\n",
    "coefs_ = []\n",
    "for c in cs:\n",
    "    clf.set_params(C=c)\n",
    "    clf.fit(X, y)\n",
    "    coefs_.append(clf.coef_.ravel().copy())\n",
    "\n",
    "\n",
    "coefs_ = np.array(coefs_)\n",
    "plt.plot(np.log10(cs), coefs_)\n",
    "ymin, ymax = plt.ylim()\n",
    "plt.xlabel('log(C)')\n",
    "plt.ylabel('Coefficients')\n",
    "plt.title('Logistic Regression Path')\n",
    "plt.axis('tight')\n",
    "plt.show()"
   ]
  },
  {
   "cell_type": "code",
   "execution_count": 1343,
   "metadata": {},
   "outputs": [
    {
     "name": "stdout",
     "output_type": "stream",
     "text": [
      "\n",
      "Coefficients: \n",
      " [[  4.69382009e-05  -7.36405663e-01   3.18078337e-02]]\n",
      "\n",
      "Intercept: \n",
      " [-2.54899589]\n",
      "\n",
      "R-squared:\n",
      "0.911196911197\n",
      "[ 0.92307692  0.86538462  0.94230769  0.86538462  0.96078431]\n"
     ]
    }
   ],
   "source": [
    "#Let's pick variables that are fairly independent of each other that provide a high R-Squared\n",
    "# These variables were the ones used in the Linear regression with the continuous variable\n",
    "\n",
    "# Instantiate and fit our model.\n",
    "lr = LogisticRegression(C=9e9)\n",
    "X = X_train[['Population', 'Property crime binary', 'Robbery']]\n",
    "lr.fit(X, y)\n",
    "\n",
    "\n",
    "# Inspect the results.\n",
    "print('\\nCoefficients: \\n', lr.coef_)\n",
    "print('\\nIntercept: \\n', lr.intercept_)\n",
    "print('\\nR-squared:')\n",
    "print(lr.score(X, y))\n",
    "print(cross_val_score(lr, X, y, cv=5))"
   ]
  },
  {
   "cell_type": "code",
   "execution_count": 1344,
   "metadata": {},
   "outputs": [
    {
     "name": "stdout",
     "output_type": "stream",
     "text": [
      "Coefficients\n",
      "[[  4.43667542e-05   0.00000000e+00   3.16283525e-02]]\n",
      "[-3.178437]\n",
      "\n",
      " Percentage accuracy\n",
      "0.911196911197\n",
      "[ 0.92307692  0.86538462  0.94230769  0.86538462  0.96078431]\n"
     ]
    }
   ],
   "source": [
    "#Take a look at it with Lasso Regression\n",
    "lr = LogisticRegression(C=1, penalty='l1')\n",
    "\n",
    "# Fit the model.\n",
    "fit = lr.fit(X, y)\n",
    "\n",
    "# Display.\n",
    "print('Coefficients')\n",
    "print(fit.coef_)\n",
    "print(fit.intercept_)\n",
    "\n",
    "print('\\n Percentage accuracy')\n",
    "print(lr.score(X, y))\n",
    "print(cross_val_score(lr, X, y, cv=5))"
   ]
  },
  {
   "cell_type": "code",
   "execution_count": 1345,
   "metadata": {},
   "outputs": [
    {
     "name": "stdout",
     "output_type": "stream",
     "text": [
      "Coefficients\n",
      "[[  4.28663507e-05  -1.23178736e+00   3.18001238e-02]]\n",
      "[-1.89162677]\n",
      "\n",
      " Percentage accuracy\n",
      "0.911196911197\n",
      "[ 0.92307692  0.86538462  0.94230769  0.86538462  0.96078431]\n"
     ]
    }
   ],
   "source": [
    "#Now take a look at it with Ridge Regression\n",
    "lr = LogisticRegression(C=1, penalty='l2')\n",
    "\n",
    "# Fit the model.\n",
    "fit = lr.fit(X, y)\n",
    "\n",
    "# Display.\n",
    "print('Coefficients')\n",
    "print(fit.coef_)\n",
    "print(fit.intercept_)\n",
    "\n",
    "print('\\n Percentage accuracy')\n",
    "print(lr.score(X, y))\n",
    "print(cross_val_score(lr, X, y, cv=5))"
   ]
  },
  {
   "cell_type": "code",
   "execution_count": 1346,
   "metadata": {},
   "outputs": [
    {
     "name": "stdout",
     "output_type": "stream",
     "text": [
      "                 Features  Ranking  Support\n",
      "1           Violent crime        1     True\n",
      "5      Aggravated assault        1     True\n",
      "4                 Robbery        2    False\n",
      "11          Rape combined        3    False\n",
      "12  Property crime binary        4    False\n",
      "3             Rape legacy        5    False\n",
      "13         Robbery binary        6    False\n",
      "10                  Arson        7    False\n",
      "9     Motor vehicle theft        8    False\n",
      "7                Burglary        9    False\n",
      "8                 Larceny       10    False\n",
      "6          Property crime       11    False\n",
      "0              Population       12    False\n",
      "2            Rape revised       13    False\n"
     ]
    }
   ],
   "source": [
    "#That's still giving a high R2, so let's do feature selection using SK Learn\n",
    "#First, let's reset X to X_train\n",
    "X = X_train\n",
    "rfe = RFE(lr,n_features_to_select=2) \n",
    "fit = rfe.fit(X,y)\n",
    "result_RFE = pd.DataFrame(list(zip(X.head(0), rfe.ranking_, rfe.support_)),\n",
    "                          columns=['Features','Ranking','Support'] ) \n",
    "print(result_RFE.sort_values('Ranking'))\n"
   ]
  },
  {
   "cell_type": "code",
   "execution_count": 1347,
   "metadata": {},
   "outputs": [
    {
     "name": "stdout",
     "output_type": "stream",
     "text": [
      "\n",
      "Coefficients: \n",
      " [[ 0.02512772  0.01623534]]\n",
      "\n",
      "Intercept: \n",
      " [-3.11486761]\n",
      "\n",
      "R-squared:\n",
      "0.915057915058\n",
      "[ 0.94230769  0.90384615  0.92307692  0.88461538  0.92156863]\n"
     ]
    }
   ],
   "source": [
    "#Let's pop those into the model\n",
    "lr = LogisticRegression(C=9e9)\n",
    "X = X_train[['Violent crime', 'Aggravated assault']]\n",
    "lr.fit(X, y)\n",
    "\n",
    "\n",
    "# Inspect the results.\n",
    "print('\\nCoefficients: \\n', lr.coef_)\n",
    "print('\\nIntercept: \\n', lr.intercept_)\n",
    "print('\\nR-squared:')\n",
    "print(lr.score(X, y))\n",
    "print(cross_val_score(lr, X, y, cv=5))"
   ]
  },
  {
   "cell_type": "code",
   "execution_count": 1348,
   "metadata": {},
   "outputs": [
    {
     "name": "stdout",
     "output_type": "stream",
     "text": [
      "Coefficients\n",
      "[[ 0.02527884  0.01358007]]\n",
      "[-3.01415233]\n",
      "\n",
      " Percentage accuracy\n",
      "0.915057915058\n",
      "[ 0.94230769  0.90384615  0.92307692  0.88461538  0.92156863]\n"
     ]
    }
   ],
   "source": [
    "#Let's pop those into the Lasso Model\n",
    "lr = LogisticRegression(C=1, penalty='l1')\n",
    "\n",
    "# Fit the model.\n",
    "fit = lr.fit(X, y)\n",
    "\n",
    "# Display.\n",
    "print('Coefficients')\n",
    "print(fit.coef_)\n",
    "print(fit.intercept_)\n",
    "\n",
    "print('\\n Percentage accuracy')\n",
    "print(lr.score(X, y))\n",
    "print(cross_val_score(lr, X, y, cv=5))"
   ]
  },
  {
   "cell_type": "code",
   "execution_count": 1349,
   "metadata": {},
   "outputs": [
    {
     "name": "stdout",
     "output_type": "stream",
     "text": [
      "Coefficients\n",
      "[[ 0.02437233  0.01121294]]\n",
      "[-2.84811297]\n",
      "\n",
      " Percentage accuracy\n",
      "0.915057915058\n",
      "[ 0.94230769  0.88461538  0.92307692  0.88461538  0.92156863]\n"
     ]
    }
   ],
   "source": [
    "#Let's pop those into the Ridge model\n",
    "lr = LogisticRegression(C=1, penalty='l2')\n",
    "\n",
    "# Fit the model.\n",
    "fit = lr.fit(X, y)\n",
    "\n",
    "# Display.\n",
    "print('Coefficients')\n",
    "print(fit.coef_)\n",
    "print(fit.intercept_)\n",
    "\n",
    "print('\\n Percentage accuracy')\n",
    "print(lr.score(X, y))\n",
    "print(cross_val_score(lr, X, y, cv=5))"
   ]
  },
  {
   "cell_type": "code",
   "execution_count": 1350,
   "metadata": {},
   "outputs": [],
   "source": [
    "#Our answers are still coming out too high so let's play with our Lambda."
   ]
  },
  {
   "cell_type": "code",
   "execution_count": 1351,
   "metadata": {},
   "outputs": [
    {
     "name": "stderr",
     "output_type": "stream",
     "text": [
      "/Users/bryancorder/anaconda3/lib/python3.6/site-packages/sklearn/linear_model/coordinate_descent.py:484: ConvergenceWarning: Objective did not converge. You might want to increase the number of iterations. Fitting data with very small alpha may cause precision problems.\n",
      "  ConvergenceWarning)\n"
     ]
    },
    {
     "name": "stdout",
     "output_type": "stream",
     "text": [
      "Ridge and Lasso are the same value when rounded to 3 decimal point at the following values for R2: []\n",
      "Which is the following lambda values: []\n"
     ]
    },
    {
     "data": {
      "image/png": "[encoded data removed]",
      "text/plain": [
       "<matplotlib.figure.Figure at 0x11c9691d0>"
      ]
     },
     "metadata": {},
     "output_type": "display_data"
    }
   ],
   "source": [
    "numb = np.arange(0.01, 1, 0.01)\n",
    "yl = []\n",
    "yr = []\n",
    "for g in numb:\n",
    "    lassBig = linear_model.Lasso(alpha=g)\n",
    "    lassBig.fit(X, Y_train)\n",
    "    i = lassBig.score(X, Y_train)\n",
    "    yl.append(i)\n",
    "\n",
    "for g in numb:\n",
    "    ridgeregrBig = linear_model.Ridge(alpha=g, fit_intercept=False)\n",
    "    ridgeregrBig.fit(X, Y_train)\n",
    "    i = ridgeregrBig.score(X, Y_train)\n",
    "    yr.append(i)\n",
    "samelr = []\n",
    "samelambda = []\n",
    "numb2 = np.arange(0, len(yl), 1)\n",
    "for p in numb2:\n",
    "    if round(yl[p], 3) == round(yr[p], 3):\n",
    "        samelr.append(yl[p])\n",
    "        samelambda.append(numb[p])\n",
    "\n",
    "print('Ridge and Lasso are the same value when rounded to 3 decimal point at the following values for R2: {}'.format(samelr))\n",
    "print('Which is the following lambda values: {}'.format(samelambda))\n",
    "    \n",
    "plt.scatter(numb, yl, c='r')\n",
    "\n",
    "plt.show()"
   ]
  },
  {
   "cell_type": "code",
   "execution_count": 1352,
   "metadata": {},
   "outputs": [
    {
     "data": {
      "image/png": "[encoded data removed]",
      "text/plain": [
       "<matplotlib.figure.Figure at 0x1217e1a20>"
      ]
     },
     "metadata": {},
     "output_type": "display_data"
    }
   ],
   "source": [
    "numb = np.arange(1, 1000, 1)\n",
    "\n",
    "yr2 = []\n",
    "\n",
    "for g in numb:\n",
    "    ridgeregrBig = linear_model.Ridge(alpha=g, fit_intercept=False)\n",
    "    ridgeregrBig.fit(X_train, Y_train)\n",
    "    i = ridgeregrBig.score(X_train, Y_train)\n",
    "    yr2.append(i)\n",
    "    \n",
    "plt.scatter(numb, yr2, c='b')\n",
    "\n",
    "plt.show()"
   ]
  },
  {
   "cell_type": "code",
   "execution_count": 1353,
   "metadata": {},
   "outputs": [
    {
     "name": "stdout",
     "output_type": "stream",
     "text": [
      "Coefficients\n",
      "[[ 0.02542576  0.01106143]]\n",
      "[-2.91876478]\n",
      "\n",
      " Percentage accuracy\n",
      "0.915057915058\n",
      "[ 0.94230769  0.90384615  0.92307692  0.88461538  0.92156863]\n"
     ]
    }
   ],
   "source": [
    "#Let's pop those into the Ridge model\n",
    "lr = LogisticRegression(C=0.5, penalty='l1')\n",
    "\n",
    "# Fit the model.\n",
    "fit = lr.fit(X, y)\n",
    "\n",
    "# Display.\n",
    "print('Coefficients')\n",
    "print(fit.coef_)\n",
    "print(fit.intercept_)\n",
    "\n",
    "print('\\n Percentage accuracy')\n",
    "print(lr.score(X, y))\n",
    "print(cross_val_score(lr, X, y, cv=5))"
   ]
  },
  {
   "cell_type": "code",
   "execution_count": 1354,
   "metadata": {},
   "outputs": [
    {
     "name": "stdout",
     "output_type": "stream",
     "text": [
      "Coefficients\n",
      "[[ 0.02512212  0.01620279]]\n",
      "[-3.11309022]\n",
      "\n",
      " Percentage accuracy\n",
      "0.915057915058\n",
      "[ 0.94230769  0.90384615  0.92307692  0.88461538  0.92156863]\n"
     ]
    }
   ],
   "source": [
    "#Let's pop those into the Ridge model\n",
    "lr = LogisticRegression(C=180, penalty='l2')\n",
    "\n",
    "# Fit the model.\n",
    "fit = lr.fit(X, y)\n",
    "\n",
    "# Display.\n",
    "print('Coefficients')\n",
    "print(fit.coef_)\n",
    "print(fit.intercept_)\n",
    "\n",
    "print('\\n Percentage accuracy')\n",
    "print(lr.score(X, y))\n",
    "print(cross_val_score(lr, X, y, cv=5))"
   ]
  },
  {
   "cell_type": "code",
   "execution_count": 1355,
   "metadata": {},
   "outputs": [
    {
     "name": "stdout",
     "output_type": "stream",
     "text": [
      "0.903474903475\n",
      "[ 0.94230769  0.86538462  0.94230769  0.88461538  0.88235294]\n"
     ]
    }
   ],
   "source": [
    "#Still not coming up with anything good. Let's try PCA with the whole training set and see if we can just pull out variance we need without the noise.\n",
    "lr = LogisticRegression(C=9e9)\n",
    "X = X_train\n",
    "\n",
    "pca = PCA(n_components=3)\n",
    "X_std_pca = pca.fit_transform(X)\n",
    "X1 = pd.DataFrame(X_std_pca)\n",
    "fit = lr.fit(X1, y)\n",
    "print(lr.score(X1, y))\n",
    "print(cross_val_score(lr, X1, y, cv=5))"
   ]
  },
  {
   "cell_type": "code",
   "execution_count": 1356,
   "metadata": {},
   "outputs": [
    {
     "name": "stdout",
     "output_type": "stream",
     "text": [
      "0.895752895753\n",
      "[ 0.92307692  0.84615385  0.94230769  0.86538462  0.88235294]\n"
     ]
    }
   ],
   "source": [
    "#Let's try PCA with Lasso\n",
    "lr = LogisticRegression(C=1, penalty='l1')\n",
    "X = X_train\n",
    "\n",
    "pca = PCA(n_components=3)\n",
    "X_std_pca = pca.fit_transform(X)\n",
    "X1 = pd.DataFrame(X_std_pca)\n",
    "fit = lr.fit(X1, y)\n",
    "print(lr.score(X1, y))\n",
    "print(cross_val_score(lr, X1, y, cv=5))"
   ]
  },
  {
   "cell_type": "code",
   "execution_count": 1357,
   "metadata": {},
   "outputs": [
    {
     "name": "stdout",
     "output_type": "stream",
     "text": [
      "0.903474903475\n",
      "[ 0.94230769  0.86538462  0.94230769  0.88461538  0.88235294]\n"
     ]
    }
   ],
   "source": [
    "#Let's try PCA with Ridge\n",
    "lr = LogisticRegression(C=1, penalty='l2')\n",
    "X = X_train\n",
    "\n",
    "pca = PCA(n_components=3)\n",
    "X_std_pca = pca.fit_transform(X)\n",
    "X1 = pd.DataFrame(X_std_pca)\n",
    "fit = lr.fit(X1, y)\n",
    "print(lr.score(X1, y))\n",
    "print(cross_val_score(lr, X1, y, cv=5))"
   ]
  },
  {
   "cell_type": "markdown",
   "metadata": {},
   "source": [
    "This is a particularly hard data set to work with because each of the features on their own can give very high R2 values. I used Vanilla logistic regression, Lasso logistic regression, and Ridge logistic regression to find a model that got rid of the noise and focused on the signal, but had difficulties due to the data set. The best values came after applying Principle Component Analysis to the model though each method still gave roughly the same R2 values."
   ]
  }
 ],
 "metadata": {
  "kernelspec": {
   "display_name": "Python 3",
   "language": "python",
   "name": "python3"
  },
  "language_info": {
   "codemirror_mode": {
    "name": "ipython",
    "version": 3
   },
   "file_extension": ".py",
   "mimetype": "text/x-python",
   "name": "python",
   "nbconvert_exporter": "python",
   "pygments_lexer": "ipython3",
   "version": "3.6.1"
  }
 },
 "nbformat": 4,
 "nbformat_minor": 2
}
