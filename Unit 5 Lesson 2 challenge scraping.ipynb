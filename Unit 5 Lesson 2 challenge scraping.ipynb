{
 "cells": [
  {
   "cell_type": "code",
   "execution_count": 1,
   "metadata": {
    "collapsed": true
   },
   "outputs": [],
   "source": [
    "import scrapy\n",
    "from scrapy.crawler import CrawlerProcess\n",
    "\n",
    "from selenium import webdriver\n",
    "import pandas as pd"
   ]
  },
  {
   "cell_type": "code",
   "execution_count": 2,
   "metadata": {
    "collapsed": true
   },
   "outputs": [],
   "source": [
    "class RedditbotSpider(scrapy.Spider):\n",
    "    name = 'redditbot'\n",
    "    allowed_domains = ['www.reddit.com/r/gameofthrones']\n",
    "    start_urls = ['http://www.reddit.com/r/gameofthrones//']\n",
    "    \n",
    "    def parse(self, response):\n",
    "        #Extracting the content using css selectors\n",
    "        titles = response.css('.title.may-blank::text').extract()\n",
    "        votes = response.css('.score.unvoted::text').extract()\n",
    "        times = response.css('time::attr(title)').extract()\n",
    "        comments = response.css('.comments::text').extract()\n",
    "       \n",
    "        #Give the extracted content row wise\n",
    "        for item in zip(titles,votes,times,comments):\n",
    "            #create a dictionary to store the scraped info\n",
    "            scraped_info = {\n",
    "                'title' : item[0],\n",
    "                'vote' : item[1],\n",
    "                'created_at' : item[2],\n",
    "                'comments' : item[3],\n",
    "            }\n",
    "\n",
    "            #yield or give the scraped info to scrapy\n",
    "            yield scraped_info\n",
    " \n",
    "        # Getting the information needed to continue to the next ten entries.\n",
    "        next_page = response.xpath('next-buttons').extract_first()\n",
    "        \n",
    "        # Recursively calling the spider to process the next ten entries, if they exist.\n",
    "        if next_page is not None:\n",
    "            next_page = '{}&lhcontinue={}'.format(self.start_urls[0],next_page)\n",
    "            yield scrapy.Request(next_page, callback=self.parse)\n",
    "  "
   ]
  },
  {
   "cell_type": "code",
   "execution_count": 3,
   "metadata": {},
   "outputs": [],
   "source": [
    "process = CrawlerProcess({\n",
    "    'FEED_FORMAT': 'json',\n",
    "    'FEED_URI': 'GoT.json',\n",
    "    # Note that because we are doing API queries, the robots.txt file doesn't apply to us.\n",
    "    'ROBOTSTXT_OBEY': False,\n",
    "    'AUTOTHROTTLE_ENABLED': True,\n",
    "    'HTTPCACHE_ENABLED': True,\n",
    "    'LOG_ENABLED': False,\n",
    "    # We use CLOSESPIDER_PAGECOUNT to limit our scraper to the first 100 links.    \n",
    "    'CLOSESPIDER_PAGECOUNT' : 10\n",
    "})\n",
    "\n",
    "# Starting the crawler with our spider.\n",
    "process.crawl(RedditbotSpider)\n",
    "process.start()\n"
   ]
  },
  {
   "cell_type": "code",
   "execution_count": 4,
   "metadata": {},
   "outputs": [
    {
     "name": "stdout",
     "output_type": "stream",
     "text": [
      "(27, 4)\n",
      "        comments                    created_at  \\\n",
      "22     1 comment  Sun Mar 11 08:17:41 2018 UTC   \n",
      "23   17 comments  Sat Mar 10 18:17:39 2018 UTC   \n",
      "24     1 comment  Sat Mar 10 16:24:49 2018 UTC   \n",
      "25  102 comments  Sat Mar 10 15:40:26 2018 UTC   \n",
      "26    3 comments  Sun Mar 11 03:48:22 2018 UTC   \n",
      "\n",
      "                                                title  vote  \n",
      "22  [No Spoilers] Game of Thrones themed wall plat...    11  \n",
      "23  [NO SPOILERS] Why are there missing GoT episod...     9  \n",
      "24  [Spoilers] The Possible Fate of Sansa Stark Se...     0  \n",
      "25  [SPOILERS] The full circle nature of the separ...  2256  \n",
      "26  [NO SPOILERS] Local marching band rehearsing t...     4  \n"
     ]
    }
   ],
   "source": [
    "# Checking whether we got data \n",
    "\n",
    "GoT=pd.read_json('GoT.json', orient='records')\n",
    "print(GoT.shape)\n",
    "print(GoT.tail())"
   ]
  }
 ],
 "metadata": {
  "kernelspec": {
   "display_name": "Python 3",
   "language": "python",
   "name": "python3"
  },
  "language_info": {
   "codemirror_mode": {
    "name": "ipython",
    "version": 3
   },
   "file_extension": ".py",
   "mimetype": "text/x-python",
   "name": "python",
   "nbconvert_exporter": "python",
   "pygments_lexer": "ipython3",
   "version": "3.6.1"
  }
 },
 "nbformat": 4,
 "nbformat_minor": 2
}
