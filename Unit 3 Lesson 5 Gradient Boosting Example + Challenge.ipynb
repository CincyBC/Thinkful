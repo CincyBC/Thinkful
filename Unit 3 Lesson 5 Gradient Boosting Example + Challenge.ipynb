{
 "cells": [
  {
   "cell_type": "code",
   "execution_count": 91,
   "metadata": {
    "collapsed": true
   },
   "outputs": [],
   "source": [
    "import pandas as pd\n",
    "import numpy as np\n",
    "import scipy\n",
    "import matplotlib.pyplot as plt\n",
    "import seaborn as sns\n",
    "from sklearn.linear_model import LogisticRegression\n",
    "from sklearn.decomposition import PCA\n",
    "from sklearn.feature_selection import RFE\n",
    "\n",
    "%matplotlib inline\n",
    "\n",
    "from sklearn import ensemble\n",
    "from sklearn import datasets\n",
    "from sklearn.utils import shuffle\n",
    "from sklearn.metrics import mean_squared_error"
   ]
  },
  {
   "cell_type": "code",
   "execution_count": 92,
   "metadata": {},
   "outputs": [
    {
     "data": {
      "text/plain": [
       "<matplotlib.axes._subplots.AxesSubplot at 0x11f2e16a0>"
      ]
     },
     "execution_count": 92,
     "metadata": {},
     "output_type": "execute_result"
    },
    {
     "data": {
      "image/png": "[encoded data removed]",
      "text/plain": [
       "<matplotlib.figure.Figure at 0x11d8c3d30>"
      ]
     },
     "metadata": {},
     "output_type": "display_data"
    }
   ],
   "source": [
    "df = pd.read_csv((\n",
    "    \"https://raw.githubusercontent.com/Thinkful-Ed/data-201-resources/\"\n",
    "    \"master/ESS_practice_data/ESSdata_Thinkful.csv\")).dropna()\n",
    "\n",
    "# Make the categorical variable 'country' into dummies.\n",
    "df2 = pd.concat([df, pd.get_dummies(df['cntry'])], axis=1)\n",
    "\n",
    "df2.head(10)\n",
    "\n",
    "sns.heatmap(df2.corr())"
   ]
  },
  {
   "cell_type": "code",
   "execution_count": 93,
   "metadata": {},
   "outputs": [],
   "source": [
    "y = df2['partner'] - 1\n",
    "X = df2.loc[:, ~df2.columns.isin(['partner', 'cntry', 'idno'])]\n",
    "\n",
    "\n",
    "# Create training and test sets through random selection.\n",
    "msk = np.random.rand(len(df2)) < 0.8\n",
    "train_data = df2[msk]\n",
    "test_data = df2[~msk]\n",
    "\n",
    "\n",
    "# Define outcome and predictors.\n",
    "# Set our outcome to 0 and 1.\n",
    "y_train = train_data['partner'] - 1\n",
    "X_train = train_data.loc[:, ~train_data.columns.isin(['partner', 'cntry', 'idno'])]\n",
    "y_test = test_data['partner'] - 1\n",
    "X_test = test_data.loc[:, ~test_data.columns.isin(['partner', 'cntry', 'idno'])]\n"
   ]
  },
  {
   "cell_type": "code",
   "execution_count": 94,
   "metadata": {},
   "outputs": [
    {
     "data": {
      "text/plain": [
       "\"\\nModifications include:\\nCreating new features *** Can be done through manually creating features or PCA\\nApplying more overfitting-prevention strategies like subsampling *** Subsample is a parameter\\nMore iterations *** Parameter n_estimators\\nTrying a different loss function *** Options are 'exponential' and 'deviance'\\nChanging the structure of the weak learner: Allowing more leaves in the tree, or other modifications\""
      ]
     },
     "execution_count": 94,
     "metadata": {},
     "output_type": "execute_result"
    }
   ],
   "source": [
    "\"\"\"\n",
    "Modifications include:\n",
    "Creating new features *** Can be done through manually creating features or PCA\n",
    "Applying more overfitting-prevention strategies like subsampling *** Subsample is a parameter\n",
    "More iterations *** Parameter n_estimators\n",
    "Trying a different loss function *** Options are 'exponential' and 'deviance'\n",
    "Changing the structure of the weak learner: Allowing more leaves in the tree, or other modifications\"\"\""
   ]
  },
  {
   "cell_type": "code",
   "execution_count": 95,
   "metadata": {
    "collapsed": true
   },
   "outputs": [],
   "source": [
    "pca = PCA(n_components=5)\n",
    "X_std_pca = pca.fit_transform(X_train)\n",
    "X1 = pd.DataFrame(X_std_pca)\n",
    "\n",
    "pca = PCA(n_components=5)\n",
    "X_std_pca = pca.fit_transform(X_test)\n",
    "X2 = pd.DataFrame(X_std_pca)"
   ]
  },
  {
   "cell_type": "code",
   "execution_count": 96,
   "metadata": {},
   "outputs": [
    {
     "name": "stdout",
     "output_type": "stream",
     "text": [
      "Training set accuracy:\n",
      "Percent Type I errors: 0.0006137793463249962\n",
      "Percent Type II errors: 0.007518796992481203\n",
      "\n",
      "Test set accuracy:\n",
      "Percent Type I errors: 0.09570552147239264\n",
      "Percent Type II errors: 0.1901840490797546\n"
     ]
    }
   ],
   "source": [
    "# We'll make 500 iterations, use 2-deep trees, and set our loss function.\n",
    "\n",
    "\n",
    "# Initialize and fit the model.\n",
    "clf = ensemble.GradientBoostingClassifier(loss='exponential', learning_rate=0.1, n_estimators=1000, subsample=0.75, \n",
    "                                          criterion='friedman_mse', min_samples_split=4, min_samples_leaf=1, \n",
    "                                          min_weight_fraction_leaf=0.0, max_depth=5, min_impurity_decrease=0.0, \n",
    "                                          min_impurity_split=None, init=None, random_state=None, max_features=None, \n",
    "                                          verbose=0, max_leaf_nodes=None, warm_start=False, presort='auto')\n",
    "clf.fit(X1, y_train)\n",
    "\n",
    "predict_train = clf.predict(X1)\n",
    "predict_test = clf.predict(X2)\n",
    "\n",
    "# Accuracy tables.\n",
    "table_train = pd.crosstab(y_train, predict_train, margins=True)\n",
    "table_test = pd.crosstab(y_test, predict_test, margins=True)\n",
    "\n",
    "train_tI_errors = table_train.loc[0.0,1.0] / table_train.loc['All','All']\n",
    "train_tII_errors = table_train.loc[1.0,0.0] / table_train.loc['All','All']\n",
    "\n",
    "test_tI_errors = table_test.loc[0.0,1.0]/table_test.loc['All','All']\n",
    "test_tII_errors = table_test.loc[1.0,0.0]/table_test.loc['All','All']\n",
    "\n",
    "print((\n",
    "    'Training set accuracy:\\n'\n",
    "    'Percent Type I errors: {}\\n'\n",
    "    'Percent Type II errors: {}\\n\\n'\n",
    "    'Test set accuracy:\\n'\n",
    "    'Percent Type I errors: {}\\n'\n",
    "    'Percent Type II errors: {}'\n",
    ").format(train_tI_errors, train_tII_errors, test_tI_errors, test_tII_errors))\n"
   ]
  },
  {
   "cell_type": "code",
   "execution_count": 97,
   "metadata": {},
   "outputs": [
    {
     "name": "stdout",
     "output_type": "stream",
     "text": [
      "   Features  Ranking  Support\n",
      "0      year        1     True\n",
      "5     happy        1     True\n",
      "6   sclmeet        1     True\n",
      "8      gndr        1     True\n",
      "9      agea        1     True\n",
      "10       CH        1     True\n",
      "11       CZ        1     True\n",
      "15       SE        1     True\n",
      "4    pplhlp        2    False\n",
      "2   ppltrst        3    False\n",
      "1     tvtot        4    False\n",
      "7    sclact        5    False\n",
      "3   pplfair        6    False\n",
      "14       NO        7    False\n",
      "13       ES        8    False\n",
      "12       DE        9    False\n"
     ]
    }
   ],
   "source": [
    "lr = LogisticRegression(C=1, penalty='l1')\n",
    "rfe = RFE(lr,n_features_to_select=8) \n",
    "fit = rfe.fit(X,y)\n",
    "result_RFE = pd.DataFrame(list(zip(X.head(0), rfe.ranking_, rfe.support_)),\n",
    "                          columns=['Features','Ranking','Support'] ) \n",
    "print(result_RFE.sort_values('Ranking'))"
   ]
  },
  {
   "cell_type": "code",
   "execution_count": 98,
   "metadata": {},
   "outputs": [
    {
     "name": "stdout",
     "output_type": "stream",
     "text": [
      "Training set accuracy:\n",
      "Percent Type I errors: 0.0006137793463249962\n",
      "Percent Type II errors: 0.005677458953506215\n",
      "\n",
      "Test set accuracy:\n",
      "Percent Type I errors: 0.1116564417177914\n",
      "Percent Type II errors: 0.1687116564417178\n"
     ]
    }
   ],
   "source": [
    "# Initialize and fit the model.\n",
    "clf = ensemble.GradientBoostingClassifier(loss='exponential', learning_rate=0.1, n_estimators=1000, subsample=0.75, \n",
    "                                          criterion='friedman_mse', min_samples_split=4, min_samples_leaf=1, \n",
    "                                          min_weight_fraction_leaf=0.0, max_depth=5, min_impurity_decrease=0.0, \n",
    "                                          min_impurity_split=None, init=None, random_state=None, max_features=None, \n",
    "                                          verbose=0, max_leaf_nodes=None, warm_start=False, presort='auto')\n",
    "clf.fit(X_train, y_train)\n",
    "\n",
    "predict_train = clf.predict(X_train)\n",
    "predict_test = clf.predict(X_test)\n",
    "\n",
    "# Accuracy tables.\n",
    "table_train = pd.crosstab(y_train, predict_train, margins=True)\n",
    "table_test = pd.crosstab(y_test, predict_test, margins=True)\n",
    "\n",
    "train_tI_errors = table_train.loc[0.0,1.0] / table_train.loc['All','All']\n",
    "train_tII_errors = table_train.loc[1.0,0.0] / table_train.loc['All','All']\n",
    "\n",
    "test_tI_errors = table_test.loc[0.0,1.0]/table_test.loc['All','All']\n",
    "test_tII_errors = table_test.loc[1.0,0.0]/table_test.loc['All','All']\n",
    "\n",
    "print((\n",
    "    'Training set accuracy:\\n'\n",
    "    'Percent Type I errors: {}\\n'\n",
    "    'Percent Type II errors: {}\\n\\n'\n",
    "    'Test set accuracy:\\n'\n",
    "    'Percent Type I errors: {}\\n'\n",
    "    'Percent Type II errors: {}'\n",
    ").format(train_tI_errors, train_tII_errors, test_tI_errors, test_tII_errors))\n"
   ]
  },
  {
   "cell_type": "code",
   "execution_count": 99,
   "metadata": {},
   "outputs": [
    {
     "data": {
      "image/png": "[encoded data removed]",
      "text/plain": [
       "<matplotlib.figure.Figure at 0x11f00f6d8>"
      ]
     },
     "metadata": {},
     "output_type": "display_data"
    },
    {
     "name": "stdout",
     "output_type": "stream",
     "text": [
      "[[0.1, 0.36503067484662577], [0.2, 0.28527607361963192], [0.30000000000000004, 0.28773006134969326], [0.4, 0.27668711656441713], [0.5, 0.28711656441717792], [0.6, 0.28773006134969326], [0.7, 0.2822085889570552], [0.7999999999999999, 0.27546012269938652], [0.8999999999999999, 0.27791411042944786], [0.9999999999999999, 0.28282208588957058]]\n"
     ]
    }
   ],
   "source": [
    "g = 0.1\n",
    "a = []\n",
    "b = []\n",
    "c = []\n",
    "d = []\n",
    "e = []\n",
    "while g < 1.00001:\n",
    "    clf = ensemble.GradientBoostingClassifier(loss='deviance', learning_rate=0.1, n_estimators=1000, subsample=g, \n",
    "                                              criterion='friedman_mse', min_samples_split=4, min_samples_leaf=1, \n",
    "                                              min_weight_fraction_leaf=0.0, max_depth=5, min_impurity_decrease=0.0, \n",
    "                                              min_impurity_split=None, init=None, random_state=None, max_features=None, \n",
    "                                              verbose=0, max_leaf_nodes=None, warm_start=False, presort='auto')\n",
    "    clf.fit(X_train, y_train)\n",
    "\n",
    "    predict_train = clf.predict(X_train)\n",
    "    predict_test = clf.predict(X_test)\n",
    "\n",
    "    # Accuracy tables.\n",
    "    table_train = pd.crosstab(y_train, predict_train, margins=True)\n",
    "    table_test = pd.crosstab(y_test, predict_test, margins=True)\n",
    "\n",
    "    train_tI_errors = table_train.loc[0.0,1.0] / table_train.loc['All','All']\n",
    "    a.append(train_tI_errors)\n",
    "    train_tII_errors = table_train.loc[1.0,0.0] / table_train.loc['All','All']\n",
    "    b.append(train_tII_errors)\n",
    "    \n",
    "    test_tI_errors = table_test.loc[0.0,1.0]/table_test.loc['All','All']\n",
    "    c.append(test_tI_errors)\n",
    "    test_tII_errors = table_test.loc[1.0,0.0]/table_test.loc['All','All']\n",
    "    d.append(test_tII_errors)\n",
    "    f = test_tI_errors + test_tII_errors\n",
    "    e.append([g, f])\n",
    "    g += 0.1\n",
    "\n",
    "plt.scatter(a, b, color='b')\n",
    "plt.scatter(c, d, color='r')\n",
    "\n",
    "plt.show()\n",
    "print(e)"
   ]
  },
  {
   "cell_type": "code",
   "execution_count": 100,
   "metadata": {},
   "outputs": [
    {
     "data": {
      "image/png": "[encoded data removed]",
      "text/plain": [
       "<matplotlib.figure.Figure at 0x11f293e80>"
      ]
     },
     "metadata": {},
     "output_type": "display_data"
    },
    {
     "name": "stdout",
     "output_type": "stream",
     "text": [
      "[[1, 0.25644171779141106], [2, 0.249079754601227], [3, 0.2625766871165644], [4, 0.27852760736196319], [5, 0.28588957055214725], [6, 0.29141104294478526], [7, 0.27852760736196319], [8, 0.28036809815950919], [9, 0.28957055214723926]]\n"
     ]
    }
   ],
   "source": [
    "g = 1\n",
    "a = []\n",
    "b = []\n",
    "c = []\n",
    "d = []\n",
    "e = []\n",
    "\n",
    "while g < 10:\n",
    "    clf = ensemble.GradientBoostingClassifier(loss='deviance', learning_rate=0.1, n_estimators=1000, subsample=1.0, \n",
    "                                              criterion='friedman_mse', min_samples_split=4, min_samples_leaf=1, \n",
    "                                              min_weight_fraction_leaf=0.0, max_depth=g, min_impurity_decrease=0.0, \n",
    "                                              min_impurity_split=None, init=None, random_state=None, max_features=None, \n",
    "                                              verbose=0, max_leaf_nodes=None, warm_start=False, presort='auto')\n",
    "    clf.fit(X_train, y_train)\n",
    "\n",
    "    predict_train = clf.predict(X_train)\n",
    "    predict_test = clf.predict(X_test)\n",
    "\n",
    "    # Accuracy tables.\n",
    "    table_train = pd.crosstab(y_train, predict_train, margins=True)\n",
    "    table_test = pd.crosstab(y_test, predict_test, margins=True)\n",
    "\n",
    "    train_tI_errors = table_train.loc[0.0,1.0] / table_train.loc['All','All']\n",
    "    a.append(train_tI_errors)\n",
    "    train_tII_errors = table_train.loc[1.0,0.0] / table_train.loc['All','All']\n",
    "    b.append(train_tII_errors)\n",
    "    \n",
    "    test_tI_errors = table_test.loc[0.0,1.0]/table_test.loc['All','All']\n",
    "    c.append(test_tI_errors)\n",
    "    test_tII_errors = table_test.loc[1.0,0.0]/table_test.loc['All','All']\n",
    "    d.append(test_tII_errors)\n",
    "    f = test_tI_errors + test_tII_errors\n",
    "    e.append([g, f])\n",
    "    g += 1\n",
    "\n",
    "plt.scatter(a, b, color='b')\n",
    "plt.scatter(c, d, color='r')\n",
    "\n",
    "plt.show()\n",
    "print(e) "
   ]
  },
  {
   "cell_type": "code",
   "execution_count": 101,
   "metadata": {},
   "outputs": [
    {
     "data": {
      "image/png": "[encoded data removed]",
      "text/plain": [
       "<matplotlib.figure.Figure at 0x11eaef278>"
      ]
     },
     "metadata": {},
     "output_type": "display_data"
    },
    {
     "name": "stdout",
     "output_type": "stream",
     "text": [
      "[[1000, 0.28711656441717792], [2000, 0.29938650306748466], [3000, 0.30122699386503071], [4000, 0.30429447852760738], [5000, 0.30184049079754605], [6000, 0.29877300613496938], [7000, 0.30306748466257671], [8000, 0.29877300613496938], [9000, 0.29999999999999999], [10000, 0.30061349693251538]]\n"
     ]
    }
   ],
   "source": [
    "g = 1000\n",
    "a = []\n",
    "b = []\n",
    "c = []\n",
    "d = []\n",
    "e = []\n",
    "\n",
    "while g < 10001:\n",
    "    clf = ensemble.GradientBoostingClassifier(loss='deviance', learning_rate=0.1, n_estimators=g, subsample=1.0, \n",
    "                                              criterion='friedman_mse', min_samples_split=4, min_samples_leaf=1, \n",
    "                                              min_weight_fraction_leaf=0.0, max_depth=5, min_impurity_decrease=0.0, \n",
    "                                              min_impurity_split=None, init=None, random_state=None, max_features=None, \n",
    "                                              verbose=0, max_leaf_nodes=None, warm_start=False, presort='auto')\n",
    "    clf.fit(X_train, y_train)\n",
    "\n",
    "    predict_train = clf.predict(X_train)\n",
    "    predict_test = clf.predict(X_test)\n",
    "\n",
    "    # Accuracy tables.\n",
    "    table_train = pd.crosstab(y_train, predict_train, margins=True)\n",
    "    table_test = pd.crosstab(y_test, predict_test, margins=True)\n",
    "\n",
    "    train_tI_errors = table_train.loc[0.0,1.0] / table_train.loc['All','All']\n",
    "    a.append(train_tI_errors)\n",
    "    train_tII_errors = table_train.loc[1.0,0.0] / table_train.loc['All','All']\n",
    "    b.append(train_tII_errors)\n",
    "    \n",
    "    test_tI_errors = table_test.loc[0.0,1.0]/table_test.loc['All','All']\n",
    "    c.append(test_tI_errors)\n",
    "    test_tII_errors = table_test.loc[1.0,0.0]/table_test.loc['All','All']\n",
    "    d.append(test_tII_errors)\n",
    "    f = test_tI_errors + test_tII_errors\n",
    "    e.append([g, f])\n",
    "    g += 1000\n",
    "\n",
    "plt.scatter(a, b, color='b')\n",
    "plt.scatter(c, d, color='r')\n",
    "\n",
    "plt.show()\n",
    "print(e) "
   ]
  },
  {
   "cell_type": "code",
   "execution_count": 102,
   "metadata": {},
   "outputs": [
    {
     "ename": "SyntaxError",
     "evalue": "invalid syntax (<ipython-input-102-247883ec9378>, line 3)",
     "output_type": "error",
     "traceback": [
      "\u001b[0;36m  File \u001b[0;32m\"<ipython-input-102-247883ec9378>\"\u001b[0;36m, line \u001b[0;32m3\u001b[0m\n\u001b[0;31m    clf = ensemble.GradientBoostingClassifier(loss='exponential', learning_rate=0.1, n_estimators=500, subsample=0.0.6,\u001b[0m\n\u001b[0m                                                                                                                     ^\u001b[0m\n\u001b[0;31mSyntaxError\u001b[0m\u001b[0;31m:\u001b[0m invalid syntax\n"
     ]
    }
   ],
   "source": [
    "#Optimal seems to be:\n",
    "# Initialize and fit the model.\n",
    "clf = ensemble.GradientBoostingClassifier(loss='exponential', learning_rate=0.1, n_estimators=500, subsample=0.6, \n",
    "                                          criterion='friedman_mse', min_samples_split=4, min_samples_leaf=1, \n",
    "                                          min_weight_fraction_leaf=0.0, max_depth=2, min_impurity_decrease=0.0, \n",
    "                                          min_impurity_split=None, init=None, random_state=None, max_features=None, \n",
    "                                          verbose=0, max_leaf_nodes=None, warm_start=False, presort='auto')\n",
    "clf.fit(X_train, y_train)\n",
    "\n",
    "predict_train = clf.predict(X_train)\n",
    "predict_test = clf.predict(X_test)\n",
    "\n",
    "# Accuracy tables.\n",
    "table_train = pd.crosstab(y_train, predict_train, margins=True)\n",
    "table_test = pd.crosstab(y_test, predict_test, margins=True)\n",
    "\n",
    "train_tI_errors = table_train.loc[0.0,1.0] / table_train.loc['All','All']\n",
    "train_tII_errors = table_train.loc[1.0,0.0] / table_train.loc['All','All']\n",
    "\n",
    "test_tI_errors = table_test.loc[0.0,1.0]/table_test.loc['All','All']\n",
    "test_tII_errors = table_test.loc[1.0,0.0]/table_test.loc['All','All']\n",
    "\n",
    "print((\n",
    "    'Training set accuracy:\\n'\n",
    "    'Percent Type I errors: {}\\n'\n",
    "    'Percent Type II errors: {}\\n\\n'\n",
    "    'Test set accuracy:\\n'\n",
    "    'Percent Type I errors: {}\\n'\n",
    "    'Percent Type II errors: {}'\n",
    ").format(train_tI_errors, train_tII_errors, test_tI_errors, test_tII_errors))\n"
   ]
  },
  {
   "cell_type": "code",
   "execution_count": null,
   "metadata": {},
   "outputs": [],
   "source": [
    "feature_importance = clf.feature_importances_\n",
    "\n",
    "# Make importances relative to max importance.\n",
    "feature_importance = 100.0 * (feature_importance / feature_importance.max())\n",
    "sorted_idx = np.argsort(feature_importance)\n",
    "pos = np.arange(sorted_idx.shape[0]) + .5\n",
    "plt.subplot(1, 2, 2)\n",
    "plt.barh(pos, feature_importance[sorted_idx], align='center')\n",
    "plt.yticks(pos, X.columns[sorted_idx])\n",
    "plt.xlabel('Relative Importance')\n",
    "plt.title('Variable Importance')\n",
    "plt.show()"
   ]
  }
 ],
 "metadata": {
  "kernelspec": {
   "display_name": "Python 3",
   "language": "python",
   "name": "python3"
  }
 },
 "nbformat": 4,
 "nbformat_minor": 2
}
