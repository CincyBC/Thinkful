{
 "cells": [
  {
   "cell_type": "code",
   "execution_count": 463,
   "metadata": {
    "collapsed": true
   },
   "outputs": [],
   "source": [
    "import pandas as pd\n",
    "import numpy as np\n",
    "import scipy\n",
    "import matplotlib.pyplot as plt\n",
    "import seaborn as sns\n",
    "from sklearn.linear_model import LogisticRegression\n",
    "from sklearn.decomposition import PCA\n",
    "from sklearn.feature_selection import RFE\n",
    "\n",
    "%matplotlib inline\n",
    "\n",
    "from sklearn import ensemble\n",
    "from sklearn import datasets\n",
    "from sklearn.utils import shuffle\n",
    "from sklearn.metrics import mean_squared_error"
   ]
  },
  {
   "cell_type": "code",
   "execution_count": 464,
   "metadata": {},
   "outputs": [
    {
     "data": {
      "text/plain": [
       "<matplotlib.axes._subplots.AxesSubplot at 0x1244894e0>"
      ]
     },
     "execution_count": 464,
     "metadata": {},
     "output_type": "execute_result"
    },
    {
     "data": {
      "image/png": "[encoded data removed]",
      "text/plain": [
       "<matplotlib.figure.Figure at 0x121fe4cf8>"
      ]
     },
     "metadata": {},
     "output_type": "display_data"
    }
   ],
   "source": [
    "df = pd.read_csv((\n",
    "    \"https://raw.githubusercontent.com/Thinkful-Ed/data-201-resources/\"\n",
    "    \"master/ESS_practice_data/ESSdata_Thinkful.csv\")).dropna()\n",
    "\n",
    "# Make the categorical variable 'country' into dummies.\n",
    "df2 = pd.concat([df, pd.get_dummies(df['cntry'])], axis=1)\n",
    "\n",
    "df2.head(10)\n",
    "\n",
    "sns.heatmap(df2.corr())"
   ]
  },
  {
   "cell_type": "code",
   "execution_count": 465,
   "metadata": {},
   "outputs": [
    {
     "name": "stdout",
     "output_type": "stream",
     "text": [
      "0.0    5013\n",
      "1.0    3134\n",
      "Name: partner, dtype: int64\n"
     ]
    }
   ],
   "source": [
    "#Very little correlation between the variables\n",
    "#Let's set up our variables\n",
    "df2['partner'] = df2['partner'] - 1\n",
    "y = df2['partner']\n",
    "X = df2.loc[:, ~df2.columns.isin(['partner', 'cntry', 'idno'])]\n",
    "\n",
    "\n",
    "print(df2['partner'].value_counts())"
   ]
  },
  {
   "cell_type": "code",
   "execution_count": 466,
   "metadata": {},
   "outputs": [
    {
     "name": "stdout",
     "output_type": "stream",
     "text": [
      "0.0    3636\n",
      "1.0    2152\n",
      "Name: partner, dtype: int64\n"
     ]
    }
   ],
   "source": [
    "#Try to bring them more in balance\n",
    "yes = df2.loc[np.where(df2['partner'] == 1)]\n",
    "no = df2.loc[np.where(df2['partner'] == 0)]\n",
    "\n",
    "# Take a random sample from the no's\n",
    "msk = np.random.rand(len(no)) < 0.6\n",
    "no_data = no[msk]\n",
    "\n",
    "# Join the no data back with the yes's\n",
    "df3 = no_data.append(yes).dropna()\n",
    "\n",
    "print(df3['partner'].value_counts())"
   ]
  },
  {
   "cell_type": "markdown",
   "metadata": {},
   "source": [
    "For some reason, the above method is decreasing both the yes and no categories by 40% even though it is only supposed to drop the no rows by 40%, so let's return to our original data since it's not that imbalance to begin with."
   ]
  },
  {
   "cell_type": "code",
   "execution_count": 467,
   "metadata": {},
   "outputs": [],
   "source": [
    "# Create training and test sets through random selection rather than the slicing done in the guided example.\n",
    "msk = np.random.rand(len(df2)) < 0.8\n",
    "train_data = df2[msk]\n",
    "test_data = df2[~msk]\n",
    "\n",
    "\n",
    "# Define outcome and predictors.\n",
    "# Set our outcome to 0 and 1.\n",
    "y_train = train_data['partner']\n",
    "X_train = train_data.loc[:, ~train_data.columns.isin(['partner', 'cntry', 'idno'])]\n",
    "y_test = test_data['partner']\n",
    "X_test = test_data.loc[:, ~test_data.columns.isin(['partner', 'cntry', 'idno'])]"
   ]
  },
  {
   "cell_type": "markdown",
   "metadata": {},
   "source": [
    "These are the things we can do to try to get a better error rate.\n",
    "Modifications include:\n",
    "Creating new features *** Can be done through manually creating features or PCA ***\n",
    "Applying more overfitting-prevention strategies like subsampling *** Subsample is a parameter ***\n",
    "More iterations *** Parameter n_estimators ***\n",
    "Trying a different loss function *** Options are 'exponential' and 'deviance' ***\n",
    "Changing the structure of the weak learner: Allowing more leaves in the tree, or other modifications"
   ]
  },
  {
   "cell_type": "code",
   "execution_count": 468,
   "metadata": {},
   "outputs": [],
   "source": [
    "#Try by changing the features through PCA.\n",
    "pca = PCA(n_components=5)\n",
    "X_std_pca = pca.fit_transform(X_train)\n",
    "X1 = pd.DataFrame(X_std_pca)\n",
    "\n",
    "pca = PCA(n_components=5)\n",
    "X_std_pca = pca.fit_transform(X_test)\n",
    "X2 = pd.DataFrame(X_std_pca)"
   ]
  },
  {
   "cell_type": "code",
   "execution_count": 469,
   "metadata": {},
   "outputs": [
    {
     "name": "stdout",
     "output_type": "stream",
     "text": [
      "Training set accuracy:\n",
      "Percent Type I errors: 0.00015337423312883436\n",
      "Percent Type II errors: 0.0036809815950920245\n",
      "\n",
      "Test set accuracy:\n",
      "Percent Type I errors: 0.09956976029502151\n",
      "Percent Type II errors: 0.21266133988936695\n"
     ]
    }
   ],
   "source": [
    "# Initialize and fit the model.\n",
    "clf = ensemble.GradientBoostingClassifier(loss='exponential', learning_rate=0.1, n_estimators=1000, subsample=0.75, \n",
    "                                          criterion='friedman_mse', min_samples_split=4, min_samples_leaf=1, \n",
    "                                          min_weight_fraction_leaf=0.0, max_depth=5, min_impurity_decrease=0.0, \n",
    "                                          min_impurity_split=None, init=None, random_state=None, max_features=None, \n",
    "                                          verbose=0, max_leaf_nodes=None, warm_start=False, presort='auto')\n",
    "clf.fit(X1, y_train)\n",
    "\n",
    "predict_train = clf.predict(X1)\n",
    "predict_test = clf.predict(X2)\n",
    "\n",
    "# Accuracy tables.\n",
    "table_train = pd.crosstab(y_train, predict_train, margins=True)\n",
    "table_test = pd.crosstab(y_test, predict_test, margins=True)\n",
    "\n",
    "train_tI_errors = table_train.loc[0.0,1.0] / table_train.loc['All','All']\n",
    "train_tII_errors = table_train.loc[1.0,0.0] / table_train.loc['All','All']\n",
    "\n",
    "test_tI_errors = table_test.loc[0.0,1.0]/table_test.loc['All','All']\n",
    "test_tII_errors = table_test.loc[1.0,0.0]/table_test.loc['All','All']\n",
    "\n",
    "print((\n",
    "    'Training set accuracy:\\n'\n",
    "    'Percent Type I errors: {}\\n'\n",
    "    'Percent Type II errors: {}\\n\\n'\n",
    "    'Test set accuracy:\\n'\n",
    "    'Percent Type I errors: {}\\n'\n",
    "    'Percent Type II errors: {}'\n",
    ").format(train_tI_errors, train_tII_errors, test_tI_errors, test_tII_errors))\n"
   ]
  },
  {
   "cell_type": "markdown",
   "metadata": {},
   "source": [
    "While the training error rate is quite low, the test error, especially type II, is quite high."
   ]
  },
  {
   "cell_type": "code",
   "execution_count": 470,
   "metadata": {},
   "outputs": [
    {
     "name": "stdout",
     "output_type": "stream",
     "text": [
      "   Features  Ranking  Support\n",
      "0      year        1     True\n",
      "5     happy        1     True\n",
      "6   sclmeet        1     True\n",
      "8      gndr        1     True\n",
      "9      agea        1     True\n",
      "10       CH        1     True\n",
      "11       CZ        1     True\n",
      "15       SE        1     True\n",
      "4    pplhlp        2    False\n",
      "2   ppltrst        3    False\n",
      "1     tvtot        4    False\n",
      "7    sclact        5    False\n",
      "3   pplfair        6    False\n",
      "14       NO        7    False\n",
      "13       ES        8    False\n",
      "12       DE        9    False\n"
     ]
    }
   ],
   "source": [
    "#Let's try feature selection through RFE/Logistic regression\n",
    "lr = LogisticRegression(C=1, penalty='l1')\n",
    "rfe = RFE(lr,n_features_to_select=8) \n",
    "fit = rfe.fit(X,y)\n",
    "result_RFE = pd.DataFrame(list(zip(X.head(0), rfe.ranking_, rfe.support_)),\n",
    "                          columns=['Features','Ranking','Support'] ) \n",
    "print(result_RFE.sort_values('Ranking'))"
   ]
  },
  {
   "cell_type": "code",
   "execution_count": 471,
   "metadata": {},
   "outputs": [
    {
     "name": "stdout",
     "output_type": "stream",
     "text": [
      "Training set accuracy:\n",
      "Percent Type I errors: 0.02638036809815951\n",
      "Percent Type II errors: 0.08466257668711656\n",
      "\n",
      "Test set accuracy:\n",
      "Percent Type I errors: 0.10694529809465274\n",
      "Percent Type II errors: 0.18500307314074985\n"
     ]
    }
   ],
   "source": [
    "# Initialize and fit the model.\n",
    "clf = ensemble.GradientBoostingClassifier(loss='exponential', learning_rate=0.1, n_estimators=1000, subsample=0.75, \n",
    "                                          criterion='friedman_mse', min_samples_split=4, min_samples_leaf=1, \n",
    "                                          min_weight_fraction_leaf=0.0, max_depth=5, min_impurity_decrease=0.0, \n",
    "                                          min_impurity_split=None, init=None, random_state=None, max_features=None, \n",
    "                                          verbose=0, max_leaf_nodes=None, warm_start=False, presort='auto')\n",
    "\n",
    "rfe_x_train = X_train[['year', 'happy', 'sclmeet', 'gndr', 'agea', 'CH', 'CZ', 'SE']]\n",
    "rfe_x_test = X_test[['year', 'happy', 'sclmeet', 'gndr', 'agea', 'CH', 'CZ', 'SE']]\n",
    "clf.fit(rfe_x_train, y_train)\n",
    "\n",
    "predict_train = clf.predict(rfe_x_train)\n",
    "predict_test = clf.predict(rfe_x_test)\n",
    "\n",
    "# Accuracy tables.\n",
    "table_train = pd.crosstab(y_train, predict_train, margins=True)\n",
    "table_test = pd.crosstab(y_test, predict_test, margins=True)\n",
    "\n",
    "train_tI_errors = table_train.loc[0.0,1.0] / table_train.loc['All','All']\n",
    "train_tII_errors = table_train.loc[1.0,0.0] / table_train.loc['All','All']\n",
    "\n",
    "test_tI_errors = table_test.loc[0.0,1.0]/table_test.loc['All','All']\n",
    "test_tII_errors = table_test.loc[1.0,0.0]/table_test.loc['All','All']\n",
    "\n",
    "print((\n",
    "    'Training set accuracy:\\n'\n",
    "    'Percent Type I errors: {}\\n'\n",
    "    'Percent Type II errors: {}\\n\\n'\n",
    "    'Test set accuracy:\\n'\n",
    "    'Percent Type I errors: {}\\n'\n",
    "    'Percent Type II errors: {}'\n",
    ").format(train_tI_errors, train_tII_errors, test_tI_errors, test_tII_errors))\n"
   ]
  },
  {
   "cell_type": "markdown",
   "metadata": {},
   "source": [
    "Unfortunately, this performs all around worse that the PCA model above."
   ]
  },
  {
   "cell_type": "code",
   "execution_count": 472,
   "metadata": {},
   "outputs": [
    {
     "name": "stdout",
     "output_type": "stream",
     "text": [
      "Training set accuracy:\n",
      "Percent Type I errors: 0.00030674846625766873\n",
      "Percent Type II errors: 0.004294478527607362\n",
      "\n",
      "Test set accuracy:\n",
      "Percent Type I errors: 0.10079901659496004\n",
      "Percent Type II errors: 0.1800860479409957\n"
     ]
    }
   ],
   "source": [
    "#This one seems to be the best so far.\n",
    "# Initialize and fit the model.\n",
    "clf = ensemble.GradientBoostingClassifier(loss='exponential', learning_rate=0.1, n_estimators=1000, subsample=0.75, \n",
    "                                          criterion='friedman_mse', min_samples_split=4, min_samples_leaf=1, \n",
    "                                          min_weight_fraction_leaf=0.0, max_depth=5, min_impurity_decrease=0.0, \n",
    "                                          min_impurity_split=None, init=None, random_state=None, max_features=None, \n",
    "                                          verbose=0, max_leaf_nodes=None, warm_start=False, presort='auto')\n",
    "clf.fit(X_train, y_train)\n",
    "\n",
    "predict_train = clf.predict(X_train)\n",
    "predict_test = clf.predict(X_test)\n",
    "\n",
    "# Accuracy tables.\n",
    "table_train = pd.crosstab(y_train, predict_train, margins=True)\n",
    "table_test = pd.crosstab(y_test, predict_test, margins=True)\n",
    "\n",
    "train_tI_errors = table_train.loc[0.0,1.0] / table_train.loc['All','All']\n",
    "train_tII_errors = table_train.loc[1.0,0.0] / table_train.loc['All','All']\n",
    "\n",
    "test_tI_errors = table_test.loc[0.0,1.0]/table_test.loc['All','All']\n",
    "test_tII_errors = table_test.loc[1.0,0.0]/table_test.loc['All','All']\n",
    "\n",
    "print((\n",
    "    'Training set accuracy:\\n'\n",
    "    'Percent Type I errors: {}\\n'\n",
    "    'Percent Type II errors: {}\\n\\n'\n",
    "    'Test set accuracy:\\n'\n",
    "    'Percent Type I errors: {}\\n'\n",
    "    'Percent Type II errors: {}'\n",
    ").format(train_tI_errors, train_tII_errors, test_tI_errors, test_tII_errors))\n"
   ]
  },
  {
   "cell_type": "markdown",
   "metadata": {},
   "source": [
    "Let's use the above and play with the variables and see if we can bring down the Test set error"
   ]
  },
  {
   "cell_type": "code",
   "execution_count": 473,
   "metadata": {},
   "outputs": [
    {
     "data": {
      "image/png": "[encoded data removed]",
      "text/plain": [
       "<matplotlib.figure.Figure at 0x12493c8d0>"
      ]
     },
     "metadata": {},
     "output_type": "display_data"
    },
    {
     "name": "stdout",
     "output_type": "stream",
     "text": [
      "[[0.1, 0.28211432083589427], [0.2, 0.29440688383527969], [0.30000000000000004, 0.28395820528580207], [0.4, 0.28703134603564845], [0.5, 0.27228027043638597], [0.6, 0.27781192378610942], [0.7, 0.28641671788567918], [0.7999999999999999, 0.27658266748617089], [0.8999999999999999, 0.28457283343577133], [0.9999999999999999, 0.28641671788567913]]\n"
     ]
    }
   ],
   "source": [
    "variable = 0.1\n",
    "train_tI = []\n",
    "train_tII = []\n",
    "test_tI = []\n",
    "test_tII = []\n",
    "list_of_results = []\n",
    "while variable < 1.00001:\n",
    "    clf = ensemble.GradientBoostingClassifier(loss='exponential', learning_rate=0.1, n_estimators=1000, subsample=variable, \n",
    "                                              criterion='friedman_mse', min_samples_split=4, min_samples_leaf=1, \n",
    "                                              min_weight_fraction_leaf=0.0, max_depth=5, min_impurity_decrease=0.0, \n",
    "                                              min_impurity_split=None, init=None, random_state=None, max_features=None, \n",
    "                                              verbose=0, max_leaf_nodes=None, warm_start=False, presort='auto')\n",
    "    clf.fit(X_train, y_train)\n",
    "\n",
    "    predict_train = clf.predict(X_train)\n",
    "    predict_test = clf.predict(X_test)\n",
    "\n",
    "    # Accuracy tables.\n",
    "    table_train = pd.crosstab(y_train, predict_train, margins=True)\n",
    "    table_test = pd.crosstab(y_test, predict_test, margins=True)\n",
    "\n",
    "    train_tI_errors = table_train.loc[0.0,1.0] / table_train.loc['All','All']\n",
    "    train_tI.append(train_tI_errors)\n",
    "    train_tII_errors = table_train.loc[1.0,0.0] / table_train.loc['All','All']\n",
    "    train_tII.append(train_tII_errors)\n",
    "    \n",
    "    test_tI_errors = table_test.loc[0.0,1.0]/table_test.loc['All','All']\n",
    "    test_tI.append(test_tI_errors)\n",
    "    test_tII_errors = table_test.loc[1.0,0.0]/table_test.loc['All','All']\n",
    "    test_tII.append(test_tII_errors)\n",
    "    f = test_tI_errors + test_tII_errors\n",
    "    list_of_results.append([variable, f])\n",
    "    variable += 0.1\n",
    "\n",
    "plt.scatter(train_tI, train_tII, color='b')\n",
    "plt.scatter(test_tI, test_tII, color='r')\n",
    "\n",
    "plt.show()\n",
    "print(list_of_results)"
   ]
  },
  {
   "cell_type": "code",
   "execution_count": 474,
   "metadata": {},
   "outputs": [
    {
     "data": {
      "image/png": "[encoded data removed]",
      "text/plain": [
       "<matplotlib.figure.Figure at 0x123a3a9b0>"
      ]
     },
     "metadata": {},
     "output_type": "display_data"
    },
    {
     "name": "stdout",
     "output_type": "stream",
     "text": [
      "[[1, 0.25691456668715429], [2, 0.24769514443761526], [3, 0.26429010448678547], [4, 0.27904118008604795], [5, 0.2833435771358328], [6, 0.2851874615857406], [7, 0.28272894898586354], [8, 0.28703134603564839], [9, 0.2833435771358328]]\n"
     ]
    }
   ],
   "source": [
    "variable = 1\n",
    "train_tI = []\n",
    "train_tII = []\n",
    "test_tI = []\n",
    "test_tII = []\n",
    "list_of_results = []\n",
    "while variable < 10:\n",
    "    clf = ensemble.GradientBoostingClassifier(loss='exponential', learning_rate=0.1, n_estimators=1000, subsample=0.75, \n",
    "                                              criterion='friedman_mse', min_samples_split=4, min_samples_leaf=1, \n",
    "                                              min_weight_fraction_leaf=0.0, max_depth=variable, min_impurity_decrease=0.0, \n",
    "                                              min_impurity_split=None, init=None, random_state=None, max_features=None, \n",
    "                                              verbose=0, max_leaf_nodes=None, warm_start=False, presort='auto')\n",
    "    clf.fit(X_train, y_train)\n",
    "\n",
    "    predict_train = clf.predict(X_train)\n",
    "    predict_test = clf.predict(X_test)\n",
    "\n",
    "    # Accuracy tables.\n",
    "    table_train = pd.crosstab(y_train, predict_train, margins=True)\n",
    "    table_test = pd.crosstab(y_test, predict_test, margins=True)\n",
    "\n",
    "    train_tI_errors = table_train.loc[0.0,1.0] / table_train.loc['All','All']\n",
    "    train_tI.append(train_tI_errors)\n",
    "    train_tII_errors = table_train.loc[1.0,0.0] / table_train.loc['All','All']\n",
    "    train_tII.append(train_tII_errors)\n",
    "    \n",
    "    test_tI_errors = table_test.loc[0.0,1.0]/table_test.loc['All','All']\n",
    "    test_tI.append(test_tI_errors)\n",
    "    test_tII_errors = table_test.loc[1.0,0.0]/table_test.loc['All','All']\n",
    "    test_tII.append(test_tII_errors)\n",
    "    f = test_tI_errors + test_tII_errors\n",
    "    list_of_results.append([variable, f])\n",
    "    variable += 1\n",
    "\n",
    "plt.scatter(train_tI, train_tII, color='b')\n",
    "plt.scatter(test_tI, test_tII, color='r')\n",
    "\n",
    "plt.show()\n",
    "print(list_of_results)"
   ]
  },
  {
   "cell_type": "code",
   "execution_count": 475,
   "metadata": {},
   "outputs": [
    {
     "data": {
      "image/png": "[encoded data removed]",
      "text/plain": [
       "<matplotlib.figure.Figure at 0x124f19cf8>"
      ]
     },
     "metadata": {},
     "output_type": "display_data"
    },
    {
     "name": "stdout",
     "output_type": "stream",
     "text": [
      "[[500, 0.27965580823601721], [1000, 0.28027043638598648], [1500, 0.29071911493546404], [2000, 0.3011677934849416], [2500, 0.29932390903503381], [3000, 0.30178242163491087], [3500, 0.29563614013521822], [4000, 0.30424093423478793], [4500, 0.29686539643515675], [5000, 0.30178242163491087], [5500, 0.30669944683466505], [6000, 0.30362630608481866], [6500, 0.29748002458512601], [7000, 0.30669944683466505], [7500, 0.30424093423478793], [8000, 0.30424093423478793], [8500, 0.30485556238475719], [9000, 0.30239704978488013], [9500, 0.30608481868469573], [10000, 0.30547019053472646]]\n"
     ]
    }
   ],
   "source": [
    "variable = 500\n",
    "train_tI = []\n",
    "train_tII = []\n",
    "test_tI = []\n",
    "test_tII = []\n",
    "list_of_results = []\n",
    "while variable < 10001:\n",
    "    clf = ensemble.GradientBoostingClassifier(loss='exponential', learning_rate=0.1, n_estimators=variable, subsample=0.75, \n",
    "                                              criterion='friedman_mse', min_samples_split=4, min_samples_leaf=1, \n",
    "                                              min_weight_fraction_leaf=0.0, max_depth=5, min_impurity_decrease=0.0, \n",
    "                                              min_impurity_split=None, init=None, random_state=None, max_features=None, \n",
    "                                              verbose=0, max_leaf_nodes=None, warm_start=False, presort='auto')\n",
    "    clf.fit(X_train, y_train)\n",
    "\n",
    "    predict_train = clf.predict(X_train)\n",
    "    predict_test = clf.predict(X_test)\n",
    "\n",
    "    # Accuracy tables.\n",
    "    table_train = pd.crosstab(y_train, predict_train, margins=True)\n",
    "    table_test = pd.crosstab(y_test, predict_test, margins=True)\n",
    "\n",
    "    train_tI_errors = table_train.loc[0.0,1.0] / table_train.loc['All','All']\n",
    "    train_tI.append(train_tI_errors)\n",
    "    train_tII_errors = table_train.loc[1.0,0.0] / table_train.loc['All','All']\n",
    "    train_tII.append(train_tII_errors)\n",
    "    \n",
    "    test_tI_errors = table_test.loc[0.0,1.0]/table_test.loc['All','All']\n",
    "    test_tI.append(test_tI_errors)\n",
    "    test_tII_errors = table_test.loc[1.0,0.0]/table_test.loc['All','All']\n",
    "    test_tII.append(test_tII_errors)\n",
    "    f = test_tI_errors + test_tII_errors\n",
    "    list_of_results.append([variable, f])\n",
    "    variable += 500\n",
    "\n",
    "plt.scatter(train_tI, train_tII, color='b')\n",
    "plt.scatter(test_tI, test_tII, color='r')\n",
    "\n",
    "plt.show()\n",
    "print(list_of_results)"
   ]
  },
  {
   "cell_type": "code",
   "execution_count": 476,
   "metadata": {},
   "outputs": [
    {
     "name": "stdout",
     "output_type": "stream",
     "text": [
      "Training set accuracy:\n",
      "Percent Type I errors: 0.0\n",
      "Percent Type II errors: 0.0\n",
      "\n",
      "Test set accuracy:\n",
      "Percent Type I errors: 0.09711124769514444\n",
      "Percent Type II errors: 0.1856177012907191\n"
     ]
    }
   ],
   "source": [
    "#Optimal seems to be:\n",
    "# Initialize and fit the model.\n",
    "clf = ensemble.GradientBoostingClassifier(loss='exponential', learning_rate=0.1, n_estimators=1000, subsample=0.75, \n",
    "                                          criterion='friedman_mse', min_samples_split=4, min_samples_leaf=1, \n",
    "                                          min_weight_fraction_leaf=0.0, max_depth=8, min_impurity_decrease=0.0, \n",
    "                                          min_impurity_split=None, init=None, random_state=None, max_features=None, \n",
    "                                          verbose=0, max_leaf_nodes=None, warm_start=False, presort='auto')\n",
    "clf.fit(X_train, y_train)\n",
    "\n",
    "predict_train = clf.predict(X_train)\n",
    "predict_test = clf.predict(X_test)\n",
    "\n",
    "# Accuracy tables.\n",
    "table_train = pd.crosstab(y_train, predict_train, margins=True)\n",
    "table_test = pd.crosstab(y_test, predict_test, margins=True)\n",
    "\n",
    "train_tI_errors = table_train.loc[0.0,1.0] / table_train.loc['All','All']\n",
    "train_tII_errors = table_train.loc[1.0,0.0] / table_train.loc['All','All']\n",
    "\n",
    "test_tI_errors = table_test.loc[0.0,1.0]/table_test.loc['All','All']\n",
    "test_tII_errors = table_test.loc[1.0,0.0]/table_test.loc['All','All']\n",
    "\n",
    "print((\n",
    "    'Training set accuracy:\\n'\n",
    "    'Percent Type I errors: {}\\n'\n",
    "    'Percent Type II errors: {}\\n\\n'\n",
    "    'Test set accuracy:\\n'\n",
    "    'Percent Type I errors: {}\\n'\n",
    "    'Percent Type II errors: {}'\n",
    ").format(train_tI_errors, train_tII_errors, test_tI_errors, test_tII_errors))\n"
   ]
  },
  {
   "cell_type": "code",
   "execution_count": 477,
   "metadata": {},
   "outputs": [
    {
     "data": {
      "image/png": "[encoded data removed]",
      "text/plain": [
       "<matplotlib.figure.Figure at 0x1244a76d8>"
      ]
     },
     "metadata": {},
     "output_type": "display_data"
    }
   ],
   "source": [
    "feature_importance = clf.feature_importances_\n",
    "\n",
    "# Make importances relative to max importance.\n",
    "feature_importance = 100.0 * (feature_importance / feature_importance.max())\n",
    "sorted_idx = np.argsort(feature_importance)\n",
    "pos = np.arange(sorted_idx.shape[0]) + .5\n",
    "plt.subplot(1, 2, 2)\n",
    "plt.barh(pos, feature_importance[sorted_idx], align='center')\n",
    "plt.yticks(pos, X.columns[sorted_idx])\n",
    "plt.xlabel('Relative Importance')\n",
    "plt.title('Variable Importance')\n",
    "plt.show()"
   ]
  }
 ],
 "metadata": {
  "kernelspec": {
   "display_name": "Python 3",
   "language": "python",
   "name": "python3"
  }
 },
 "nbformat": 4,
 "nbformat_minor": 2
}
