{
 "cells": [
  {
   "cell_type": "code",
   "execution_count": 37,
   "metadata": {
    "collapsed": true
   },
   "outputs": [],
   "source": [
    "import pandas as pd\n",
    "import numpy as np\n",
    "import statistics\n",
    "import matplotlib.pyplot as plt"
   ]
  },
  {
   "cell_type": "code",
   "execution_count": 38,
   "metadata": {
    "collapsed": true
   },
   "outputs": [],
   "source": [
    "df = pd.DataFrame()\n",
    "ages = [14, 12, 11, 10, 8, 6, 8]\n"
   ]
  },
  {
   "cell_type": "markdown",
   "metadata": {},
   "source": [
    "Question 1: I created a function that calculates the Mean, Median, Mode, Variance, Standard Deviation, and Standard Error."
   ]
  },
  {
   "cell_type": "code",
   "execution_count": 39,
   "metadata": {
    "scrolled": false
   },
   "outputs": [
    {
     "name": "stdout",
     "output_type": "stream",
     "text": [
      "Mean = 9.857142857142858\n",
      "Median = 10\n",
      "Mode = 8\n",
      "Variance = 6.408163265306122\n",
      "Standard Deviation = 2.734262327610589\n",
      "Standard Error = 1.0334540197243192\n"
     ]
    }
   ],
   "source": [
    "def central(ages):\n",
    "    df['age'] = ages\n",
    "    mean = sum(df['age']) / len(df['age'])\n",
    "    npmean = np.mean(df['age'])\n",
    "\n",
    "    median = statistics.median(df['age'])\n",
    "    npmedian = np.median(df['age'])\n",
    "    print('Mean = {}'.format(mean))\n",
    "    print('Median = {}'.format(median))\n",
    "    try:\n",
    "        mode = statistics.mode(df['age'])\n",
    "        print('Mode = {}'.format(mode))\n",
    "    except:\n",
    "        KeyError = None\n",
    "        print('There is no Mode')\n",
    "\n",
    "    variance = np.var(df['age'])\n",
    "\n",
    "    std = np.std(df['age'], ddof=1)\n",
    "    se = np.std(df['age'], ddof=1) / np.sqrt(len(df['age']))\n",
    "\n",
    "    print('Variance = {}'.format(variance))\n",
    "    print('Standard Deviation = {}'.format(std))\n",
    "    print('Standard Error = {}'.format(se))\n",
    "\n",
    "central(ages)"
   ]
  },
  {
   "cell_type": "markdown",
   "metadata": {},
   "source": [
    "Question 2: I would use the Median and Standard Deviation as the Median best represents the center and standard deviation best shows how they are apart."
   ]
  },
  {
   "cell_type": "markdown",
   "metadata": {},
   "source": [
    "Question 3: See the updated numbers below. The Mean and Median are now the same and the Variance/Standard Deviation are now smaller as the ages become closer together."
   ]
  },
  {
   "cell_type": "code",
   "execution_count": 40,
   "metadata": {
    "scrolled": true
   },
   "outputs": [
    {
     "name": "stdout",
     "output_type": "stream",
     "text": [
      "Mean = 10.0\n",
      "Median = 10\n",
      "Mode = 8\n",
      "Variance = 5.428571428571429\n",
      "Standard Deviation = 2.516611478423583\n",
      "Standard Error = 0.9511897312113418\n"
     ]
    }
   ],
   "source": [
    "ages = [14, 12, 11, 10, 8, 7, 8]\n",
    "central(ages)"
   ]
  },
  {
   "cell_type": "markdown",
   "metadata": {},
   "source": [
    "Question 4: See the new numbers below. The Median remains the same, but Variance triples while the Standard Deviation doubles from the original number. I would still use the same Median and Standard Deviation."
   ]
  },
  {
   "cell_type": "code",
   "execution_count": 41,
   "metadata": {},
   "outputs": [
    {
     "name": "stdout",
     "output_type": "stream",
     "text": [
      "Mean = 9.0\n",
      "Median = 10\n",
      "There is no Mode\n",
      "Variance = 15.428571428571429\n",
      "Standard Deviation = 4.242640687119285\n",
      "Standard Error = 1.6035674514745462\n"
     ]
    }
   ],
   "source": [
    "ages = [14, 12, 11, 10, 8, 7, 1]\n",
    "central(ages)"
   ]
  },
  {
   "cell_type": "markdown",
   "metadata": {},
   "source": [
    "Question 5: This is impossible to tell because we don't know anything about the size of the readership or the makeup of their readership to give a number for the whole population based on these numbers. The Median number would be my choice because I think the SciPhi readers are an outlier that brings down the average to 16.5%. The Median would be 18.5%, so I'd say 18.5% if my arm was twisted."
   ]
  }
 ],
 "metadata": {
  "kernelspec": {
   "display_name": "Python 3",
   "language": "python",
   "name": "python3"
  },
  "language_info": {
   "codemirror_mode": {
    "name": "ipython",
    "version": 3
   },
   "file_extension": ".py",
   "mimetype": "text/x-python",
   "name": "python",
   "nbconvert_exporter": "python",
   "pygments_lexer": "ipython3",
   "version": "3.6.1"
  }
 },
 "nbformat": 4,
 "nbformat_minor": 2
}
